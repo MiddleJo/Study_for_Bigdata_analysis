{
 "cells": [
  {
   "cell_type": "markdown",
   "id": "7d2222e0",
   "metadata": {},
   "source": [
    "\n",
    "# 자료의 형태\n",
    "-숫자: 정수(Int), 실수(Float), 8진수(0o), 16진수(0x)  \n",
    "-문자: Str  \n",
    "-리스트(list): 변화가능  \n",
    "-튜플(tuple): 변화 불가 리스트    \n",
    "-딕셔너리: 키와 값으로 구성  \n",
    "-집합(set): 중복이 허용되지 않는 순서 없는  \n",
    "-불(bool): True, False로 구성, 자료형들이 공백이 되면 거짓을 출력. 숫자는 0, None도 거짓"
   ]
  },
  {
   "cell_type": "markdown",
   "id": "d6a0ec7b",
   "metadata": {},
   "source": [
    "# 연산자\n",
    "-**: 제곱  \n",
    "\n",
    "-%: 나머지 반환  \n",
    "\n",
    "-//: 몫 반환  "
   ]
  },
  {
   "cell_type": "markdown",
   "id": "7f2c57cb",
   "metadata": {},
   "source": [
    "### 이스케이프 코드  \n",
    "-\\n: 줄바꿈  \n",
    "-\\t: 탭간격  \n",
    "-\\r: 캐리지 리턴(줄 바꿈 문자, 현재 커서를 가장 앞으로 이동)  \n",
    "-\\f: 폼 피드(줄 바꿈 문자, 현재 커서를 다음 줄로 이동)  \n",
    "-\\a: 벨소리(출력시 삑)  \n",
    "-\\b: 백스페이스  \n",
    "-\\000: 널 문자"
   ]
  },
  {
   "cell_type": "code",
   "execution_count": 5,
   "id": "518fe718",
   "metadata": {},
   "outputs": [
    {
     "name": "stdout",
     "output_type": "stream",
     "text": [
      "==================================================\n",
      "My program\n",
      "==================================================\n"
     ]
    }
   ],
   "source": [
    "#제목에 이용하기 좋은 팁\n",
    "print(\"=\" * 50)\n",
    "print(\"My program\")\n",
    "print(\"=\" * 50)"
   ]
  },
  {
   "cell_type": "code",
   "execution_count": 3,
   "id": "011d9d60",
   "metadata": {},
   "outputs": [
    {
     "name": "stdout",
     "output_type": "stream",
     "text": [
      "숫자를 입력하세요:3\n",
      "숫자를 입력하세요:3.3\n",
      "6.3\n"
     ]
    }
   ],
   "source": [
    "num_1 = float(input(\"숫자를 입력하세요:\"))\n",
    "num_2 = float(input(\"숫자를 입력하세요:\"))\n",
    "print(num_1 + num_2)"
   ]
  },
  {
   "cell_type": "code",
   "execution_count": 4,
   "id": "6730369b",
   "metadata": {},
   "outputs": [
    {
     "name": "stdout",
     "output_type": "stream",
     "text": [
      "5252.273\n"
     ]
    }
   ],
   "source": [
    "a = 52\n",
    "b = 52.273\n",
    "print(str(a)+str(b))"
   ]
  },
  {
   "cell_type": "code",
   "execution_count": 30,
   "id": "a05fcafa",
   "metadata": {},
   "outputs": [
    {
     "name": "stdout",
     "output_type": "stream",
     "text": [
      "d\n",
      "p\n",
      "a\n",
      "abcd\n",
      "abcdefghijklmnop\n",
      "4\n"
     ]
    }
   ],
   "source": [
    "# 문자열 인덱싱, 슬라이싱\n",
    "a = \"abcdefghijklmnop\"\n",
    "num_1 = a[3]\n",
    "num_2 = a[-1]\n",
    "num_3 = a[-0]\n",
    "num_sli = a[0:4] #여기서 끝번호는 포함되지 않는것에 주의\n",
    "num_all = a[:]\n",
    "print(num_1)\n",
    "print(num_2)\n",
    "print(num_3)\n",
    "print(num_sli)\n",
    "print(num_all)\n",
    "print(a.index(\"e\"))"
   ]
  },
  {
   "cell_type": "code",
   "execution_count": 39,
   "id": "42787554",
   "metadata": {},
   "outputs": [
    {
     "name": "stdout",
     "output_type": "stream",
     "text": [
      "I ate 3 apples\n"
     ]
    },
    {
     "data": {
      "text/plain": [
       "'hi        jane'"
      ]
     },
     "execution_count": 39,
     "metadata": {},
     "output_type": "execute_result"
    }
   ],
   "source": [
    "#문자열 포매팅\n",
    "num = 3\n",
    "str = \"apples\"\n",
    "print(\"I ate %d %s\" % (num,str))\n",
    "\"%-10sjane\" % \"hi\" #10개의 문자열중 왼쪽정렬 후 공백"
   ]
  },
  {
   "cell_type": "markdown",
   "id": "e03d1f6c",
   "metadata": {},
   "source": [
    "# 문자열 포맷 코드\n",
    "-%s: 문자열  \n",
    "-%c: 문자열1개  \n",
    "-%d: 정수  \n",
    "-%f: 부동 소수  \n",
    "-%d%%: 숫자%\n"
   ]
  },
  {
   "cell_type": "code",
   "execution_count": 23,
   "id": "3c7e3a85",
   "metadata": {},
   "outputs": [
    {
     "name": "stdout",
     "output_type": "stream",
     "text": [
      "[1, 2, 3, 4]\n",
      "[4, 3, 2, 1]\n",
      "[4, 3, 2, 1]\n"
     ]
    }
   ],
   "source": [
    "#정렬\n",
    "b = [2,4,3,1]\n",
    "b.sort()\n",
    "print(b)\n",
    "b_b = sorted(b, reverse=True)\n",
    "print(b_b)\n",
    "b.reverse()\n",
    "print(b)"
   ]
  },
  {
   "cell_type": "code",
   "execution_count": 34,
   "id": "64f87a1e",
   "metadata": {},
   "outputs": [
    {
     "name": "stdout",
     "output_type": "stream",
     "text": [
      "[1, 2, 30, 80, 62, 43, 83, 37, 1, 99, 83, 34, 98, 97, 8, 47, 84, 92, 99, 3, 5, 19, 86, 87, 16, 27, 40, 27, 3, 82, 64, 62, 94, 6, 0, 70, 17, 83, 65, 29, 79, 66, 52, 52, 28, 87, 9, 37, 43, 3, 92, 2, 40, 58, 18, 5, 57, 27, 41, 59, 69, 18, 71, 71, 10, 69, 59, 80, 83, 94, 81, 14, 39, 29, 63, 40, 48, 93, 13, 7, 97, 30, 0, 99, 41, 99, 52, 69, 43, 71, 21, 5, 12, 44, 85, 94, 20, 86, 30, 42]\n"
     ]
    }
   ],
   "source": [
    "import numpy as np\n",
    "c = np.random.randint(100, size=100).tolist()\n",
    "print(c)"
   ]
  },
  {
   "cell_type": "code",
   "execution_count": 38,
   "id": "5bc0b34a",
   "metadata": {},
   "outputs": [
    {
     "name": "stdout",
     "output_type": "stream",
     "text": [
      "[1, 2, 3, 4, 5]\n",
      "[1, 2, 3, 4, 5, 6]\n",
      "[5, 1, 2, 3, 4, 5, 6]\n",
      "[5, 1, 2, 3, 4, 5, 6, 7]\n",
      "[5, 1, 2, 3, 4, 5, 6, 8, 7]\n"
     ]
    }
   ],
   "source": [
    "#리스트의 확장\n",
    "h = [1,2,3]\n",
    "h.extend([4,5])\n",
    "print(h)\n",
    "h.append(6)\n",
    "print(h)\n",
    "h.insert(0,5)\n",
    "print(h)\n",
    "h.insert(len(h),7)\n",
    "print(h)\n",
    "h.insert(-1,8) #안됨에 주의\n",
    "print(h)"
   ]
  },
  {
   "cell_type": "code",
   "execution_count": 44,
   "id": "4571311a",
   "metadata": {},
   "outputs": [
    {
     "ename": "TypeError",
     "evalue": "'tuple' object does not support item assignment",
     "output_type": "error",
     "traceback": [
      "\u001b[1;31m---------------------------------------------------------------------------\u001b[0m",
      "\u001b[1;31mTypeError\u001b[0m                                 Traceback (most recent call last)",
      "\u001b[1;32m~\\AppData\\Local\\Temp/ipykernel_10088/3207270620.py\u001b[0m in \u001b[0;36m<module>\u001b[1;34m\u001b[0m\n\u001b[0;32m      2\u001b[0m \u001b[1;31m#튜플의 요소 값은 변경할 수 없음 - 프로그램에서 그 값이 항상 변하지 않아야 하는 경우 사용\u001b[0m\u001b[1;33m\u001b[0m\u001b[1;33m\u001b[0m\u001b[1;33m\u001b[0m\u001b[0m\n\u001b[0;32m      3\u001b[0m \u001b[0mtuple1\u001b[0m \u001b[1;33m=\u001b[0m \u001b[1;33m(\u001b[0m\u001b[1;36m1\u001b[0m\u001b[1;33m,\u001b[0m\u001b[1;36m2\u001b[0m\u001b[1;33m,\u001b[0m\u001b[1;36m3\u001b[0m\u001b[1;33m,\u001b[0m\u001b[1;36m4\u001b[0m\u001b[1;33m,\u001b[0m\u001b[1;36m5\u001b[0m\u001b[1;33m,\u001b[0m\u001b[1;36m6\u001b[0m\u001b[1;33m)\u001b[0m\u001b[1;33m\u001b[0m\u001b[1;33m\u001b[0m\u001b[0m\n\u001b[1;32m----> 4\u001b[1;33m \u001b[0mtuple1\u001b[0m\u001b[1;33m[\u001b[0m\u001b[1;36m0\u001b[0m\u001b[1;33m]\u001b[0m \u001b[1;33m=\u001b[0m \u001b[1;36m6\u001b[0m\u001b[1;33m\u001b[0m\u001b[1;33m\u001b[0m\u001b[0m\n\u001b[0m\u001b[0;32m      5\u001b[0m \u001b[0mprint\u001b[0m\u001b[1;33m(\u001b[0m\u001b[0mtuple1\u001b[0m\u001b[1;33m)\u001b[0m\u001b[1;33m\u001b[0m\u001b[1;33m\u001b[0m\u001b[0m\n\u001b[0;32m      6\u001b[0m \u001b[0mt1\u001b[0m \u001b[1;33m=\u001b[0m \u001b[1;33m(\u001b[0m\u001b[1;36m1\u001b[0m\u001b[1;33m,\u001b[0m\u001b[1;33m)\u001b[0m \u001b[1;31m#1개의 요소만 가질 때는 요소 뒤에 콤마를 붙임\u001b[0m\u001b[1;33m\u001b[0m\u001b[1;33m\u001b[0m\u001b[0m\n",
      "\u001b[1;31mTypeError\u001b[0m: 'tuple' object does not support item assignment"
     ]
    }
   ],
   "source": [
    "#자료형 - Tuple\n",
    "#튜플의 요소 값은 변경할 수 없음 - 프로그램에서 그 값이 항상 변하지 않아야 하는 경우 사용\n",
    "#[]가 아닌 ()를 사용, ()는 생략가능\n",
    "\n",
    "tuple1 = (1,2,3,4,5,6)\n",
    "tuple1[0] = 6\n",
    "print(tuple1)\n"
   ]
  },
  {
   "cell_type": "code",
   "execution_count": 53,
   "id": "14ec33c2",
   "metadata": {},
   "outputs": [
    {
     "name": "stdout",
     "output_type": "stream",
     "text": [
      "(1,)\n",
      "(1, 2, 3)\n",
      "(1, 2, 3, 1, 2, 3, 1, 2, 3)\n",
      "(1, 1, 2, 3)\n",
      "1\n"
     ]
    },
    {
     "data": {
      "text/plain": [
       "int"
      ]
     },
     "execution_count": 53,
     "metadata": {},
     "output_type": "execute_result"
    }
   ],
   "source": [
    "t1 = (1,) #1개의 요소만 가질 때는 요소 뒤에 콤마를 붙임\n",
    "print(t1)\n",
    "t2 = 1,2,3\n",
    "print(t2)\n",
    "print(t2 * 3)\n",
    "print(t1 + t2)\n",
    "t3 = (1)\n",
    "print(t3)\n",
    "type(t3)\n"
   ]
  },
  {
   "cell_type": "code",
   "execution_count": 59,
   "id": "9ac7eec8",
   "metadata": {},
   "outputs": [
    {
     "name": "stdout",
     "output_type": "stream",
     "text": [
      "1\n",
      "{'a': 1, 'b': 5, 'c': 3}\n"
     ]
    }
   ],
   "source": [
    "#자료형 - 사전 (키와 값을 하나의 요소로 하는 순서가 없는 집합)\n",
    "d1 = {'a':1,'b':2,'c':3}\n",
    "print(d1['a'])\n",
    "d1['b'] = 5\n",
    "print(d1)"
   ]
  },
  {
   "cell_type": "code",
   "execution_count": 58,
   "id": "3b6c93bd",
   "metadata": {},
   "outputs": [
    {
     "name": "stdout",
     "output_type": "stream",
     "text": [
      "남자\n",
      "dict_keys(['name', '성별', '거주지'])\n",
      "dict_values(['남현', '남자', '마포구'])\n",
      "dict_items([('name', '남현'), ('성별', '남자'), ('거주지', '마포구')])\n"
     ]
    }
   ],
   "source": [
    "d2 = {'name':'남현', '성별':'남자', '거주지':'마포구'}\n",
    "print(d2['성별'])\n",
    "print(d2.keys())\n",
    "print(d2.values())\n",
    "print(d2.items())"
   ]
  },
  {
   "cell_type": "code",
   "execution_count": 67,
   "id": "f2ebe2fe",
   "metadata": {},
   "outputs": [
    {
     "name": "stdout",
     "output_type": "stream",
     "text": [
      "{1, 2, 3, 4, 5}\n",
      "{'H', 'l', 'e', 'o'}\n"
     ]
    }
   ],
   "source": [
    "#자료형 - 집합, set(중복을 허용하지 않으며 순서가 없다)\n",
    "s1 = set([1,2,5,4,3])\n",
    "s2 = set('Hello')\n",
    "print(s1)\n",
    "print(s2)"
   ]
  },
  {
   "cell_type": "code",
   "execution_count": 69,
   "id": "07e47862",
   "metadata": {},
   "outputs": [
    {
     "name": "stdout",
     "output_type": "stream",
     "text": [
      "2\n",
      "l\n"
     ]
    }
   ],
   "source": [
    "#집합은 인덱싱으로 값을 얻을 수 없으며 필요시 리스트나 튜플로 변환 후 인덱싱\n",
    "l1 = list(s1)\n",
    "print(l1[1])\n",
    "l2 = list(s2)\n",
    "print(l2[1])"
   ]
  },
  {
   "cell_type": "code",
   "execution_count": 72,
   "id": "69fa992d",
   "metadata": {},
   "outputs": [
    {
     "name": "stdout",
     "output_type": "stream",
     "text": [
      "[1, 2, 3, 4, 5, 6, 7, 8, 9]\n",
      "[4, 5, 6]\n"
     ]
    }
   ],
   "source": [
    "s1 = set([1,2,3,4,5,6])\n",
    "s2 = set([4,5,6,7,8,9])\n",
    "l1 = list(s1)\n",
    "l2 = list(s2)\n",
    "print(list(s1|s2))\n",
    "print(list(s1&s2))\n"
   ]
  },
  {
   "cell_type": "code",
   "execution_count": 78,
   "id": "5a35d3b5",
   "metadata": {},
   "outputs": [
    {
     "name": "stdout",
     "output_type": "stream",
     "text": [
      "a가 li에 있습니다.\n"
     ]
    }
   ],
   "source": [
    "#들여쓰기\n",
    "li = ['a','b','c']\n",
    "if 'a' in li:\n",
    "    print('a가 li에 있습니다.')\n",
    "else:\n",
    "    print('a가 li에 없습니다.')"
   ]
  },
  {
   "cell_type": "code",
   "execution_count": 83,
   "id": "7c621391",
   "metadata": {},
   "outputs": [
    {
     "data": {
      "text/plain": [
       "'나의 이름은 홍길동입니다. 나이는 20입니다.'"
      ]
     },
     "execution_count": 83,
     "metadata": {},
     "output_type": "execute_result"
    }
   ],
   "source": [
    "#문자열 포맷\n",
    "\n",
    "name = '홍길동'\n",
    "age = 20\n",
    "f'나의 이름은 {name}입니다. 나이는 {age}입니다.'\n"
   ]
  },
  {
   "cell_type": "code",
   "execution_count": 91,
   "id": "2b4ac8f0",
   "metadata": {},
   "outputs": [
    {
     "data": {
      "text/plain": [
       "'나의 이름은 홍길동입니다. 나이는 20입니다.'"
      ]
     },
     "execution_count": 91,
     "metadata": {},
     "output_type": "execute_result"
    }
   ],
   "source": [
    "d = {'name':'홍길동', 'age':20}\n",
    "f'나의 이름은 {d[\"name\"]}입니다. 나이는 {d[\"age\"]}입니다.'"
   ]
  },
  {
   "cell_type": "code",
   "execution_count": 94,
   "id": "bd3e4340",
   "metadata": {},
   "outputs": [
    {
     "data": {
      "text/plain": [
       "'     3.421'"
      ]
     },
     "execution_count": 94,
     "metadata": {},
     "output_type": "execute_result"
    }
   ],
   "source": [
    "y = 3.42134234\n",
    "f'{y:10.3f}'"
   ]
  },
  {
   "cell_type": "code",
   "execution_count": 97,
   "id": "dd2c7a48",
   "metadata": {},
   "outputs": [
    {
     "name": "stdout",
     "output_type": "stream",
     "text": [
      "홍길동선수가 1등입니다.\n",
      "1선수가 홍길동등입니다.\n"
     ]
    }
   ],
   "source": [
    "#포맷함수\n",
    "f1 = \"{}선수가 {}등입니다.\".format('홍길동',1)\n",
    "print(f1)\n",
    "f1 = \"{1}선수가 {0}등입니다.\".format('홍길동',1)\n",
    "print(f1)"
   ]
  },
  {
   "cell_type": "code",
   "execution_count": 100,
   "id": "025f87a0",
   "metadata": {},
   "outputs": [
    {
     "name": "stdout",
     "output_type": "stream",
     "text": [
      "파이썬은 자바보다 2배 쉽습니다\n",
      "파이썬은 자바보다 2배 쉽습니다\n"
     ]
    }
   ],
   "source": [
    "f2 = \"{}은 {}보다 {}배 쉽습니다\".format('파이썬','자바',2)\n",
    "print(f2)\n",
    "f2 = \"%s은 %s보다 %d배 쉽습니다\" %('파이썬','자바',2)\n",
    "print(f2)"
   ]
  },
  {
   "cell_type": "code",
   "execution_count": 135,
   "id": "064bf41e",
   "metadata": {
    "scrolled": true
   },
   "outputs": [
    {
     "name": "stdout",
     "output_type": "stream",
     "text": [
      "12345\n",
      "     12345\n",
      "12.345679\n",
      "          12.346\n"
     ]
    }
   ],
   "source": [
    "#과제\n",
    "a = 12345\n",
    "print(a)\n",
    "b = '%10s' % a\n",
    "print(b)\n",
    "c = 12.345679\n",
    "print(c)\n",
    "d = '%16.3f' % c\n",
    "print(d)"
   ]
  },
  {
   "cell_type": "code",
   "execution_count": 138,
   "id": "428ed680",
   "metadata": {},
   "outputs": [
    {
     "name": "stdout",
     "output_type": "stream",
     "text": [
      "========================hi========================\n"
     ]
    }
   ],
   "source": [
    "a = '{0:=^50}'.format(\"hi\")\n",
    "print(a)"
   ]
  },
  {
   "cell_type": "code",
   "execution_count": 156,
   "id": "25cf7a07",
   "metadata": {},
   "outputs": [
    {
     "name": "stdout",
     "output_type": "stream",
     "text": [
      "5를 2로 나눴을 때의 몫은 2이고, 나머지는 1입니다\n"
     ]
    }
   ],
   "source": [
    "a = 5\n",
    "b = 2\n",
    "c = '%d를 %d로 나눴을 때의 몫은 %d이고, 나머지는 %d입니다' % (a,b,a // b, a % b)\n",
    "print(c)"
   ]
  },
  {
   "cell_type": "code",
   "execution_count": 168,
   "id": "f2bcd416",
   "metadata": {},
   "outputs": [
    {
     "name": "stdout",
     "output_type": "stream",
     "text": [
      "Python 3.8.3\n"
     ]
    }
   ],
   "source": [
    "ft = 'Python'\n",
    "bk = ' 3.8.3'\n",
    "print(ft+bk)"
   ]
  },
  {
   "cell_type": "code",
   "execution_count": 169,
   "id": "1e34836d",
   "metadata": {},
   "outputs": [
    {
     "data": {
      "text/plain": [
       "int"
      ]
     },
     "execution_count": 169,
     "metadata": {},
     "output_type": "execute_result"
    }
   ],
   "source": [
    "a = 5\n",
    "a = '10'\n",
    "a = 15\n",
    "type(a)"
   ]
  },
  {
   "cell_type": "code",
   "execution_count": 177,
   "id": "f6d6c856",
   "metadata": {},
   "outputs": [
    {
     "name": "stdout",
     "output_type": "stream",
     "text": [
      "2\n"
     ]
    }
   ],
   "source": [
    "a = 5**3\n",
    "a %= 3\n",
    "print(a)"
   ]
  },
  {
   "cell_type": "code",
   "execution_count": null,
   "id": "06eccd0d",
   "metadata": {
    "scrolled": true
   },
   "outputs": [],
   "source": [
    "#숫자 3개를 입력해서 첫번째숫자를 두번째 숫자 승한뒤에 세번째숫자로 나누었을때\n",
    "#몫을 구하세요\n",
    "a = int(input(\"첫번째 숫자를 입력: \"))\n",
    "b = int(input(\"두번째 숫자를 입력: \"))\n",
    "c = int(input(\"세번째 숫자를 입력: \"))\n",
    "k = (a**b)//c\n",
    "print(k)"
   ]
  },
  {
   "cell_type": "code",
   "execution_count": null,
   "id": "dc103172",
   "metadata": {},
   "outputs": [],
   "source": [
    "list = []\n",
    "\n",
    "for i in range(0,3):\n",
    "    temp = input(\"숫자를 입력하세요\")\n",
    "    list.append(temp)\n",
    "list\n",
    "int(list[0])*int(list[1])//int(list[2])\n"
   ]
  },
  {
   "cell_type": "code",
   "execution_count": 184,
   "id": "904dc9a6",
   "metadata": {},
   "outputs": [
    {
     "name": "stdout",
     "output_type": "stream",
     "text": [
      "제 이름은 조남현입니다.\n",
      "제 이름은 조남현입니다.\n"
     ]
    }
   ],
   "source": [
    "name = \"조남현\"\n",
    "print('제 이름은 ' + name + '입니다.')\n",
    "print('제 이름은 {name}입니다.'.format(name = name))"
   ]
  },
  {
   "cell_type": "code",
   "execution_count": 185,
   "id": "75a86f45",
   "metadata": {},
   "outputs": [
    {
     "data": {
      "text/plain": [
       "[15, 20, 25]"
      ]
     },
     "execution_count": 185,
     "metadata": {},
     "output_type": "execute_result"
    }
   ],
   "source": [
    "numbers = [5,15,6,20,7,25]\n",
    "list = []\n",
    "for i in numbers:\n",
    "    if i == 15 or i == 20 or i == 25:\n",
    "        list.append(i)\n",
    "list\n"
   ]
  }
 ],
 "metadata": {
  "kernelspec": {
   "display_name": "Python 3 (ipykernel)",
   "language": "python",
   "name": "python3"
  },
  "language_info": {
   "codemirror_mode": {
    "name": "ipython",
    "version": 3
   },
   "file_extension": ".py",
   "mimetype": "text/x-python",
   "name": "python",
   "nbconvert_exporter": "python",
   "pygments_lexer": "ipython3",
   "version": "3.8.12"
  }
 },
 "nbformat": 4,
 "nbformat_minor": 5
}
