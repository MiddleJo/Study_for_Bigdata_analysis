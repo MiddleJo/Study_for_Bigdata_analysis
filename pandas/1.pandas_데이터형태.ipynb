{
 "cells": [
  {
   "cell_type": "markdown",
   "metadata": {},
   "source": [
    "## 판다스\n",
    "- 판다스는 구조화된 데이터 형식을 제공. 시리즈는 1차원 배열, 데이터프레임은 2차원 배열\n",
    "- 라이브러리는 여러 종류의 class와 다양한 내장 함수로 구성. 시리즈와 데이터프레임은 대표적인 클래스 객체임.\n",
    "- 시리즈 인덱스는 데이터값과 일대일 대응. 파이썬 딕셔너리와 비슷한 구조. pandas.Series(딕셔너리)\n",
    "- Contents\n",
    "    - Series(변환, 인덱스 구조, 원소 선택)\n",
    "    - DataFrame(변환, 인덱스, 삭제, 선택, 추가, 변경, 전치 등)"
   ]
  },
  {
   "cell_type": "code",
   "execution_count": 1,
   "metadata": {},
   "outputs": [
    {
     "name": "stdout",
     "output_type": "stream",
     "text": [
      "a    1\n",
      "b    2\n",
      "c    3\n",
      "dtype: int64 <class 'pandas.core.series.Series'>\n"
     ]
    }
   ],
   "source": [
    "# 딕셔너리를 시리즈로 변환\n",
    "import pandas as pd\n",
    "\n",
    "dic_data = {'a':1,'b':2,'c':3}\n",
    "sr = pd.Series(dic_data)\n",
    "print(sr,type(sr))\n"
   ]
  },
  {
   "cell_type": "code",
   "execution_count": 3,
   "metadata": {},
   "outputs": [
    {
     "name": "stdout",
     "output_type": "stream",
     "text": [
      "a    2019-10-02\n",
      "b          3.14\n",
      "c           ABC\n",
      "d           100\n",
      "e          True\n",
      "dtype: object <class 'pandas.core.series.Series'>\n"
     ]
    }
   ],
   "source": [
    "# 리스트를 시리즈로 변환\n",
    "\n",
    "list_data = ['2019-10-02',3.14,'ABC',100,True]\n",
    "sr = pd.Series(list_data, index=['a','b','c','d','e'])\n",
    "print(sr,type(sr))"
   ]
  },
  {
   "cell_type": "code",
   "execution_count": 6,
   "metadata": {},
   "outputs": [
    {
     "name": "stdout",
     "output_type": "stream",
     "text": [
      "Index(['a', 'b', 'c', 'd', 'e'], dtype='object') \n",
      "\n",
      "['2019-10-02' 3.14 'ABC' 100 True]\n"
     ]
    }
   ],
   "source": [
    "idx = sr.index\n",
    "print(idx,'\\n')\n",
    "val = sr.values\n",
    "print(val)"
   ]
  },
  {
   "cell_type": "code",
   "execution_count": 7,
   "metadata": {},
   "outputs": [
    {
     "name": "stdout",
     "output_type": "stream",
     "text": [
      "이름              영인\n",
      "생년월일    2015-05-01\n",
      "성별               여\n",
      "학생여부          True\n",
      "dtype: object <class 'pandas.core.series.Series'>\n"
     ]
    }
   ],
   "source": [
    "tup_data = ('영인','2015-05-01','여',True)\n",
    "sr = pd.Series(tup_data,index=['이름','생년월일','성별','학생여부'])\n",
    "print(sr,type(sr))"
   ]
  },
  {
   "cell_type": "code",
   "execution_count": 13,
   "metadata": {},
   "outputs": [
    {
     "name": "stdout",
     "output_type": "stream",
     "text": [
      "영인\n",
      "영인 \n",
      "\n",
      "생년월일    2015-05-01\n",
      "성별               여\n",
      "dtype: object\n",
      "생년월일    2015-05-01\n",
      "학생여부          True\n",
      "dtype: object\n"
     ]
    }
   ],
   "source": [
    "print(sr[0])\n",
    "print(sr['이름'],'\\n')\n",
    "print(sr[['생년월일','성별']])\n",
    "print(sr[[1,3]])"
   ]
  },
  {
   "cell_type": "code",
   "execution_count": 14,
   "metadata": {},
   "outputs": [
    {
     "name": "stdout",
     "output_type": "stream",
     "text": [
      "[11 12 13 14 15] <class 'numpy.ndarray'>\n",
      "ED1    11\n",
      "ED2    12\n",
      "ED3    13\n",
      "ED4    14\n",
      "ED5    15\n",
      "dtype: int32 <class 'pandas.core.series.Series'>\n"
     ]
    }
   ],
   "source": [
    "# 배열을 Series로 변환\n",
    "import numpy as np\n",
    "s1 = np.arange(start=11,stop=16)\n",
    "s2 = pd.Series(s1,index=['ED1','ED2','ED3','ED4','ED5'])\n",
    "print(s1,type(s1))\n",
    "print(s2,type(s2))"
   ]
  },
  {
   "cell_type": "code",
   "execution_count": 15,
   "metadata": {},
   "outputs": [
    {
     "name": "stdout",
     "output_type": "stream",
     "text": [
      "ED2    12\n",
      "ED3    13\n",
      "dtype: int32\n",
      "ED2    12\n",
      "ED4    14\n",
      "dtype: int32\n"
     ]
    }
   ],
   "source": [
    "print(s2[1:3])\n",
    "print(s2[[1,3]])"
   ]
  },
  {
   "cell_type": "code",
   "execution_count": 17,
   "metadata": {},
   "outputs": [
    {
     "name": "stdout",
     "output_type": "stream",
     "text": [
      "<class 'pandas.core.series.Series'>\n",
      "[11 12 13 14 15] <class 'numpy.ndarray'>\n"
     ]
    }
   ],
   "source": [
    "# 시리즈를 배열로 변환\n",
    "print(type(s2))\n",
    "ar = np.array(s2)\n",
    "ar\n",
    "print(ar,type(ar))"
   ]
  },
  {
   "cell_type": "code",
   "execution_count": 23,
   "metadata": {},
   "outputs": [
    {
     "name": "stdout",
     "output_type": "stream",
     "text": [
      "나       양식\n",
      "아무개1    중식\n",
      "아무개2    한식\n",
      "아무개3    일식\n",
      "아무개4    분식\n",
      "dtype: object\n",
      "나       양식\n",
      "아무개1    중식\n",
      "아무개2    한식\n",
      "아무개3    일식\n",
      "아무개4    분식\n",
      "dtype: object\n",
      "나       양식\n",
      "아무개1    중식\n",
      "아무개2    한식\n",
      "아무개3    일식\n",
      "아무개4    분식\n",
      "dtype: object\n",
      "나       양식\n",
      "아무개1    중식\n",
      "아무개2    한식\n",
      "아무개3    일식\n",
      "아무개4    분식\n",
      "dtype: object\n"
     ]
    }
   ],
   "source": [
    "# Q. 4가지 자료형 데이터를 생성하고 각각 Series로 변환하여 출력\n",
    "arr_food = ['양식','중식','한식','일식','분식']\n",
    "index = ['나','아무개1','아무개2','아무개3','아무개4']\n",
    "arr_food2 = dict(zip(index,arr_food))\n",
    "arr_food3 = np.array(arr_food)\n",
    "arr_food4 = tuple(arr_food)\n",
    "sr1 = pd.Series(arr_food, index)\n",
    "sr2 = pd.Series(arr_food2)\n",
    "sr3 = pd.Series(arr_food3, index)\n",
    "sr4 = pd.Series(arr_food4, index)\n",
    "print(sr1)\n",
    "print(sr2)\n",
    "print(sr3)\n",
    "print(sr4)"
   ]
  },
  {
   "cell_type": "code",
   "execution_count": 24,
   "metadata": {},
   "outputs": [
    {
     "data": {
      "text/plain": [
       "state\n",
       "California    1000\n",
       "Ohio          2000\n",
       "Oregon        3000\n",
       "Texas         4000\n",
       "Name: population, dtype: int32"
      ]
     },
     "execution_count": 24,
     "metadata": {},
     "output_type": "execute_result"
    }
   ],
   "source": [
    "data = np.arange(1000,5000,1000)\n",
    "obj = pd.Series(data)\n",
    "state = ['California','Ohio','Oregon','Texas']\n",
    "obj.name = 'population'\n",
    "obj.index = state\n",
    "obj.index.name = 'state'\n",
    "obj"
   ]
  },
  {
   "cell_type": "code",
   "execution_count": 25,
   "metadata": {},
   "outputs": [
    {
     "data": {
      "text/plain": [
       "state\n",
       "California       NaN\n",
       "Ohio          2000.0\n",
       "Oregon        3000.0\n",
       "Texas         4000.0\n",
       "Name: population, dtype: float64"
      ]
     },
     "execution_count": 25,
     "metadata": {},
     "output_type": "execute_result"
    }
   ],
   "source": [
    "obj.California = np.nan\n",
    "obj"
   ]
  },
  {
   "cell_type": "code",
   "execution_count": 29,
   "metadata": {},
   "outputs": [
    {
     "data": {
      "text/plain": [
       "state\n",
       "California       NaN\n",
       "Ohio          2000.0\n",
       "Oregon        3000.0\n",
       "Texas         4000.0\n",
       "Newyork       3000.0\n",
       "Name: population, dtype: float64"
      ]
     },
     "execution_count": 29,
     "metadata": {},
     "output_type": "execute_result"
    }
   ],
   "source": [
    "obj['Newyork'] = 3000       # 처음 만들 때에는 obj.Newyork = 3000 해도 안들어감.\n",
    "obj"
   ]
  },
  {
   "cell_type": "code",
   "execution_count": 30,
   "metadata": {},
   "outputs": [
    {
     "name": "stdout",
     "output_type": "stream",
     "text": [
      "state\n",
      "California     True\n",
      "Ohio          False\n",
      "Oregon        False\n",
      "Texas         False\n",
      "Newyork       False\n",
      "Name: population, dtype: bool\n",
      "\n",
      "1\n"
     ]
    }
   ],
   "source": [
    "print(obj.isnull())\n",
    "print()\n",
    "print(obj.isnull().sum())        #nan 개수 세기"
   ]
  },
  {
   "cell_type": "markdown",
   "metadata": {},
   "source": [
    "## 데이터프레임\n",
    "- 데이터프레임은 2차원 배열, R의 데이터프레임에서 유래\n",
    "- 데이터프레임의 열은 각각 시리즈 개체\n",
    "- 시리즈를 열벡터하고 하면 데이터프레임은 여러개의 열벡터들이 같은 행 인덱스를 기준으로 줄지어 결합된 2차원 벡터 또는 행렬\n",
    "- 선형대수학에서 열 벡터(mx1행렬)는 a 원소들의 단일 열 행렬\n",
    "- 행 벡터(1xm)은 m원소들의 단일 행 행렬\n",
    "- 리스트, 딕셔너리, 배열 등 다양한 데이터로부터 생성\n",
    "- 반대로 리스트, 딕셔너리, 배열 등으로 변환될 수 있음"
   ]
  },
  {
   "cell_type": "code",
   "execution_count": 31,
   "metadata": {},
   "outputs": [
    {
     "name": "stdout",
     "output_type": "stream",
     "text": [
      "[[118 107 109]\n",
      " [100 101 106]\n",
      " [112 118 111]] <class 'numpy.ndarray'> \n",
      "\n",
      "     pd  sales  int\n",
      "d1  118    107  109\n",
      "d2  100    101  106\n",
      "d3  112    118  111 <class 'pandas.core.frame.DataFrame'>\n"
     ]
    }
   ],
   "source": [
    "# 배열 > 데이터프레임\n",
    "ar = np.random.randint(100,120,size=(3,3))\n",
    "print(ar,type(ar),'\\n')\n",
    "df = pd.DataFrame(ar,index=['d1','d2','d3'],\n",
    "                    columns=['pd','sales','int'])\n",
    "print(df,type(df))"
   ]
  },
  {
   "cell_type": "markdown",
   "metadata": {},
   "source": [
    "pandas indexing\n",
    "- iloc : integer location의 약어, 데이터프레임의 행이나 칼럼의 순서를 나타내는 정수로 특정 값을 추출해오는 방법\n",
    "- loc : 칼럼명을 직접 적거나 특정 조건식을 써줌으로써 사람이 읽기 좋은 방법으로 데이터에 접근하는 방법"
   ]
  },
  {
   "cell_type": "code",
   "execution_count": 37,
   "metadata": {},
   "outputs": [
    {
     "name": "stdout",
     "output_type": "stream",
     "text": [
      "pd       100\n",
      "sales    101\n",
      "int      106\n",
      "Name: d2, dtype: int32 \n",
      "\n",
      "pd       100\n",
      "sales    101\n",
      "int      106\n",
      "Name: d2, dtype: int32 \n",
      "\n"
     ]
    }
   ],
   "source": [
    "# 행선택\n",
    "print(df.iloc[1],'\\n')\n",
    "print(df.loc['d2'],'\\n')"
   ]
  },
  {
   "cell_type": "code",
   "execution_count": 40,
   "metadata": {},
   "outputs": [
    {
     "name": "stdout",
     "output_type": "stream",
     "text": [
      "101 \n",
      "\n",
      "101\n"
     ]
    }
   ],
   "source": [
    "# 특정 행, 열 선택\n",
    "print(df.iloc[1,1],'\\n')\n",
    "print(df.loc['d2','sales'])"
   ]
  },
  {
   "cell_type": "code",
   "execution_count": 56,
   "metadata": {},
   "outputs": [
    {
     "data": {
      "text/html": [
       "<div>\n",
       "<style scoped>\n",
       "    .dataframe tbody tr th:only-of-type {\n",
       "        vertical-align: middle;\n",
       "    }\n",
       "\n",
       "    .dataframe tbody tr th {\n",
       "        vertical-align: top;\n",
       "    }\n",
       "\n",
       "    .dataframe thead th {\n",
       "        text-align: right;\n",
       "    }\n",
       "</style>\n",
       "<table border=\"1\" class=\"dataframe\">\n",
       "  <thead>\n",
       "    <tr style=\"text-align: right;\">\n",
       "      <th></th>\n",
       "      <th>pd</th>\n",
       "      <th>sales</th>\n",
       "      <th>int</th>\n",
       "    </tr>\n",
       "  </thead>\n",
       "  <tbody>\n",
       "    <tr>\n",
       "      <th>d1</th>\n",
       "      <td>118</td>\n",
       "      <td>107</td>\n",
       "      <td>109</td>\n",
       "    </tr>\n",
       "    <tr>\n",
       "      <th>d2</th>\n",
       "      <td>100</td>\n",
       "      <td>101</td>\n",
       "      <td>106</td>\n",
       "    </tr>\n",
       "    <tr>\n",
       "      <th>d3</th>\n",
       "      <td>112</td>\n",
       "      <td>118</td>\n",
       "      <td>111</td>\n",
       "    </tr>\n",
       "    <tr>\n",
       "      <th>d5</th>\n",
       "      <td>0</td>\n",
       "      <td>0</td>\n",
       "      <td>0</td>\n",
       "    </tr>\n",
       "  </tbody>\n",
       "</table>\n",
       "</div>"
      ],
      "text/plain": [
       "     pd  sales  int\n",
       "d1  118    107  109\n",
       "d2  100    101  106\n",
       "d3  112    118  111\n",
       "d5    0      0    0"
      ]
     },
     "execution_count": 56,
     "metadata": {},
     "output_type": "execute_result"
    }
   ],
   "source": [
    "# 행, 열 추가\n",
    "df1 = df.copy()\n",
    "df1.loc['d5'] = 0\n",
    "df1"
   ]
  },
  {
   "cell_type": "code",
   "execution_count": 58,
   "metadata": {},
   "outputs": [
    {
     "data": {
      "text/html": [
       "<div>\n",
       "<style scoped>\n",
       "    .dataframe tbody tr th:only-of-type {\n",
       "        vertical-align: middle;\n",
       "    }\n",
       "\n",
       "    .dataframe tbody tr th {\n",
       "        vertical-align: top;\n",
       "    }\n",
       "\n",
       "    .dataframe thead th {\n",
       "        text-align: right;\n",
       "    }\n",
       "</style>\n",
       "<table border=\"1\" class=\"dataframe\">\n",
       "  <thead>\n",
       "    <tr style=\"text-align: right;\">\n",
       "      <th></th>\n",
       "      <th>pd</th>\n",
       "      <th>sales</th>\n",
       "      <th>int</th>\n",
       "      <th>pf</th>\n",
       "    </tr>\n",
       "  </thead>\n",
       "  <tbody>\n",
       "    <tr>\n",
       "      <th>d1</th>\n",
       "      <td>118</td>\n",
       "      <td>107.0</td>\n",
       "      <td>109</td>\n",
       "      <td>100</td>\n",
       "    </tr>\n",
       "    <tr>\n",
       "      <th>d2</th>\n",
       "      <td>100</td>\n",
       "      <td>NaN</td>\n",
       "      <td>106</td>\n",
       "      <td>100</td>\n",
       "    </tr>\n",
       "    <tr>\n",
       "      <th>d3</th>\n",
       "      <td>112</td>\n",
       "      <td>118.0</td>\n",
       "      <td>111</td>\n",
       "      <td>100</td>\n",
       "    </tr>\n",
       "    <tr>\n",
       "      <th>d5</th>\n",
       "      <td>0</td>\n",
       "      <td>0.0</td>\n",
       "      <td>0</td>\n",
       "      <td>0</td>\n",
       "    </tr>\n",
       "  </tbody>\n",
       "</table>\n",
       "</div>"
      ],
      "text/plain": [
       "     pd  sales  int   pf\n",
       "d1  118  107.0  109  100\n",
       "d2  100    NaN  106  100\n",
       "d3  112  118.0  111  100\n",
       "d5    0    0.0    0    0"
      ]
     },
     "execution_count": 58,
     "metadata": {},
     "output_type": "execute_result"
    }
   ],
   "source": [
    "df1['pf'] = [100,100,100,0]\n",
    "df1"
   ]
  },
  {
   "cell_type": "code",
   "execution_count": 57,
   "metadata": {},
   "outputs": [
    {
     "data": {
      "text/html": [
       "<div>\n",
       "<style scoped>\n",
       "    .dataframe tbody tr th:only-of-type {\n",
       "        vertical-align: middle;\n",
       "    }\n",
       "\n",
       "    .dataframe tbody tr th {\n",
       "        vertical-align: top;\n",
       "    }\n",
       "\n",
       "    .dataframe thead th {\n",
       "        text-align: right;\n",
       "    }\n",
       "</style>\n",
       "<table border=\"1\" class=\"dataframe\">\n",
       "  <thead>\n",
       "    <tr style=\"text-align: right;\">\n",
       "      <th></th>\n",
       "      <th>pd</th>\n",
       "      <th>sales</th>\n",
       "      <th>int</th>\n",
       "    </tr>\n",
       "  </thead>\n",
       "  <tbody>\n",
       "    <tr>\n",
       "      <th>d1</th>\n",
       "      <td>118</td>\n",
       "      <td>107.0</td>\n",
       "      <td>109</td>\n",
       "    </tr>\n",
       "    <tr>\n",
       "      <th>d2</th>\n",
       "      <td>100</td>\n",
       "      <td>NaN</td>\n",
       "      <td>106</td>\n",
       "    </tr>\n",
       "    <tr>\n",
       "      <th>d3</th>\n",
       "      <td>112</td>\n",
       "      <td>118.0</td>\n",
       "      <td>111</td>\n",
       "    </tr>\n",
       "    <tr>\n",
       "      <th>d5</th>\n",
       "      <td>0</td>\n",
       "      <td>0.0</td>\n",
       "      <td>0</td>\n",
       "    </tr>\n",
       "  </tbody>\n",
       "</table>\n",
       "</div>"
      ],
      "text/plain": [
       "     pd  sales  int\n",
       "d1  118  107.0  109\n",
       "d2  100    NaN  106\n",
       "d3  112  118.0  111\n",
       "d5    0    0.0    0"
      ]
     },
     "execution_count": 57,
     "metadata": {},
     "output_type": "execute_result"
    }
   ],
   "source": [
    "# 원소 값 변경\n",
    "df1.iloc[1,1] = np.nan\n",
    "df1"
   ]
  },
  {
   "cell_type": "code",
   "execution_count": 61,
   "metadata": {},
   "outputs": [
    {
     "data": {
      "text/html": [
       "<div>\n",
       "<style scoped>\n",
       "    .dataframe tbody tr th:only-of-type {\n",
       "        vertical-align: middle;\n",
       "    }\n",
       "\n",
       "    .dataframe tbody tr th {\n",
       "        vertical-align: top;\n",
       "    }\n",
       "\n",
       "    .dataframe thead th {\n",
       "        text-align: right;\n",
       "    }\n",
       "</style>\n",
       "<table border=\"1\" class=\"dataframe\">\n",
       "  <thead>\n",
       "    <tr style=\"text-align: right;\">\n",
       "      <th></th>\n",
       "      <th>col1</th>\n",
       "      <th>col2</th>\n",
       "      <th>col3</th>\n",
       "    </tr>\n",
       "  </thead>\n",
       "  <tbody>\n",
       "    <tr>\n",
       "      <th>0</th>\n",
       "      <td>1</td>\n",
       "      <td>2</td>\n",
       "      <td>A</td>\n",
       "    </tr>\n",
       "    <tr>\n",
       "      <th>1</th>\n",
       "      <td>2</td>\n",
       "      <td>4</td>\n",
       "      <td>B</td>\n",
       "    </tr>\n",
       "    <tr>\n",
       "      <th>2</th>\n",
       "      <td>3</td>\n",
       "      <td>6</td>\n",
       "      <td>C</td>\n",
       "    </tr>\n",
       "    <tr>\n",
       "      <th>3</th>\n",
       "      <td>4</td>\n",
       "      <td>8</td>\n",
       "      <td>D</td>\n",
       "    </tr>\n",
       "    <tr>\n",
       "      <th>4</th>\n",
       "      <td>5</td>\n",
       "      <td>10</td>\n",
       "      <td>E</td>\n",
       "    </tr>\n",
       "  </tbody>\n",
       "</table>\n",
       "</div>"
      ],
      "text/plain": [
       "   col1  col2 col3\n",
       "0     1     2    A\n",
       "1     2     4    B\n",
       "2     3     6    C\n",
       "3     4     8    D\n",
       "4     5    10    E"
      ]
     },
     "execution_count": 61,
     "metadata": {},
     "output_type": "execute_result"
    }
   ],
   "source": [
    "# 사전 > 데이터프레임\n",
    "sp1 = np.arange(1,6)\n",
    "df = pd.DataFrame({\n",
    "    'col1': sp1,\n",
    "    'col2': sp1*2,\n",
    "    'col3': ['A','B','C','D','E']\n",
    "})\n",
    "df"
   ]
  },
  {
   "cell_type": "code",
   "execution_count": null,
   "metadata": {},
   "outputs": [],
   "source": [
    "# 딕셔너리에서 값이 스칼라이면 인덱스 필요\n",
    "\n",
    "dic = {'A':1,'B':2,'C':3,'D':4}\n",
    "# dic = {'A':[1],'B':[2],'C':[3],'D':[4]}\n",
    "columns=['a','b','c','d','e']\n",
    "index=[1,2,3,4]\n",
    "\n",
    "df_dic = pd.DataFrame(dic,index)\n",
    "# df_dic = pd.DataFrame(dic)\n",
    "print(df_dic)"
   ]
  },
  {
   "cell_type": "code",
   "execution_count": 66,
   "metadata": {},
   "outputs": [
    {
     "data": {
      "text/html": [
       "<div>\n",
       "<style scoped>\n",
       "    .dataframe tbody tr th:only-of-type {\n",
       "        vertical-align: middle;\n",
       "    }\n",
       "\n",
       "    .dataframe tbody tr th {\n",
       "        vertical-align: top;\n",
       "    }\n",
       "\n",
       "    .dataframe thead th {\n",
       "        text-align: right;\n",
       "    }\n",
       "</style>\n",
       "<table border=\"1\" class=\"dataframe\">\n",
       "  <thead>\n",
       "    <tr style=\"text-align: right;\">\n",
       "      <th></th>\n",
       "      <th>c1</th>\n",
       "      <th>c2</th>\n",
       "      <th>c3</th>\n",
       "      <th>c4</th>\n",
       "      <th>c5</th>\n",
       "    </tr>\n",
       "  </thead>\n",
       "  <tbody>\n",
       "    <tr>\n",
       "      <th>1</th>\n",
       "      <td>4</td>\n",
       "      <td>1</td>\n",
       "      <td>3</td>\n",
       "      <td>4</td>\n",
       "      <td>4</td>\n",
       "    </tr>\n",
       "    <tr>\n",
       "      <th>2</th>\n",
       "      <td>4</td>\n",
       "      <td>4</td>\n",
       "      <td>1</td>\n",
       "      <td>4</td>\n",
       "      <td>4</td>\n",
       "    </tr>\n",
       "    <tr>\n",
       "      <th>3</th>\n",
       "      <td>2</td>\n",
       "      <td>3</td>\n",
       "      <td>3</td>\n",
       "      <td>1</td>\n",
       "      <td>1</td>\n",
       "    </tr>\n",
       "    <tr>\n",
       "      <th>4</th>\n",
       "      <td>3</td>\n",
       "      <td>3</td>\n",
       "      <td>2</td>\n",
       "      <td>1</td>\n",
       "      <td>3</td>\n",
       "    </tr>\n",
       "    <tr>\n",
       "      <th>5</th>\n",
       "      <td>4</td>\n",
       "      <td>1</td>\n",
       "      <td>3</td>\n",
       "      <td>1</td>\n",
       "      <td>2</td>\n",
       "    </tr>\n",
       "    <tr>\n",
       "      <th>6</th>\n",
       "      <td>4</td>\n",
       "      <td>2</td>\n",
       "      <td>1</td>\n",
       "      <td>1</td>\n",
       "      <td>3</td>\n",
       "    </tr>\n",
       "    <tr>\n",
       "      <th>7</th>\n",
       "      <td>4</td>\n",
       "      <td>4</td>\n",
       "      <td>1</td>\n",
       "      <td>2</td>\n",
       "      <td>3</td>\n",
       "    </tr>\n",
       "    <tr>\n",
       "      <th>8</th>\n",
       "      <td>4</td>\n",
       "      <td>4</td>\n",
       "      <td>2</td>\n",
       "      <td>1</td>\n",
       "      <td>1</td>\n",
       "    </tr>\n",
       "    <tr>\n",
       "      <th>9</th>\n",
       "      <td>3</td>\n",
       "      <td>3</td>\n",
       "      <td>3</td>\n",
       "      <td>2</td>\n",
       "      <td>3</td>\n",
       "    </tr>\n",
       "    <tr>\n",
       "      <th>10</th>\n",
       "      <td>4</td>\n",
       "      <td>2</td>\n",
       "      <td>2</td>\n",
       "      <td>2</td>\n",
       "      <td>2</td>\n",
       "    </tr>\n",
       "  </tbody>\n",
       "</table>\n",
       "</div>"
      ],
      "text/plain": [
       "    c1  c2  c3  c4  c5\n",
       "1    4   1   3   4   4\n",
       "2    4   4   1   4   4\n",
       "3    2   3   3   1   1\n",
       "4    3   3   2   1   3\n",
       "5    4   1   3   1   2\n",
       "6    4   2   1   1   3\n",
       "7    4   4   1   2   3\n",
       "8    4   4   2   1   1\n",
       "9    3   3   3   2   3\n",
       "10   4   2   2   2   2"
      ]
     },
     "execution_count": 66,
     "metadata": {},
     "output_type": "execute_result"
    }
   ],
   "source": [
    "# 리스트 > 데이터프레임\n",
    "a = np.random.randint(1,5,size=(10,5))\n",
    "list1 = a.tolist()\n",
    "list1\n",
    "index = np.arange(1,11)\n",
    "df = pd.DataFrame(list1,index, columns = ['c1','c2','c3','c4','c5'])\n",
    "df"
   ]
  },
  {
   "cell_type": "code",
   "execution_count": 69,
   "metadata": {},
   "outputs": [
    {
     "name": "stdout",
     "output_type": "stream",
     "text": [
      "[[4 1 3 4 4]\n",
      " [4 4 1 4 4]\n",
      " [2 3 3 1 1]\n",
      " [3 3 2 1 3]\n",
      " [4 1 3 1 2]\n",
      " [4 2 1 1 3]\n",
      " [4 4 1 2 3]\n",
      " [4 4 2 1 1]\n",
      " [3 3 3 2 3]\n",
      " [4 2 2 2 2]]\n",
      "[[4, 1, 3, 4, 4], [4, 4, 1, 4, 4], [2, 3, 3, 1, 1], [3, 3, 2, 1, 3], [4, 1, 3, 1, 2], [4, 2, 1, 1, 3], [4, 4, 1, 2, 3], [4, 4, 2, 1, 1], [3, 3, 3, 2, 3], [4, 2, 2, 2, 2]]\n",
      "{'c1': [4, 4, 2, 3, 4, 4, 4, 4, 3, 4], 'c2': [1, 4, 3, 3, 1, 2, 4, 4, 3, 2], 'c3': [3, 1, 3, 2, 3, 1, 1, 2, 3, 2], 'c4': [4, 4, 1, 1, 1, 1, 2, 1, 2, 2], 'c5': [4, 4, 1, 3, 2, 3, 3, 1, 3, 2]}\n"
     ]
    }
   ],
   "source": [
    "# 데이터프레임 > 배열, 리스트, 딕셔너리\n",
    "ar = df.values\n",
    "print(ar)\n",
    "li = df.values.tolist()\n",
    "print(li)\n",
    "dict = df.to_dict('list')\n",
    "print(dict)"
   ]
  },
  {
   "cell_type": "code",
   "execution_count": 79,
   "metadata": {},
   "outputs": [
    {
     "name": "stdout",
     "output_type": "stream",
     "text": [
      "   col1  col2  col3\n",
      "0     1     2   NaN\n",
      "1     2     4   NaN\n",
      "2     3     6   NaN\n",
      "3     4     8   NaN\n",
      "4     5    10   NaN <class 'pandas.core.frame.DataFrame'> \n",
      "\n",
      "[[ 1.  2. nan]\n",
      " [ 2.  4. nan]\n",
      " [ 3.  6. nan]\n",
      " [ 4.  8. nan]\n",
      " [ 5. 10. nan]] <class 'numpy.ndarray'> \n",
      "\n",
      "[[1.0, 2.0, nan], [2.0, 4.0, nan], [3.0, 6.0, nan], [4.0, 8.0, nan], [5.0, 10.0, nan]] <class 'list'> \n",
      "\n",
      "{'col1': [1, 2, 3, 4, 5], 'col2': [2, 4, 6, 8, 10], 'col3': [nan, nan, nan, nan, nan]} <class 'dict'> \n",
      "\n"
     ]
    }
   ],
   "source": [
    "# Q. 배열, 리스트, 딕셔너리로 데이터프레임을 생성한 후 다시 배열, 리스트, 딕셔너리로 변환하여 출력.\n",
    "ar = np.arange(1,6)\n",
    "ar2=ar*2\n",
    "li = ar2.tolist()\n",
    "df = pd.DataFrame({\n",
    "    'col1': ar,\n",
    "    'col2': li,\n",
    "    'col3': np.nan})\n",
    "print(df,type(df),'\\n')\n",
    "print(df.values,type(df.values),'\\n')\n",
    "print(df.values.tolist(),type(df.values.tolist()),'\\n')\n",
    "print(df.to_dict('list'),type(df.to_dict('list')),'\\n')"
   ]
  },
  {
   "cell_type": "code",
   "execution_count": 85,
   "metadata": {},
   "outputs": [
    {
     "name": "stdout",
     "output_type": "stream",
     "text": [
      "      차림표\n",
      "메뉴1    냉면\n",
      "메뉴2   칼국수\n",
      "메뉴3  잔치국수\n",
      "메뉴4   수제비\n",
      "메뉴5    우동 \n",
      "\n",
      "[['냉면'], ['칼국수'], ['잔치국수'], ['수제비'], ['우동']] <class 'list'> \n",
      "\n",
      "      커피    쿠키   케이크\n",
      "가격  4000  3000  6500 \n",
      "\n",
      "{'커피': [4000], '쿠키': [3000], '케이크': [6500]} <class 'dict'> \n",
      "\n",
      "    달리기  줄다리기  무궁화\n",
      "1반    9     3    7\n",
      "2반    4     9    6\n",
      "3반    8     5    3 \n",
      "\n",
      "[[9 3 7]\n",
      " [4 9 6]\n",
      " [8 5 3]]\n"
     ]
    }
   ],
   "source": [
    "# 리스트\n",
    "li = ['냉면','칼국수','잔치국수','수제비','우동']\n",
    "df1 = pd.DataFrame(li,index=['메뉴1','메뉴2','메뉴3','메뉴4','메뉴5'],columns = ['차림표'])\n",
    "print(df1,'\\n')\n",
    "print(df1.values.tolist(),type(df1.values.tolist()),'\\n')\n",
    "\n",
    "# 딕셔너리\n",
    "df2 = pd.DataFrame({\n",
    "    '커피':4000,\n",
    "    '쿠키':3000,\n",
    "    '케이크':6500\n",
    "},index=['가격'])\n",
    "print(df2,'\\n')\n",
    "print(df2.to_dict('list'),type(df2.to_dict('list')),'\\n')\n",
    "\n",
    "# 배열\n",
    "df3 = pd.DataFrame(np.random.randint(1,10,size=(3,3)),index=['1반','2반','3반'],\n",
    "                   columns=['달리기','줄다리기','무궁화'])\n",
    "print(df3,'\\n')\n",
    "print(df3.values)\n"
   ]
  },
  {
   "cell_type": "code",
   "execution_count": 88,
   "metadata": {},
   "outputs": [
    {
     "data": {
      "text/html": [
       "<div>\n",
       "<style scoped>\n",
       "    .dataframe tbody tr th:only-of-type {\n",
       "        vertical-align: middle;\n",
       "    }\n",
       "\n",
       "    .dataframe tbody tr th {\n",
       "        vertical-align: top;\n",
       "    }\n",
       "\n",
       "    .dataframe thead th {\n",
       "        text-align: right;\n",
       "    }\n",
       "</style>\n",
       "<table border=\"1\" class=\"dataframe\">\n",
       "  <thead>\n",
       "    <tr style=\"text-align: right;\">\n",
       "      <th></th>\n",
       "      <th>차림표</th>\n",
       "    </tr>\n",
       "  </thead>\n",
       "  <tbody>\n",
       "    <tr>\n",
       "      <th>0</th>\n",
       "      <td>냉면</td>\n",
       "    </tr>\n",
       "    <tr>\n",
       "      <th>1</th>\n",
       "      <td>칼국수</td>\n",
       "    </tr>\n",
       "    <tr>\n",
       "      <th>2</th>\n",
       "      <td>잔치국수</td>\n",
       "    </tr>\n",
       "    <tr>\n",
       "      <th>3</th>\n",
       "      <td>수제비</td>\n",
       "    </tr>\n",
       "    <tr>\n",
       "      <th>4</th>\n",
       "      <td>우동</td>\n",
       "    </tr>\n",
       "  </tbody>\n",
       "</table>\n",
       "</div>"
      ],
      "text/plain": [
       "    차림표\n",
       "0    냉면\n",
       "1   칼국수\n",
       "2  잔치국수\n",
       "3   수제비\n",
       "4    우동"
      ]
     },
     "execution_count": 88,
     "metadata": {},
     "output_type": "execute_result"
    }
   ],
   "source": [
    "# file 생성\n",
    "li = ['냉면','칼국수','잔치국수','수제비','우동']\n",
    "df1 = pd.DataFrame(li,index=['메뉴1','메뉴2','메뉴3','메뉴4','메뉴5'],columns = ['차림표'])\n",
    "df1.to_csv('./dataset/file_data.csv', index = None)\n",
    "file_data = pd.read_csv('./dataset/file_data.csv')\n",
    "file_data"
   ]
  },
  {
   "cell_type": "code",
   "execution_count": null,
   "metadata": {},
   "outputs": [],
   "source": [
    "# 딕셔너리에서 값이 스칼라이면 인덱스 필요\n",
    "\n",
    "dic = {'A':1,'B':2,'C':3,'D':4}\n",
    "# dic = {'A':[1],'B':2,'C':3,'D':4}\n"
   ]
  }
 ],
 "metadata": {
  "interpreter": {
   "hash": "36b4fa4aa7861c46a6b204158724d941cd165081ff4fedf2cf40fc3dcd09c28c"
  },
  "kernelspec": {
   "display_name": "Python 3.8.12 64-bit ('cakd5': conda)",
   "language": "python",
   "name": "python3"
  },
  "language_info": {
   "codemirror_mode": {
    "name": "ipython",
    "version": 3
   },
   "file_extension": ".py",
   "mimetype": "text/x-python",
   "name": "python",
   "nbconvert_exporter": "python",
   "pygments_lexer": "ipython3",
   "version": "3.8.12"
  },
  "orig_nbformat": 4
 },
 "nbformat": 4,
 "nbformat_minor": 2
}
