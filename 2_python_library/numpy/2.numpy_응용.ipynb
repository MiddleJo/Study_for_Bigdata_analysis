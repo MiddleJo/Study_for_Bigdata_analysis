{
 "cells": [
  {
   "cell_type": "code",
   "execution_count": 2,
   "id": "88001cba",
   "metadata": {},
   "outputs": [],
   "source": [
    "import numpy as np"
   ]
  },
  {
   "cell_type": "code",
   "execution_count": null,
   "id": "dc1d627e",
   "metadata": {},
   "outputs": [],
   "source": [
    "arr = "
   ]
  },
  {
   "cell_type": "code",
   "execution_count": null,
   "id": "56689515",
   "metadata": {},
   "outputs": [],
   "source": [
    "# 행렬곱, 내적\n",
    "np.dot(arr.T,arr)"
   ]
  },
  {
   "cell_type": "code",
   "execution_count": null,
   "id": "752feafc",
   "metadata": {},
   "outputs": [],
   "source": [
    "a = np.arange(6).reshape(2,3)\n",
    "print(a,'\\n')\n",
    "y = np.swapaxes(a,0,1)\n",
    "print(y)\n",
    "\n",
    "y = a.T\n",
    "y = np.transpose(a)\n",
    "y = np.transpose(a)\n",
    "print(y)"
   ]
  },
  {
   "cell_type": "code",
   "execution_count": null,
   "id": "66e49aa9",
   "metadata": {},
   "outputs": [],
   "source": [
    "# 1 ~ 100을 아래와 같이 출력하세요.\n",
    "# [[  1   2   3   4   5   6   7   8   9  10]\n",
    "#  [ 20  19  18  17  16  15  14  13  12  11]\n",
    "#  [ 21  22  23  24  25  26  27  28  29  30]\n",
    "#  [ 40  39  38  37  36  35  34  33  32  31]\n",
    "#  [ 41  42  43  44  45  46  47  48  49  50]\n",
    "#  [ 60  59  58  57  56  55  54  53  52  51]\n",
    "#  [ 61  62  63  64  65  66  67  68  69  70]\n",
    "#  [ 80  79  78  77  76  75  74  73  72  71]\n",
    "#  [ 81  82  83  84  85  86  87  88  89  90]\n",
    "#  [100  99  98  97  96  95  94  93  92  91]] <class 'numpy.ndarray'>\n",
    "arr = np.arange(1,101).reshape(10,10)\n",
    "for i in range(10):\n",
    "    if i % 2 == 1:\n",
    "        arr[i] = arr[i][::-1]\n",
    "print(arr, type(arr))"
   ]
  },
  {
   "cell_type": "code",
   "execution_count": null,
   "id": "8d0bcb6d",
   "metadata": {},
   "outputs": [],
   "source": [
    "# (0,1,2)\n",
    "# 3차원과 2차원을 바꾸는 경우 (1,2,3) > (2,1,3)\n",
    "a = np.arange(6).reshape(1,2,3)\n",
    "print(a,a.shape,'\\n')\n",
    "y = np.transpose(a,(1,0,2))\n",
    "print(y,y.shape)"
   ]
  },
  {
   "cell_type": "code",
   "execution_count": null,
   "id": "fcfcd873",
   "metadata": {},
   "outputs": [],
   "source": [
    "# (1,2,3) > (2,3,1)\n",
    "a = np.arange(6).reshape(1,2,3)\n",
    "print(a,a.shape,'\\n')\n",
    "y = np.transpose(a,(1,2,0))\n",
    "print(y,y.shape)"
   ]
  },
  {
   "cell_type": "code",
   "execution_count": null,
   "id": "dbbff1ab",
   "metadata": {},
   "outputs": [],
   "source": [
    "arr = np.arange(16).reshape((2,2,4))\n",
    "print(arr,'\\n','======================================================')\n",
    "arr2 = arr.transpose((1,0,2))\n",
    "print(arr2)"
   ]
  },
  {
   "cell_type": "code",
   "execution_count": null,
   "id": "e365cc1f",
   "metadata": {},
   "outputs": [],
   "source": [
    "a = np.array([[1,2],[3,4]])\n",
    "print(a,'\\n','===================')       \n",
    "print(a.T,'\\n','===================')    \n",
    "print(a.transpose((1,0)))                 "
   ]
  },
  {
   "cell_type": "code",
   "execution_count": null,
   "id": "f75024d6",
   "metadata": {},
   "outputs": [],
   "source": [
    "# [과제] 아래 배열에서 3차원과 2차원을 변경하여 출력하세요(shape 확인)\n",
    "arr = np.arange(16).reshape(2,2,4)        #    axis 0 (3차원) = 2   >>>>   axis 1 (2차원) = 2 \n",
    "print(arr,arr.shape,'\\n')                 #    axis 1 (2차원) = 2   >>>>   axis 0 (3차원) = 2\n",
    "arr2 = arr.transpose((1,0,2))             #    axis 2 (1차원) = 4   >>>>   axis 2 (1차원) = 4\n",
    "print(arr2,arr2.shape)\n"
   ]
  },
  {
   "cell_type": "code",
   "execution_count": null,
   "id": "41315de0",
   "metadata": {},
   "outputs": [],
   "source": [
    "# [과제] 상기 과제의 arr에서 2차원과 1차원을 변경하여 출력하세요 (shape 확인)\n",
    "arr = np.arange(16).reshape(2,2,4)\n",
    "print(arr,arr.shape,'\\n')\n",
    "arr2 = arr.transpose((0,2,1))\n",
    "print(arr2,arr2.shape)"
   ]
  },
  {
   "cell_type": "code",
   "execution_count": null,
   "id": "55036cfd",
   "metadata": {},
   "outputs": [],
   "source": [
    "arr = np.arange(16).reshape(2,2,4)\n",
    "print(arr,arr.shape,'\\n')\n",
    "arr2 = arr.transpose((0,1,2))\n",
    "print(arr2,arr2.shape)"
   ]
  },
  {
   "cell_type": "code",
   "execution_count": null,
   "id": "3740eb79",
   "metadata": {},
   "outputs": [],
   "source": [
    "# 나머지를 구할 경우 사용하는 함수\n",
    "value1 = np.array([15,30,45])\n",
    "value2 = np.array([2,7,9])\n",
    "print(np.mod(value1,value2))\n",
    "print(np.remainder(value1,value2))"
   ]
  },
  {
   "cell_type": "code",
   "execution_count": null,
   "id": "d9868632",
   "metadata": {},
   "outputs": [],
   "source": [
    "# 각 수의 역수를 구해주는 함수\n",
    "value = np.array([0.85,1.85,1,100])\n",
    "print(np.reciprocal(value))\n",
    "\n",
    "value1 = np.array([100],dtype = int)\n",
    "print(value1,'\\n')\n",
    "print(np.reciprocal(value1, dtype = float))"
   ]
  },
  {
   "cell_type": "code",
   "execution_count": null,
   "id": "e823d53c",
   "metadata": {},
   "outputs": [],
   "source": [
    "# 승수의 결과 값을 표시해주는 함수\n",
    "value1 = np.array([2,10,15])\n",
    "value2 = np.array([1,2,3])\n",
    "\n",
    "print(np.power(value1,2),'\\n')\n",
    "print(np.power(value1,value2))"
   ]
  },
  {
   "cell_type": "code",
   "execution_count": null,
   "id": "aea8527b",
   "metadata": {},
   "outputs": [],
   "source": [
    "arr = np.random.randn(10)\n",
    "#print(arr.mean(),'\\n')\n",
    "#print(arr.std())\n",
    "arr"
   ]
  },
  {
   "cell_type": "code",
   "execution_count": null,
   "id": "f65f571e",
   "metadata": {},
   "outputs": [],
   "source": [
    "# 양수인 원소의 개수\n",
    "(arr>0).sum()"
   ]
  },
  {
   "cell_type": "code",
   "execution_count": null,
   "id": "325ca634",
   "metadata": {},
   "outputs": [],
   "source": [
    "# True가 있는지 검사\n",
    "bools = np.array([False,False,True,True])\n",
    "bools.any()"
   ]
  },
  {
   "cell_type": "code",
   "execution_count": null,
   "id": "8a14cdad",
   "metadata": {},
   "outputs": [],
   "source": [
    "# 모든 원소가 True인지 검사\n",
    "bools.all()"
   ]
  },
  {
   "cell_type": "code",
   "execution_count": null,
   "id": "30db7388",
   "metadata": {},
   "outputs": [],
   "source": [
    "# 삼항식의 벡터화 버전\n",
    "arr = np.random.randn(4,4)\n",
    "print(arr,'\\n')\n",
    "print(np.where(arr > 0,2,-2))\n",
    "print(np.where(arr>0))\n",
    "print(arr[np.where(arr>0)])"
   ]
  },
  {
   "cell_type": "code",
   "execution_count": null,
   "id": "418e9c17",
   "metadata": {},
   "outputs": [],
   "source": [
    "arr = np.random.randn(4,4)\n",
    "print(arr,'\\n')\n",
    "np.where(arr > 0,2,arr)"
   ]
  },
  {
   "cell_type": "code",
   "execution_count": null,
   "id": "57652475",
   "metadata": {},
   "outputs": [],
   "source": [
    "# np.sort()\n",
    "np.random.seed(0)\n",
    "arr = np.random.randint(1,100,size = 10)\n",
    "print(arr,'\\n')\n",
    "print(np.sort(arr),'\\n')\n",
    "print(arr)"
   ]
  },
  {
   "cell_type": "code",
   "execution_count": null,
   "id": "8e562090",
   "metadata": {},
   "outputs": [],
   "source": [
    "sorted = np.sort(arr)\n",
    "print(sorted)"
   ]
  },
  {
   "cell_type": "code",
   "execution_count": null,
   "id": "b86b847a",
   "metadata": {},
   "outputs": [],
   "source": [
    "# 행렬이 2차원 이상일 때 axis 축 값설정을 통해 행,열 방향으로 정렬 수행\n",
    "arr2d = np.array([[8,12],[7,1]])\n",
    "print(arr2d,'\\n')\n",
    "sort_ar2d_axis0 = np.sort(arr2d, axis = 0)\n",
    "print(sort_ar2d_axis0,'\\n')\n",
    "sort_ar2d_axis1 = np.sort(arr2d, axis = 1)\n",
    "print(sort_ar2d_axis1,'\\n')"
   ]
  },
  {
   "cell_type": "code",
   "execution_count": null,
   "id": "798cd94c",
   "metadata": {},
   "outputs": [],
   "source": [
    "# ndarray.sort() : 원본 반영\n",
    "#arr = np.random.randn(6)\n",
    "np.random.seed(0)\n",
    "arr = np.random.randint(1,10,size = 10)\n",
    "print(arr,'\\n')\n",
    "arr.sort()     # 원본 반영\n",
    "arr\n",
    "#print(arr)"
   ]
  },
  {
   "cell_type": "code",
   "execution_count": null,
   "id": "f5b284a6",
   "metadata": {},
   "outputs": [],
   "source": [
    "# 다차원 배열의 정렬은 sort 매소드에 넘긴 축에 따라 1차원 부분을 정렬\n",
    "np.random.seed(0)\n",
    "arr = np.random.randint(1,10,size=(5,3))\n",
    "print(arr,'\\n')\n",
    "arr.sort()     # 원본 반영\n",
    "print(arr)"
   ]
  },
  {
   "cell_type": "code",
   "execution_count": null,
   "id": "0fa8eb17",
   "metadata": {},
   "outputs": [],
   "source": [
    "# 열방향 정렬 (default)\n",
    "np.random.seed(0)\n",
    "arr = np.random.randint(1,10,size=(5,3))\n",
    "print(arr,'\\n')\n",
    "arr.sort(1)\n",
    "print(arr)"
   ]
  },
  {
   "cell_type": "code",
   "execution_count": null,
   "id": "dccf4deb",
   "metadata": {},
   "outputs": [],
   "source": [
    "# 행방향 정렬\n",
    "np.random.seed(0)\n",
    "arr = np.random.randint(1,10,size=(5,3))\n",
    "print(arr,'\\n')\n",
    "arr.sort(0)\n",
    "print(arr)"
   ]
  },
  {
   "cell_type": "code",
   "execution_count": null,
   "id": "9940eb2a",
   "metadata": {},
   "outputs": [],
   "source": [
    "# 정렬된 행렬의 인덱스 반환 : 기존 원본 행렬의 원소에 대한 인덱스를 필요로 할 때\n",
    "org_array = np.array([3,1,9,5])\n",
    "sort_indices = np.argsort(org_array)\n",
    "print(org_array)\n",
    "print(type(sort_indices))\n",
    "print(sort_indices)"
   ]
  },
  {
   "cell_type": "code",
   "execution_count": null,
   "id": "153ddd8a",
   "metadata": {},
   "outputs": [],
   "source": [
    "# 배열에서 정렬한 후 5% 분위수에 해당하는 원소와 그 안쪽인 원소 출력\n",
    "np.random.seed(0)\n",
    "large_arr = np.random.randn(1000)\n",
    "large_arr.sort()\n",
    "print(large_arr[int(0.05*len(large_arr))])\n",
    "print(large_arr[large_arr<=large_arr[int(0.05*len(large_arr))]])"
   ]
  },
  {
   "cell_type": "code",
   "execution_count": null,
   "id": "c3cc7444",
   "metadata": {},
   "outputs": [],
   "source": [
    "#배열 집합 연산\n",
    "names = np.array(['Bob','Joe','Will','Joe','Joe'])\n",
    "np.unique(names)"
   ]
  },
  {
   "cell_type": "code",
   "execution_count": null,
   "id": "ad6a66a2",
   "metadata": {},
   "outputs": [],
   "source": [
    "names = np.array(['Bob','Joe','Will','Joe','Joe'])\n",
    "sorted(set(names))"
   ]
  },
  {
   "cell_type": "code",
   "execution_count": null,
   "id": "487683a3",
   "metadata": {},
   "outputs": [],
   "source": [
    "# 첫 번째 배열의 원소가 두 번째 배열의 원소를 포함하는지 알려주는 불리안 배열을 반환\n",
    "values = np.array([6,0,0,3,2,5,6])\n",
    "np.in1d(values, [2,3,6])"
   ]
  },
  {
   "cell_type": "code",
   "execution_count": null,
   "id": "59602e96",
   "metadata": {},
   "outputs": [],
   "source": [
    "# 배열 데이터의 입출력\n",
    "# np.save, np.load는 바이너리 형식 .npy 파일로 저장\n",
    "\n",
    "arr = np.arange(10)\n",
    "np.save('some_array',arr)\n"
   ]
  },
  {
   "cell_type": "code",
   "execution_count": null,
   "id": "1c5f8496",
   "metadata": {},
   "outputs": [],
   "source": [
    "np.load('some_array.npy')"
   ]
  },
  {
   "cell_type": "code",
   "execution_count": null,
   "id": "652b070e",
   "metadata": {},
   "outputs": [],
   "source": [
    "# np.savez : 여러개의 배열을 압축된 형식으로 저장\n",
    "np.savez('array_archive.npz',a=arr,b=arr)"
   ]
  },
  {
   "cell_type": "code",
   "execution_count": null,
   "id": "55e5559a",
   "metadata": {},
   "outputs": [],
   "source": [
    "arch = np.load('array_archive.npz')\n",
    "arch['a']"
   ]
  },
  {
   "cell_type": "code",
   "execution_count": null,
   "id": "17b2db69",
   "metadata": {},
   "outputs": [],
   "source": [
    "# Q. 인덱싱을 사용하여 [1 0 1 0 1 0 1 0 1 0] 을 출력하세요.\n",
    "a = np.ones(10,dtype=int)\n",
    "for i in range(len(a)):\n",
    "    if i % 2 == 1:\n",
    "        a[i] = 0\n",
    "print(a)\n",
    "\n",
    "\n",
    "b = np.ones(10,dtype=int)\n",
    "b_1 = np.array([0,1,0,1,0,1,0,1,0,1])\n",
    "b[(np.nonzero(b_1))]=0\n",
    "print(b)"
   ]
  },
  {
   "cell_type": "code",
   "execution_count": null,
   "id": "7efadca2",
   "metadata": {},
   "outputs": [],
   "source": [
    "# Q, a = np.arange(10)에서 [6,7,8,9] 출력\n",
    "a = np.arange(10)\n",
    "print(a[6:10])\n",
    "print(a[a>5])"
   ]
  },
  {
   "cell_type": "code",
   "execution_count": null,
   "id": "8407472a",
   "metadata": {},
   "outputs": [],
   "source": [
    "# Q. a에서 최대값, 최소값의 인덱스 출력\n",
    "a = np.arange(1,10)\n",
    "print(a)\n",
    "print(np.argmin(a))\n",
    "print(np.argmax(a))"
   ]
  },
  {
   "cell_type": "code",
   "execution_count": null,
   "id": "cf0bcc68",
   "metadata": {},
   "outputs": [],
   "source": [
    "# Q. a에서 인덱스 배열을 역순으로 출력\n",
    "np.argsort(a)[::-1]"
   ]
  },
  {
   "cell_type": "code",
   "execution_count": null,
   "id": "2fc637f3",
   "metadata": {},
   "outputs": [],
   "source": [
    "# Q. np.ones((10,10))을 아래와 같이 출력\n",
    "# array([[1., 1., 1., 1., 1., 1., 1., 1., 1., 1.],\n",
    "#        [1., 0., 0., 0., 0., 0., 0., 0., 0., 1.],\n",
    "#        [1., 0., 0., 0., 0., 0., 0., 0., 0., 1.],\n",
    "#        [1., 0., 0., 0., 0., 0., 0., 0., 0., 1.],\n",
    "#        [1., 0., 0., 0., 0., 0., 0., 0., 0., 1.],\n",
    "#        [1., 0., 0., 0., 0., 0., 0., 0., 0., 1.],\n",
    "#        [1., 0., 0., 0., 0., 0., 0., 0., 0., 1.],\n",
    "#        [1., 0., 0., 0., 0., 0., 0., 0., 0., 1.],\n",
    "#        [1., 0., 0., 0., 0., 0., 0., 0., 0., 1.],\n",
    "#        [1., 1., 1., 1., 1., 1., 1., 1., 1., 1.]])\n",
    "\n",
    "a = np.ones((10,10))\n",
    "a[1:9,1:9] = 0\n",
    "a"
   ]
  },
  {
   "cell_type": "code",
   "execution_count": 4,
   "id": "35c2c2ee",
   "metadata": {},
   "outputs": [
    {
     "name": "stdout",
     "output_type": "stream",
     "text": [
      "[[0. 0. 0. 0. 0. 0. 0. 0. 0.]\n",
      " [0. 0. 0. 0. 0. 0. 0. 0. 0.]\n",
      " [0. 0. 1. 1. 1. 1. 1. 0. 0.]\n",
      " [0. 0. 1. 1. 1. 1. 1. 0. 0.]\n",
      " [0. 0. 1. 1. 1. 1. 1. 0. 0.]\n",
      " [0. 0. 1. 1. 1. 1. 1. 0. 0.]\n",
      " [0. 0. 1. 1. 1. 1. 1. 0. 0.]\n",
      " [0. 0. 0. 0. 0. 0. 0. 0. 0.]\n",
      " [0. 0. 0. 0. 0. 0. 0. 0. 0.]]\n"
     ]
    }
   ],
   "source": [
    "# [과제] np.ones((5,5))을 아래와 같이 출력하세요.\n",
    "# array([[0., 0., 0., 0., 0., 0., 0., 0., 0.],\n",
    "#        [0., 0., 0., 0., 0., 0., 0., 0., 0.],\n",
    "#        [0., 0., 1., 1., 1., 1., 1., 0., 0.],\n",
    "#        [0., 0., 1., 1., 1., 1., 1., 0., 0.],\n",
    "#        [0., 0., 1., 1., 1., 1., 1., 0., 0.],\n",
    "#        [0., 0., 1., 1., 1., 1., 1., 0., 0.],\n",
    "#        [0., 0., 1., 1., 1., 1., 1., 0., 0.],\n",
    "#        [0., 0., 0., 0., 0., 0., 0., 0., 0.],\n",
    "#        [0., 0., 0., 0., 0., 0., 0., 0., 0.]])\n",
    "a = np.zeros((9,9))\n",
    "a[2:7,2:7] = np.ones((5,5))\n",
    "print(a)"
   ]
  },
  {
   "cell_type": "code",
   "execution_count": 6,
   "id": "fb77af6c",
   "metadata": {},
   "outputs": [
    {
     "name": "stdout",
     "output_type": "stream",
     "text": [
      "[[0. 1. 0. 1. 0. 1. 0. 1.]\n",
      " [1. 0. 1. 0. 1. 0. 1. 0.]\n",
      " [0. 1. 0. 1. 0. 1. 0. 1.]\n",
      " [1. 0. 1. 0. 1. 0. 1. 0.]\n",
      " [0. 1. 0. 1. 0. 1. 0. 1.]\n",
      " [1. 0. 1. 0. 1. 0. 1. 0.]\n",
      " [0. 1. 0. 1. 0. 1. 0. 1.]\n",
      " [1. 0. 1. 0. 1. 0. 1. 0.]]\n"
     ]
    }
   ],
   "source": [
    "# [과제] np.zeros((8,8))을 이용해서 아래와 같이출력하세요.(두가지 방식: 인덱싱, tile함수)\n",
    "# array([[0, 1, 0, 1, 0, 1, 0, 1],\n",
    "#        [1, 0, 1, 0, 1, 0, 1, 0],\n",
    "#        [0, 1, 0, 1, 0, 1, 0, 1],\n",
    "#        [1, 0, 1, 0, 1, 0, 1, 0],\n",
    "#        [0, 1, 0, 1, 0, 1, 0, 1],\n",
    "#        [1, 0, 1, 0, 1, 0, 1, 0],\n",
    "#        [0, 1, 0, 1, 0, 1, 0, 1],\n",
    "#        [1, 0, 1, 0, 1, 0, 1, 0]])\n",
    "a = np.zeros((8,8))\n",
    "for i in range(8):\n",
    "    if i % 2 == 0:\n",
    "        for j in range(8):\n",
    "            if j % 2 == 1:\n",
    "                a[i,j] = 1\n",
    "    else:\n",
    "        for j in range(8):\n",
    "            if j % 2 == 0:\n",
    "                a[i,j] = 1\n",
    "print(a)\n",
    "\n"
   ]
  },
  {
   "cell_type": "code",
   "execution_count": 11,
   "id": "e578349d",
   "metadata": {},
   "outputs": [
    {
     "name": "stdout",
     "output_type": "stream",
     "text": [
      "[[0 1 0 1 0 1 0 1]\n",
      " [1 0 1 0 1 0 1 0]\n",
      " [0 1 0 1 0 1 0 1]\n",
      " [1 0 1 0 1 0 1 0]\n",
      " [0 1 0 1 0 1 0 1]\n",
      " [1 0 1 0 1 0 1 0]\n",
      " [0 1 0 1 0 1 0 1]\n",
      " [1 0 1 0 1 0 1 0]]\n"
     ]
    },
    {
     "data": {
      "text/plain": [
       "array([[0., 1., 0., 1., 0., 1., 0., 1.],\n",
       "       [1., 0., 1., 0., 1., 0., 1., 0.],\n",
       "       [0., 1., 0., 1., 0., 1., 0., 1.],\n",
       "       [1., 0., 1., 0., 1., 0., 1., 0.],\n",
       "       [0., 1., 0., 1., 0., 1., 0., 1.],\n",
       "       [1., 0., 1., 0., 1., 0., 1., 0.],\n",
       "       [0., 1., 0., 1., 0., 1., 0., 1.],\n",
       "       [1., 0., 1., 0., 1., 0., 1., 0.]])"
      ]
     },
     "execution_count": 11,
     "metadata": {},
     "output_type": "execute_result"
    }
   ],
   "source": [
    "a = np.array([[0,1],[1,0]])\n",
    "b = np.tile(a,(4,4))\n",
    "print(b)\n",
    "x = np.zeros((8,8))\n",
    "x[::2,1::2] = 1\n",
    "x[1::2,::2] = 1\n",
    "x\n"
   ]
  },
  {
   "cell_type": "code",
   "execution_count": 9,
   "id": "9ed3fc7a",
   "metadata": {},
   "outputs": [
    {
     "data": {
      "text/plain": [
       "array([[0, 1, 0, 1, 0, 1, 0, 1],\n",
       "       [1, 0, 1, 0, 1, 0, 1, 0],\n",
       "       [0, 1, 0, 1, 0, 1, 0, 1],\n",
       "       [1, 0, 1, 0, 1, 0, 1, 0],\n",
       "       [0, 1, 0, 1, 0, 1, 0, 1],\n",
       "       [1, 0, 1, 0, 1, 0, 1, 0],\n",
       "       [0, 1, 0, 1, 0, 1, 0, 1],\n",
       "       [1, 0, 1, 0, 1, 0, 1, 0]])"
      ]
     },
     "execution_count": 9,
     "metadata": {},
     "output_type": "execute_result"
    }
   ],
   "source": [
    "arr = np.zeros((8,8)).astype(int)\n",
    "arr[1::2,::2] = 1\n",
    "arr[::2,1::2] = 1\n",
    "arr\n"
   ]
  },
  {
   "cell_type": "code",
   "execution_count": 10,
   "id": "141cc414",
   "metadata": {},
   "outputs": [
    {
     "name": "stdout",
     "output_type": "stream",
     "text": [
      "1번째 요소의 인덱스는 (0, 0, 0)이고, 값은 0입니다.\n",
      "\n",
      "========================================================================================\n",
      "\n",
      "100번째 요소의 인덱스: (array([1], dtype=int64), array([5], dtype=int64), array([3], dtype=int64)),\n",
      "100번째 요소의 값: [99]\n"
     ]
    }
   ],
   "source": [
    "# [도전과제] np.arange(336), reshape(6,7,8)에서 100번째 요소의 인덱스를 구하세요.\n",
    "# 사용자 정의 함수 이용\n",
    "def search_index336(a,b,c):\n",
    "    arr = np.arange(336).reshape(a,b,c)\n",
    "    while 1:\n",
    "        try:\n",
    "            d = int(input('몇 번째 요소의 인덱스를 출력할까요?(1에서 336까지 입력): '))\n",
    "            if d <= 0:\n",
    "                raise NotImplementedError\n",
    "        except:\n",
    "            print('1 ~ 337 사이 정수만 입력하세요.')\n",
    "        else:\n",
    "            for i in range(1,7):\n",
    "                if d <= i*b*c:\n",
    "                    p = i-1,((d-1) - ((i-1) * b * c)) // c,((d-1) - ((i-1) * b * c)) % c\n",
    "                    return print(f'{d}번째 요소의 인덱스는 {p}이고, 값은 {arr[p]}입니다.')\n",
    "                    break\n",
    "\n",
    "search_index336(6,7,8)\n",
    "print('\\n========================================================================================')\n",
    "# 함수 이용\n",
    "arr = np.arange(336).reshape(6,7,8)\n",
    "a = np.in1d(arr, [99]).reshape(6,7,8)\n",
    "print(f\"\"\"\n",
    "100번째 요소의 인덱스: {np.where(a==True)},\n",
    "100번째 요소의 값: {arr[np.where(a==True)]}\"\"\")"
   ]
  },
  {
   "cell_type": "code",
   "execution_count": null,
   "id": "c52ac25e",
   "metadata": {},
   "outputs": [],
   "source": [
    "a = np.arange(336).reshape(6,7,8)\n",
    "print(a)"
   ]
  },
  {
   "cell_type": "code",
   "execution_count": null,
   "id": "8165bf64",
   "metadata": {},
   "outputs": [],
   "source": [
    "# [도전과제] np.arange(4)를 이용해서 아래와 같이 출력하세요.\n",
    "# array([[0, 0, 0, 0, 0],\n",
    "#        [1, 0, 0, 0, 0],\n",
    "#        [0, 2, 0, 0, 0],\n",
    "#        [0, 0, 3, 0, 0],\n",
    "#        [0, 0, 0, 4, 0]])\n",
    "ar = np.zeros((5,5))\n",
    "np.diag(np.arange(4)+1, k=-1)"
   ]
  },
  {
   "cell_type": "code",
   "execution_count": null,
   "id": "45ca5d2f",
   "metadata": {},
   "outputs": [],
   "source": [
    "np.diag(np.diag(np.arange(4)+1, k=-1), k=-1)"
   ]
  },
  {
   "cell_type": "code",
   "execution_count": 13,
   "id": "21b2bcdf",
   "metadata": {},
   "outputs": [
    {
     "name": "stdout",
     "output_type": "stream",
     "text": [
      "0.7749205532746385 \n",
      "\n",
      "9 \n",
      "\n",
      "15.617680017906547 \n",
      "\n",
      "0 \n",
      "\n",
      "5 \n",
      "\n",
      "[4, 3, 2] \n",
      "\n",
      "[4, 1, 5, 3, 2]\n"
     ]
    }
   ],
   "source": [
    "import random\n",
    "print(random.random(),'\\n') # 0.0 <= x < 1.0 사이\n",
    "print(random.randint(1,10),'\\n') # 1에서 10사이의 점수중에서 난수 값 리턴\n",
    "print(random.uniform(10,20),'\\n') # min,max 사이 float를 리턴\n",
    "print(random.randrange(10),'\\n') # 지정 범위 int 리턴\n",
    "print(random.choice([1,2,3,4,5,]),'\\n') #리스트 내부에 있는 요소를 랜덤하게 선택\n",
    "li = [1,2,3,4,5]\n",
    "print(random.sample(li,3),'\\n') # 리스트 요소를 중복이 안되게 지정된 개수만큼 리턴\n",
    "random.shuffle(li)\n",
    "print(li)"
   ]
  },
  {
   "cell_type": "markdown",
   "id": "28d2e46d",
   "metadata": {},
   "source": [
    "[numpy random 함수]\n",
    "- np.random.seed : seed를 통한 난수 생성\n",
    "- np.random.randint : 균일분포의 정수 난수 1개 생성\n",
    "- np.random.rand : 0부터 1사이의 균일분포에서 난수 매트릭스 배열 생성\n",
    "- np.random.randn : 가우시안 표준 정규분포에서 난수 매트릭스 배열 생성\n",
    "- np.random.shuffle : 기존 데이터의 순서 바꾸기\n",
    "- np.random.choice : 기존 데이터에서 sampling\n"
   ]
  },
  {
   "cell_type": "code",
   "execution_count": 29,
   "id": "b68bbc2d",
   "metadata": {},
   "outputs": [
    {
     "name": "stdout",
     "output_type": "stream",
     "text": [
      "1 \n",
      "\n",
      "4 \n",
      "\n",
      "[4 6 9 8 4 3 3 3 6 7] \n",
      "\n",
      "[14 19 17 19 17 14 12 11 19 17] \n",
      "\n",
      "[[15 15 12 13 13]\n",
      " [17 11 15 17 10]\n",
      " [15 14 12 18 19]] \n",
      "\n"
     ]
    }
   ],
   "source": [
    "print(np.random.randint(6),'\\n') # 0~5까지 정수인 난수 1개\n",
    "print(np.random.randint(1,20),'\\n') # 1~19까지 정수인 난수 1개\n",
    "print(np.random.randint(10, size = 10),'\\n') # 0~9까지 정수인 난수 10개\n",
    "print(np.random.randint(10,20,size = 10),'\\n') # 10~19까지 정수인 난수 10개\n",
    "print(np.random.randint(10,20,size = (3,5)),'\\n') # 10~19까지 정수인 난수로 3행 5열 배열 생성"
   ]
  },
  {
   "cell_type": "code",
   "execution_count": null,
   "id": "5a3f32c0",
   "metadata": {},
   "outputs": [],
   "source": [
    "r = np.random.rand(6) # 0~1사이의 균일분포\n",
    "print(r,'\\n')\n",
    "r.mean()"
   ]
  },
  {
   "cell_type": "code",
   "execution_count": null,
   "id": "0a3d0a4e",
   "metadata": {},
   "outputs": [],
   "source": [
    "# 표준 정규분포\n",
    "r = np.random.randn(6)\n",
    "r.mean()"
   ]
  },
  {
   "cell_type": "code",
   "execution_count": 24,
   "id": "eb2fc7ac",
   "metadata": {},
   "outputs": [
    {
     "name": "stdout",
     "output_type": "stream",
     "text": [
      "[1 2 3 4 5] \n",
      "\n"
     ]
    },
    {
     "data": {
      "text/plain": [
       "array([1, 2, 4, 3, 5])"
      ]
     },
     "execution_count": 24,
     "metadata": {},
     "output_type": "execute_result"
    }
   ],
   "source": [
    "li = np.arange(1,6)\n",
    "print(li,'\\n')\n",
    "np.random.shuffle(li)\n",
    "li"
   ]
  },
  {
   "cell_type": "code",
   "execution_count": 11,
   "id": "146ca3db",
   "metadata": {},
   "outputs": [
    {
     "data": {
      "text/plain": [
       "4"
      ]
     },
     "execution_count": 11,
     "metadata": {},
     "output_type": "execute_result"
    }
   ],
   "source": [
    "np.random.choice(li)"
   ]
  },
  {
   "cell_type": "code",
   "execution_count": null,
   "id": "2ee8dd02",
   "metadata": {},
   "outputs": [],
   "source": [
    "a = np.array([11,11,3,3,2,2,2,7])\n",
    "index,count = np.unique(a,return_counts = True)\n",
    "print(index)\n",
    "print(count)\n",
    "print(np.unique(a,return_counts = True))"
   ]
  },
  {
   "cell_type": "code",
   "execution_count": null,
   "id": "0e60f80d",
   "metadata": {},
   "outputs": [],
   "source": [
    "np.random.uniform(1.0,2.0,10)\n"
   ]
  },
  {
   "cell_type": "code",
   "execution_count": null,
   "id": "c215485d",
   "metadata": {},
   "outputs": [],
   "source": [
    "print(np.random.uniform(0,1,(2,3)))"
   ]
  },
  {
   "cell_type": "code",
   "execution_count": null,
   "id": "5fc0d468",
   "metadata": {},
   "outputs": [],
   "source": [
    "# 0 ~ 1 사이의 난수 실수값으로 행렬 생성\n",
    "# uniform 함수의 최소값, 최대값을 각각 0,1로 지정한 것과 같음\n",
    "np.random.random_sample((2,3))"
   ]
  },
  {
   "cell_type": "code",
   "execution_count": 6,
   "id": "cef6c25e",
   "metadata": {},
   "outputs": [
    {
     "data": {
      "text/plain": [
       "array([[0.17020172, 0.77265495, 0.04834614, 0.92302802, 0.97213558,\n",
       "        0.14649878, 0.96805823, 0.3578415 ],\n",
       "       [0.60369954, 0.74042279, 0.09458295, 0.17963775, 0.37752734,\n",
       "        0.00847059, 0.03301339, 0.09810276],\n",
       "       [0.31894335, 0.21608136, 0.84017121, 0.95157679, 0.19759198,\n",
       "        0.44625121, 0.78104333, 0.9756558 ],\n",
       "       [0.86094578, 0.60339588, 0.08763898, 0.36004756, 0.96061596,\n",
       "        0.32783499, 0.63552763, 0.19706647]])"
      ]
     },
     "execution_count": 6,
     "metadata": {},
     "output_type": "execute_result"
    }
   ],
   "source": [
    "ar = np.random.rand(4,8)\n",
    "ar"
   ]
  },
  {
   "cell_type": "code",
   "execution_count": 12,
   "id": "a19b940a",
   "metadata": {},
   "outputs": [
    {
     "ename": "NameError",
     "evalue": "name 'ar' is not defined",
     "output_type": "error",
     "traceback": [
      "\u001b[1;31m---------------------------------------------------------------------------\u001b[0m",
      "\u001b[1;31mNameError\u001b[0m                                 Traceback (most recent call last)",
      "\u001b[1;32m~\\AppData\\Local\\Temp/ipykernel_6932/3115090064.py\u001b[0m in \u001b[0;36m<module>\u001b[1;34m\u001b[0m\n\u001b[0;32m      1\u001b[0m \u001b[1;31m# 배열을 데이터프레임으로 변환\u001b[0m\u001b[1;33m\u001b[0m\u001b[1;33m\u001b[0m\u001b[1;33m\u001b[0m\u001b[0m\n\u001b[0;32m      2\u001b[0m \u001b[1;32mimport\u001b[0m \u001b[0mpandas\u001b[0m \u001b[1;32mas\u001b[0m \u001b[0mpd\u001b[0m\u001b[1;33m\u001b[0m\u001b[1;33m\u001b[0m\u001b[0m\n\u001b[1;32m----> 3\u001b[1;33m \u001b[0mdf\u001b[0m \u001b[1;33m=\u001b[0m \u001b[0mpd\u001b[0m\u001b[1;33m.\u001b[0m\u001b[0mDataFrame\u001b[0m\u001b[1;33m(\u001b[0m\u001b[0mar\u001b[0m\u001b[1;33m)\u001b[0m\u001b[1;33m\u001b[0m\u001b[1;33m\u001b[0m\u001b[0m\n\u001b[0m\u001b[0;32m      4\u001b[0m \u001b[0mdf\u001b[0m\u001b[1;33m\u001b[0m\u001b[1;33m\u001b[0m\u001b[0m\n",
      "\u001b[1;31mNameError\u001b[0m: name 'ar' is not defined"
     ]
    }
   ],
   "source": [
    "# 배열을 데이터프레임으로 변환\n",
    "import pandas as pd\n",
    "df = pd.DataFrame(ar)\n",
    "df"
   ]
  },
  {
   "cell_type": "code",
   "execution_count": null,
   "id": "2d310150",
   "metadata": {},
   "outputs": [],
   "source": [
    "print(df[0])\n",
    "print()\n",
    "print(df[0][1])\n",
    "type(df[0])"
   ]
  },
  {
   "cell_type": "code",
   "execution_count": null,
   "id": "894ba352",
   "metadata": {},
   "outputs": [],
   "source": [
    "columns = ['id','gender','age','region','product','price','qty','time']\n",
    "index = [np.arange(4)]\n",
    "df = pd.DataFrame(ar,index,columns=columns)\n",
    "df"
   ]
  },
  {
   "cell_type": "code",
   "execution_count": null,
   "id": "40ef3f94",
   "metadata": {},
   "outputs": [],
   "source": [
    "# Q. id, gender, age 컬럼에 대하여 의미있는 값으로 변환하여 3개의 컬럼으로 구성된 df를 출력\n",
    "df_del = pd.DataFrame(ar,index,columns=columns)\n",
    "del df_del['region']\n",
    "del df_del['product']\n",
    "del df_del['price']\n",
    "del df_del['qty']\n",
    "del df_del['time']\n",
    "df_del['id'] = np.dot(df_del['id'],100000).round().astype('int')\n",
    "df_del['gender'][df_del['gender']>0.5] = '남'\n",
    "df_del['gender'][df_del['gender']!='남'] = '여'\n",
    "df_del['age'] = np.dot(df_del['age'],100).round().astype('int')\n",
    "df_del"
   ]
  },
  {
   "cell_type": "code",
   "execution_count": null,
   "id": "2c41f9cc",
   "metadata": {},
   "outputs": [],
   "source": [
    "# Q. id, gender, age 컬럼에 대하여 의미있는 값으로 변환하여 3개의 컬럼으로 구성된 df를 출력 (선생님풀이)\n",
    "arr = np.zeros((4,3))\n",
    "columns = ['id','gender','age']\n",
    "index = [np.arange(4)]\n",
    "df2 = pd.DataFrame(arr,index,columns = columns)\n",
    "df2.id = np.arange(4)\n",
    "df2.gender = np.random.randint(2,size=4)\n",
    "df2.age = np.arange(1,5) * 10\n",
    "df2"
   ]
  },
  {
   "cell_type": "markdown",
   "id": "e664b1ba",
   "metadata": {},
   "source": [
    "[과제] 아래 가이드에 따라서 고객 구매데이터를 생성하고 데이터프레임으로 변환하여 출력하세요(관측지 1000개)\n",
    "- id : 1 ~ 1000번 일련번호\n",
    "- gender : 0,1 정수 난수 생성\n",
    "- age : 0 ~ 80 사이 정수 난수 생성\n",
    "- region : 1 ~ 10 사이 정수 난수 생성\n",
    "- product_19 : 제품코드 11111~99999\n",
    "- product_20 : 제품코드 11111~99999\n",
    "- price_19 : 1000 ~ 500000 사이 실수 난수 생성\n",
    "- price_20 : 1000 ~ 500000 사이 실수 난수 생성\n",
    "- quantity_19 : 1 ~ 100 사이 정수 난수 생성\n",
    "- quantity_20 : 1 ~ 100 사이 정수 난수 생성\n",
    "- time_19 : 01 ~ 24 사이 정수 난수 생성\n",
    "- time_20 : 01 ~ 24 사이 정수 난수 생성\n",
    "- amount_19 : price_19 * quantity_19\n",
    "- amount_20 : price_19 * quantity_19\n",
    "- sales : 19년 대비 20년 구매금액이 증가면 1, 감소면 0"
   ]
  },
  {
   "cell_type": "code",
   "execution_count": 121,
   "id": "e05c94e3",
   "metadata": {},
   "outputs": [
    {
     "name": "stdout",
     "output_type": "stream",
     "text": [
      "['01', '02', '03', '04', '05', '06', '07', '08', '09', '10', '11', '12', '13', '14', '15', '16', '17', '18', '19', '20', '21', '22', '23', '24']\n"
     ]
    }
   ],
   "source": [
    "a = []\n",
    "for _ in range(1,25):\n",
    "    a.append(f'{_}'.zfill(2))\n",
    "np.array(a)\n",
    "print(a)"
   ]
  },
  {
   "cell_type": "code",
   "execution_count": 15,
   "id": "ce8fc915",
   "metadata": {},
   "outputs": [
    {
     "data": {
      "text/html": [
       "<div>\n",
       "<style scoped>\n",
       "    .dataframe tbody tr th:only-of-type {\n",
       "        vertical-align: middle;\n",
       "    }\n",
       "\n",
       "    .dataframe tbody tr th {\n",
       "        vertical-align: top;\n",
       "    }\n",
       "\n",
       "    .dataframe thead th {\n",
       "        text-align: right;\n",
       "    }\n",
       "</style>\n",
       "<table border=\"1\" class=\"dataframe\">\n",
       "  <thead>\n",
       "    <tr style=\"text-align: right;\">\n",
       "      <th></th>\n",
       "      <th>id</th>\n",
       "      <th>gender</th>\n",
       "      <th>age</th>\n",
       "      <th>region</th>\n",
       "      <th>product_19</th>\n",
       "      <th>product_20</th>\n",
       "      <th>price_19</th>\n",
       "      <th>price_20</th>\n",
       "      <th>quantity_19</th>\n",
       "      <th>quantity_20</th>\n",
       "      <th>time_19</th>\n",
       "      <th>time_20</th>\n",
       "      <th>amount_19</th>\n",
       "      <th>amount_20</th>\n",
       "      <th>sales</th>\n",
       "    </tr>\n",
       "  </thead>\n",
       "  <tbody>\n",
       "    <tr>\n",
       "      <th>0</th>\n",
       "      <td>332</td>\n",
       "      <td>남</td>\n",
       "      <td>14</td>\n",
       "      <td>5</td>\n",
       "      <td>MU414</td>\n",
       "      <td>BP835</td>\n",
       "      <td>368654.09</td>\n",
       "      <td>56845.01</td>\n",
       "      <td>3</td>\n",
       "      <td>80</td>\n",
       "      <td>12</td>\n",
       "      <td>05</td>\n",
       "      <td>1105962.27</td>\n",
       "      <td>4547600.66</td>\n",
       "      <td>1</td>\n",
       "    </tr>\n",
       "    <tr>\n",
       "      <th>1</th>\n",
       "      <td>251</td>\n",
       "      <td>여</td>\n",
       "      <td>79</td>\n",
       "      <td>6</td>\n",
       "      <td>IU469</td>\n",
       "      <td>NH815</td>\n",
       "      <td>471899.01</td>\n",
       "      <td>457745.37</td>\n",
       "      <td>76</td>\n",
       "      <td>5</td>\n",
       "      <td>18</td>\n",
       "      <td>19</td>\n",
       "      <td>35864324.57</td>\n",
       "      <td>2288726.83</td>\n",
       "      <td>0</td>\n",
       "    </tr>\n",
       "    <tr>\n",
       "      <th>2</th>\n",
       "      <td>454</td>\n",
       "      <td>남</td>\n",
       "      <td>65</td>\n",
       "      <td>6</td>\n",
       "      <td>JE305</td>\n",
       "      <td>QY170</td>\n",
       "      <td>154444.19</td>\n",
       "      <td>79291.48</td>\n",
       "      <td>43</td>\n",
       "      <td>69</td>\n",
       "      <td>24</td>\n",
       "      <td>20</td>\n",
       "      <td>6641100.04</td>\n",
       "      <td>5471112.25</td>\n",
       "      <td>0</td>\n",
       "    </tr>\n",
       "    <tr>\n",
       "      <th>3</th>\n",
       "      <td>803</td>\n",
       "      <td>여</td>\n",
       "      <td>66</td>\n",
       "      <td>3</td>\n",
       "      <td>WQ225</td>\n",
       "      <td>WG952</td>\n",
       "      <td>166147.80</td>\n",
       "      <td>280855.24</td>\n",
       "      <td>66</td>\n",
       "      <td>53</td>\n",
       "      <td>09</td>\n",
       "      <td>04</td>\n",
       "      <td>10965754.77</td>\n",
       "      <td>14885327.89</td>\n",
       "      <td>1</td>\n",
       "    </tr>\n",
       "    <tr>\n",
       "      <th>4</th>\n",
       "      <td>159</td>\n",
       "      <td>여</td>\n",
       "      <td>3</td>\n",
       "      <td>9</td>\n",
       "      <td>SW384</td>\n",
       "      <td>XK442</td>\n",
       "      <td>315491.07</td>\n",
       "      <td>75450.17</td>\n",
       "      <td>36</td>\n",
       "      <td>99</td>\n",
       "      <td>16</td>\n",
       "      <td>16</td>\n",
       "      <td>11357678.69</td>\n",
       "      <td>7469566.34</td>\n",
       "      <td>0</td>\n",
       "    </tr>\n",
       "    <tr>\n",
       "      <th>...</th>\n",
       "      <td>...</td>\n",
       "      <td>...</td>\n",
       "      <td>...</td>\n",
       "      <td>...</td>\n",
       "      <td>...</td>\n",
       "      <td>...</td>\n",
       "      <td>...</td>\n",
       "      <td>...</td>\n",
       "      <td>...</td>\n",
       "      <td>...</td>\n",
       "      <td>...</td>\n",
       "      <td>...</td>\n",
       "      <td>...</td>\n",
       "      <td>...</td>\n",
       "      <td>...</td>\n",
       "    </tr>\n",
       "    <tr>\n",
       "      <th>995</th>\n",
       "      <td>987</td>\n",
       "      <td>남</td>\n",
       "      <td>50</td>\n",
       "      <td>4</td>\n",
       "      <td>OJ681</td>\n",
       "      <td>ZP882</td>\n",
       "      <td>134692.36</td>\n",
       "      <td>436041.10</td>\n",
       "      <td>74</td>\n",
       "      <td>87</td>\n",
       "      <td>08</td>\n",
       "      <td>18</td>\n",
       "      <td>9967234.54</td>\n",
       "      <td>37935575.31</td>\n",
       "      <td>1</td>\n",
       "    </tr>\n",
       "    <tr>\n",
       "      <th>996</th>\n",
       "      <td>688</td>\n",
       "      <td>여</td>\n",
       "      <td>1</td>\n",
       "      <td>1</td>\n",
       "      <td>RA286</td>\n",
       "      <td>XG162</td>\n",
       "      <td>85930.31</td>\n",
       "      <td>375012.04</td>\n",
       "      <td>61</td>\n",
       "      <td>7</td>\n",
       "      <td>02</td>\n",
       "      <td>24</td>\n",
       "      <td>5241748.71</td>\n",
       "      <td>2625084.25</td>\n",
       "      <td>0</td>\n",
       "    </tr>\n",
       "    <tr>\n",
       "      <th>997</th>\n",
       "      <td>90</td>\n",
       "      <td>남</td>\n",
       "      <td>9</td>\n",
       "      <td>4</td>\n",
       "      <td>PR936</td>\n",
       "      <td>FK602</td>\n",
       "      <td>475391.56</td>\n",
       "      <td>70775.37</td>\n",
       "      <td>60</td>\n",
       "      <td>16</td>\n",
       "      <td>13</td>\n",
       "      <td>24</td>\n",
       "      <td>28523493.69</td>\n",
       "      <td>1132405.99</td>\n",
       "      <td>0</td>\n",
       "    </tr>\n",
       "    <tr>\n",
       "      <th>998</th>\n",
       "      <td>288</td>\n",
       "      <td>여</td>\n",
       "      <td>56</td>\n",
       "      <td>9</td>\n",
       "      <td>BA381</td>\n",
       "      <td>XP162</td>\n",
       "      <td>36149.39</td>\n",
       "      <td>478230.20</td>\n",
       "      <td>64</td>\n",
       "      <td>4</td>\n",
       "      <td>05</td>\n",
       "      <td>08</td>\n",
       "      <td>2313560.77</td>\n",
       "      <td>1912920.81</td>\n",
       "      <td>0</td>\n",
       "    </tr>\n",
       "    <tr>\n",
       "      <th>999</th>\n",
       "      <td>295</td>\n",
       "      <td>남</td>\n",
       "      <td>25</td>\n",
       "      <td>6</td>\n",
       "      <td>JY630</td>\n",
       "      <td>HK886</td>\n",
       "      <td>371229.43</td>\n",
       "      <td>422805.56</td>\n",
       "      <td>26</td>\n",
       "      <td>15</td>\n",
       "      <td>24</td>\n",
       "      <td>01</td>\n",
       "      <td>9651965.30</td>\n",
       "      <td>6342083.41</td>\n",
       "      <td>0</td>\n",
       "    </tr>\n",
       "  </tbody>\n",
       "</table>\n",
       "<p>1000 rows × 15 columns</p>\n",
       "</div>"
      ],
      "text/plain": [
       "      id gender  age  region product_19 product_20  price_19  price_20  \\\n",
       "0    332      남   14       5      MU414      BP835 368654.09  56845.01   \n",
       "1    251      여   79       6      IU469      NH815 471899.01 457745.37   \n",
       "2    454      남   65       6      JE305      QY170 154444.19  79291.48   \n",
       "3    803      여   66       3      WQ225      WG952 166147.80 280855.24   \n",
       "4    159      여    3       9      SW384      XK442 315491.07  75450.17   \n",
       "..   ...    ...  ...     ...        ...        ...       ...       ...   \n",
       "995  987      남   50       4      OJ681      ZP882 134692.36 436041.10   \n",
       "996  688      여    1       1      RA286      XG162  85930.31 375012.04   \n",
       "997   90      남    9       4      PR936      FK602 475391.56  70775.37   \n",
       "998  288      여   56       9      BA381      XP162  36149.39 478230.20   \n",
       "999  295      남   25       6      JY630      HK886 371229.43 422805.56   \n",
       "\n",
       "     quantity_19  quantity_20 time_19 time_20   amount_19   amount_20  sales  \n",
       "0              3           80      12      05  1105962.27  4547600.66      1  \n",
       "1             76            5      18      19 35864324.57  2288726.83      0  \n",
       "2             43           69      24      20  6641100.04  5471112.25      0  \n",
       "3             66           53      09      04 10965754.77 14885327.89      1  \n",
       "4             36           99      16      16 11357678.69  7469566.34      0  \n",
       "..           ...          ...     ...     ...         ...         ...    ...  \n",
       "995           74           87      08      18  9967234.54 37935575.31      1  \n",
       "996           61            7      02      24  5241748.71  2625084.25      0  \n",
       "997           60           16      13      24 28523493.69  1132405.99      0  \n",
       "998           64            4      05      08  2313560.77  1912920.81      0  \n",
       "999           26           15      24      01  9651965.30  6342083.41      0  \n",
       "\n",
       "[1000 rows x 15 columns]"
      ]
     },
     "execution_count": 15,
     "metadata": {},
     "output_type": "execute_result"
    }
   ],
   "source": [
    "import string\n",
    "import warnings\n",
    "warnings.filterwarnings('ignore')\n",
    "\n",
    "arr = np.zeros((1000,15))\n",
    "columns = ['id','gender','age','region','product_19','product_20','price_19','price_20','quantity_19','quantity_20','time_19','time_20','amount_19','amount_20','sales']\n",
    "index = [np.arange(1000)]\n",
    "df = pd.DataFrame(arr,index,columns = columns)\n",
    "\n",
    "id_arr = np.arange(1,1001) ; np.random.shuffle(id_arr) ; df.id = id_arr\n",
    "gender_ar = np.array(['남','여']) ; df.gender = np.array(np.random.choice(gender_ar) for _ in range(1000))\n",
    "df.age = np.random.randint(80,size = 1000)\n",
    "df.region = np.random.randint(10,size = 1000)\n",
    "def code(a):\n",
    "    li = []\n",
    "    for _ in range(a):\n",
    "        result = \"\"\n",
    "        for _ in range(2):\n",
    "            result += random.choice(string.ascii_uppercase)\n",
    "        for _ in range(3):\n",
    "            result += random.choice(string.digits)\n",
    "        li.append(result)\n",
    "    return np.array(li)\n",
    "df.product_19 = code(1000)\n",
    "df.product_20 = code(1000)\n",
    "df.price_19 = np.random.rand(1000)*499000+1000\n",
    "df.price_20 = np.random.rand(1000)*499000+1000\n",
    "df.quantity_19 = np.random.randint(1,101,size=1000)\n",
    "df.quantity_20 = np.random.randint(1,101,size=1000)\n",
    "time_ar = []\n",
    "for _ in range(1,25):                   # df.time_19 = np.random.randint(1,25,size=1000).astype(str)       # 이 방식 안돼..\n",
    "    time_ar.append(f'{_}'.zfill(2))     # df.time_19 = df.time_19.str.zfill(2)\n",
    "np.array(time_ar)\n",
    "df.time_19 = np.array(np.random.choice(time_ar) for _ in range(1000))\n",
    "df.time_20 = np.array(np.random.choice(time_ar) for _ in range(1000))\n",
    "# df.time_19 = np.random.randint(1,25,size=1000)\n",
    "# df.time_20 = np.random.randint(1,25,size=1000)\n",
    "df.amount_19 = df.price_19 * df.quantity_19\n",
    "df.amount_20 = df.price_20 * df.quantity_20\n",
    "df.sales = np.where(df.amount_19<df.amount_20,1,0)\n",
    "#pd.Series(df.sales).astype(int)\n",
    "pd.options.display.float_format = '{:.2f}'.format\n",
    "df"
   ]
  },
  {
   "cell_type": "code",
   "execution_count": 16,
   "id": "98f6e39a",
   "metadata": {},
   "outputs": [
    {
     "data": {
      "text/html": [
       "<div>\n",
       "<style scoped>\n",
       "    .dataframe tbody tr th:only-of-type {\n",
       "        vertical-align: middle;\n",
       "    }\n",
       "\n",
       "    .dataframe tbody tr th {\n",
       "        vertical-align: top;\n",
       "    }\n",
       "\n",
       "    .dataframe thead th {\n",
       "        text-align: right;\n",
       "    }\n",
       "</style>\n",
       "<table border=\"1\" class=\"dataframe\">\n",
       "  <thead>\n",
       "    <tr style=\"text-align: right;\">\n",
       "      <th></th>\n",
       "      <th>id</th>\n",
       "      <th>gender</th>\n",
       "      <th>age</th>\n",
       "      <th>product_19</th>\n",
       "      <th>product_20</th>\n",
       "      <th>price_19</th>\n",
       "      <th>price_20</th>\n",
       "      <th>quantity_19</th>\n",
       "      <th>quantity_20</th>\n",
       "      <th>time_19</th>\n",
       "      <th>time_20</th>\n",
       "      <th>amount_19</th>\n",
       "      <th>amount_20</th>\n",
       "      <th>sales</th>\n",
       "    </tr>\n",
       "  </thead>\n",
       "  <tbody>\n",
       "    <tr>\n",
       "      <th>1</th>\n",
       "      <td>1</td>\n",
       "      <td>M</td>\n",
       "      <td>40</td>\n",
       "      <td>24227</td>\n",
       "      <td>55976</td>\n",
       "      <td>42900</td>\n",
       "      <td>17000</td>\n",
       "      <td>76</td>\n",
       "      <td>79</td>\n",
       "      <td>18</td>\n",
       "      <td>20</td>\n",
       "      <td>3260400</td>\n",
       "      <td>1343000</td>\n",
       "      <td>0</td>\n",
       "    </tr>\n",
       "    <tr>\n",
       "      <th>2</th>\n",
       "      <td>2</td>\n",
       "      <td>F</td>\n",
       "      <td>29</td>\n",
       "      <td>77462</td>\n",
       "      <td>78920</td>\n",
       "      <td>27400</td>\n",
       "      <td>38500</td>\n",
       "      <td>66</td>\n",
       "      <td>45</td>\n",
       "      <td>4</td>\n",
       "      <td>19</td>\n",
       "      <td>1808400</td>\n",
       "      <td>1732500</td>\n",
       "      <td>0</td>\n",
       "    </tr>\n",
       "    <tr>\n",
       "      <th>3</th>\n",
       "      <td>3</td>\n",
       "      <td>F</td>\n",
       "      <td>25</td>\n",
       "      <td>53750</td>\n",
       "      <td>46507</td>\n",
       "      <td>25600</td>\n",
       "      <td>49500</td>\n",
       "      <td>55</td>\n",
       "      <td>36</td>\n",
       "      <td>24</td>\n",
       "      <td>18</td>\n",
       "      <td>1408000</td>\n",
       "      <td>1782000</td>\n",
       "      <td>1</td>\n",
       "    </tr>\n",
       "    <tr>\n",
       "      <th>4</th>\n",
       "      <td>4</td>\n",
       "      <td>M</td>\n",
       "      <td>19</td>\n",
       "      <td>73611</td>\n",
       "      <td>29381</td>\n",
       "      <td>28000</td>\n",
       "      <td>19100</td>\n",
       "      <td>71</td>\n",
       "      <td>15</td>\n",
       "      <td>2</td>\n",
       "      <td>17</td>\n",
       "      <td>1988000</td>\n",
       "      <td>286500</td>\n",
       "      <td>0</td>\n",
       "    </tr>\n",
       "    <tr>\n",
       "      <th>5</th>\n",
       "      <td>5</td>\n",
       "      <td>F</td>\n",
       "      <td>68</td>\n",
       "      <td>82728</td>\n",
       "      <td>84075</td>\n",
       "      <td>1300</td>\n",
       "      <td>23200</td>\n",
       "      <td>20</td>\n",
       "      <td>90</td>\n",
       "      <td>3</td>\n",
       "      <td>20</td>\n",
       "      <td>26000</td>\n",
       "      <td>2088000</td>\n",
       "      <td>1</td>\n",
       "    </tr>\n",
       "    <tr>\n",
       "      <th>...</th>\n",
       "      <td>...</td>\n",
       "      <td>...</td>\n",
       "      <td>...</td>\n",
       "      <td>...</td>\n",
       "      <td>...</td>\n",
       "      <td>...</td>\n",
       "      <td>...</td>\n",
       "      <td>...</td>\n",
       "      <td>...</td>\n",
       "      <td>...</td>\n",
       "      <td>...</td>\n",
       "      <td>...</td>\n",
       "      <td>...</td>\n",
       "      <td>...</td>\n",
       "    </tr>\n",
       "    <tr>\n",
       "      <th>996</th>\n",
       "      <td>996</td>\n",
       "      <td>M</td>\n",
       "      <td>24</td>\n",
       "      <td>73435</td>\n",
       "      <td>97517</td>\n",
       "      <td>6400</td>\n",
       "      <td>21300</td>\n",
       "      <td>7</td>\n",
       "      <td>76</td>\n",
       "      <td>20</td>\n",
       "      <td>10</td>\n",
       "      <td>44800</td>\n",
       "      <td>1618800</td>\n",
       "      <td>1</td>\n",
       "    </tr>\n",
       "    <tr>\n",
       "      <th>997</th>\n",
       "      <td>997</td>\n",
       "      <td>M</td>\n",
       "      <td>53</td>\n",
       "      <td>36781</td>\n",
       "      <td>83820</td>\n",
       "      <td>34400</td>\n",
       "      <td>21600</td>\n",
       "      <td>28</td>\n",
       "      <td>53</td>\n",
       "      <td>10</td>\n",
       "      <td>24</td>\n",
       "      <td>963200</td>\n",
       "      <td>1144800</td>\n",
       "      <td>1</td>\n",
       "    </tr>\n",
       "    <tr>\n",
       "      <th>998</th>\n",
       "      <td>998</td>\n",
       "      <td>M</td>\n",
       "      <td>24</td>\n",
       "      <td>38495</td>\n",
       "      <td>96299</td>\n",
       "      <td>12700</td>\n",
       "      <td>7700</td>\n",
       "      <td>72</td>\n",
       "      <td>35</td>\n",
       "      <td>8</td>\n",
       "      <td>7</td>\n",
       "      <td>914400</td>\n",
       "      <td>269500</td>\n",
       "      <td>0</td>\n",
       "    </tr>\n",
       "    <tr>\n",
       "      <th>999</th>\n",
       "      <td>999</td>\n",
       "      <td>F</td>\n",
       "      <td>73</td>\n",
       "      <td>56675</td>\n",
       "      <td>61737</td>\n",
       "      <td>15700</td>\n",
       "      <td>21000</td>\n",
       "      <td>54</td>\n",
       "      <td>6</td>\n",
       "      <td>1</td>\n",
       "      <td>17</td>\n",
       "      <td>847800</td>\n",
       "      <td>126000</td>\n",
       "      <td>0</td>\n",
       "    </tr>\n",
       "    <tr>\n",
       "      <th>1000</th>\n",
       "      <td>1000</td>\n",
       "      <td>M</td>\n",
       "      <td>42</td>\n",
       "      <td>88153</td>\n",
       "      <td>76382</td>\n",
       "      <td>10100</td>\n",
       "      <td>32500</td>\n",
       "      <td>56</td>\n",
       "      <td>39</td>\n",
       "      <td>13</td>\n",
       "      <td>23</td>\n",
       "      <td>565600</td>\n",
       "      <td>1267500</td>\n",
       "      <td>1</td>\n",
       "    </tr>\n",
       "  </tbody>\n",
       "</table>\n",
       "<p>1000 rows × 14 columns</p>\n",
       "</div>"
      ],
      "text/plain": [
       "        id gender  age  product_19  product_20  price_19  price_20  \\\n",
       "1        1      M   40       24227       55976     42900     17000   \n",
       "2        2      F   29       77462       78920     27400     38500   \n",
       "3        3      F   25       53750       46507     25600     49500   \n",
       "4        4      M   19       73611       29381     28000     19100   \n",
       "5        5      F   68       82728       84075      1300     23200   \n",
       "...    ...    ...  ...         ...         ...       ...       ...   \n",
       "996    996      M   24       73435       97517      6400     21300   \n",
       "997    997      M   53       36781       83820     34400     21600   \n",
       "998    998      M   24       38495       96299     12700      7700   \n",
       "999    999      F   73       56675       61737     15700     21000   \n",
       "1000  1000      M   42       88153       76382     10100     32500   \n",
       "\n",
       "      quantity_19  quantity_20  time_19  time_20  amount_19  amount_20  sales  \n",
       "1              76           79       18       20    3260400    1343000      0  \n",
       "2              66           45        4       19    1808400    1732500      0  \n",
       "3              55           36       24       18    1408000    1782000      1  \n",
       "4              71           15        2       17    1988000     286500      0  \n",
       "5              20           90        3       20      26000    2088000      1  \n",
       "...           ...          ...      ...      ...        ...        ...    ...  \n",
       "996             7           76       20       10      44800    1618800      1  \n",
       "997            28           53       10       24     963200    1144800      1  \n",
       "998            72           35        8        7     914400     269500      0  \n",
       "999            54            6        1       17     847800     126000      0  \n",
       "1000           56           39       13       23     565600    1267500      1  \n",
       "\n",
       "[1000 rows x 14 columns]"
      ]
     },
     "execution_count": 16,
     "metadata": {},
     "output_type": "execute_result"
    }
   ],
   "source": [
    "#재우씨\n",
    "import numpy as np\n",
    "import pandas as pd\n",
    "\n",
    "customer = 1000\n",
    "\n",
    "array = np.zeros((customer,14),dtype = int)\n",
    "df = pd.DataFrame(array,(np.arange(1,customer+1)),columns = ['id','gender','age','product_19','product_20','price_19','price_20','quantity_19','quantity_20','time_19','time_20','amount_19','amount_20','sales'])\n",
    "np.random.seed(0)\n",
    "df.id = np.arange(1,customer+1)\n",
    "df.gender = np.random.choice(['M','F'],customer)\n",
    "df.age = np.random.randint(1,81,size=customer)\n",
    "df.product_19 = np.random.randint(11111,100000,size = customer)\n",
    "df.product_20 = np.random.randint(11111,100000,size = customer)\n",
    "\n",
    "pricearray= np.random.randint(10,500,size = 100000)*100\n",
    "\n",
    "for i in range(1,customer+1):\n",
    "    df.price_19[i] = pricearray[df.product_19[i]]\n",
    "    df.price_20[i] = pricearray[df.product_20[i]]\n",
    "\n",
    "df.quantity_19 = np.random.randint(1,101,size = customer)\n",
    "df.quantity_20 = np.random.randint(1,101,size = customer)\n",
    "\n",
    "df.time_19 = np.random.randint(1,25,size = customer)\n",
    "df.time_20 = np.random.randint(1,25,size = customer)\n",
    "\n",
    "df.amount_19 = df.price_19*df.quantity_19\n",
    "df.amount_20 = df.price_20*df.quantity_20\n",
    "\n",
    "for i in range(1,customer+1):\n",
    "    if df.amount_20[i]>df.amount_19[i]:\n",
    "        df.sales[i] = 1\n",
    "    else:\n",
    "        df.sales[i] = 0\n",
    "\n",
    "df"
   ]
  },
  {
   "cell_type": "code",
   "execution_count": null,
   "id": "cce6645e",
   "metadata": {},
   "outputs": [],
   "source": []
  },
  {
   "cell_type": "code",
   "execution_count": null,
   "id": "2ab610c4",
   "metadata": {},
   "outputs": [],
   "source": []
  },
  {
   "cell_type": "code",
   "execution_count": null,
   "id": "6e7653b6",
   "metadata": {},
   "outputs": [],
   "source": []
  }
 ],
 "metadata": {
  "kernelspec": {
   "display_name": "Python 3 (ipykernel)",
   "language": "python",
   "name": "python3"
  },
  "language_info": {
   "codemirror_mode": {
    "name": "ipython",
    "version": 3
   },
   "file_extension": ".py",
   "mimetype": "text/x-python",
   "name": "python",
   "nbconvert_exporter": "python",
   "pygments_lexer": "ipython3",
   "version": "3.8.12"
  }
 },
 "nbformat": 4,
 "nbformat_minor": 5
}
