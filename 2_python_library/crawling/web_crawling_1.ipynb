{
 "cells": [
  {
   "cell_type": "markdown",
   "metadata": {},
   "source": [
    "#### HTML의 구조  및 태그\n",
    "- 구조\n",
    " - \\<!Doctype html> : HTML5 문서를 선언하는 구문\n",
    " - \\<html></html> : HTML 문서의 시작과 끝\n",
    " - \\<head></head> : CSS, JavaScript, meta, title 정보들을 설정\n",
    " - \\<body></body> : 실제 홈페이지 화면을 나타내는 부분\n",
    "\n",
    "- 요소 구조\n",
    " - HTML 요소는 여러 속성들을 가질 수 있으며 속성들은 해당 요소에 대한 추가 정보를 제공\n",
    " - 시작 태그\\(< >)로 시작해서 종료 태그(</>)로 끝남\n",
    " - 요소 안에 다른 요소를 작성할 수 있음  \n",
    " <img src = './dataset/html요소구조.jpg' STYLE = 'width:500px;'>"
   ]
  },
  {
   "cell_type": "markdown",
   "metadata": {},
   "source": [
    "#### HTML 태그\n",
    "- p 태그를 이용하여 문단 작성\n",
    "- h 태그를 이용하여 폰트 크기 설정\n",
    "- ul(unordered list)과 ol(ordered list) 태그로 리스트 작성, 리스트 각각의 요소는 li(항목 나열) 태그로 표시  \n",
    "- table 태그는 thead, tbody를 가질 수 있으며 표를 표현 : tr 행, th(가운데 정렬,굵은 글씨체),td 각 행의 컬럼\n",
    "- input 태그와 button 태그 : 데이터를 넣는 폼과 페이지 조작 버튼 생성\n",
    "- select # select 태그로 선택 리스트 생성\n",
    "- a 태그로 다른 페이지로 이동. 상대경로(내가 있는 경로부터의 경로), 절대경로(항상 같은 url)\n",
    "- img 태그로 이미지 포함 : src(이미지 붙임), alt(이미지 대체)\n",
    "- span 태그로 p태그 처럼 글을 추가. span 태그는 옆으로 나열. br 태그 사용하여 p 태그처럼 사용\n",
    "- div 태그는 화면 레이아웃을 잡는 역할 : 하위 태그들의 영역을 잡아줌\n"
   ]
  },
  {
   "cell_type": "markdown",
   "metadata": {},
   "source": [
    "CSS  \n",
    "CSS로 웹 사이트를 꾸며주기 위해 해당 태그에 접근하는 방식을 크롤러에서도 사용.  \n",
    "selector : CSS로 꾸미기 위해 특정 요소에 접근하는 것을 셀렉터라고 함.  \n",
    "html 파일을 만들었다면 각각의 태그에 다르게 css 를 설정 할 것입니다. 이 때, 어느 요소에 스타일을 적용할지 알려주는 방식이 바로 css 선택자 입니다.  \n",
    "태그를 이용하여 접근하면 태그는 전부 CSS 효과가 적용  \n",
    "class를 이용하면 원하는 요소만 CSS 효과 적용할 수 있고 원하는 요소만 수집할 수 있음.  \n",
    "id는 class와 다르게 id값이 고유해야 함(id는 한페이지에 하나만 존재해야 함)  \n",
    "부모 태그와 자식 태그를 나열하여 복잡한 셀렉터를 생성  \n",
    "CSS 선택자 이해  \n",
    "\n",
    "https://ssungkang.tistory.com/entry/css-css-%EC%84%A0%ED%83%9D%EC%9E%90selector-%EC%9D%98-%EC%A2%85%EB%A5%98%EC%99%80-%EC%98%88%EC%8B%9C  \n",
    "\n",
    "https://developer.mozilla.org/en-US/docs/Web/CSS/CSS_Selectors  \n",
    "\n",
    "https://www.nextree.co.kr/p8468/"
   ]
  },
  {
   "cell_type": "markdown",
   "metadata": {},
   "source": [
    "#### JavaScript\n",
    "- 웹 사이트의 기능을 넣어줌. script 태그를 이용하여 작성. head or body 하단에 위치\n",
    "- js를 이용하여 HTML 코드를 생성. 크롤러로 분석하기 가장 어려운 부분임\n",
    "- DOM(Document Object Model)이란 HTML을 시각적으로 쉽게 표현하기 위해 만든 객체로 크롤러 만들 때 중요\n",
    "- 데이터를 수집하기 위해 DOM을 이용해 데이터에 접근한 후 해당 데이터 수집\n",
    "- 웹 브라우저는 HTML 코드를 가져온 후 JavaScript를 실행시킨 결과를 보여줌\n",
    "- 소스 보기 페이지에 수집하고자 하는 요소가 없다면 네트워크 탭을 이용, 서버에서 데이터를 받아오는 지 확인\n",
    "- 그렇지 않은 경우 셀레니움을 사용하여 해결\n",
    "\n",
    "http://www.tcpschool.com/javascript/js_dom_document"
   ]
  },
  {
   "cell_type": "markdown",
   "metadata": {},
   "source": [
    "파이썬을 활용한 데이터 가공\n",
    "\n",
    "- 문자열 자료형(인덱싱) : 시퀀스 자료형으로 인덱스가 있고 인덱스 값으로 접근이 가능함\n",
    "- 파이썬에서 문자열을 쉽게 다룰 수 있도록 제공하는 내장함수\n",
    "    - find: 해당 문자가 없으면 -1 반환\n",
    "    - index: 해당 문자가 없으면 에러\n",
    "    - strip: 데이터 가공 초기 단계에 불필요한 공백을 지울 때 사용\n",
    "    - replace: 특정 문자를 원하는 내용으로 변경\n",
    "- 정규표현식\n",
    "    - 특정한 규칙을 가진 문자열을 표현하기 위해 사용하는 형식\n",
    "    - 주로 문자열의 검색 및 치환에 활용\n",
    "    - re 모듈을 제공\n",
    "    - 규칙을 정의하기 위해 메타 문자를 활용"
   ]
  },
  {
   "cell_type": "code",
   "execution_count": 2,
   "metadata": {},
   "outputs": [],
   "source": [
    "import re\n",
    "import requests\n",
    "import urllib.request as req\n",
    "from bs4 import BeautifulSoup"
   ]
  },
  {
   "cell_type": "code",
   "execution_count": 2,
   "metadata": {},
   "outputs": [
    {
     "name": "stdout",
     "output_type": "stream",
     "text": [
      "k\n",
      "기\n",
      "Abc\n",
      "ABC\n",
      "K-digital training 5기\n"
     ]
    }
   ],
   "source": [
    "# 인덱싱\n",
    "text = 'k-digital training 5기'\n",
    "text1 = 'abc'\n",
    "print(text[0])\n",
    "print(text[-1])\n",
    "print(text1.capitalize())\n",
    "print(text1.upper())\n",
    "print(text.capitalize())"
   ]
  },
  {
   "cell_type": "code",
   "execution_count": 6,
   "metadata": {},
   "outputs": [],
   "source": [
    "text1 = \"   <k-digital training 5기>    \"\n",
    "text2 = ';'"
   ]
  },
  {
   "cell_type": "code",
   "execution_count": 7,
   "metadata": {},
   "outputs": [
    {
     "data": {
      "text/plain": [
       "'K-Digital Training 5기'"
      ]
     },
     "execution_count": 7,
     "metadata": {},
     "output_type": "execute_result"
    }
   ],
   "source": [
    "# [과제] K-Digital Training 5기 출력\n",
    "string = text1.split('<')[1].split('>')[0]\n",
    "string.title()"
   ]
  },
  {
   "cell_type": "code",
   "execution_count": 5,
   "metadata": {},
   "outputs": [
    {
     "data": {
      "text/plain": [
       "'<k-digital training 5기>;'"
      ]
     },
     "execution_count": 5,
     "metadata": {},
     "output_type": "execute_result"
    }
   ],
   "source": [
    "# Q. <k-digital training 5기>; 를 출력\n",
    "text1.strip() + text2"
   ]
  },
  {
   "cell_type": "code",
   "execution_count": 6,
   "metadata": {},
   "outputs": [
    {
     "data": {
      "text/plain": [
       "'<k-digital training 5기>    ;'"
      ]
     },
     "execution_count": 6,
     "metadata": {},
     "output_type": "execute_result"
    }
   ],
   "source": [
    "# Q. <k-digital training 5기>   ; 를출력\n",
    "text1.lstrip() + text2"
   ]
  },
  {
   "cell_type": "code",
   "execution_count": 7,
   "metadata": {},
   "outputs": [
    {
     "data": {
      "text/plain": [
       "'   <k-digital training 5기>;'"
      ]
     },
     "execution_count": 7,
     "metadata": {},
     "output_type": "execute_result"
    }
   ],
   "source": [
    "# Q.    <k-digital training 5기>; 를 출력\n",
    "text1.rstrip() + text2"
   ]
  },
  {
   "cell_type": "code",
   "execution_count": 15,
   "metadata": {},
   "outputs": [
    {
     "data": {
      "text/plain": [
       "'<div>k-digital training 5기</title>'"
      ]
     },
     "execution_count": 15,
     "metadata": {},
     "output_type": "execute_result"
    }
   ],
   "source": [
    "# Q. text로 아래와 같이 출력\n",
    "# <div>k-digital training 5기</title>\n",
    "text = \"<title>k-digital training 5기</title>\"\n",
    "text.replace('<title','<div',1)"
   ]
  },
  {
   "cell_type": "code",
   "execution_count": 8,
   "metadata": {},
   "outputs": [
    {
     "data": {
      "text/plain": [
       "'<div>k-digital training 5기</div>'"
      ]
     },
     "execution_count": 8,
     "metadata": {},
     "output_type": "execute_result"
    }
   ],
   "source": [
    "# Q. text로 아래와 같이 출력\n",
    "# <div>k-digital training 5기</div>\n",
    "text = \"<title>k-digital training 5기</title>\"\n",
    "text.replace('title','div')"
   ]
  },
  {
   "cell_type": "code",
   "execution_count": 1,
   "metadata": {},
   "outputs": [
    {
     "data": {
      "text/plain": [
       "'<head>안녕하세요</head>'"
      ]
     },
     "execution_count": 1,
     "metadata": {},
     "output_type": "execute_result"
    }
   ],
   "source": [
    "import re\n",
    "text = ('111<head>안녕하세요</head>22')\n",
    "a = re.search('<head>.+</head>',text)\n",
    "a.group()"
   ]
  },
  {
   "cell_type": "code",
   "execution_count": 3,
   "metadata": {},
   "outputs": [
    {
     "data": {
      "text/plain": [
       "'<head>안녕하세요</head>'"
      ]
     },
     "execution_count": 3,
     "metadata": {},
     "output_type": "execute_result"
    }
   ],
   "source": [
    "body = re.search(r'\\D+',text)\n",
    "body.group()"
   ]
  },
  {
   "cell_type": "code",
   "execution_count": 2,
   "metadata": {},
   "outputs": [
    {
     "data": {
      "text/plain": [
       "'안녕하세요'"
      ]
     },
     "execution_count": 2,
     "metadata": {},
     "output_type": "execute_result"
    }
   ],
   "source": [
    "import re\n",
    "text = ('111<head>안녕하세요</head>22')\n",
    "a = re.search('[가-힣]+',text)\n",
    "a.group()"
   ]
  },
  {
   "cell_type": "code",
   "execution_count": 4,
   "metadata": {},
   "outputs": [],
   "source": [
    "text = '<head>안녕하세요...<title>k-digital training 5기</title> 반갑습니다...</head>'"
   ]
  },
  {
   "cell_type": "code",
   "execution_count": 7,
   "metadata": {},
   "outputs": [
    {
     "data": {
      "text/plain": [
       "'<title>k-digital training 5기</title>'"
      ]
     },
     "execution_count": 7,
     "metadata": {},
     "output_type": "execute_result"
    }
   ],
   "source": [
    "# <title>k-digital training 5기</title> 출력\n",
    "a = re.search('<title>.+</title>',text)\n",
    "a.group()"
   ]
  },
  {
   "cell_type": "code",
   "execution_count": 12,
   "metadata": {},
   "outputs": [
    {
     "data": {
      "text/plain": [
       "'k-digital training 5기'"
      ]
     },
     "execution_count": 12,
     "metadata": {},
     "output_type": "execute_result"
    }
   ],
   "source": [
    "# k-digital training 5기 출력\n",
    "b = re.search('<title>(.+)</title>',text)\n",
    "b.group(1)"
   ]
  },
  {
   "cell_type": "code",
   "execution_count": 13,
   "metadata": {},
   "outputs": [
    {
     "data": {
      "text/plain": [
       "'k-digital training 5기'"
      ]
     },
     "execution_count": 13,
     "metadata": {},
     "output_type": "execute_result"
    }
   ],
   "source": [
    "# k-digital training 5기 출력\n",
    "t = b.group()\n",
    "t = re.sub('<.+?>','',t)\n",
    "t"
   ]
  },
  {
   "cell_type": "markdown",
   "metadata": {},
   "source": [
    "requests 모듈\n",
    "- pip install requests 명령어로 설치\n",
    "- http는 요청과 응답으로 이루어져 있음\n",
    "- 요청 응답 구조\n",
    "    - GET : 정보를 가져오기 위해 요청\n",
    "    - POST : 새로운 정보를 보내기 위해 요청\n",
    "    - PUT : 수정할 정보를 보내기 위해 요청\n",
    "    - DELETE : 정보를 삭제하기 위해 요청\n",
    "- 응답\n",
    "    - 1XX : 요청을 받았고 작업 진행 중\n",
    "    - 2XX : 사용자의 요청이 성공적으로 수행됨\n",
    "    - 3XX : 요청은 완료되었으나 리다이렉션이 필요\n",
    "    - 4XX : 사용자의 요청이 잘못됨\n",
    "    - 5XX : 서버 오류가 발생함"
   ]
  },
  {
   "cell_type": "code",
   "execution_count": null,
   "metadata": {},
   "outputs": [],
   "source": [
    "import requests\n",
    "URL = 'https://naver.com'\n",
    "response = requests.get(URL)\n",
    "html_data = response.text\n",
    "html_data"
   ]
  },
  {
   "cell_type": "code",
   "execution_count": 16,
   "metadata": {},
   "outputs": [
    {
     "data": {
      "text/plain": [
       "365"
      ]
     },
     "execution_count": 16,
     "metadata": {},
     "output_type": "execute_result"
    }
   ],
   "source": [
    "html_data.find('네이버')"
   ]
  },
  {
   "cell_type": "code",
   "execution_count": 17,
   "metadata": {},
   "outputs": [
    {
     "name": "stdout",
     "output_type": "stream",
     "text": [
      "네이버\n"
     ]
    }
   ],
   "source": [
    "print(html_data[365:368])"
   ]
  },
  {
   "cell_type": "code",
   "execution_count": 19,
   "metadata": {},
   "outputs": [
    {
     "data": {
      "text/plain": [
       "'네이버'"
      ]
     },
     "execution_count": 19,
     "metadata": {},
     "output_type": "execute_result"
    }
   ],
   "source": [
    "import re\n",
    "content = re.search('[가-힣]+',html_data)\n",
    "content.group()"
   ]
  },
  {
   "cell_type": "code",
   "execution_count": 20,
   "metadata": {},
   "outputs": [
    {
     "name": "stdout",
     "output_type": "stream",
     "text": [
      " 만나 보세요\"/> <meta property=\"og:title\" content=\"네이버\"> <meta pr\n"
     ]
    }
   ],
   "source": [
    "html_data.find('<meta property=')\n",
    "print(html_data[390:450])"
   ]
  },
  {
   "cell_type": "code",
   "execution_count": 21,
   "metadata": {},
   "outputs": [
    {
     "name": "stdout",
     "output_type": "stream",
     "text": [
      "\n",
      "<!doctype html>                          <html lang=\"ko\" data-dark=\"false\"> <head> <meta charset=\"utf-8\"> <title>NAVER</title> <meta http-equiv=\"X-UA-Compatible\" content=\"IE=edge\"> <meta name=\"viewport\" content=\"width=1190\"> <meta name=\"apple-mobile-web-app-title\" content=\"NAVER\"/> <meta name=\"robots\" content=\"index,nofollow\"/> <meta name=\"description\" content=\"네이버 메인에서 다양한 정보와 유용한 컨텐츠를 만나 보세요\"/>  \n",
      "\n",
      "\"og:title\" content=\"네이버\"> \n"
     ]
    }
   ],
   "source": [
    "content0 = html_data.split('<meta property=')[0]\n",
    "content1 = html_data.split('<meta property=')[1]\n",
    "print(content0, '\\n')\n",
    "print(content1)"
   ]
  },
  {
   "cell_type": "code",
   "execution_count": null,
   "metadata": {},
   "outputs": [],
   "source": [
    "URL = 'https://search.naver.com/search.naver'\n",
    "params = {'query':'AI'}\n",
    "response = requests.get(URL,params=params)\n",
    "response.status_code\n",
    "response.text"
   ]
  },
  {
   "cell_type": "code",
   "execution_count": null,
   "metadata": {},
   "outputs": [],
   "source": [
    "URL = 'https://comic.naver.com/webtoon/detail'\n",
    "params = {'titleid':784255,'no':29,'weekday':'wed'}\n",
    "response = requests.get(URL, params = params)\n",
    "response.text"
   ]
  },
  {
   "cell_type": "code",
   "execution_count": null,
   "metadata": {},
   "outputs": [],
   "source": [
    "# Q. 네이버 사이트에서 '공지사항' 출력(두가지 방법)"
   ]
  },
  {
   "cell_type": "code",
   "execution_count": 33,
   "metadata": {},
   "outputs": [
    {
     "name": "stdout",
     "output_type": "stream",
     "text": [
      "공지사항\n",
      "157595 공지사항\n"
     ]
    }
   ],
   "source": [
    "URL = 'https://www.naver.com'\n",
    "content = requests.get(URL).text\n",
    "a = re.search('공지사항',content)\n",
    "print(a.group())\n",
    "rr = content.find('공지사항')\n",
    "print(rr,content[rr:(rr+4)])"
   ]
  },
  {
   "cell_type": "code",
   "execution_count": 22,
   "metadata": {},
   "outputs": [
    {
     "name": "stdout",
     "output_type": "stream",
     "text": [
      "['메일', '카페', '블로그', '지식iN', '쇼핑']\n",
      "['메일', '카페', '블로그', '지식iN', '쇼핑']\n"
     ]
    }
   ],
   "source": [
    "# [과제] 네이버 홈페이지에 있는 ['메일','카페','블로그','지식IN','쇼핑']을 출력하세요.\n",
    "\n",
    "# 직접적인 방법 (무의미)\n",
    "URL = 'https://www.naver.com'\n",
    "content = requests.get(URL).text\n",
    "li = ['메일','카페','블로그','지식iN','쇼핑']\n",
    "a = []\n",
    "for i in li: \n",
    "    a.append(re.search(i,content).group())\n",
    "print(a)\n",
    "\n",
    "# 구하려는 각 element들은 다음과 같이 구성되어있음\n",
    "# <li class=\"nav_item\">\n",
    "# <a href=\"https://mail.naver.com/\" class=\"nav\" data-clk=\"svc.mail\"><i class=\"ico_mail\"></i>메일</a>\n",
    "# </li>\n",
    "\n",
    "b = []\n",
    "for i in range(5):\n",
    "    result = content.split('<li class=\"nav_item\">')[i+1]\n",
    "    word = re.search('[가-힣]+[a-zA-Z]*',result)\n",
    "    b.append(word.group())\n",
    "print(b)"
   ]
  },
  {
   "cell_type": "markdown",
   "metadata": {},
   "source": [
    "BeautifulSoup 모듈\n",
    "\n",
    "- 홈페이지 내 데이터를 쉽게 추출할 수 있게 해주는 파이썬 외부 라이브러리\n",
    "- 웹 문서 내 수많은 HTML 태그들을 parser를 활용해 사용하기 편한 파이썬 객체로 만들어 제공\n",
    "- 웹 문서 구조를 알고 있다면 편하게 데이터를 뽑아 활용할 수 있음\n",
    "- BS는 HTML 문서를 태그를 기반으로 구조화하여 태그로 원하는 데이터를 찾아가는 형식\n",
    "\n",
    "- find() : HTML의 해당 태그에 대한 첫번째 정보를 가져옴\n",
    "    - find(속성='값') : HTML 해당 속성과 일치하는 값에 대한 첫번째 정보를 가져옴\n",
    "- find_all(), findAll\n",
    "    - HTML의 해당 태그에 대한 모든 정보를 리스트 형식으로 가져옴. limit 옵션으로 개수 지정 가능\n",
    "    - CSS 속성으로 필터링(class_로 클래스를 직접 사용 혹은 attrs에서 속성 = 값으로 필터링)\n",
    "- select_one(), select()\n",
    "    - CSS 선택자를 활용하여 원하는 정보를 가져옴(태그를 검색하는 find, find_all과 비슷함)\n",
    "    - class는 . , id는 #으로 표시"
   ]
  },
  {
   "cell_type": "code",
   "execution_count": 48,
   "metadata": {},
   "outputs": [
    {
     "name": "stdout",
     "output_type": "stream",
     "text": [
      "<html lang=\"en\">\n",
      " <head>\n",
      "  <title>\n",
      "   crawl\n",
      "  </title>\n",
      " </head>\n",
      " <body>\n",
      "  <p align=\"center\" class=\"a\">\n",
      "   text1\n",
      "  </p>\n",
      "  <p align=\"center\" class=\"b\">\n",
      "   text2\n",
      "  </p>\n",
      "  <p align=\"center\" class=\"c\">\n",
      "   text3\n",
      "  </p>\n",
      "  <div>\n",
      "   <img height=\"200\" src=\"/source\" width=\"300\"/>\n",
      "  </div>\n",
      " </body>\n",
      "</html>\n",
      "\n"
     ]
    }
   ],
   "source": [
    "html_doc = \"\"\"\n",
    "<html lang=\"en\">\n",
    "<head><title>crawl</title></head>\n",
    "<body>\n",
    "<p class=\"a\" align=\"center\"> text1</p>\n",
    "<p class=\"b\" align=\"center\"> text2</p>\n",
    "<p class=\"c\" align=\"center\"> text3</p>\n",
    "<div><img src=\"/source\" width=\"300\" height=\"200\"></div>\n",
    "</body>\n",
    "</html>\n",
    "\"\"\"\n",
    "from bs4 import BeautifulSoup\n",
    "soup = BeautifulSoup(html_doc, 'html.parser')\n",
    "print(soup.prettify())"
   ]
  },
  {
   "cell_type": "code",
   "execution_count": 60,
   "metadata": {},
   "outputs": [
    {
     "data": {
      "text/plain": [
       "'er.com/banner/details/darkmode?=main&wpid=RydDy7\"\\ndata-clk=\"dropbanner1a\"\\n></a\\n><i class=\"_1KncATpM _1yl_Ow6o\"><span class=\"blind\">NAVER whale</span></i\\n><img\\nsrc=\"https://static-whale.pstatic.net/mai'"
      ]
     },
     "execution_count": 60,
     "metadata": {},
     "output_type": "execute_result"
    }
   ],
   "source": [
    "URL = 'https://www.naver.com'\n",
    "html = requests.get(URL).text\n",
    "a = html.find('blind') # 9924\n",
    "html[9800:10000]"
   ]
  },
  {
   "cell_type": "code",
   "execution_count": 61,
   "metadata": {},
   "outputs": [
    {
     "data": {
      "text/plain": [
       "'NAVER whale'"
      ]
     },
     "execution_count": 61,
     "metadata": {},
     "output_type": "execute_result"
    }
   ],
   "source": [
    "soup = BeautifulSoup(html, 'html.parser')\n",
    "result = soup.find(class_ = 'blind')\n",
    "result.text"
   ]
  },
  {
   "cell_type": "code",
   "execution_count": 92,
   "metadata": {},
   "outputs": [
    {
     "name": "stdout",
     "output_type": "stream",
     "text": [
      "웹 페이지를 분석하는 것\n",
      "스크레이핑이란?\n"
     ]
    }
   ],
   "source": [
    "html = \"\"\"\n",
    "<html><body>\n",
    "  <h1 id = 'title'>스크레이핑이란?</h1>\n",
    "  <p id = 'body'>웹 페이지를 분석하는 것</p>\n",
    "  <p>원하는 부분을 추출하는 것</p>\n",
    "  <p>원하는 부분을 하나 더 추출하는 것</p>\n",
    "</body></html>\n",
    "\"\"\"\n",
    "soup = BeautifulSoup(html,'html.parser')\n",
    "body = soup.find(id='body')\n",
    "title = soup.find(id='title')\n",
    "print(body.text)\n",
    "print(title.string)"
   ]
  },
  {
   "cell_type": "code",
   "execution_count": 65,
   "metadata": {},
   "outputs": [
    {
     "data": {
      "text/plain": [
       "'스크레이핑이란?'"
      ]
     },
     "execution_count": 65,
     "metadata": {},
     "output_type": "execute_result"
    }
   ],
   "source": [
    "h1 = soup.html.body.h1.string\n",
    "h1"
   ]
  },
  {
   "cell_type": "code",
   "execution_count": 73,
   "metadata": {},
   "outputs": [
    {
     "data": {
      "text/plain": [
       "'웹 페이지를 분석하는 것'"
      ]
     },
     "execution_count": 73,
     "metadata": {},
     "output_type": "execute_result"
    }
   ],
   "source": [
    "p1 = soup.html.body.p\n",
    "p1.string"
   ]
  },
  {
   "cell_type": "code",
   "execution_count": 75,
   "metadata": {},
   "outputs": [
    {
     "data": {
      "text/plain": [
       "<p>원하는 부분을 추출하는 것</p>"
      ]
     },
     "execution_count": 75,
     "metadata": {},
     "output_type": "execute_result"
    }
   ],
   "source": [
    "p2 = p1.next_sibling.next_sibling\n",
    "p2"
   ]
  },
  {
   "cell_type": "code",
   "execution_count": 93,
   "metadata": {},
   "outputs": [
    {
     "name": "stdout",
     "output_type": "stream",
     "text": [
      "웹 페이지를 분석하는 것\n",
      "원하는 부분을 추출하는 것\n",
      "원하는 부분을 하나 더 추출하는 것\n"
     ]
    }
   ],
   "source": [
    "# find_adll()\n",
    "soup = BeautifulSoup(html, 'html.parser')\n",
    "texts = soup.find_all('p')\n",
    "for text in texts:\n",
    "    print(text.text)"
   ]
  },
  {
   "cell_type": "code",
   "execution_count": 116,
   "metadata": {},
   "outputs": [],
   "source": [
    "html = \"\"\"\n",
    "<html><body>\n",
    "  <ul>\n",
    "    <li><a href=\"http://www.naver.com\">naver</a></li>\n",
    "    <li><a href=\"http://www.daum.net\">daum</a></li>\n",
    "  </ul>\n",
    "</body></html>\n",
    "\"\"\"\n",
    "soup = BeautifulSoup(html,'html.parser')\n",
    "links = soup.find_all('a')"
   ]
  },
  {
   "cell_type": "code",
   "execution_count": 117,
   "metadata": {},
   "outputs": [
    {
     "name": "stdout",
     "output_type": "stream",
     "text": [
      "naver > http://www.naver.com\n",
      "daum > http://www.daum.net\n"
     ]
    }
   ],
   "source": [
    "# naver > http://www.naver.com\n",
    "# daum > http://www.daum.net\n",
    "for a in links:\n",
    "    print(a.text,'>', a.get('href'))"
   ]
  },
  {
   "cell_type": "code",
   "execution_count": 287,
   "metadata": {},
   "outputs": [],
   "source": [
    "import urllib.request as req\n",
    "url = \"http://www.kma.go.kr/weather/forecast/mid-term-rss3.jsp\"\n",
    "res = req.urlopen(url)"
   ]
  },
  {
   "cell_type": "code",
   "execution_count": 151,
   "metadata": {},
   "outputs": [
    {
     "data": {
      "text/plain": [
       "'기상청 육상 중기예보'"
      ]
     },
     "execution_count": 151,
     "metadata": {},
     "output_type": "execute_result"
    }
   ],
   "source": [
    "url = \"http://www.kma.go.kr/weather/forecast/mid-term-rss3.jsp\"\n",
    "res = requests.get(url).text\n",
    "soup = BeautifulSoup(res,'html.parser')\n",
    "title = soup.find('title').string\n",
    "title"
   ]
  },
  {
   "cell_type": "code",
   "execution_count": 290,
   "metadata": {},
   "outputs": [
    {
     "data": {
      "text/plain": [
       "'○ (강수) 12일(토) 오후 제주도에 비가 시작되어 13일(일) 남부지방으로 확대되겠으며, 13일(일)~14일(월) 강원영동에는 비 또는 눈이 오겠습니다. <br />○ (기온) 이번 예보기간 아침 기온은 -9~6도, 낮 기온은 1~13도로 어제(8일, 아침최저기온 -10~0도, 낮최고기온 5~9도)보다 높겠습니다.<br />○ (해상) 13(일)~14일(월) 동해상과 남해동부해상, 제주도해상에서는 물결이 2.0~4.0m로 매우 높게 일겠습니다.<br />○ (주말전망) 12일(토)은 구름많겠으나, 제주도에는 비가 오겠으며, 13일(일)은 대체로 흐리고 전라권과 경상권, 제주도에 비가, 강원영동에는 비 또는 눈이 오겠습니다. <br />              아침 기온은 -4~6도, 낮 기온은 6~13도가 되겠습니다.<br />* 12일(토)~14일(월) 강수는 남쪽을 지나는 저기압의 위치와 이동속도에 따라 변동성이 있겠고, 13일(일)~14일(월) 강원영동에는 많은 강수량이 예상되나 기온의 변화에 <br />  따라 강수형태(비 또는 눈)가 달라질 수 있으니, 앞으로 발표되는 기상정보를 참고하기 바랍니다.'"
      ]
     },
     "execution_count": 290,
     "metadata": {},
     "output_type": "execute_result"
    }
   ],
   "source": [
    "url = \"http://www.kma.go.kr/weather/forecast/mid-term-rss3.jsp\"\n",
    "res = req.urlopen(url)\n",
    "soup = BeautifulSoup(res,'html.parser')\n",
    "wf = soup.find('wf').text\n",
    "wf\n"
   ]
  },
  {
   "cell_type": "code",
   "execution_count": 289,
   "metadata": {},
   "outputs": [
    {
     "data": {
      "text/plain": [
       "'(강수) 12일(토) 오후 제주도에 비가 시작되어 13일(일) 남부지방으로 확대되겠으며, 13일(일)~14일(월) 강원영동에는 비 또는 눈이 오겠습니다.(기온) 이번 예보기간 아침 기온은 -9~6도, 낮 기온은 1~13도로 어제(8일, 아침최저기온 -10~0도, 낮최고기온 5~9도)보다 높겠습니다.(해상) 13(일)~14일(월) 동해상과 남해동부해상, 제주도해상에서는 물결이 2.0~4.0m로 매우 높게 일겠습니다.(주말전망) 12일(토)은 구름많겠으나, 제주도에는 비가 오겠으며, 13일(일)은 대체로 흐리고 전라권과 경상권, 제주도에 비가, 강원영동에는 비 또는 눈이 오겠습니다. 아침 기온은 -4~6도, 낮 기온은 6~13도가 되겠습니다. 12일(토)~14일(월) 강수는 남쪽을 지나는 저기압의 위치와 이동속도에 따라 변동성이 있겠고, 13일(일)~14일(월) 강원영동에는 많은 강수량이 예상되나 기온의 변화에  따라 강수형태(비 또는 눈)가 달라질 수 있으니, 앞으로 발표되는 기상정보를 참고하기 바랍니다.'"
      ]
     },
     "execution_count": 289,
     "metadata": {},
     "output_type": "execute_result"
    }
   ],
   "source": [
    "url = \"http://www.kma.go.kr/weather/forecast/mid-term-rss3.jsp\"\n",
    "res = req.urlopen(url)\n",
    "soup = BeautifulSoup(res,'html.parser')\n",
    "wf = soup.find('wf').text\n",
    "text = ''.join(re.findall('[^A-Z0-9]?[0-9가-힣]+[^A-Z0-9]?',wf))\n",
    "text"
   ]
  },
  {
   "cell_type": "code",
   "execution_count": 376,
   "metadata": {},
   "outputs": [
    {
     "name": "stdout",
     "output_type": "stream",
     "text": [
      "(강수) 13일(일) 남부지방과 제주도에는 흐리고 비가 오겠으며, 13일(일)~14일(월) 강원영동에는 비 또는 눈이 오겠습니다.(기온) 이번 예보기간 아침 기온은 -11~6도로 오늘(9일, 아침최저기온 -11~2도)과 비슷하거나 조금 높겠고, 낮 기온은 0~10도로 오늘(9일, 낮최고기온 5~12도)보다 낮겠습니다.(해상) 13일(일)~14일(월) 동해상과 남해동부해상, 제주도해상에서는 물결이 2.0~4.0m로 매우 높게 일겠습니다.(주말전망) 12일(토)은 전국이 대체로 맑다가 오후에 구름많아지겠으며, 13일(일)은 전국이 대체로 흐리고 남부지방과 제주도에 비가, 강원영동에는 비 또는 눈이 오겠습니다. 아침 기온은 -6~6도, 낮 기온은 5~14도가 되겠습니다. 13일(일)~14일(월) 강수는 남쪽을 지나는 저기압의 위치와 이동속도에 따라 변동성이 있겠고, 강원영동에는 많은 강수량이 예상되나 기온의 변화에 따라 강수형태(비 또는 눈)가  달라질 수 있으니, 앞으로 발표되는 기상정보를 참고하기 바랍니다. \n",
      "\n",
      "구름많음\n",
      "구름많음\n",
      "흐림\n",
      "흐림\n",
      "구름많음\n",
      "흐림\n",
      "구름많음\n",
      "맑음\n",
      "맑음\n",
      "맑음\n",
      "맑음\n",
      "구름많음\n",
      "구름많음\n",
      "구름많음\n",
      "구름많음\n",
      "흐림\n",
      "흐림\n",
      "구름많음\n",
      "흐림\n",
      "구름많음\n",
      "맑음\n",
      "맑음\n",
      "맑음\n",
      "맑음\n",
      "구름많음\n",
      "구름많음\n",
      "구름많음\n",
      "구름많음\n",
      "흐림\n",
      "흐림\n",
      "구름많음\n",
      "흐림\n",
      "구름많음\n",
      "맑음\n",
      "맑음\n",
      "맑음\n",
      "맑음\n",
      "구름많음\n",
      "구름많음\n",
      "구름많음\n",
      "구름많음\n",
      "흐림\n",
      "흐림\n",
      "구름많음\n",
      "흐림\n",
      "구름많음\n",
      "맑음\n",
      "맑음\n",
      "맑음\n",
      "맑음\n",
      "구름많음\n",
      "구름많음\n",
      "구름많음\n",
      "구름많음\n",
      "흐림\n",
      "흐림\n",
      "구름많음\n",
      "흐림\n",
      "구름많음\n",
      "맑음\n",
      "맑음\n",
      "맑음\n",
      "맑음\n",
      "구름많음\n",
      "구름많음\n",
      "구름많음\n",
      "구름많음\n",
      "흐림\n",
      "흐림\n",
      "구름많음\n",
      "흐림\n",
      "구름많음\n",
      "맑음\n",
      "맑음\n",
      "맑음\n",
      "맑음\n",
      "구름많음\n",
      "구름많음\n",
      "맑음\n",
      "구름많음\n",
      "흐림\n",
      "흐림\n",
      "흐림\n",
      "흐림\n",
      "흐림\n",
      "구름많음\n",
      "맑음\n",
      "맑음\n",
      "맑음\n",
      "구름많음\n",
      "구름많음\n",
      "맑음\n",
      "구름많음\n",
      "흐림\n",
      "흐림\n",
      "흐림\n",
      "흐림\n",
      "흐림\n",
      "구름많음\n",
      "맑음\n",
      "맑음\n",
      "맑음\n",
      "구름많음\n",
      "구름많음\n",
      "구름많음\n",
      "구름많음\n",
      "흐리고 비/눈\n",
      "흐리고 비/눈\n",
      "흐리고 눈\n",
      "흐리고 눈\n",
      "흐림\n",
      "구름많음\n",
      "구름많음\n",
      "구름많음\n",
      "구름많음\n",
      "흐림\n",
      "흐림\n",
      "맑음\n",
      "구름많음\n",
      "흐림\n",
      "흐림\n",
      "구름많음\n",
      "구름많음\n",
      "흐림\n",
      "구름많음\n",
      "구름많음\n",
      "맑음\n",
      "맑음\n",
      "구름많음\n",
      "구름많음\n",
      "맑음\n",
      "구름많음\n",
      "흐림\n",
      "흐림\n",
      "구름많음\n",
      "구름많음\n",
      "흐림\n",
      "구름많음\n",
      "구름많음\n",
      "맑음\n",
      "맑음\n",
      "구름많음\n",
      "구름많음\n",
      "맑음\n",
      "구름많음\n",
      "흐림\n",
      "흐림\n",
      "구름많음\n",
      "구름많음\n",
      "흐림\n",
      "구름많음\n",
      "구름많음\n",
      "맑음\n",
      "맑음\n",
      "구름많음\n",
      "구름많음\n",
      "맑음\n",
      "구름많음\n",
      "흐림\n",
      "흐림\n",
      "구름많음\n",
      "흐림\n",
      "흐림\n",
      "맑음\n",
      "맑음\n",
      "맑음\n",
      "맑음\n",
      "구름많음\n",
      "흐림\n",
      "맑음\n",
      "구름많음\n",
      "흐림\n",
      "흐림\n",
      "구름많음\n",
      "흐림\n",
      "흐림\n",
      "맑음\n",
      "맑음\n",
      "맑음\n",
      "맑음\n",
      "구름많음\n",
      "흐림\n",
      "맑음\n",
      "구름많음\n",
      "흐림\n",
      "흐림\n",
      "구름많음\n",
      "흐림\n",
      "흐림\n",
      "맑음\n",
      "맑음\n",
      "맑음\n",
      "맑음\n",
      "구름많음\n",
      "흐림\n",
      "맑음\n",
      "구름많음\n",
      "흐리고 비\n",
      "흐리고 비\n",
      "구름많음\n",
      "구름많음\n",
      "구름많음\n",
      "구름많음\n",
      "맑음\n",
      "맑음\n",
      "맑음\n",
      "구름많음\n",
      "흐림\n",
      "맑음\n",
      "구름많음\n",
      "흐리고 비\n",
      "흐리고 비\n",
      "구름많음\n",
      "구름많음\n",
      "구름많음\n",
      "구름많음\n",
      "맑음\n",
      "맑음\n",
      "맑음\n",
      "구름많음\n",
      "흐림\n",
      "맑음\n",
      "구름많음\n",
      "흐리고 비\n",
      "흐리고 비\n",
      "구름많음\n",
      "구름많음\n",
      "구름많음\n",
      "구름많음\n",
      "맑음\n",
      "맑음\n",
      "맑음\n",
      "구름많음\n",
      "흐림\n",
      "맑음\n",
      "구름많음\n",
      "흐리고 비\n",
      "흐리고 비\n",
      "구름많음\n",
      "구름많음\n",
      "구름많음\n",
      "구름많음\n",
      "맑음\n",
      "맑음\n",
      "맑음\n",
      "구름많음\n",
      "흐림\n",
      "맑음\n",
      "구름많음\n",
      "흐리고 비\n",
      "흐리고 비\n",
      "구름많음\n",
      "구름많음\n",
      "구름많음\n",
      "구름많음\n",
      "맑음\n",
      "맑음\n",
      "맑음\n",
      "구름많음\n",
      "흐림\n",
      "맑음\n",
      "구름많음\n",
      "흐리고 비\n",
      "흐리고 비\n",
      "구름많음\n",
      "구름많음\n",
      "구름많음\n",
      "구름많음\n",
      "맑음\n",
      "맑음\n",
      "맑음\n",
      "구름많음\n",
      "흐림\n",
      "맑음\n",
      "구름많음\n",
      "흐리고 비\n",
      "흐림\n",
      "구름많음\n",
      "구름많음\n",
      "흐림\n",
      "구름많음\n",
      "맑음\n",
      "맑음\n",
      "구름많음\n",
      "구름많음\n",
      "구름많음\n",
      "맑음\n",
      "구름많음\n",
      "흐리고 비\n",
      "흐림\n",
      "구름많음\n",
      "구름많음\n",
      "흐림\n",
      "구름많음\n",
      "맑음\n",
      "맑음\n",
      "구름많음\n",
      "구름많음\n",
      "구름많음\n",
      "맑음\n",
      "구름많음\n",
      "흐리고 비\n",
      "흐림\n",
      "구름많음\n",
      "구름많음\n",
      "흐림\n",
      "구름많음\n",
      "맑음\n",
      "맑음\n",
      "구름많음\n",
      "구름많음\n",
      "구름많음\n",
      "맑음\n",
      "구름많음\n",
      "흐리고 비\n",
      "흐림\n",
      "구름많음\n",
      "구름많음\n",
      "흐림\n",
      "구름많음\n",
      "맑음\n",
      "맑음\n",
      "구름많음\n",
      "구름많음\n",
      "구름많음\n",
      "맑음\n",
      "구름많음\n",
      "흐리고 비\n",
      "흐림\n",
      "구름많음\n",
      "구름많음\n",
      "흐림\n",
      "구름많음\n",
      "맑음\n",
      "맑음\n",
      "구름많음\n",
      "구름많음\n",
      "구름많음\n",
      "맑음\n",
      "구름많음\n",
      "흐리고 비\n",
      "흐림\n",
      "구름많음\n",
      "구름많음\n",
      "흐림\n",
      "구름많음\n",
      "맑음\n",
      "맑음\n",
      "구름많음\n",
      "구름많음\n",
      "구름많음\n",
      "맑음\n",
      "구름많음\n",
      "흐리고 비\n",
      "흐리고 비\n",
      "구름많음\n",
      "구름많음\n",
      "구름많음\n",
      "구름많음\n",
      "맑음\n",
      "맑음\n",
      "맑음\n",
      "구름많음\n",
      "구름많음\n",
      "맑음\n",
      "구름많음\n",
      "흐리고 비\n",
      "흐리고 비\n",
      "구름많음\n",
      "구름많음\n",
      "구름많음\n",
      "구름많음\n",
      "맑음\n",
      "맑음\n",
      "맑음\n",
      "구름많음\n",
      "구름많음\n",
      "맑음\n",
      "구름많음\n",
      "흐리고 비\n",
      "흐리고 비\n",
      "구름많음\n",
      "구름많음\n",
      "구름많음\n",
      "구름많음\n",
      "맑음\n",
      "맑음\n",
      "맑음\n",
      "구름많음\n",
      "구름많음\n",
      "맑음\n",
      "구름많음\n",
      "흐리고 비\n",
      "흐리고 비\n",
      "구름많음\n",
      "구름많음\n",
      "구름많음\n",
      "구름많음\n",
      "맑음\n",
      "맑음\n",
      "맑음\n",
      "구름많음\n",
      "구름많음\n",
      "맑음\n",
      "구름많음\n",
      "흐리고 비\n",
      "흐리고 비\n",
      "구름많음\n",
      "구름많음\n",
      "구름많음\n",
      "구름많음\n",
      "맑음\n",
      "맑음\n",
      "맑음\n",
      "구름많음\n",
      "구름많음\n",
      "맑음\n",
      "구름많음\n",
      "흐리고 비\n",
      "흐리고 비\n",
      "구름많음\n",
      "구름많음\n",
      "구름많음\n",
      "구름많음\n",
      "맑음\n",
      "맑음\n",
      "맑음\n",
      "구름많음\n",
      "구름많음\n",
      "맑음\n",
      "구름많음\n",
      "흐리고 비\n",
      "흐리고 비\n",
      "구름많음\n",
      "구름많음\n",
      "구름많음\n",
      "구름많음\n",
      "맑음\n",
      "맑음\n",
      "맑음\n",
      "구름많음\n",
      "구름많음\n",
      "맑음\n",
      "구름많음\n",
      "흐리고 비\n",
      "흐리고 비\n",
      "구름많음\n",
      "구름많음\n",
      "구름많음\n",
      "구름많음\n",
      "맑음\n",
      "맑음\n",
      "맑음\n",
      "구름많음\n",
      "구름많음\n",
      "맑음\n",
      "구름많음\n",
      "흐리고 비\n",
      "흐리고 비\n",
      "구름많음\n",
      "구름많음\n",
      "구름많음\n",
      "구름많음\n",
      "맑음\n",
      "맑음\n",
      "맑음\n",
      "구름많음\n",
      "구름많음\n",
      "맑음\n",
      "구름많음\n",
      "흐리고 비\n",
      "흐리고 비\n",
      "구름많음\n",
      "구름많음\n",
      "구름많음\n",
      "구름많음\n",
      "맑음\n",
      "맑음\n",
      "맑음\n",
      "구름많음\n",
      "구름많음\n",
      "맑음\n",
      "구름많음\n",
      "흐리고 비\n",
      "흐리고 비\n",
      "구름많음\n",
      "구름많음\n",
      "구름많음\n",
      "구름많음\n",
      "맑음\n",
      "맑음\n",
      "맑음\n",
      "구름많음\n",
      "구름많음\n",
      "맑음\n",
      "구름많음\n",
      "흐리고 비\n",
      "흐리고 비\n",
      "구름많음\n",
      "구름많음\n",
      "구름많음\n",
      "구름많음\n",
      "맑음\n",
      "맑음\n",
      "맑음\n",
      "구름많음\n",
      "구름많음\n",
      "구름많음\n",
      "구름많음\n",
      "흐리고 비\n",
      "흐리고 비\n",
      "흐림\n",
      "구름많음\n",
      "흐림\n",
      "구름많음\n",
      "구름많음\n",
      "흐림\n",
      "구름많음\n",
      "흐림\n",
      "흐림\n",
      "구름많음\n",
      "구름많음\n",
      "흐리고 비\n",
      "흐리고 비\n",
      "흐림\n",
      "구름많음\n",
      "흐림\n",
      "구름많음\n",
      "구름많음\n",
      "흐림\n",
      "구름많음\n",
      "흐림\n",
      "흐림\n"
     ]
    }
   ],
   "source": [
    "# [과제] wf 태그는 모두 출력\n",
    "url = \"http://www.kma.go.kr/weather/forecast/mid-term-rss3.jsp\"\n",
    "res = req.urlopen(url)\n",
    "soup = BeautifulSoup(res,'html.parser')\n",
    "wf0 = soup.find('wf').text\n",
    "text = ''.join(re.findall('[^A-Z0-9]?[0-9가-힣]+[^A-Z0-9]?',wf0))\n",
    "wf = soup.find_all('wf')\n",
    "print(text,'\\n')\n",
    "for i in range(1,len(wf)):\n",
    "    print(wf[i].text)\n"
   ]
  },
  {
   "cell_type": "code",
   "execution_count": null,
   "metadata": {},
   "outputs": [],
   "source": [
    "url = 'https://naver.com'\n",
    "text = requests.get(url).text\n",
    "text"
   ]
  },
  {
   "cell_type": "code",
   "execution_count": 230,
   "metadata": {},
   "outputs": [
    {
     "name": "stdout",
     "output_type": "stream",
     "text": [
      "<a href=\"#newsstand\"><span>뉴스스탠드 바로가기</span></a>\n",
      "<span class=\"blind\">NAVER whale</span>\n"
     ]
    }
   ],
   "source": [
    "import urllib\n",
    "url = 'https://naver.com'\n",
    "response = urllib.request.urlopen(url)\n",
    "byte_data = response.read()\n",
    "html = byte_data.decode('utf-8')\n",
    "soup = BeautifulSoup(html, 'html.parser')\n",
    "print(soup.find('a'))\n",
    "print(soup.find(class_='blind'))"
   ]
  },
  {
   "cell_type": "code",
   "execution_count": 231,
   "metadata": {},
   "outputs": [
    {
     "data": {
      "text/plain": [
       "<a href=\"#newsstand\"><span>뉴스스탠드 바로가기</span></a>"
      ]
     },
     "execution_count": 231,
     "metadata": {},
     "output_type": "execute_result"
    }
   ],
   "source": [
    "soup.find_all('a',limit=2)\n",
    "soup.find_all('a',limit=2)[0]"
   ]
  },
  {
   "cell_type": "code",
   "execution_count": 232,
   "metadata": {},
   "outputs": [
    {
     "data": {
      "text/plain": [
       "[<span class=\"blind\">NAVER whale</span>,\n",
       " <span class=\"blind\">네이버</span>,\n",
       " <span class=\"blind\">쥬니어네이버</span>]"
      ]
     },
     "execution_count": 232,
     "metadata": {},
     "output_type": "execute_result"
    }
   ],
   "source": [
    "soup.find_all('span',class_='blind')[0:3]"
   ]
  },
  {
   "cell_type": "code",
   "execution_count": 233,
   "metadata": {},
   "outputs": [
    {
     "data": {
      "text/plain": [
       "[<span class=\"blind\">한글 입력기</span>,\n",
       " <span class=\"blind\">자동완성 레이어</span>,\n",
       " <span class=\"ico_arr\"></span>,\n",
       " <span class=\"blind\">쇼핑</span>,\n",
       " <span class=\"blind\">쇼핑LIVE</span>]"
      ]
     },
     "execution_count": 233,
     "metadata": {},
     "output_type": "execute_result"
    }
   ],
   "source": [
    "soup.find_all('span',class_=['blind','ico_arr'])[5:10]"
   ]
  },
  {
   "cell_type": "code",
   "execution_count": 234,
   "metadata": {},
   "outputs": [
    {
     "data": {
      "text/plain": [
       "[<span class=\"blind\">NAVER whale</span>,\n",
       " <span class=\"blind\">네이버</span>,\n",
       " <span class=\"blind\">쥬니어네이버</span>]"
      ]
     },
     "execution_count": 234,
     "metadata": {},
     "output_type": "execute_result"
    }
   ],
   "source": [
    "soup.find_all('span',attrs={'class':'blind'})[0:3]"
   ]
  },
  {
   "cell_type": "code",
   "execution_count": 235,
   "metadata": {},
   "outputs": [
    {
     "data": {
      "text/plain": [
       "['네이버']"
      ]
     },
     "execution_count": 235,
     "metadata": {},
     "output_type": "execute_result"
    }
   ],
   "source": [
    "soup.find_all(string='네이버')"
   ]
  },
  {
   "cell_type": "code",
   "execution_count": 238,
   "metadata": {},
   "outputs": [
    {
     "name": "stdout",
     "output_type": "stream",
     "text": [
      "['네이버', '네이버를 시작페이지로', '쥬니어네이버', '언론사가 직접 편집한 뉴스들을 네이버 홈에서 바로 보실 수 있습니다.', '네이버스포츠', '[기획전] 2022년 신상부터 스테디셀러 상품 네이버 단독 특가!', '네이버스포츠', '네이버스포츠', '네이버스포츠', '네이버스포츠', '네이버스포츠', '네이버스포츠', '네이버스포츠', '네이버스포츠', '네이버스포츠', '네이버스포츠', '네이버스포츠', '크보연구소_네이버스포츠', '네이버 개발자 센터', '네이버 D2', '네이버 D2SF', '네이버 랩스', '네이버 정책 및 약관', '네이버 정책']\n"
     ]
    }
   ],
   "source": [
    "print(soup.find_all(string=re.compile('네이버')))"
   ]
  },
  {
   "cell_type": "code",
   "execution_count": 241,
   "metadata": {},
   "outputs": [
    {
     "name": "stdout",
     "output_type": "stream",
     "text": [
      "<span class=\"blind\">영화검색 영역</span>\n",
      "영화검색 영역\n",
      "['blind']\n"
     ]
    }
   ],
   "source": [
    "html =  requests.get('https://movie.naver.com').text\n",
    "soup = BeautifulSoup(html,'html.parser')\n",
    "text = soup.find('span',attrs={'class':'blind'})\n",
    "print(text)\n",
    "print(text.get_text())\n",
    "print(text.get('class'))"
   ]
  },
  {
   "cell_type": "code",
   "execution_count": 245,
   "metadata": {},
   "outputs": [
    {
     "data": {
      "text/plain": [
       "'위키북스 도서'"
      ]
     },
     "execution_count": 245,
     "metadata": {},
     "output_type": "execute_result"
    }
   ],
   "source": [
    "html = \"\"\"\n",
    "<html><body>\n",
    "<div id=\"meigen\">\n",
    "  <h1>위키북스 도서</h1>\n",
    "  <ul class=\"items\">\n",
    "    <li>유니티 게임 이펙트 입문</li>\n",
    "    <li>스위프트로 시작하는 아이폰 앱 개발 교과서</li>\n",
    "    <li>모던 웹사이트 디자인의 정석</li>\n",
    "  </ul>\n",
    "</div>\n",
    "</body></html>\n",
    "\"\"\"\n",
    "soup = BeautifulSoup(html,'html.parser')\n",
    "h1 = soup.select_one('div#meigen > h1').string\n",
    "h1"
   ]
  },
  {
   "cell_type": "code",
   "execution_count": 258,
   "metadata": {},
   "outputs": [
    {
     "name": "stdout",
     "output_type": "stream",
     "text": [
      "유니티 게임 이펙트 입문\n",
      "스위프트로 시작하는 아이폰 앱 개발 교과서\n",
      "모던 웹사이트 디자인의 정석\n"
     ]
    }
   ],
   "source": [
    "soup = BeautifulSoup(html,'html.parser')\n",
    "ul = soup.select('div#meigen > ul.items > li')\n",
    "for i in ul:\n",
    "    print(i.text)"
   ]
  },
  {
   "cell_type": "code",
   "execution_count": 269,
   "metadata": {},
   "outputs": [
    {
     "name": "stdout",
     "output_type": "stream",
     "text": [
      "미국USD 원화환율 = 1,197.00\n"
     ]
    }
   ],
   "source": [
    "# Q. 네이버 환율 가져오기\n",
    "url = \"https://finance.naver.com/marketindex/\"\n",
    "res = requests.get(url).text\n",
    "soup = BeautifulSoup(res, \"html.parser\")\n",
    "value = soup.select_one('span.value')\n",
    "print('미국USD 원화환율 =',value.string)"
   ]
  },
  {
   "cell_type": "code",
   "execution_count": 18,
   "metadata": {},
   "outputs": [
    {
     "name": "stdout",
     "output_type": "stream",
     "text": [
      "유럽연합EUR 원화환율 = 1,195.30\n"
     ]
    }
   ],
   "source": [
    "# 해보기\n",
    "url = \"https://finance.naver.com/marketindex/\"\n",
    "res = requests.get(url).text\n",
    "soup = BeautifulSoup(res, \"html.parser\")\n",
    "value = soup.select_one('')\n",
    "print('유럽연합EUR 원화환율 =',value.string)"
   ]
  },
  {
   "cell_type": "code",
   "execution_count": 19,
   "metadata": {},
   "outputs": [
    {
     "data": {
      "text/plain": [
       "'해적: 도깨비 깃발'"
      ]
     },
     "execution_count": 19,
     "metadata": {},
     "output_type": "execute_result"
    }
   ],
   "source": [
    "# [과제] 네이버 영화 조회순 랭킹 가져와서 첫번째 영화제목을 출력하세요\n",
    "url = 'https://movie.naver.com/movie/sdb/rank/rmovie.naver?sel=cnt&date=20220208'\n",
    "res = requests.get(url).text\n",
    "soup = BeautifulSoup(res, \"html.parser\")\n",
    "#old_content > table > tbody > tr:nth-child(2) > td.title > div > a\n",
    "# movie_top1 = soup.select_one('div.tit3 > a')\n",
    "movie_top1 = soup.select_one('#old_content > table > tbody > tr:nth-child(2) > td.title > div > a')\n",
    "movie_top1.text"
   ]
  },
  {
   "cell_type": "code",
   "execution_count": 20,
   "metadata": {},
   "outputs": [
    {
     "name": "stdout",
     "output_type": "stream",
     "text": [
      "해적: 도깨비 깃발\n",
      "킹메이커\n",
      "특송\n",
      "스파이더맨: 노 웨이 홈\n",
      "나일 강의 죽음\n",
      "하우스 오브 구찌\n",
      "씽2게더\n",
      "경관의 피\n",
      "355\n",
      "어나더 라운드\n",
      "언차티드\n",
      "극장판 안녕 자두야: 제주도의 비밀\n",
      "듄\n",
      "드라이브 마이 카\n",
      "미싱타는 여자들\n",
      "킹스맨: 퍼스트 에이전트\n",
      "셰터드\n",
      "나의 촛불\n",
      "인민을 위해 복무하라\n",
      "수퍼모델\n",
      "만년이 지나도 변하지 않는 게 있어\n",
      "짬뽕비권\n",
      "나이트메어 앨리\n",
      "트로트는 인생이다\n",
      "창극 변강쇠 점 찍고 옹녀\n",
      "강릉\n",
      "더 배트맨\n",
      "인질\n",
      "장민호 드라마 최종회\n",
      "인어가 잠든 집\n",
      "효자\n",
      "삼진그룹 영어토익반\n",
      "캐시트럭\n",
      "블랙머니\n",
      "극장판 주술회전 0\n",
      "레지던트 이블: 라쿤시티\n",
      "프랑스\n",
      "굿 보스\n",
      "안테벨룸\n",
      "코로나\n",
      "웨스트 사이드 스토리\n",
      "가슴이 떨리는 건 너 때문\n",
      "문폴\n"
     ]
    }
   ],
   "source": [
    "# [과제] 네이버 영화 조회순 랭킹 가져와서 전체 영화제목을 출력하세요\n",
    "url = 'https://movie.naver.com/movie/sdb/rank/rmovie.naver?sel=cnt&date=20220208'\n",
    "res = requests.get(url).text\n",
    "soup = BeautifulSoup(res, \"html.parser\")\n",
    "#old_content > table > tbody > tr:nth-child(3) > td.title > div > a\n",
    "# movie_top20 = soup.select('div.tit3 > a')\n",
    "movie_top20 = soup.select('#old_content > table > tbody > tr > td.title > div > a')\n",
    "for i in movie_top20:\n",
    "    print(i.text)"
   ]
  },
  {
   "cell_type": "code",
   "execution_count": 374,
   "metadata": {},
   "outputs": [
    {
     "name": "stdout",
     "output_type": "stream",
     "text": [
      " (강수) 13일(일)~14일(월) 강원영동에 비 또는 눈이 내리겠습니다. \n",
      "\n",
      " (기온) 이번 예보기간의 아침 기온은 -14~2도로 오늘(9일, 아침최저기온 -17~-2도)과 비슷하거나 조금 높겠고,낮 기온은 -4~7도로 오늘(9일, 낮최고기온 4~10도)보다 낮겠습니다. \n",
      "\n",
      " (해상) 동해중부해상의 물결은 13일(일) 오후~14일(월) 오전에는 2.0~4.0m로 매우 높게 일겠습니다. \n",
      "\n",
      " (주말전망) 12일(토)~13일(일)은 대체로 흐리겠고, 13일(일)은 강원영동에 비 또는 눈이 내리겠습니다. 아침 기온은 -7~2도, 낮 기온은 1~10도가 되겠습니다. 13일(일)~14일(월) 강수는 남쪽을 지나는 저기압의 위치와 이동속도에 따라 변동성이 있겠고, 강원영동에는 많은 강수량이 예상되나 기온의 변화에 따라 강수형태(비 또는 눈)가 달라질 수 있으니, 앞으로 발표되는 기상정보를 참고하기 바랍니다. \n",
      "\n"
     ]
    }
   ],
   "source": [
    "# [과제] 기상청 육상 정보에서 강원도의 지역번호는 105이다. 강원도의 날씨예보를 출력하세요.\n",
    "url = 'https://www.kma.go.kr/weather/forecast/mid-term-rss3.jsp?stnId=105'\n",
    "res = req.urlopen(url)\n",
    "soup = BeautifulSoup(res,'html.parser')\n",
    "wf = soup.find('wf').text\n",
    "text = re.sub('<br />\\*?','',wf)\n",
    "text = re.sub('(  )+','',text)\n",
    "text = text.split('○')\n",
    "for i in range(1,len(text)):\n",
    "    print(text[i],'\\n')"
   ]
  },
  {
   "cell_type": "code",
   "execution_count": 4,
   "metadata": {},
   "outputs": [
    {
     "name": "stdout",
     "output_type": "stream",
     "text": [
      "url http://www.kma.go.kr/weather/forecast/mid-term-rss3.jsp?stnld=105\n"
     ]
    },
    {
     "data": {
      "text/plain": [
       "'(강수) 13일(일) 남부지방과 제주도에는 흐리고 비가 오겠으며, 13일(일)~14일(월) 강원영동에는 비 또는 눈이 오겠습니다.(기온) 이번 예보기간 아침 기온은 -11~7도로 어제(9일, 아침최저기온 -11~2도)와 비슷하거나 조금 높겠고, 낮 기온은 1~11도로 어제(9일, 낮최고기온 5~12도)보다 낮겠습니다.(해상) 13일(일)~14일(월) 동해상과 남해동부해상, 제주도해상에서는 물결이 2.0~4.0m로 매우 높게 일겠습니다.(주말전망) 12일(토)은 전국이 가끔 구름많겠으며, 13일(일)은 전국이 대체로 흐리고 남부지방과 제주도에 비가, 강원영동에는 비 또는 눈이 오겠습니다. 아침 기온은 -6~7도, 낮 기온은 6~14도가 되겠습니다. 13일(일)~14일(월) 강수는 남쪽을 지나는 저기압의 위치와 이동속도에 따라 변동성이 있겠고, 강원영동에는 많은 강수량이 예상되나 기온의 변화에 따라 강수형태(비 또는 눈)가  달라질 수 있으니, 앞으로 발표되는 기상정보를 참고하기 바랍니다.'"
      ]
     },
     "execution_count": 4,
     "metadata": {},
     "output_type": "execute_result"
    }
   ],
   "source": [
    "import urllib.parse\n",
    "api = 'http://www.kma.go.kr/weather/forecast/mid-term-rss3.jsp'\n",
    "\n",
    "values = {\n",
    "    'stnld':'105'\n",
    "}\n",
    "params = urllib.parse.urlencode(values)\n",
    "url = api + '?' + params\n",
    "print('url',url)\n",
    "\n",
    "res = req.urlopen(url)\n",
    "soup = BeautifulSoup(res,'html.parser')\n",
    "wf = soup.find('wf').string\n",
    "text = ''.join(re.findall('[^A-Z0-9]?[0-9가-힣]+[^A-Z0-9]?',wf))\n",
    "text"
   ]
  },
  {
   "cell_type": "code",
   "execution_count": null,
   "metadata": {},
   "outputs": [],
   "source": [
    "# [과제] 관심 내용에 대하여 웹에서 가져와서 정규표현식, BS를 이용하여 데이터를 출력하세요."
   ]
  },
  {
   "cell_type": "code",
   "execution_count": 418,
   "metadata": {},
   "outputs": [
    {
     "data": {
      "text/html": [
       "<div>\n",
       "<style scoped>\n",
       "    .dataframe tbody tr th:only-of-type {\n",
       "        vertical-align: middle;\n",
       "    }\n",
       "\n",
       "    .dataframe tbody tr th {\n",
       "        vertical-align: top;\n",
       "    }\n",
       "\n",
       "    .dataframe thead th {\n",
       "        text-align: right;\n",
       "    }\n",
       "</style>\n",
       "<table border=\"1\" class=\"dataframe\">\n",
       "  <thead>\n",
       "    <tr style=\"text-align: right;\">\n",
       "      <th></th>\n",
       "      <th>book</th>\n",
       "      <th>price_yesterday</th>\n",
       "      <th>price_recent</th>\n",
       "      <th>price_low</th>\n",
       "    </tr>\n",
       "  </thead>\n",
       "  <tbody>\n",
       "    <tr>\n",
       "      <th>0</th>\n",
       "      <td>마나의 흐름 각인서</td>\n",
       "      <td>15.2</td>\n",
       "      <td>6</td>\n",
       "      <td>2</td>\n",
       "    </tr>\n",
       "    <tr>\n",
       "      <th>1</th>\n",
       "      <td>폭발물 전문가 각인서</td>\n",
       "      <td>12.6</td>\n",
       "      <td>8</td>\n",
       "      <td>3</td>\n",
       "    </tr>\n",
       "    <tr>\n",
       "      <th>2</th>\n",
       "      <td>여신의 가호 각인서</td>\n",
       "      <td>10.0</td>\n",
       "      <td>5</td>\n",
       "      <td>4</td>\n",
       "    </tr>\n",
       "    <tr>\n",
       "      <th>3</th>\n",
       "      <td>강화 방패 각인서</td>\n",
       "      <td>9.9</td>\n",
       "      <td>8</td>\n",
       "      <td>4</td>\n",
       "    </tr>\n",
       "    <tr>\n",
       "      <th>4</th>\n",
       "      <td>위기 모면 각인서</td>\n",
       "      <td>10.1</td>\n",
       "      <td>5</td>\n",
       "      <td>5</td>\n",
       "    </tr>\n",
       "  </tbody>\n",
       "</table>\n",
       "</div>"
      ],
      "text/plain": [
       "          book price_yesterday price_recent price_low\n",
       "0   마나의 흐름 각인서            15.2            6         2\n",
       "1  폭발물 전문가 각인서            12.6            8         3\n",
       "2   여신의 가호 각인서            10.0            5         4\n",
       "3    강화 방패 각인서             9.9            8         4\n",
       "4    위기 모면 각인서            10.1            5         5"
      ]
     },
     "execution_count": 418,
     "metadata": {},
     "output_type": "execute_result"
    }
   ],
   "source": [
    "# 로스트아크 전설각인서 매물 중에서 내가 쓰고 싶은 각인서를 지정하고, 살 만한 가격인지 체크한다.\n",
    "# url = 'https://lostark.game.onstove.com/Market'\n",
    "# BS는 정적 크롤링에 특화되어 있어, 2022-02-09 17:30 기준 경매장에서 전설 각인서를 검색한 Xhr 파일을 따로 저장하고 읽어와서\n",
    "# 크롤링 한 것과 유사하게 하겠다.\n",
    "import pandas as pd\n",
    "import numpy as np\n",
    "\n",
    "with open('./legend_book.txt','rb') as f:\n",
    "    data = f.read()\n",
    "soup = BeautifulSoup(data,'html.parser')\n",
    "\n",
    "def gettext(li):\n",
    "    text_li = []\n",
    "    for i in li:\n",
    "        text_li.append(i.text)\n",
    "    return np.array(text_li)\n",
    "\n",
    "books = soup.select('span.name')\n",
    "prices = soup.select('div.price')\n",
    "\n",
    "price_yesterday = []\n",
    "price_recent = []\n",
    "price_low = []\n",
    "for i in range(len(prices)):\n",
    "    if i % 3 == 0:\n",
    "        price_yesterday.append(prices[i])\n",
    "    elif i % 3 == 1:\n",
    "        price_recent.append(prices[i])\n",
    "    else:\n",
    "        price_low.append(prices[i])\n",
    "        \n",
    "df = pd.DataFrame()\n",
    "df['book'] = gettext(books)\n",
    "df['price_yesterday'] = gettext(price_yesterday)\n",
    "df['price_recent'] = gettext(price_recent)\n",
    "df['price_low'] = gettext(price_low)\n",
    "df.head()"
   ]
  },
  {
   "cell_type": "code",
   "execution_count": 419,
   "metadata": {},
   "outputs": [
    {
     "data": {
      "text/html": [
       "<div>\n",
       "<style scoped>\n",
       "    .dataframe tbody tr th:only-of-type {\n",
       "        vertical-align: middle;\n",
       "    }\n",
       "\n",
       "    .dataframe tbody tr th {\n",
       "        vertical-align: top;\n",
       "    }\n",
       "\n",
       "    .dataframe thead th {\n",
       "        text-align: right;\n",
       "    }\n",
       "</style>\n",
       "<table border=\"1\" class=\"dataframe\">\n",
       "  <thead>\n",
       "    <tr style=\"text-align: right;\">\n",
       "      <th></th>\n",
       "      <th>book</th>\n",
       "      <th>price_yesterday</th>\n",
       "      <th>price_recent</th>\n",
       "      <th>price_low</th>\n",
       "    </tr>\n",
       "  </thead>\n",
       "  <tbody>\n",
       "    <tr>\n",
       "      <th>0</th>\n",
       "      <td>마나의 흐름 각인서</td>\n",
       "      <td>15.2</td>\n",
       "      <td>6</td>\n",
       "      <td>2</td>\n",
       "    </tr>\n",
       "    <tr>\n",
       "      <th>1</th>\n",
       "      <td>폭발물 전문가 각인서</td>\n",
       "      <td>12.6</td>\n",
       "      <td>8</td>\n",
       "      <td>3</td>\n",
       "    </tr>\n",
       "    <tr>\n",
       "      <th>2</th>\n",
       "      <td>여신의 가호 각인서</td>\n",
       "      <td>10.0</td>\n",
       "      <td>5</td>\n",
       "      <td>4</td>\n",
       "    </tr>\n",
       "    <tr>\n",
       "      <th>3</th>\n",
       "      <td>강화 방패 각인서</td>\n",
       "      <td>9.9</td>\n",
       "      <td>8</td>\n",
       "      <td>4</td>\n",
       "    </tr>\n",
       "    <tr>\n",
       "      <th>4</th>\n",
       "      <td>위기 모면 각인서</td>\n",
       "      <td>10.1</td>\n",
       "      <td>5</td>\n",
       "      <td>5</td>\n",
       "    </tr>\n",
       "  </tbody>\n",
       "</table>\n",
       "</div>"
      ],
      "text/plain": [
       "          book price_yesterday price_recent price_low\n",
       "0   마나의 흐름 각인서            15.2            6         2\n",
       "1  폭발물 전문가 각인서            12.6            8         3\n",
       "2   여신의 가호 각인서            10.0            5         4\n",
       "3    강화 방패 각인서             9.9            8         4\n",
       "4    위기 모면 각인서            10.1            5         5"
      ]
     },
     "execution_count": 419,
     "metadata": {},
     "output_type": "execute_result"
    }
   ],
   "source": [
    "df_normal = df[~df['book'].str.contains('\\[')].reset_index().drop('index',axis=1)\n",
    "df_normal.head()"
   ]
  },
  {
   "cell_type": "code",
   "execution_count": 420,
   "metadata": {},
   "outputs": [
    {
     "data": {
      "text/html": [
       "<div>\n",
       "<style scoped>\n",
       "    .dataframe tbody tr th:only-of-type {\n",
       "        vertical-align: middle;\n",
       "    }\n",
       "\n",
       "    .dataframe tbody tr th {\n",
       "        vertical-align: top;\n",
       "    }\n",
       "\n",
       "    .dataframe thead th {\n",
       "        text-align: right;\n",
       "    }\n",
       "</style>\n",
       "<table border=\"1\" class=\"dataframe\">\n",
       "  <thead>\n",
       "    <tr style=\"text-align: right;\">\n",
       "      <th></th>\n",
       "      <th>book</th>\n",
       "      <th>price_yesterday</th>\n",
       "      <th>price_recent</th>\n",
       "      <th>price_low</th>\n",
       "    </tr>\n",
       "  </thead>\n",
       "  <tbody>\n",
       "    <tr>\n",
       "      <th>55</th>\n",
       "      <td>바리케이드 각인서</td>\n",
       "      <td>2,196.3</td>\n",
       "      <td>2,400</td>\n",
       "      <td>2,447</td>\n",
       "    </tr>\n",
       "    <tr>\n",
       "      <th>71</th>\n",
       "      <td>돌격대장 각인서</td>\n",
       "      <td>5,658.7</td>\n",
       "      <td>5,480</td>\n",
       "      <td>5,299</td>\n",
       "    </tr>\n",
       "    <tr>\n",
       "      <th>79</th>\n",
       "      <td>아드레날린 각인서</td>\n",
       "      <td>7,450.3</td>\n",
       "      <td>7,300</td>\n",
       "      <td>7,395</td>\n",
       "    </tr>\n",
       "    <tr>\n",
       "      <th>85</th>\n",
       "      <td>예리한 둔기 각인서</td>\n",
       "      <td>11,799.8</td>\n",
       "      <td>11,750</td>\n",
       "      <td>11,777</td>\n",
       "    </tr>\n",
       "    <tr>\n",
       "      <th>86</th>\n",
       "      <td>원한 각인서</td>\n",
       "      <td>14,565.7</td>\n",
       "      <td>14,300</td>\n",
       "      <td>14,000</td>\n",
       "    </tr>\n",
       "  </tbody>\n",
       "</table>\n",
       "</div>"
      ],
      "text/plain": [
       "          book price_yesterday price_recent price_low\n",
       "55   바리케이드 각인서         2,196.3        2,400     2,447\n",
       "71    돌격대장 각인서         5,658.7        5,480     5,299\n",
       "79   아드레날린 각인서         7,450.3        7,300     7,395\n",
       "85  예리한 둔기 각인서        11,799.8       11,750    11,777\n",
       "86      원한 각인서        14,565.7       14,300    14,000"
      ]
     },
     "execution_count": 420,
     "metadata": {},
     "output_type": "execute_result"
    }
   ],
   "source": [
    "wishlist = ['바리케이드','아드레날린','돌격대장','예리한 둔기','원한']\n",
    "test = '|'.join(wishlist)\n",
    "result = df[df['book'].str.contains(test)]\n",
    "result"
   ]
  },
  {
   "cell_type": "code",
   "execution_count": 5,
   "metadata": {},
   "outputs": [
    {
     "data": {
      "text/plain": [
       "<body>\n",
       "<p align=\"center\" class=\"a\"> text1</p>\n",
       "<p align=\"center\" class=\"b\"> text2</p>\n",
       "<p align=\"center\" class=\"c\"> text3</p>\n",
       "<div>\n",
       "<img height=\"200\" src=\"/source\" width=\"300\"/>\n",
       "</div>\n",
       "</body>"
      ]
     },
     "execution_count": 5,
     "metadata": {},
     "output_type": "execute_result"
    }
   ],
   "source": [
    "html=\"\"\"\n",
    "<head>\n",
    "    <title>crawler</title>\n",
    "</head>\n",
    "<body>\n",
    "    <p class=\"a\" align=\"center\"> text1</p>\n",
    "    <p class=\"b\" align=\"center\"> text2</p>\n",
    "    <p class=\"c\" align=\"center\"> text3</p>\n",
    "    <div>\n",
    "        <img src=\"/source\" width=\"300\" height=\"200\">\n",
    "    </div>\n",
    "</body>\n",
    "</html>\n",
    "\"\"\"\n",
    "soup = BeautifulSoup(html,'html.parser')\n",
    "contents = soup.find('body')\n",
    "contents"
   ]
  },
  {
   "cell_type": "code",
   "execution_count": 9,
   "metadata": {},
   "outputs": [
    {
     "name": "stdout",
     "output_type": "stream",
     "text": [
      "\n",
      "\n",
      "<p align=\"center\" class=\"a\"> text1</p>\n",
      "\n",
      "\n",
      "<p align=\"center\" class=\"b\"> text2</p>\n",
      "\n",
      "\n",
      "<p align=\"center\" class=\"c\"> text3</p>\n",
      "\n",
      "\n",
      "<div>\n",
      "<img height=\"200\" src=\"/source\" width=\"300\"/>\n",
      "</div>\n",
      "\n",
      "\n"
     ]
    }
   ],
   "source": [
    "# 자식 cs 자손\n",
    "for child in contents.children:\n",
    "    print(child)"
   ]
  },
  {
   "cell_type": "code",
   "execution_count": 8,
   "metadata": {},
   "outputs": [
    {
     "name": "stdout",
     "output_type": "stream",
     "text": [
      "\n",
      "\n",
      "<p align=\"center\" class=\"a\"> text1</p>\n",
      " text1\n",
      "\n",
      "\n",
      "<p align=\"center\" class=\"b\"> text2</p>\n",
      " text2\n",
      "\n",
      "\n",
      "<p align=\"center\" class=\"c\"> text3</p>\n",
      " text3\n",
      "\n",
      "\n",
      "<div>\n",
      "<img height=\"200\" src=\"/source\" width=\"300\"/>\n",
      "</div>\n",
      "\n",
      "\n",
      "<img height=\"200\" src=\"/source\" width=\"300\"/>\n",
      "\n",
      "\n",
      "\n",
      "\n"
     ]
    }
   ],
   "source": [
    "# 자손\n",
    "for d in contents.descendants:\n",
    "    print(d)"
   ]
  },
  {
   "cell_type": "code",
   "execution_count": 12,
   "metadata": {},
   "outputs": [
    {
     "data": {
      "text/plain": [
       "[<div>\n",
       " <img height=\"200\" src=\"/source\" width=\"300\"/>\n",
       " </div>,\n",
       " <body>\n",
       " <p align=\"center\" class=\"a\"> text1</p>\n",
       " <p align=\"center\" class=\"b\"> text2</p>\n",
       " <p align=\"center\" class=\"c\"> text3</p>\n",
       " <div>\n",
       " <img height=\"200\" src=\"/source\" width=\"300\"/>\n",
       " </div>\n",
       " </body>,\n",
       " \n",
       " <head>\n",
       " <title>crawler</title>\n",
       " </head>\n",
       " <body>\n",
       " <p align=\"center\" class=\"a\"> text1</p>\n",
       " <p align=\"center\" class=\"b\"> text2</p>\n",
       " <p align=\"center\" class=\"c\"> text3</p>\n",
       " <div>\n",
       " <img height=\"200\" src=\"/source\" width=\"300\"/>\n",
       " </div>\n",
       " </body>\n",
       " ]"
      ]
     },
     "execution_count": 12,
     "metadata": {},
     "output_type": "execute_result"
    }
   ],
   "source": [
    "# 조상\n",
    "img_tag = contents.find('img')\n",
    "list(img_tag.parents)"
   ]
  },
  {
   "cell_type": "code",
   "execution_count": 13,
   "metadata": {},
   "outputs": [
    {
     "name": "stdout",
     "output_type": "stream",
     "text": [
      "<body>\n",
      "<p align=\"center\" class=\"a\"> text1</p>\n",
      "<p align=\"center\" class=\"b\"> text2</p>\n",
      "<p align=\"center\" class=\"c\"> text3</p>\n",
      "<div>\n",
      "<img height=\"200\" src=\"/source\" width=\"300\"/>\n",
      "</div>\n",
      "</body>\n"
     ]
    }
   ],
   "source": [
    "img_tag = contents.find('img')\n",
    "print(img_tag.find_parent('body'))"
   ]
  },
  {
   "cell_type": "code",
   "execution_count": 10,
   "metadata": {},
   "outputs": [
    {
     "name": "stdout",
     "output_type": "stream",
     "text": [
      "<img height=\"200\" src=\"/source\" width=\"300\"/> \n",
      "\n",
      "<div>\n",
      "<img height=\"200\" src=\"/source\" width=\"300\"/>\n",
      "</div>\n"
     ]
    }
   ],
   "source": [
    "img_tag = contents.find('img')\n",
    "print(img_tag,'\\n')\n",
    "print(img_tag.parent)"
   ]
  },
  {
   "cell_type": "code",
   "execution_count": 19,
   "metadata": {},
   "outputs": [
    {
     "data": {
      "text/plain": [
       "[<p align=\"center\" class=\"a\"> text1</p>,\n",
       " <p align=\"center\" class=\"b\"> text2</p>,\n",
       " <p align=\"center\" class=\"c\"> text3</p>]"
      ]
     },
     "execution_count": 19,
     "metadata": {},
     "output_type": "execute_result"
    }
   ],
   "source": [
    "p_tags = soup.find_all('p')\n",
    "p_tags"
   ]
  },
  {
   "cell_type": "code",
   "execution_count": 22,
   "metadata": {},
   "outputs": [
    {
     "data": {
      "text/plain": [
       "[<p align=\"center\" class=\"b\"> text2</p>,\n",
       " <p align=\"center\" class=\"c\"> text3</p>]"
      ]
     },
     "execution_count": 22,
     "metadata": {},
     "output_type": "execute_result"
    }
   ],
   "source": [
    "p_tag = soup.find_all('p',attrs={'class':['b','c']})\n",
    "p_tag"
   ]
  },
  {
   "cell_type": "code",
   "execution_count": 21,
   "metadata": {},
   "outputs": [
    {
     "data": {
      "text/plain": [
       "[<p align=\"center\" class=\"b\"> text2</p>,\n",
       " <p align=\"center\" class=\"c\"> text3</p>]"
      ]
     },
     "execution_count": 21,
     "metadata": {},
     "output_type": "execute_result"
    }
   ],
   "source": [
    "p_tag = soup.find_all('p',class_=['b','c'])\n",
    "p_tag"
   ]
  },
  {
   "cell_type": "code",
   "execution_count": 44,
   "metadata": {},
   "outputs": [
    {
     "data": {
      "text/plain": [
       "'$15.00'"
      ]
     },
     "execution_count": 44,
     "metadata": {},
     "output_type": "execute_result"
    }
   ],
   "source": [
    "url = 'http://www.pythonscraping.com/pages/page3.html'\n",
    "html = req.urlopen(url)\n",
    "soup = BeautifulSoup(html,'html.parser')\n",
    "price = soup.find('img',attrs={'src':'../img/gifts/img1.jpg'}).parent.previous_sibling\n",
    "price.string.strip()"
   ]
  },
  {
   "cell_type": "code",
   "execution_count": 45,
   "metadata": {},
   "outputs": [
    {
     "data": {
      "text/plain": [
       "'$1.50'"
      ]
     },
     "execution_count": 45,
     "metadata": {},
     "output_type": "execute_result"
    }
   ],
   "source": [
    "url = 'http://www.pythonscraping.com/pages/page3.html'\n",
    "html = req.urlopen(url)\n",
    "soup = BeautifulSoup(html,'html.parser')\n",
    "price = soup.find('img',attrs={'src':'../img/gifts/img6.jpg'}).parent.previous_sibling\n",
    "price.string.strip()"
   ]
  },
  {
   "cell_type": "code",
   "execution_count": 8,
   "metadata": {},
   "outputs": [
    {
     "name": "stdout",
     "output_type": "stream",
     "text": [
      "<h1 class=\"logo_default\">\n",
      "<a class=\"logo_naver\" data-clk=\"top.logo\" href=\"/\"><span class=\"blind\">네이버</span></a>\n",
      "</h1>\n",
      "<h2 class=\"blind\">뉴스스탠드</h2>\n",
      "<h2 class=\"blind\">주제별 캐스트</h2>\n",
      "<h2 class=\"title\"><span class=\"blind\">BEIJING 2022</span></h2>\n",
      "<h2 class=\"blind\">Sign in</h2>\n",
      "<h2 class=\"blind\">타임스퀘어</h2>\n",
      "<h3 class=\"title\"><a href=\"https://www.naver.com/NOTICE\">공지사항</a> </h3>\n",
      "<h3 class=\"title\">Creators</h3>\n",
      "<h3 class=\"title\">Partners</h3>\n",
      "<h3 class=\"title\">Developers</h3>\n",
      "<h3 class=\"blind\">네이버 정책 및 약관</h3>\n"
     ]
    }
   ],
   "source": [
    "html = requests.get('https://www.naver.com').text\n",
    "bs = BeautifulSoup(html, 'html.parser')\n",
    "hlists = bs.find_all({'h1','h2','h3','h4','h5'})\n",
    "for i in hlists:\n",
    "    print(i)"
   ]
  },
  {
   "cell_type": "code",
   "execution_count": 7,
   "metadata": {},
   "outputs": [
    {
     "data": {
      "text/plain": [
       "<h2 class=\"blind\">뉴스스탠드</h2>"
      ]
     },
     "execution_count": 7,
     "metadata": {},
     "output_type": "execute_result"
    }
   ],
   "source": [
    "hlists = bs.find({'h1','h2','h3','h4','h5'},text ='뉴스스탠드')\n",
    "hlists"
   ]
  },
  {
   "cell_type": "code",
   "execution_count": 13,
   "metadata": {},
   "outputs": [
    {
     "name": "stdout",
     "output_type": "stream",
     "text": [
      " 뉴스스탠드  구독한 언론사 전체언론사    리스트형  썸네일형  설정  \n"
     ]
    }
   ],
   "source": [
    "ttls = bs.findAll(id='NM_NEWSSTAND_TITLE')\n",
    "for t in ttls:\n",
    "    print(t.text)"
   ]
  },
  {
   "cell_type": "code",
   "execution_count": 66,
   "metadata": {},
   "outputs": [
    {
     "name": "stdout",
     "output_type": "stream",
     "text": [
      "\n",
      "국가기술자격\n",
      "관련 근거\n",
      "국가기술자격법 및 동법 시행령\n",
      "빅데이터분석기사 정의\n",
      "빅데이터 이해를 기반으로 빅데이터 분석 기획, 빅데이터 수집·저장·처리, 빅데이터 분석 및 시각화를 수행하는 실무자를 말한다.\n",
      "빅데이터분석기사의 필요성\n",
      "전 세계적으로 빅데이터가 미래성장동력으로 인식돼, 각국 정부에서는 관련 기업투자를 끌어내는 등 국가·기업의 주요 전략분야로 부상하고 있다.\n",
      " 국가와 기업의 경쟁력 확보를 위해 빅데이터 분석 전문가의 수요는 증가하고 있으나, 수요 대비 공급 부족으로 인력 확보에 어려움이 높은 실정이다. \n",
      "이에 정부차원에서 빅데이터 분석 전문가 양성과 함께 체계적으로 역량을 검증할 수 있는 국가기술자격 수요가 높은 편이다.\n",
      "빅데이터분석기사의 직무\n",
      "대용량의 데이터 집합으로부터 유용한 정보를 찾고 결과를 예측하기 위해 목적에 따라 분석기술과 방법론을 기반으로 정형/비정형 대용량 데이터를 구축, 탐색, 분석하고 시각화를 수행하는 업무를 수행한다.\n",
      "\n"
     ]
    }
   ],
   "source": [
    "# [과제] 빈줄 없이 출력\n",
    "html = requests.get('https://www.dataq.or.kr/www/sub/a_07.do').text\n",
    "soup = BeautifulSoup(html, 'html.parser')\n",
    "\n",
    "a = soup.find(id = 'tab1').text\n",
    "# print(re.sub('(\\n\\n)+', '\\n', a)) #제목만 칸띄우기\n",
    "print(re.sub('\\n{2,}', '\\n', a))"
   ]
  },
  {
   "cell_type": "code",
   "execution_count": 76,
   "metadata": {},
   "outputs": [
    {
     "name": "stdout",
     "output_type": "stream",
     "text": [
      "국가기술자격\n",
      "관련 근거\n",
      "국가기술자격법 및 동법 시행령\n",
      "빅데이터분석기사 정의\n",
      "빅데이터 이해를 기반으로 빅데이터 분석 기획, 빅데이터 수집·저장·처리, 빅데이터 분석 및 시각화를 수행하는 실무자를 말한다.\n",
      "빅데이터분석기사의 필요성\n",
      "전 세계적으로 빅데이터가 미래성장동력으로 인식돼, 각국 정부에서는 관련 기업투자를 끌어내는 등 국가·기업의 주요 전략분야로 부상하고 있다.\n",
      " 국가와 기업의 경쟁력 확보를 위해 빅데이터 분석 전문가의 수요는 증가하고 있으나, 수요 대비 공급 부족으로 인력 확보에 어려움이 높은 실정이다. \n",
      "이에 정부차원에서 빅데이터 분석 전문가 양성과 함께 체계적으로 역량을 검증할 수 있는 국가기술자격 수요가 높은 편이다.\n",
      "빅데이터분석기사의 직무\n",
      "대용량의 데이터 집합으로부터 유용한 정보를 찾고 결과를 예측하기 위해 목적에 따라 분석기술과 방법론을 기반으로 정형/비정형 대용량 데이터를 구축, 탐색, 분석하고 시각화를 수행하는 업무를 수행한다.\n"
     ]
    }
   ],
   "source": [
    "html = requests.get('https://www.dataq.or.kr/www/sub/a_07.do').text\n",
    "soup = BeautifulSoup(html, 'html.parser')\n",
    "texts = soup.select_one('#tab1').text\n",
    "texts\n",
    "tt = re.findall('.+\\n?.+',texts)\n",
    "for i in tt:\n",
    "    print(i)"
   ]
  },
  {
   "cell_type": "code",
   "execution_count": 55,
   "metadata": {},
   "outputs": [
    {
     "name": "stdout",
     "output_type": "stream",
     "text": [
      "<html>\n",
      " <head>\n",
      "  <style>\n",
      "   .green{\n",
      "\tcolor:#55ff55;\n",
      "}\n",
      ".red{\n",
      "\tcolor:#ff5555;\n",
      "}\n",
      "#text{\n",
      "\twidth:50%;\n",
      "}\n",
      "  </style>\n",
      " </head>\n",
      " <body>\n",
      "  <h1>\n",
      "   War and Peace\n",
      "  </h1>\n",
      "  <h2>\n",
      "   Chapter 1\n",
      "  </h2>\n",
      "  <div id=\"text\">\n",
      "   \"\n",
      "   <span class=\"red\">\n",
      "    Well, Prince, so Genoa and Lucca are now just family estates of the\n",
      "Buonapartes. But I warn you, if you don't tell me that this means war,\n",
      "if you still try to defend the infamies and horrors perpetrated by\n",
      "that Antichrist- I really believe he is Antichrist- I will have\n",
      "nothing more to do with you and you are no longer my friend, no longer\n",
      "my 'faithful slave,' as you call yourself! But how do you do? I see\n",
      "I have frightened you- sit down and tell me all the news.\n",
      "   </span>\n",
      "   \"\n",
      "   <p>\n",
      "   </p>\n",
      "   It was in July, 1805, and the speaker was the well-known\n",
      "   <span class=\"green\">\n",
      "    Anna\n",
      "Pavlovna Scherer\n",
      "   </span>\n",
      "   , maid of honor and favorite of the\n",
      "   <span class=\"green\">\n",
      "    Empress Marya\n",
      "Fedorovna\n",
      "   </span>\n",
      "   . With these words she greeted\n",
      "   <span class=\"green\">\n",
      "    Prince Vasili Kuragin\n",
      "   </span>\n",
      "   , a man\n",
      "of high rank and importance, who was the first to arrive at her\n",
      "reception.\n",
      "   <span class=\"green\">\n",
      "    Anna Pavlovna\n",
      "   </span>\n",
      "   had had a cough for some days. She was, as\n",
      "she said, suffering from la grippe; grippe being then a new word in\n",
      "   <span class=\"green\">\n",
      "    St. Petersburg\n",
      "   </span>\n",
      "   , used only by the elite.\n",
      "   <p>\n",
      "   </p>\n",
      "   All her invitations without exception, written in French, and\n",
      "delivered by a scarlet-liveried footman that morning, ran as follows:\n",
      "   <p>\n",
      "   </p>\n",
      "   \"\n",
      "   <span class=\"red\">\n",
      "    If you have nothing better to do, Count [or Prince], and if the\n",
      "prospect of spending an evening with a poor invalid is not too\n",
      "terrible, I shall be very charmed to see you tonight between 7 and 10-\n",
      "Annette Scherer.\n",
      "   </span>\n",
      "   \"\n",
      "   <p>\n",
      "   </p>\n",
      "   \"\n",
      "   <span class=\"red\">\n",
      "    Heavens! what a virulent attack!\n",
      "   </span>\n",
      "   \" replied\n",
      "   <span class=\"green\">\n",
      "    the prince\n",
      "   </span>\n",
      "   , not in the\n",
      "least disconcerted by this reception. He had just entered, wearing\n",
      "an embroidered court uniform, knee breeches, and shoes, and had\n",
      "stars on his breast and a serene expression on his flat face. He spoke\n",
      "in that refined French in which our grandfathers not only spoke but\n",
      "thought, and with the gentle, patronizing intonation natural to a\n",
      "man of importance who had grown old in society and at court. He went\n",
      "up to\n",
      "   <span class=\"green\">\n",
      "    Anna Pavlovna\n",
      "   </span>\n",
      "   , kissed her hand, presenting to her his bald,\n",
      "scented, and shining head, and complacently seated himself on the\n",
      "sofa.\n",
      "   <p>\n",
      "   </p>\n",
      "   \"\n",
      "   <span class=\"red\">\n",
      "    First of all, dear friend, tell me how you are. Set your friend's\n",
      "mind at rest,\n",
      "   </span>\n",
      "   \" said he without altering his tone, beneath the\n",
      "politeness and affected sympathy of which indifference and even\n",
      "irony could be discerned.\n",
      "   <p>\n",
      "   </p>\n",
      "   \"\n",
      "   <span class=\"red\">\n",
      "    Can one be well while suffering morally? Can one be calm in times\n",
      "like these if one has any feeling?\n",
      "   </span>\n",
      "   \" said\n",
      "   <span class=\"green\">\n",
      "    Anna Pavlovna\n",
      "   </span>\n",
      "   . \"\n",
      "   <span class=\"red\">\n",
      "    You are\n",
      "staying the whole evening, I hope?\n",
      "   </span>\n",
      "   \"\n",
      "   <p>\n",
      "   </p>\n",
      "   \"\n",
      "   <span class=\"red\">\n",
      "    And the fete at the English ambassador's? Today is Wednesday. I\n",
      "must put in an appearance there,\n",
      "   </span>\n",
      "   \" said\n",
      "   <span class=\"green\">\n",
      "    the prince\n",
      "   </span>\n",
      "   . \"\n",
      "   <span class=\"red\">\n",
      "    My daughter is\n",
      "coming for me to take me there.\n",
      "   </span>\n",
      "   \"\n",
      "   <p>\n",
      "   </p>\n",
      "   \"\n",
      "   <span class=\"red\">\n",
      "    I thought today's fete had been canceled. I confess all these\n",
      "festivities and fireworks are becoming wearisome.\n",
      "   </span>\n",
      "   \"\n",
      "   <p>\n",
      "   </p>\n",
      "   \"\n",
      "   <span class=\"red\">\n",
      "    If they had known that you wished it, the entertainment would\n",
      "have been put off,\n",
      "   </span>\n",
      "   \" said\n",
      "   <span class=\"green\">\n",
      "    the prince\n",
      "   </span>\n",
      "   , who, like a wound-up clock, by\n",
      "force of habit said things he did not even wish to be believed.\n",
      "   <p>\n",
      "   </p>\n",
      "   \"\n",
      "   <span class=\"red\">\n",
      "    Don't tease! Well, and what has been decided about Novosiltsev's\n",
      "dispatch? You know everything.\n",
      "   </span>\n",
      "   \"\n",
      "   <p>\n",
      "   </p>\n",
      "   \"\n",
      "   <span class=\"red\">\n",
      "    What can one say about it?\n",
      "   </span>\n",
      "   \" replied\n",
      "   <span class=\"green\">\n",
      "    the prince\n",
      "   </span>\n",
      "   in a cold,\n",
      "listless tone. \"\n",
      "   <span class=\"red\">\n",
      "    What has been decided? They have decided that\n",
      "Buonaparte has burnt his boats, and I believe that we are ready to\n",
      "burn ours.\n",
      "   </span>\n",
      "   \"\n",
      "   <p>\n",
      "   </p>\n",
      "   <span class=\"green\">\n",
      "    Prince Vasili\n",
      "   </span>\n",
      "   always spoke languidly, like an actor repeating a\n",
      "stale part.\n",
      "   <span class=\"green\">\n",
      "    Anna Pavlovna\n",
      "   </span>\n",
      "   Scherer on the contrary, despite her forty\n",
      "years, overflowed with animation and impulsiveness. To be an\n",
      "enthusiast had become her social vocation and, sometimes even when she\n",
      "did not feel like it, she became enthusiastic in order not to\n",
      "disappoint the expectations of those who knew her. The subdued smile\n",
      "which, though it did not suit her faded features, always played\n",
      "round her lips expressed, as in a spoiled child, a continual\n",
      "consciousness of her charming defect, which she neither wished, nor\n",
      "could, nor considered it necessary, to correct.\n",
      "   <p>\n",
      "   </p>\n",
      "   In the midst of a conversation on political matters\n",
      "   <span class=\"green\">\n",
      "    Anna Pavlovna\n",
      "   </span>\n",
      "   burst out:\n",
      "   <p>\n",
      "   </p>\n",
      "   \"\n",
      "   <span class=\"red\">\n",
      "    Oh, don't speak to me of Austria. Perhaps I don't understand\n",
      "things, but Austria never has wished, and does not wish, for war.\n",
      "She is betraying us! Russia alone must save Europe. Our gracious\n",
      "sovereign recognizes his high vocation and will be true to it. That is\n",
      "the one thing I have faith in! Our good and wonderful sovereign has to\n",
      "perform the noblest role on earth, and he is so virtuous and noble\n",
      "that God will not forsake him. He will fulfill his vocation and\n",
      "crush the hydra of revolution, which has become more terrible than\n",
      "ever in the person of this murderer and villain! We alone must\n",
      "avenge the blood of the just one.... Whom, I ask you, can we rely\n",
      "on?... England with her commercial spirit will not and cannot\n",
      "understand the Emperor Alexander's loftiness of soul. She has\n",
      "refused to evacuate Malta. She wanted to find, and still seeks, some\n",
      "secret motive in our actions. What answer did Novosiltsev get? None.\n",
      "The English have not understood and cannot understand the\n",
      "self-abnegation of our Emperor who wants nothing for himself, but only\n",
      "desires the good of mankind. And what have they promised? Nothing! And\n",
      "what little they have promised they will not perform! Prussia has\n",
      "always declared that Buonaparte is invincible, and that all Europe\n",
      "is powerless before him.... And I don't believe a word that Hardenburg\n",
      "says, or Haugwitz either. This famous Prussian neutrality is just a\n",
      "trap. I have faith only in God and the lofty destiny of our adored\n",
      "monarch. He will save Europe!\n",
      "   </span>\n",
      "   \"\n",
      "   <p>\n",
      "   </p>\n",
      "   She suddenly paused, smiling at her own impetuosity.\n",
      "   <p>\n",
      "   </p>\n",
      "   \"\n",
      "   <span class=\"red\">\n",
      "    I think,\n",
      "   </span>\n",
      "   \" said\n",
      "   <span class=\"green\">\n",
      "    the prince\n",
      "   </span>\n",
      "   with a smile, \"\n",
      "   <span class=\"red\">\n",
      "    that if you had been\n",
      "sent instead of our dear\n",
      "    <span class=\"green\">\n",
      "     Wintzingerode\n",
      "    </span>\n",
      "    you would have captured the\n",
      "    <span class=\"green\">\n",
      "     King of Prussia\n",
      "    </span>\n",
      "    's consent by assault. You are so eloquent. Will you\n",
      "give me a cup of tea?\n",
      "   </span>\n",
      "   \"\n",
      "   <p>\n",
      "   </p>\n",
      "   \"\n",
      "   <span class=\"red\">\n",
      "    In a moment. A propos,\n",
      "   </span>\n",
      "   \" she added, becoming calm again, \"\n",
      "   <span class=\"red\">\n",
      "    I am\n",
      "expecting two very interesting men tonight,\n",
      "    <span class=\"green\">\n",
      "     le Vicomte de Mortemart\n",
      "    </span>\n",
      "    ,\n",
      "who is connected with the\n",
      "    <span class=\"green\">\n",
      "     Montmorencys\n",
      "    </span>\n",
      "    through the\n",
      "    <span class=\"green\">\n",
      "     Rohans\n",
      "    </span>\n",
      "    , one of\n",
      "the best French families. He is one of the genuine emigres, the good\n",
      "ones. And also the\n",
      "    <span class=\"green\">\n",
      "     Abbe Morio\n",
      "    </span>\n",
      "    . Do you know that profound thinker? He\n",
      "has been received by\n",
      "    <span class=\"green\">\n",
      "     the Emperor\n",
      "    </span>\n",
      "    . Had you heard?\n",
      "   </span>\n",
      "   \"\n",
      "   <p>\n",
      "   </p>\n",
      "   \"\n",
      "   <span class=\"red\">\n",
      "    I shall be delighted to meet them,\n",
      "   </span>\n",
      "   \" said\n",
      "   <span class=\"green\">\n",
      "    the prince\n",
      "   </span>\n",
      "   . \"\n",
      "   <span class=\"red\">\n",
      "    But tell me,\n",
      "   </span>\n",
      "   \"\n",
      "he added with studied carelessness as if it had only just occurred\n",
      "to him, though the question he was about to ask was the chief motive\n",
      "of his visit, \"\n",
      "   <span class=\"red\">\n",
      "    is it true that the Dowager Empress wants Baron Funke\n",
      "to be appointed first secretary at Vienna? The baron by all accounts\n",
      "is a poor creature.\n",
      "   </span>\n",
      "   \"\n",
      "   <p>\n",
      "   </p>\n",
      "   <span class=\"green\">\n",
      "    Prince Vasili\n",
      "   </span>\n",
      "   wished to obtain this post for his son, but others\n",
      "were trying through the\n",
      "   <span class=\"green\">\n",
      "    Dowager Empress Marya Fedorovna\n",
      "   </span>\n",
      "   to secure it\n",
      "for\n",
      "   <span class=\"green\">\n",
      "    the baron\n",
      "   </span>\n",
      "   .\n",
      "   <p>\n",
      "   </p>\n",
      "   <span class=\"green\">\n",
      "    Anna Pavlovna\n",
      "   </span>\n",
      "   almost closed her eyes to indicate that neither she\n",
      "nor anyone else had a right to criticize what\n",
      "   <span class=\"green\">\n",
      "    the Empress\n",
      "   </span>\n",
      "   desired or\n",
      "was pleased with.\n",
      "   <p>\n",
      "   </p>\n",
      "   \"\n",
      "   <span class=\"red\">\n",
      "    Baron Funke has been recommended to the Dowager Empress by her\n",
      "sister,\n",
      "   </span>\n",
      "   \" was all she said, in a dry and mournful tone.\n",
      "   <p>\n",
      "   </p>\n",
      "   As she named\n",
      "   <span class=\"green\">\n",
      "    the Empress\n",
      "   </span>\n",
      "   ,\n",
      "   <span class=\"green\">\n",
      "    Anna Pavlovna's\n",
      "   </span>\n",
      "   face suddenly assumed an\n",
      "expression of profound and sincere devotion and respect mingled with\n",
      "sadness, and this occurred every time she mentioned her illustrious\n",
      "patroness. She added that\n",
      "   <span class=\"green\">\n",
      "    Her Majesty\n",
      "   </span>\n",
      "   had deigned to show\n",
      "   <span class=\"green\">\n",
      "    Baron\n",
      "Funke\n",
      "   </span>\n",
      "   , and again her face clouded over with sadness.\n",
      "   <p>\n",
      "   </p>\n",
      "   <span class=\"green\">\n",
      "    The prince\n",
      "   </span>\n",
      "   was silent and looked indifferent. But, with the\n",
      "womanly and courtierlike quickness and tact habitual to her,\n",
      "   <span class=\"green\">\n",
      "    Anna\n",
      "Pavlovna\n",
      "   </span>\n",
      "   wished both to rebuke him (for daring to speak he had done of\n",
      "a man recommended to\n",
      "   <span class=\"green\">\n",
      "    the Empress\n",
      "   </span>\n",
      "   ) and at the same time to console him,\n",
      "so she said:\n",
      "   <p>\n",
      "   </p>\n",
      "   \"\n",
      "   <span class=\"red\">\n",
      "    Now about your family. Do you know that since your daughter came\n",
      "out everyone has been enraptured by her? They say she is amazingly\n",
      "beautiful.\n",
      "   </span>\n",
      "   \"\n",
      "   <p>\n",
      "   </p>\n",
      "   <span class=\"green\">\n",
      "    The prince\n",
      "   </span>\n",
      "   bowed to signify his respect and gratitude.\n",
      "   <p>\n",
      "   </p>\n",
      "   \"\n",
      "   <span class=\"red\">\n",
      "    I often think,\n",
      "   </span>\n",
      "   \" she continued after a short pause, drawing nearer\n",
      "to the prince and smiling amiably at him as if to show that\n",
      "political and social topics were ended and the time had come for\n",
      "intimate conversation- \"\n",
      "   <span class=\"red\">\n",
      "    I often think how unfairly sometimes the\n",
      "joys of life are distributed. Why has fate given you two such splendid\n",
      "children? I don't speak of\n",
      "    <span class=\"green\">\n",
      "     Anatole\n",
      "    </span>\n",
      "    , your youngest. I don't like\n",
      "him,\n",
      "   </span>\n",
      "   \" she added in a tone admitting of no rejoinder and raising her\n",
      "eyebrows. \"\n",
      "   <span class=\"red\">\n",
      "    Two such charming children. And really you appreciate\n",
      "them less than anyone, and so you don't deserve to have them.\n",
      "   </span>\n",
      "   \"\n",
      "   <p>\n",
      "   </p>\n",
      "   And she smiled her ecstatic smile.\n",
      "   <p>\n",
      "   </p>\n",
      "   \"\n",
      "   <span class=\"red\">\n",
      "    I can't help it,\n",
      "   </span>\n",
      "   \" said\n",
      "   <span class=\"green\">\n",
      "    the prince\n",
      "   </span>\n",
      "   . \"\n",
      "   <span class=\"red\">\n",
      "    Lavater would have said I\n",
      "lack the bump of paternity.\n",
      "   </span>\n",
      "   \"\n",
      "   <p>\n",
      "   </p>\n",
      "   \"\n",
      "   <span class=\"red\">\n",
      "    Don't joke; I mean to have a serious talk with you. Do you know I\n",
      "am dissatisfied with your younger son? Between ourselves\n",
      "   </span>\n",
      "   \" (and her\n",
      "face assumed its melancholy expression), \"\n",
      "   <span class=\"red\">\n",
      "    he was mentioned at Her\n",
      "Majesty's and you were pitied....\n",
      "   </span>\n",
      "   \"\n",
      "   <p>\n",
      "   </p>\n",
      "   <span class=\"green\">\n",
      "    The prince\n",
      "   </span>\n",
      "   answered nothing, but she looked at him significantly,\n",
      "awaiting a reply. He frowned.\n",
      "   <p>\n",
      "   </p>\n",
      "   \"\n",
      "   <span class=\"red\">\n",
      "    What would you have me do?\n",
      "   </span>\n",
      "   \" he said at last. \"\n",
      "   <span class=\"red\">\n",
      "    You know I did all\n",
      "a father could for their education, and they have both turned out\n",
      "fools. Hippolyte is at least a quiet fool, but Anatole is an active\n",
      "one. That is the only difference between them.\n",
      "   </span>\n",
      "   \" He said this smiling\n",
      "in a way more natural and animated than usual, so that the wrinkles\n",
      "round his mouth very clearly revealed something unexpectedly coarse\n",
      "and unpleasant.\n",
      "   <p>\n",
      "   </p>\n",
      "   \"\n",
      "   <span class=\"red\">\n",
      "    And why are children born to such men as you? If you were not a\n",
      "father there would be nothing I could reproach you with,\n",
      "   </span>\n",
      "   \" said\n",
      "   <span class=\"green\">\n",
      "    Anna\n",
      "Pavlovna\n",
      "   </span>\n",
      "   , looking up pensively.\n",
      "   <p>\n",
      "   </p>\n",
      "   \"\n",
      "   <span class=\"red\">\n",
      "    I am your faithful slave and to you alone I can confess that my\n",
      "children are the bane of my life. It is the cross I have to bear. That\n",
      "is how I explain it to myself. It can't be helped!\n",
      "   </span>\n",
      "   \"\n",
      "   <p>\n",
      "   </p>\n",
      "   He said no more, but expressed his resignation to cruel fate by a\n",
      "gesture.\n",
      "   <span class=\"green\">\n",
      "    Anna Pavlovna\n",
      "   </span>\n",
      "   meditated.\n",
      "  </div>\n",
      " </body>\n",
      "</html>\n",
      "\n"
     ]
    }
   ],
   "source": [
    "url = 'http://www.pythonscraping.com/pages/warandpeace.html'\n",
    "url_req = requests.get(url).text\n",
    "bs = BeautifulSoup(url_req,'html.parser')\n",
    "print(bs.prettify())"
   ]
  },
  {
   "cell_type": "code",
   "execution_count": 75,
   "metadata": {},
   "outputs": [
    {
     "name": "stdout",
     "output_type": "stream",
     "text": [
      "No.0 :\n",
      ",Well, Prince, so Genoa and Lucca are now just family estates of the\n",
      "Buonapartes. But I warn you, if you don't tell me that this means war,\n",
      "if you still try to defend the infamies and horrors perpetrated by\n",
      "that Antichrist- I really believe he is Antichrist- I will have\n",
      "nothing more to do with you and you are no longer my friend, no longer\n",
      "my 'faithful slave,' as you call yourself! But how do you do? I see\n",
      "I have frightened you- sit down and tell me all the news.,\n",
      "\n",
      "No.1 :\n",
      ",If you have nothing better to do, Count [or Prince], and if the\n",
      "prospect of spending an evening with a poor invalid is not too\n",
      "terrible, I shall be very charmed to see you tonight between 7 and 10-\n",
      "Annette Scherer.,\n",
      "\n",
      "No.2 :\n",
      ",Heavens! what a virulent attack!,\n",
      "\n",
      "No.3 :\n",
      ",First of all, dear friend, tell me how you are. Set your friend's\n",
      "mind at rest,,\n",
      "\n",
      "No.4 :\n",
      ",Can one be well while suffering morally? Can one be calm in times\n",
      "like these if one has any feeling?,\n",
      "\n",
      "No.5 :\n",
      ",You are\n",
      "staying the whole evening, I hope?,\n",
      "\n",
      "No.6 :\n",
      ",And the fete at the English ambassador's? Today is Wednesday. I\n",
      "must put in an appearance there,,\n",
      "\n",
      "No.7 :\n",
      ",My daughter is\n",
      "coming for me to take me there.,\n",
      "\n",
      "No.8 :\n",
      ",I thought today's fete had been canceled. I confess all these\n",
      "festivities and fireworks are becoming wearisome.,\n",
      "\n",
      "No.9 :\n",
      ",If they had known that you wished it, the entertainment would\n",
      "have been put off,,\n",
      "\n",
      "No.10 :\n",
      ",Don't tease! Well, and what has been decided about Novosiltsev's\n",
      "dispatch? You know everything.,\n",
      "\n",
      "No.11 :\n",
      ",What can one say about it?,\n",
      "\n",
      "No.12 :\n",
      ",What has been decided? They have decided that\n",
      "Buonaparte has burnt his boats, and I believe that we are ready to\n",
      "burn ours.,\n",
      "\n",
      "No.13 :\n",
      ",Oh, don't speak to me of Austria. Perhaps I don't understand\n",
      "things, but Austria never has wished, and does not wish, for war.\n",
      "She is betraying us! Russia alone must save Europe. Our gracious\n",
      "sovereign recognizes his high vocation and will be true to it. That is\n",
      "the one thing I have faith in! Our good and wonderful sovereign has to\n",
      "perform the noblest role on earth, and he is so virtuous and noble\n",
      "that God will not forsake him. He will fulfill his vocation and\n",
      "crush the hydra of revolution, which has become more terrible than\n",
      "ever in the person of this murderer and villain! We alone must\n",
      "avenge the blood of the just one.... Whom, I ask you, can we rely\n",
      "on?... England with her commercial spirit will not and cannot\n",
      "understand the Emperor Alexander's loftiness of soul. She has\n",
      "refused to evacuate Malta. She wanted to find, and still seeks, some\n",
      "secret motive in our actions. What answer did Novosiltsev get? None.\n",
      "The English have not understood and cannot understand the\n",
      "self-abnegation of our Emperor who wants nothing for himself, but only\n",
      "desires the good of mankind. And what have they promised? Nothing! And\n",
      "what little they have promised they will not perform! Prussia has\n",
      "always declared that Buonaparte is invincible, and that all Europe\n",
      "is powerless before him.... And I don't believe a word that Hardenburg\n",
      "says, or Haugwitz either. This famous Prussian neutrality is just a\n",
      "trap. I have faith only in God and the lofty destiny of our adored\n",
      "monarch. He will save Europe!,\n",
      "\n",
      "No.14 :\n",
      ",I think,,\n",
      "\n",
      "No.15 :\n",
      ",that if you had been\n",
      "sent instead of our dear Wintzingerode you would have captured the\n",
      "King of Prussia's consent by assault. You are so eloquent. Will you\n",
      "give me a cup of tea?,\n",
      "\n",
      "No.16 :\n",
      ",In a moment. A propos,,\n",
      "\n",
      "No.17 :\n",
      ",I am\n",
      "expecting two very interesting men tonight, le Vicomte de Mortemart,\n",
      "who is connected with the Montmorencys through the Rohans, one of\n",
      "the best French families. He is one of the genuine emigres, the good\n",
      "ones. And also the Abbe Morio. Do you know that profound thinker? He\n",
      "has been received by the Emperor. Had you heard?,\n",
      "\n",
      "No.18 :\n",
      ",I shall be delighted to meet them,,\n",
      "\n",
      "No.19 :\n",
      ",But tell me,,\n",
      "\n",
      "No.20 :\n",
      ",is it true that the Dowager Empress wants Baron Funke\n",
      "to be appointed first secretary at Vienna? The baron by all accounts\n",
      "is a poor creature.,\n",
      "\n",
      "No.21 :\n",
      ",Baron Funke has been recommended to the Dowager Empress by her\n",
      "sister,,\n",
      "\n",
      "No.22 :\n",
      ",Now about your family. Do you know that since your daughter came\n",
      "out everyone has been enraptured by her? They say she is amazingly\n",
      "beautiful.,\n",
      "\n",
      "No.23 :\n",
      ",I often think,,\n",
      "\n",
      "No.24 :\n",
      ",I often think how unfairly sometimes the\n",
      "joys of life are distributed. Why has fate given you two such splendid\n",
      "children? I don't speak of Anatole, your youngest. I don't like\n",
      "him,,\n",
      "\n",
      "No.25 :\n",
      ",Two such charming children. And really you appreciate\n",
      "them less than anyone, and so you don't deserve to have them.,\n",
      "\n",
      "No.26 :\n",
      ",I can't help it,,\n",
      "\n",
      "No.27 :\n",
      ",Lavater would have said I\n",
      "lack the bump of paternity.,\n",
      "\n",
      "No.28 :\n",
      ",Don't joke; I mean to have a serious talk with you. Do you know I\n",
      "am dissatisfied with your younger son? Between ourselves,\n",
      "\n",
      "No.29 :\n",
      ",he was mentioned at Her\n",
      "Majesty's and you were pitied....,\n",
      "\n",
      "No.30 :\n",
      ",What would you have me do?,\n",
      "\n",
      "No.31 :\n",
      ",You know I did all\n",
      "a father could for their education, and they have both turned out\n",
      "fools. Hippolyte is at least a quiet fool, but Anatole is an active\n",
      "one. That is the only difference between them.,\n",
      "\n",
      "No.32 :\n",
      ",And why are children born to such men as you? If you were not a\n",
      "father there would be nothing I could reproach you with,,\n",
      "\n",
      "No.33 :\n",
      ",I am your faithful slave and to you alone I can confess that my\n",
      "children are the bane of my life. It is the cross I have to bear. That\n",
      "is how I explain it to myself. It can't be helped!,\n",
      "\n"
     ]
    }
   ],
   "source": [
    "d1 = bs.find(id='text')\n",
    "# print(d1.text)\n",
    "d2 = bs.findAll('span',{'class':'red'})\n",
    "for i,d in enumerate(d2):\n",
    "    print(f'No.{i} :\\n,{d.text},\\n')"
   ]
  },
  {
   "cell_type": "code",
   "execution_count": null,
   "metadata": {},
   "outputs": [],
   "source": [
    "# Q. 전쟁과 평화에 등장하는 모든 고유명사를 출력하세요."
   ]
  },
  {
   "cell_type": "code",
   "execution_count": 125,
   "metadata": {},
   "outputs": [
    {
     "data": {
      "text/plain": [
       "[<span class=\"green\">Anna\n",
       " Pavlovna Scherer</span>,\n",
       " <span class=\"green\">Empress Marya\n",
       " Fedorovna</span>,\n",
       " <span class=\"green\">Prince Vasili Kuragin</span>,\n",
       " <span class=\"green\">Anna Pavlovna</span>,\n",
       " <span class=\"green\">St. Petersburg</span>,\n",
       " <span class=\"green\">the prince</span>,\n",
       " <span class=\"green\">Anna Pavlovna</span>,\n",
       " <span class=\"green\">Anna Pavlovna</span>,\n",
       " <span class=\"green\">the prince</span>,\n",
       " <span class=\"green\">the prince</span>]"
      ]
     },
     "execution_count": 125,
     "metadata": {},
     "output_type": "execute_result"
    }
   ],
   "source": [
    "url = 'http://www.pythonscraping.com/pages/warandpeace.html'\n",
    "url_req = requests.get(url).text\n",
    "bs = BeautifulSoup(url_req,'html.parser')\n",
    "\n",
    "d2 = bs.findAll('span',{'class':'green'})\n",
    "d2[:10]"
   ]
  },
  {
   "cell_type": "code",
   "execution_count": 122,
   "metadata": {},
   "outputs": [
    {
     "name": "stdout",
     "output_type": "stream",
     "text": [
      "Anna Pavlovna Scherer\n",
      "Empress Marya Fedorovna\n",
      "Prince Vasili Kuragin\n",
      "Anna Pavlovna\n",
      "St. Petersburg\n",
      "Anna Pavlovna\n",
      "Anna Pavlovna\n",
      "Prince Vasili\n",
      "Anna Pavlovna\n",
      "Anna Pavlovna\n",
      "Wintzingerode\n",
      "King of Prussia\n",
      "le Vicomte de Mortemart\n",
      "Montmorencys\n",
      "Rohans\n",
      "Abbe Morio\n",
      "Prince Vasili\n",
      "Dowager Empress Marya Fedorovna\n",
      "Anna Pavlovna\n",
      "Baron Funke\n",
      "Anna Pavlovna\n",
      "Anatole\n",
      "Anna Pavlovna\n",
      "Anna Pavlovna\n"
     ]
    }
   ],
   "source": [
    "# Q. 전쟁과 평화에 등장하는 모든 고유명사를 출력하세요.\n",
    "url = 'http://www.pythonscraping.com/pages/warandpeace.html'\n",
    "url_req = requests.get(url).text\n",
    "bs = BeautifulSoup(url_req,'html.parser')\n",
    "\n",
    "d2 = bs.findAll('span',{'class':'green'})\n",
    "\n",
    "def check(text):\n",
    "    checking = ('the','The','her','Her','his','His','its','Its')\n",
    "    checking2 = (\"'s\")\n",
    "    if text.startswith(checking) == False and text.endswith(checking2) == False:\n",
    "        print(text)\n",
    "\n",
    "for i in d2:\n",
    "    i = i.text.replace('\\n',' ')\n",
    "    check(i)"
   ]
  },
  {
   "cell_type": "code",
   "execution_count": 124,
   "metadata": {},
   "outputs": [
    {
     "name": "stdout",
     "output_type": "stream",
     "text": [
      "Anna Pavlovna Scherer\n",
      "Empress Marya Fedorovna\n",
      "Prince Vasili Kuragin\n",
      "Anna Pavlovna\n",
      "Annette Scherer\n",
      "Anna Pavlovna\n",
      "Anna Pavlovna\n",
      "Prince Vasili\n",
      "Anna Pavlovna Scherer\n",
      "Anna Pavlovna\n",
      "Emperor Alexander\n",
      "The English\n",
      "Abbe Morio\n",
      "Dowager Empress\n",
      "Baron Funke\n",
      "Prince Vasili\n",
      "Dowager Empress Marya Fedorovna\n",
      "Anna Pavlovna\n",
      "Baron Funke\n",
      "Dowager Empress\n",
      "Anna Pavlovna\n",
      "Her Majesty\n",
      "Baron Funke\n",
      "Anna Pavlovna\n",
      "Her Majesty\n",
      "Anna Pavlovna\n",
      "Anna Pavlovna\n"
     ]
    }
   ],
   "source": [
    "import re\n",
    "data=bs.find(id='text').text\n",
    "data=re.sub('\\n',' ',data)\n",
    "result=re.findall('(([A-Z]([a-z]+|\\.+))+(\\s[A-Z][a-z]+)+)|([A-Z]{2,})|([a-z][A-Z])[a-z]*[A-Z][a-z]*',data)\n",
    "for i in result:\n",
    "    print(i[0])\n"
   ]
  },
  {
   "cell_type": "code",
   "execution_count": 142,
   "metadata": {},
   "outputs": [
    {
     "name": "stdout",
     "output_type": "stream",
     "text": [
      "../img/gifts/logo.jpg\n",
      "../img/gifts/img1.jpg\n",
      "../img/gifts/img2.jpg\n",
      "../img/gifts/img3.jpg\n",
      "../img/gifts/img4.jpg\n",
      "../img/gifts/img6.jpg\n"
     ]
    }
   ],
   "source": [
    "# 정규표현식 + bs4\n",
    "url = 'http://www.pythonscraping.com/pages/page3.html'\n",
    "html = requests.get(url).text\n",
    "bs = BeautifulSoup(html, 'html.parser')\n",
    "\n",
    "images = bs.findAll('img', {'src':re.compile('\\.\\.\\/img.*\\.jpg')})\n",
    "for image in images:\n",
    "    print(image['src'])"
   ]
  },
  {
   "cell_type": "code",
   "execution_count": 144,
   "metadata": {},
   "outputs": [
    {
     "data": {
      "text/plain": [
       "[<span class=\"excitingNote\">Or maybe he's only resting?</span>]"
      ]
     },
     "execution_count": 144,
     "metadata": {},
     "output_type": "execute_result"
    }
   ],
   "source": [
    "# lambda 이용\n",
    "spans = bs.findAll(lambda tag: tag.get_text() == \"Or maybe he's only resting?\")\n",
    "list(spans)"
   ]
  },
  {
   "cell_type": "code",
   "execution_count": 159,
   "metadata": {},
   "outputs": [
    {
     "name": "stdout",
     "output_type": "stream",
     "text": [
      "<ul id=\"bible\">\n",
      " <li id=\"ge\">\n",
      "  Genesis\n",
      " </li>\n",
      " <li id=\"ex\">\n",
      "  Exodus\n",
      " </li>\n",
      " <li id=\"le\">\n",
      "  Leviticus\n",
      " </li>\n",
      " <li id=\"nu\">\n",
      "  Numbers\n",
      " </li>\n",
      " <li id=\"de\">\n",
      "  Deuteronomy\n",
      " </li>\n",
      "</ul>\n"
     ]
    },
    {
     "data": {
      "text/plain": [
       "<ul id=\"bible\">\n",
       "<li id=\"ge\">Genesis</li>\n",
       "<li id=\"ex\">Exodus</li>\n",
       "<li id=\"le\">Leviticus</li>\n",
       "<li id=\"nu\">Numbers</li>\n",
       "<li id=\"de\">Deuteronomy</li>\n",
       "</ul>"
      ]
     },
     "execution_count": 159,
     "metadata": {},
     "output_type": "execute_result"
    }
   ],
   "source": [
    "fp = open('books.html',encoding='utf-8')\n",
    "soup = BeautifulSoup(fp,'html.parser')\n",
    "print(soup.prettify())\n",
    "soup"
   ]
  },
  {
   "cell_type": "code",
   "execution_count": 193,
   "metadata": {},
   "outputs": [
    {
     "name": "stdout",
     "output_type": "stream",
     "text": [
      "Numbers\n",
      "Numbers\n",
      "Numbers\n",
      "Numbers\n",
      "Numbers\n",
      "Numbers\n",
      "Numbers\n",
      "Numbers\n"
     ]
    }
   ],
   "source": [
    "fp = open('books.html',encoding='utf-8')\n",
    "soup = BeautifulSoup(fp,'html.parser')\n",
    "\n",
    "print(soup.findAll('li',attrs={'id':'nu'})[0].text)\n",
    "print(soup.find('li',attrs={'id':'nu'}).text)\n",
    "print(soup.find(lambda x: x.get_text() == 'Numbers').text)\n",
    "print(soup.find('li',{'id':re.compile('nu+')}).text)\n",
    "print(soup.select_one('li#nu').text)\n",
    "print(soup.select('li')[3].text)\n",
    "print(list(soup.find('ul').children)[7].text)\n",
    "print(list(soup.find('li').parent.children)[7].text)"
   ]
  },
  {
   "cell_type": "code",
   "execution_count": 220,
   "metadata": {},
   "outputs": [
    {
     "name": "stdout",
     "output_type": "stream",
     "text": [
      "Numbers\n",
      "Numbers\n",
      "Numbers\n",
      "Numbers\n",
      "Numbers\n",
      "Numbers\n",
      "Numbers\n",
      "Numbers\n"
     ]
    }
   ],
   "source": [
    "sel = lambda q : print(soup.select_one(q).string)\n",
    "sel('#nu') \n",
    "sel('li#nu')   \n",
    "sel('ul >li#nu')   \n",
    "sel('#bible #nu')  \n",
    "sel('#bible > #nu')   \n",
    "sel('ul#bible > li#nu')  \n",
    "sel('li[id=\"nu\"]')      \n",
    "sel('li:nth-of-type(4)')\n"
   ]
  },
  {
   "cell_type": "markdown",
   "metadata": {},
   "source": [
    "urllib 모듈이란 : 파이썬의 표준 모듈로서 URL을 다루기 위한 모듈 패키지\n",
    "- 설치가 필요하지 않고 import urllib으로 활용\n",
    "- requests 모듈과 마찬가지로 URL과 관련된 여러가지 기능들을 제공(하위 모듈)\n",
    "    - request : URL을 열고 읽는 모듈(HTTP 요청)\n",
    "    - error : request 모듈에서 발생하는 에러들을 포함하는 모듈\n",
    "    - parse : URL을 파싱하는 모듈(URL 해석 및 조작)\n",
    "    - robotparser : robots.txt 파일을 파싱하는 모듈"
   ]
  },
  {
   "cell_type": "code",
   "execution_count": 1,
   "metadata": {},
   "outputs": [
    {
     "name": "stdout",
     "output_type": "stream",
     "text": [
      "<urllib.request.Request object at 0x000001FC857FE280>\n",
      "https://www.naver.com\n",
      "https\n",
      "www.naver.com\n"
     ]
    }
   ],
   "source": [
    "import urllib\n",
    "\n",
    "url = 'https://www.naver.com'\n",
    "request = urllib.request.Request(url)\n",
    "print(request)\n",
    "print(request.full_url)\n",
    "print(request.type)\n",
    "print(request.host)"
   ]
  },
  {
   "cell_type": "code",
   "execution_count": 2,
   "metadata": {},
   "outputs": [
    {
     "name": "stdout",
     "output_type": "stream",
     "text": [
      "<http.client.HTTPResponse object at 0x000001FC857B35B0>\n",
      "<bound method HTTPResponse.geturl of <http.client.HTTPResponse object at 0x000001FC857B35B0>>\n",
      "[('Server', 'NWS'), ('Date', 'Fri, 11 Feb 2022 09:19:51 GMT'), ('Content-Type', 'text/html; charset=UTF-8'), ('Transfer-Encoding', 'chunked'), ('Connection', 'close'), ('Set-Cookie', 'PM_CK_loc=e25db600982c334a24f3937a2171a4f8798f7599fc01568ab12fa1c6dbe42540; Expires=Sat, 12 Feb 2022 09:19:51 GMT; Path=/; HttpOnly'), ('Cache-Control', 'no-cache, no-store, must-revalidate'), ('Pragma', 'no-cache'), ('P3P', 'CP=\"CAO DSP CURa ADMa TAIa PSAa OUR LAW STP PHY ONL UNI PUR FIN COM NAV INT DEM STA PRE\"'), ('X-Frame-Options', 'DENY'), ('X-XSS-Protection', '1; mode=block'), ('Strict-Transport-Security', 'max-age=63072000; includeSubdomains'), ('Referrer-Policy', 'unsafe-url')]\n"
     ]
    }
   ],
   "source": [
    "response1 = urllib.request.urlopen(request)\n",
    "print(response1)\n",
    "print(response1.geturl)\n",
    "print(response1.getheaders())"
   ]
  },
  {
   "cell_type": "code",
   "execution_count": 3,
   "metadata": {},
   "outputs": [
    {
     "data": {
      "text/plain": [
       "'\\n<!doctype html>                          <html lang=\"ko\" data-dark=\"false\"> <head> <meta charset=\"utf-8\"> <title>NAVER</title> <meta http-equiv=\"X-UA-Compatible\" content=\"IE=edge\"> <meta name=\"viewport\" content=\"width=1190\"> <meta name=\"apple-mobile-web-app-title\" content=\"NAVER\"/> <meta name=\"robots\" content=\"index,nofollow\"/> <meta name=\"description\" content=\"네이버 메인에서 다양한 정보와 유용한 컨텐츠를 만나 보세요\"/> <meta property=\"og:title\" content=\"네이버\"> <m'"
      ]
     },
     "execution_count": 3,
     "metadata": {},
     "output_type": "execute_result"
    }
   ],
   "source": [
    "# read() : 인자로 전달한 숫자만큼 바이트 기준으로 데이터를 읽음\n",
    "response2 = urllib.request.urlopen(url)\n",
    "response2.read(500).decode('utf-8') # requests.get(url).text 와 같음"
   ]
  },
  {
   "cell_type": "code",
   "execution_count": 4,
   "metadata": {},
   "outputs": [
    {
     "data": {
      "text/plain": [
       "('img.png', <http.client.HTTPMessage at 0x1fc857fe7c0>)"
      ]
     },
     "execution_count": 4,
     "metadata": {},
     "output_type": "execute_result"
    }
   ],
   "source": [
    "# urllib.request.urlretrieve() : 웹상의 이미지 저장\n",
    "import urllib.request\n",
    "img_src = 'https://images.unsplash.com/photo-1536329583941-14287ec6fc4e?ixlib=rb-1.2.1&ixid=MnwxMjA3fDF8MHxlZGl0b3JpYWwtZmVlZHwxfHx8ZW58MHx8fHw%3D&auto=format&fit=crop&w=500&q=60'\n",
    "new_name = 'img.png'\n",
    "urllib.request.urlretrieve(img_src,new_name)"
   ]
  },
  {
   "cell_type": "code",
   "execution_count": 5,
   "metadata": {},
   "outputs": [
    {
     "name": "stdout",
     "output_type": "stream",
     "text": [
      "ParseResult(scheme='https', netloc='section.blog.naver.com', path='/Search/Post.naver', params='', query='pageNo=1&rangeType=ALL&orderBy=sim&keyword=ai', fragment='') \n",
      "\n",
      "https\n",
      "https \n",
      "\n",
      "section.blog.naver.com\n",
      "section.blog.naver.com \n",
      "\n",
      "/Search/Post.naver\n",
      "/Search/Post.naver \n",
      "\n",
      "\n",
      " \n",
      "\n",
      "pageNo=1&rangeType=ALL&orderBy=sim&keyword=ai\n",
      "pageNo=1&rangeType=ALL&orderBy=sim&keyword=ai \n",
      "\n",
      "\n",
      " \n",
      "\n"
     ]
    }
   ],
   "source": [
    "# 단순한 패턴을 읽을 때에는 복잡한 정규표현식보다는 간단한 parse 모듈을 사용\n",
    "# urllib.parse : URL을 6개로 분리하여 반환\n",
    "import urllib\n",
    "parse = urllib.parse.urlparse('https://section.blog.naver.com/Search/Post.naver?pageNo=1&rangeType=ALL&orderBy=sim&keyword=ai')\n",
    "print(parse,'\\n')\n",
    "print(parse[0])\n",
    "print(parse.scheme,'\\n')\n",
    "print(parse[1])\n",
    "print(parse.netloc,'\\n')\n",
    "print(parse[2])\n",
    "print(parse.path,'\\n')\n",
    "print(parse[3])\n",
    "print(parse.params,'\\n')\n",
    "print(parse[4])\n",
    "print(parse.query,'\\n')\n",
    "print(parse[5])\n",
    "print(parse.fragment,'\\n')"
   ]
  },
  {
   "cell_type": "code",
   "execution_count": 6,
   "metadata": {},
   "outputs": [
    {
     "name": "stdout",
     "output_type": "stream",
     "text": [
      "ParseResult(scheme='https', netloc='blog.naver.com', path='/koreatech91', params='a=1', query='b=2', fragment='b')\n",
      "https://blog.daum.net/koreatech91;a=1?b=2#b\n"
     ]
    }
   ],
   "source": [
    "# urllib.parse.urlunparse(), urllib.parse.urlunsplit()\n",
    "# 튜플(변경 불가능)로 반환되기 때문에 리스트(변경 가능)로 변경하여 활용\n",
    "parse = urllib.parse.urlparse('https://blog.naver.com/koreatech91;a=1?b=2#b')\n",
    "print(parse)\n",
    "parse = list(parse)\n",
    "parse[1] = 'blog.daum.net'\n",
    "parse\n",
    "unparse = urllib.parse.urlunparse(parse)\n",
    "print(unparse)"
   ]
  },
  {
   "cell_type": "code",
   "execution_count": 7,
   "metadata": {},
   "outputs": [
    {
     "name": "stdout",
     "output_type": "stream",
     "text": [
      "b=2\n",
      "{'b': ['2']} <class 'dict'>\n",
      "[('b', '2')] <class 'list'>\n"
     ]
    }
   ],
   "source": [
    "# parse_qs(), pars_qsl()\n",
    "# 쿼리를 파싱해서 사전(qs) 및 리스트(qsl)로 반환, 쿼리를 변경하여 요청시 활용\n",
    "parse = urllib.parse.urlparse('https://blog.naver.com/koreatech91;a=1?b=2#b')\n",
    "print(parse.query)\n",
    "qs = urllib.parse.parse_qs(parse.query)\n",
    "print(qs, type(qs))\n",
    "qsl = urllib.parse.parse_qsl(parse.query)\n",
    "print(qsl,type(qsl))"
   ]
  },
  {
   "cell_type": "code",
   "execution_count": 8,
   "metadata": {},
   "outputs": [
    {
     "name": "stdout",
     "output_type": "stream",
     "text": [
      "https://naver.com/a/c\n",
      "https://naver.com/c\n"
     ]
    }
   ],
   "source": [
    "# urljoin(a,b) : a와 b url을 합쳐주는 기능. '/'에 따라 url 주소가 달라짐\n",
    "url = 'https://naver.com/a/b'\n",
    "print(urllib.parse.urljoin(url,'c'))\n",
    "print(urllib.parse.urljoin(url,'/c'))"
   ]
  },
  {
   "cell_type": "code",
   "execution_count": 9,
   "metadata": {},
   "outputs": [
    {
     "name": "stdout",
     "output_type": "stream",
     "text": [
      "https://naver.com/a/b/c\n",
      "https://naver.com/c\n"
     ]
    }
   ],
   "source": [
    "url = 'https://naver.com/a/b/'\n",
    "print(urllib.parse.urljoin(url,'c'))\n",
    "print(urllib.parse.urljoin(url,'/c'))"
   ]
  },
  {
   "cell_type": "code",
   "execution_count": 10,
   "metadata": {},
   "outputs": [
    {
     "name": "stdout",
     "output_type": "stream",
     "text": [
      "%ED%8C%8C%EC%9D%B4%EC%8D%AC\n",
      "파이썬\n"
     ]
    }
   ],
   "source": [
    "# quote(), unquote() : 아스키코드가 아닌 퍼센트 인코딩으로 변황\n",
    "# 퍼센트 인코딩은 url에 문자를 표현하는 문자 인코딩 방법\n",
    "# url에 한글이 섞이면 오류 발생\n",
    "\n",
    "print(urllib.parse.quote('파이썬'))\n",
    "print(urllib.parse.unquote('%ED%8C%8C%EC%9D%B4%EC%8D%AC'))"
   ]
  },
  {
   "cell_type": "code",
   "execution_count": 11,
   "metadata": {},
   "outputs": [
    {
     "name": "stdout",
     "output_type": "stream",
     "text": [
      "<!doctype html> <html lang=\"ko\"> <head> <meta charset=\"utf-8\"> <meta name=\"referrer\" content=\"always\n"
     ]
    }
   ],
   "source": [
    "# url = 'https://search.naver.com/search.naver?query=\"파이썬\"'\n",
    "url = 'https://search.naver.com/search.naver?query=%ED%8C%8C%EC%9D%B4%EC%8D%AC'\n",
    "\n",
    "response = urllib.request.urlopen(url)\n",
    "byte_data = response.read(100)\n",
    "text_data = byte_data.decode('utf-8')\n",
    "print(text_data)"
   ]
  },
  {
   "cell_type": "code",
   "execution_count": 12,
   "metadata": {},
   "outputs": [],
   "source": [
    "# 홈페이지를 로컬에 파일로 저장\n",
    "request = urllib.request.Request('https://www.naver.com')\n",
    "data = urllib.request.urlopen(request).read()\n",
    "f = open('pc.html','wb')\n",
    "f.write(data)\n",
    "f.close()"
   ]
  },
  {
   "cell_type": "code",
   "execution_count": null,
   "metadata": {},
   "outputs": [],
   "source": [
    "with open('pc.html','rb') as f:\n",
    "    data = f.read().decode('utf-8')\n",
    "    print(data)"
   ]
  },
  {
   "cell_type": "code",
   "execution_count": 14,
   "metadata": {},
   "outputs": [
    {
     "name": "stdout",
     "output_type": "stream",
     "text": [
      "<!doctype html> <html lang=\"ko\"> <head> <meta charset=\"utf-8\"> <meta name=\"referrer\" content=\"always\">  <meta name=\"format-detection\" content=\"telephone=no,address=no,email=no\"> <meta name=\"viewport\" content=\"width=device-width,initial-scale=1.0,maximum-scale=2.0\"> <meta property=\"og:title\" content=\"파이썬 : 네이버 통합검색\"/> <meta property=\"og:image\" content=\"https://ssl.pstatic.net/ss \n",
      "\n",
      "<!doctype html> <html lang=\"ko\"> <head> <meta charset=\"utf-8\"> <meta name=\"referrer\" content=\"always\">  <meta name=\"format-detection\" content=\"telephone=no,address=no,email=no\"> <meta name=\"viewport\" content=\"width=device-width,initial-scale=1.0,maximum-scale=2.0\"> <meta property=\"og:title\" content=\"웹 크롤링 : 네이버 통합검색\"/> <meta property=\"og:image\" content=\"https://ssl.pstatic.ne \n",
      "\n",
      "<!doctype html> <html lang=\"ko\"> <head> <meta charset=\"utf-8\"> <meta name=\"referrer\" content=\"always\">  <meta name=\"format-detection\" content=\"telephone=no,address=no,email=no\"> <meta name=\"viewport\" content=\"width=device-width,initial-scale=1.0,maximum-scale=2.0\"> <meta property=\"og:title\" content=\"빅데이터 : 네이버 통합검색\"/> <meta property=\"og:image\" content=\"https://ssl.pstatic.net \n",
      "\n",
      "<!doctype html> <html lang=\"ko\"> <head> <meta charset=\"utf-8\"> <meta name=\"referrer\" content=\"always\">  <meta name=\"format-detection\" content=\"telephone=no,address=no,email=no\"> <meta name=\"viewport\" content=\"width=device-width,initial-scale=1.0,maximum-scale=2.0\"> <meta property=\"og:title\" content=\"python : 네이버 통합검색\"/> <meta property=\"og:image\" content=\"https://ssl.pstatic.net/sstat \n",
      "\n"
     ]
    }
   ],
   "source": [
    "query_list = ['파이썬', '웹 크롤링', '빅데이터', 'python']\n",
    "url = 'https://search.naver.com/search.naver?query='\n",
    "for i in query_list:\n",
    "    new_url = url + urllib.parse.quote(i)\n",
    "    response_urllib = urllib.request.urlopen(new_url)\n",
    "    byte_data = response_urllib.read(400)\n",
    "    text_data = byte_data.decode('utf-8')\n",
    "    print(text_data,'\\n')"
   ]
  },
  {
   "cell_type": "code",
   "execution_count": null,
   "metadata": {},
   "outputs": [],
   "source": []
  },
  {
   "cell_type": "code",
   "execution_count": null,
   "metadata": {},
   "outputs": [],
   "source": []
  },
  {
   "cell_type": "code",
   "execution_count": null,
   "metadata": {},
   "outputs": [],
   "source": []
  }
 ],
 "metadata": {
  "interpreter": {
   "hash": "0fa0bfc769a09f9ea75b994ad03790573c27759d8fff7362c34846a89e02cecb"
  },
  "kernelspec": {
   "display_name": "Python 3.8.12 ('cakd5')",
   "language": "python",
   "name": "python3"
  },
  "language_info": {
   "codemirror_mode": {
    "name": "ipython",
    "version": 3
   },
   "file_extension": ".py",
   "mimetype": "text/x-python",
   "name": "python",
   "nbconvert_exporter": "python",
   "pygments_lexer": "ipython3",
   "version": "3.8.12"
  },
  "orig_nbformat": 4
 },
 "nbformat": 4,
 "nbformat_minor": 2
}
