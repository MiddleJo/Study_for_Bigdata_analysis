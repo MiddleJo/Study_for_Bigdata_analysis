{
 "cells": [
  {
   "cell_type": "markdown",
   "id": "cd6bda9a",
   "metadata": {},
   "source": [
    "#### selenium 모듈\n",
    "- 웹 어플리케이션 테스트를 위한 프레임워크 : 홈페이지 테스트용으로 사용\n",
    "- 사용자가 아닌 프로그램이 웹 브라우저를 제어할 수 있도록 지원\n",
    "- 웹 브라우저마다 클라이언트 프로그램(Web Driver)이 별도로 필요(웹 브라우저 <-> 프로그램간 통신 목적)\n",
    "- 크롤링 보다는 웹을 제어하는 목적이 더 큼\n",
    "- pip install selenium 으로 설치\n",
    "- web driver 설치(크롬 버전 확인) : https://chromedriver.chromium.org/downloads\n",
    "- 압축 해제한 후 chromedrive.exe를 적당한 경로로 이동\n",
    "- selenium 모듈 호출 후 설치한 web driver 경로를 지정\n",
    "\n",
    "이벤트로 제어하기 : 브라우저를 직접 제어하기 때문에 직접 컨트롤하여 마우스 클릭, 키보드 입력, 자바스크립트 이벤트 처리 가능\n",
    "- 마우스 클릭: click()\n",
    "- 키보드 입력: send_keys()\n",
    "- 자바스크립트 삽입: execute_script()\n",
    "- 입력 양식 전송: submit()\n",
    "- 스크린샷: screenshot(파일이름)\n",
    "- 글자 지움: clear()\n",
    "- 뒤로 가기: back()\n",
    "- 앞으로 가기: forward()\n",
    "\n",
    "#### 셀레니움 함수\n",
    "- find_element_by_id : id 속성을 사용하여 접근\n",
    "- find_element(s)_by_class_name : 클래스를 사용하여 접근\n",
    "- find_element(s)_by_name : name 속성을 사용하여 접근\n",
    "- find_element(s)_by_xpath : xpath 속성을 사용하여 접근\n",
    "- find_element(s)_by_link_text : 앵커태그(a)에 사용되는 일부 텍스트로 접근\n",
    "- find_element(s)_by_partial_link_text : 앵커태그(a)에 사용되는 일부 텍스트로 접근\n",
    "- find_element(s)_by_tag_name : 태그를 사용하여 접근\n",
    "- find_element(s)_by_css_selector : CSS 선택자를 사용하여 접근"
   ]
  },
  {
   "cell_type": "code",
   "execution_count": 41,
   "id": "8fd8db77",
   "metadata": {},
   "outputs": [],
   "source": [
    "import time\n",
    "import selenium\n",
    "from selenium import webdriver\n",
    "from bs4 import BeautifulSoup\n",
    "from selenium.webdriver.common.keys import Keys\n",
    "import warnings\n",
    "warnings.filterwarnings('ignore')\n"
   ]
  },
  {
   "cell_type": "code",
   "execution_count": 42,
   "id": "728d061a",
   "metadata": {},
   "outputs": [],
   "source": [
    "# 네이버 사이트 불러오기\n",
    "url = 'https://www.naver.com'\n",
    "path = './dataset/chromedriver.exe'\n",
    "driver = webdriver.Chrome(path)\n",
    "driver.get(url)"
   ]
  },
  {
   "cell_type": "code",
   "execution_count": 43,
   "id": "cbc3b9a1",
   "metadata": {},
   "outputs": [
    {
     "name": "stdout",
     "output_type": "stream",
     "text": [
      "https://www.naver.com/\n"
     ]
    }
   ],
   "source": [
    "print(driver.current_url)"
   ]
  },
  {
   "cell_type": "code",
   "execution_count": 44,
   "id": "2c8b98e9",
   "metadata": {},
   "outputs": [],
   "source": [
    "driver.close()"
   ]
  },
  {
   "cell_type": "code",
   "execution_count": 45,
   "id": "ab57a396",
   "metadata": {},
   "outputs": [
    {
     "name": "stdout",
     "output_type": "stream",
     "text": [
      "https://www.google.com/\n"
     ]
    }
   ],
   "source": [
    "# 브라우저 창을 띄우지 않고 수행\n",
    "options = webdriver.ChromeOptions()\n",
    "options.add_argument('headless')\n",
    "driver = webdriver.Chrome('./dataset/chromedriver.exe',options=options)\n",
    "driver.get('https://google.com')\n",
    "print(driver.current_url)\n",
    "driver.close()"
   ]
  },
  {
   "cell_type": "code",
   "execution_count": 46,
   "id": "60f817d7",
   "metadata": {},
   "outputs": [],
   "source": [
    "# 브라우저 최소화/최대화\n",
    "driver = webdriver.Chrome(path)\n",
    "driver.get('https://google.com')\n",
    "driver.maximize_window()"
   ]
  },
  {
   "cell_type": "code",
   "execution_count": 47,
   "id": "bf634ab7",
   "metadata": {},
   "outputs": [],
   "source": [
    "driver.minimize_window()"
   ]
  },
  {
   "cell_type": "code",
   "execution_count": 48,
   "id": "b6f22a2f",
   "metadata": {},
   "outputs": [],
   "source": [
    "# Implict Waits(암묵적 대기) : 찾으려는 element가 로드될 때까지 지정한 시간만큼 대기할 수 있도록 설정\n",
    "from selenium.webdriver.common.by import By\n",
    "from selenium.webdriver.support.ui import WebDriverWait\n",
    "from selenium.webdriver.support import expected_conditions as EC\n",
    "\n",
    "driver = webdriver.Chrome(path)\n",
    "driver.get('https://google.com')\n",
    "\n",
    "try:\n",
    "    element = WebDriverWait(driver,5).until(\n",
    "    EC.presence_of_element_located((By.CLASS_NAME,'gLFyf'))\n",
    "    )\n",
    "finally:\n",
    "    driver.quit()"
   ]
  },
  {
   "cell_type": "code",
   "execution_count": 49,
   "id": "eace7a93",
   "metadata": {},
   "outputs": [
    {
     "name": "stdout",
     "output_type": "stream",
     "text": [
      "빅데이터란\n",
      "빅데이터\n",
      "빅데이터\n"
     ]
    }
   ],
   "source": [
    "from time import sleep\n",
    "driver = webdriver.Chrome(path)\n",
    "driver.get('https://naver.com')\n",
    "search_box = driver.find_element_by_xpath('//*[@id=\"query\"]')\n",
    "search_box.send_keys('빅데이터')\n",
    "search_box.send_keys(Keys.RETURN)\n",
    "\n",
    "elements = driver.find_elements_by_xpath('//*[@id=\"main_pack\"]/section[2]/div/div/div/div/h3/a')\n",
    "\n",
    "for element in elements:\n",
    "    print(element.text)\n",
    "    print(element.text, file=open('test_set.txt','a',encoding='utf-8'))\n",
    "sleep(3)\n",
    "driver.close()"
   ]
  },
  {
   "cell_type": "code",
   "execution_count": 51,
   "id": "49a6c37a",
   "metadata": {},
   "outputs": [
    {
     "name": "stdout",
     "output_type": "stream",
     "text": [
      "https://search.naver.com/search.naver?where=nexearch&sm=top_hty&fbm=0&ie=utf8&query=#lnb\n",
      "https://search.naver.com/search.naver?where=nexearch&sm=top_hty&fbm=0&ie=utf8&query=#content\n",
      "https://www.naver.com/\n",
      "https://search.naver.com/search.naver?where=nexearch&sm=top_hty&fbm=0&ie=utf8&query=#\n",
      "https://search.naver.com/search.naver?where=nexearch&sm=top_hty&fbm=0&ie=utf8&query=#\n",
      "https://search.naver.com/search.naver?where=nexearch&sm=top_hty&fbm=0&ie=utf8&query=#\n",
      "https://search.naver.com/search.naver?where=nexearch&sm=top_hty&fbm=0&ie=utf8&query=#\n",
      "https://search.naver.com/search.naver?where=nexearch&sm=top_hty&fbm=0&ie=utf8&query=#\n",
      "https://help.naver.com/support/alias/search/word/word_29.naver\n",
      "https://help.naver.com/support/alias/search/word/word_29.naver\n",
      "https://help.naver.com/support/alias/search/word/word_29.naver\n",
      "https://search.naver.com/search.naver?where=nexearch&sm=top_hty&fbm=0&ie=utf8&query=#\n",
      "https://search.naver.com/search.naver?where=nexearch&sm=top_hty&fbm=0&ie=utf8&query=#\n",
      "https://help.naver.com/support/alias/search/word/word_16.naver\n",
      "https://search.naver.com/search.naver?where=nexearch&sm=top_hty&fbm=0&ie=utf8&query=#\n",
      "https://help.naver.com/support/alias/search/word/word_16.naver\n",
      "https://nid.naver.com/nidlogin.login?url=https%3A%2F%2Fsearch.naver.com%2Fsearch.naver%3Fwhere%3Dnexearch%26sm%3Dtop_hty%26fbm%3D0%26ie%3Dutf8%26query%3D\n",
      "https://help.naver.com/support/alias/search/word/word_16.naver\n",
      "https://search.naver.com/search.naver?where=nexearch&sm=top_hty&fbm=0&ie=utf8&query=#\n",
      "https://help.naver.com/support/alias/search/word/word_17.naver\n",
      "https://help.naver.com/support/alias/search/word/word_18.naver\n",
      "https://search.naver.com/search.naver?where=nexearch&sm=top_hty&fbm=0&ie=utf8&query=#\n",
      "https://nid.naver.com/nidlogin.login?url=https%3A%2F%2Fsearch.naver.com%2Fsearch.naver%3Fwhere%3Dnexearch%26sm%3Dtop_hty%26fbm%3D0%26ie%3Dutf8%26query%3D\n",
      "javascript:;\n",
      "https://search.naver.com/search.naver?where=nexearch&sm=top_hty&fbm=0&ie=utf8&query=#\n",
      "https://nid.naver.com/user2/api/naverProfile?m=checkIdType\n",
      "https://nid.naver.com/user2/api/naverProfile?m=checkIdType\n",
      "https://nid.naver.com/nidlogin.logout?returl=https%3A%2F%2Fsearch.naver.com%2Fsearch.naver%3Fwhere%3Dnexearch%26sm%3Dtop_hty%26fbm%3D0%26ie%3Dutf8%26query%3D\n",
      "https://mail.naver.com/\n",
      "https://nid.naver.com/user2/help/myInfo?menu=home\n",
      "https://nid.naver.com/user2/help/myInfo?m=viewSecurity&menu=security\n",
      "https://nid.naver.com/user2/eSign/v1/home/land\n",
      "https://nid.naver.com/membership/my\n",
      "https://pay.naver.com/\n",
      "https://blog.naver.com/MyBlog.naver\n",
      "https://section.cafe.naver.com/\n",
      "https://pay.naver.com/\n",
      "https://search.naver.com/search.naver?where=nexearch&sm=top_hty&fbm=0&ie=utf8&query=#\n",
      "javascript:;\n",
      "https://noti.naver.com/index.nhn\n",
      "https://mail.naver.com/\n",
      "javascript:;\n",
      "https://search.naver.com/search.naver?where=nexearch&sm=top_hty&fbm=0&ie=utf8&query=#\n",
      "https://search.naver.com/search.naver?where=nexearch&sm=top_hty&fbm=0&ie=utf8&query=#\n",
      "https://search.naver.com/search.naver?where=nexearch&sm=top_hty&fbm=0&ie=utf8&query=#\n",
      "https://search.naver.com/search.naver?where=nexearch&sm=top_hty&fbm=0&ie=utf8&query=#\n",
      "https://search.naver.com/search.naver?where=nexearch&sm=top_hty&fbm=0&ie=utf8&query=#\n",
      "https://search.naver.com/search.naver?where=nexearch&sm=top_hty&fbm=0&ie=utf8&query=#\n",
      "https://search.naver.com/search.naver?where=nexearch&sm=top_hty&fbm=0&ie=utf8&query=#\n",
      "https://cafe.naver.com/\n",
      "https://news.naver.com/\n",
      "https://map.naver.com/\n",
      "https://sports.news.naver.com/\n",
      "https://game.naver.com/\n",
      "https://section.blog.naver.com/\n",
      "https://post.naver.com/main.nhn\n",
      "https://dict.naver.com/\n",
      "https://kin.naver.com/\n",
      "https://n.weather.naver.com/\n",
      "https://mail.naver.com/\n",
      "https://stock.naver.com/\n",
      "https://land.naver.com/\n",
      "https://vibe.naver.com/today/\n",
      "https://book.naver.com/\n",
      "https://shopping.naver.com/\n",
      "https://comic.naver.com/\n",
      "https://movie.naver.com/\n",
      "https://mybox.naver.com/\n",
      "https://auto.naver.com/\n",
      "https://campaign.naver.com/npay/rediret/index.nhn\n",
      "https://www.naver.com/more.html\n",
      "https://www.naver.com/more.html\n",
      "https://dict.naver.com/\n",
      "https://search.naver.com/search.naver?where=nexearch&sm=tab_jum&query=\n",
      "https://search.naver.com/search.naver?where=view&sm=tab_jum&query=\n",
      "https://search.naver.com/search.naver?where=image&sm=tab_jum&query=\n",
      "https://search.naver.com/search.naver?where=kin&sm=tab_jum&query=\n",
      "https://search.naver.com/search.naver?where=influencer&sm=tab_jum&query=\n",
      "https://search.naver.com/search.naver?where=video&sm=tab_jum&query=\n",
      "https://search.shopping.naver.com/search/all?where=all&frm=NVSCTAB&query=\n",
      "https://search.naver.com/search.naver?where=news&sm=tab_jum&query=\n",
      "https://dict.naver.com/search.nhn?dicQuery=&query=&target=dic&query_utf=&isOnlyViewEE=\n",
      "https://map.naver.com/v5/search/\n",
      "https://search.naver.com/search.naver?where=nexearch&sm=top_hty&fbm=0&ie=utf8&query=#\n",
      "https://book.naver.com/search/search.nhn?query=\n",
      "https://vibe.naver.com/search?query=\n",
      "https://search.naver.com/search.naver?where=kdic&sm=tab_jum&query=\n",
      "https://audioclip.naver.com/search/all?keyword=\n",
      "https://academic.naver.com/search.naver?field=0&query=\n",
      "https://search.naver.com/search.naver?where=nexearch&sm=top_hty&fbm=0&ie=utf8&query=#\n",
      "https://search.naver.com/search.naver?where=nexearch&sm=top_hty&fbm=0&ie=utf8&query=#\n",
      "https://search.naver.com/search.naver?where=nexearch&sm=tab_opt&query=&nso=so%3Ar&nso_open=1\n",
      "https://search.naver.com/search.naver?where=nexearch&sm=tab_opt&query=&nso=so%3Add&nso_open=1\n",
      "https://search.naver.com/search.naver?where=nexearch&sm=tab_opt&query=&nso=p%3Aall&nso_open=1\n",
      "https://search.naver.com/search.naver?where=nexearch&sm=tab_opt&query=&nso=p%3A1h&nso_open=1\n",
      "https://search.naver.com/search.naver?where=nexearch&sm=tab_opt&query=&nso=p%3A1d&nso_open=1\n",
      "https://search.naver.com/search.naver?where=nexearch&sm=tab_opt&query=&nso=p%3A1w&nso_open=1\n",
      "https://search.naver.com/search.naver?where=nexearch&sm=tab_opt&query=&nso=p%3A1m&nso_open=1\n",
      "https://search.naver.com/search.naver?where=nexearch&sm=tab_opt&query=&nso=p%3A3m&nso_open=1\n",
      "https://search.naver.com/search.naver?where=nexearch&sm=tab_opt&query=&nso=p%3A6m&nso_open=1\n",
      "https://search.naver.com/search.naver?where=nexearch&sm=tab_opt&query=&nso=p%3A1y&nso_open=1\n",
      "https://search.naver.com/search.naver?where=nexearch&sm=top_hty&fbm=0&ie=utf8&query=#\n",
      "https://search.naver.com/search.naver?where=nexearch&sm=top_hty&fbm=0&ie=utf8&query=#\n",
      "https://search.naver.com/search.naver?where=nexearch&sm=top_hty&fbm=0&ie=utf8&query=#\n",
      "https://search.naver.com/search.naver?where=nexearch&sm=tab_opt&query=&nso_open=1\n",
      "https://help.naver.com/support/alias/search/integration/intergration_84.naver\n",
      "https://terms.naver.com/entry.naver?docId=5796273&cid=51617&categoryId=62877\n",
      "https://terms.naver.com/entry.naver?docId=5796273&cid=51617&categoryId=62877\n",
      "https://search.naver.com/search.naver?where=nexearch&query=%EC%9E%90%EC%8B%A0%EC%9E%88%EA%B2%8C+%EB%AF%BC%EC%86%8C%EB%A7%A4+%EC%9E%85%EC%9E%90%21+%ED%86%A0%EB%8B%9D%EB%B3%BC%EC%9D%84+%EC%9D%B4%EC%9A%A9%ED%95%9C+%EC%82%BC%EB%91%90+%EC%9A%B4%EB%8F%99&mra=S0NE&sm=tab_rnd.more&x_kdic=%7B%22random_search%22%3A%7B%22display%22%3A4%2C%22item%22%3A%5B%7B%22gdid%22%3A%2298186967_000000002514016bdfd568dc%22%2C%22title%22%3A%22%EC%9E%90%EC%8B%A0%EC%9E%88%EA%B2%8C+%EB%AF%BC%EC%86%8C%EB%A7%A4+%EC%9E%85%EC%9E%90%21+%ED%86%A0%EB%8B%9D%EB%B3%BC%EC%9D%84+%EC%9D%B4%EC%9A%A9%ED%95%9C+%EC%82%BC%EB%91%90+%EC%9A%B4%EB%8F%99%22%7D%2C%7B%22gdid%22%3A%2208129075_0410111383895753479%22%2C%22title%22%3A%22%ED%94%BC%ED%84%B0+%EB%AA%B0%EB%A6%AC%EB%89%B4%22%7D%2C%7B%22gdid%22%3A%228816ca20_00000000200b015b66978bf5%22%2C%22title%22%3A%22%EB%B9%84+%EC%98%A4%EB%8A%94+%EB%82%A0+%ED%8C%8C%EB%A6%AC%EC%9D%98+%EA%B1%B0%EB%A6%AC%22%7D%2C%7B%22gdid%22%3A%2208128063_000065c8e60b%22%2C%22title%22%3A%22%EC%B6%94%EC%82%AC+%EA%B9%80%EC%A0%95%ED%9D%AC%22%7D%5D%7D%7D\n",
      "https://search.naver.com/search.naver?where=nexearch&&query=&sm=tab_rnd.another\n",
      "https://search.naver.com/search.naver?where=nexearch&sm=tab_knw&query=%EB%B0%B8%EB%9F%B0%ED%83%80%EC%9D%B8%EB%8D%B0%EC%9D%B4&qdt=0&mra=S0NE\n",
      "https://search.naver.com/search.naver?where=nexearch&sm=tab_knw&query=%EC%BB%AC%EB%A7%81&qdt=0&mra=S0NE\n",
      "https://search.naver.com/search.naver?where=nexearch&sm=tab_knw&query=%EC%9A%B0%ED%81%AC%EB%9D%BC%EC%9D%B4%EB%82%98&qdt=0&mra=S0NE\n",
      "https://search.naver.com/search.naver?where=nexearch&sm=tab_knw&query=%ED%81%B4%EB%9D%BC%EC%9D%B8%ED%8E%A0%ED%84%B0+%EC%A6%9D%ED%9B%84%EA%B5%B0&qdt=0&mra=S0NE\n",
      "https://search.naver.com/search.naver?where=nexearch&sm=tab_knw&query=%EB%B3%B4%EC%9D%B4%EC%BD%A7&qdt=0&mra=S0NE\n",
      "https://search.naver.com/search.naver?where=nexearch&sm=tab_knw&query=ROC&qdt=0&mra=S0NE\n",
      "https://search.naver.com/search.naver?where=nexearch&sm=tab_knw&query=%EB%8C%80%EB%B3%B4%EB%A6%84&qdt=0&mra=S0NE\n",
      "https://search.naver.com/search.naver?where=nexearch&sm=tab_knw&query=%EC%84%B1%EC%9D%B8+ADHD&qdt=0&mra=S0NE\n",
      "https://search.naver.com/search.naver?where=nexearch&sm=tab_knw&query=%EB%82%98%ED%86%A0&qdt=0&mra=S0NE\n",
      "https://search.naver.com/search.naver?where=nexearch&sm=tab_knw&query=MBTI&qdt=0&mra=S0NE\n",
      "https://search.naver.com/search.naver?where=nexearch&sm=top_hty&fbm=0&ie=utf8&query=#\n",
      "https://search.naver.com/search.naver?where=nexearch&sm=top_hty&fbm=0&ie=utf8&query=#\n",
      "https://help.naver.com/support/alias/search/word/word_30.naver\n",
      "https://m.news.naver.com/covid19/index.nhn\n",
      "https://search.naver.com/search.naver?where=nexearch&query=%EC%BD%94%EB%A1%9C%EB%82%9819+%EC%84%A0%EB%B3%84%EC%A7%84%EB%A3%8C%EC%86%8C&sm=tab_etc\n",
      "https://news.naver.com/main/factcheck/main.nhn?section=%C4%DA%B7%CE%B3%AA%B9%E9%BD%C5\n",
      "https://search.naver.com/search.naver?where=nexearch&query=%EC%9A%B0%EB%A6%AC%EB%8F%99%EB%84%A4+%EB%B0%B1%EC%8B%A0%EC%95%8C%EB%A6%BC&sm=tab_etc\n",
      "https://search.naver.com/search.naver?where=nexearch&query=%EC%BD%94%EB%A1%9C%EB%82%9819+%EB%B3%91%EC%83%81%EA%B0%80%EB%8F%99%EB%A5%A0&sm=tab_etc\n",
      "https://search.naver.com/search.naver?where=nexearch&sm=top_hty&fbm=0&ie=utf8&query=#\n",
      "https://www.naver.com/more.html\n",
      "https://policy.naver.com/policy/service.html\n",
      "https://policy.naver.com/policy/privacy.html\n",
      "https://help.naver.com/support/alias/search/integration/integration_1.naver\n",
      "https://www.navercorp.com/\n"
     ]
    }
   ],
   "source": [
    "import time\n",
    "driver = webdriver.Chrome(path)\n",
    "driver.get('https://naver.com')\n",
    "driver.maximize_window()\n",
    "driver.find_element_by_class_name('link_login').click()\n",
    "time.sleep(1)\n",
    "driver.back()\n",
    "driver.forward()\n",
    "driver.refresh()\n",
    "time.sleep(2)\n",
    "driver.back()\n",
    "elem = driver.find_element_by_id('query')\n",
    "elem.send_keys(Keys.ENTER)\n",
    "els = driver.find_elements_by_tag_name('a')\n",
    "for e in els:\n",
    "    print(e.get_attribute('href'))\n",
    "driver.close()"
   ]
  },
  {
   "cell_type": "code",
   "execution_count": 52,
   "id": "a1ace157",
   "metadata": {},
   "outputs": [
    {
     "name": "stdout",
     "output_type": "stream",
     "text": [
      "https://search.naver.com/search.naver?where=nexearch&sm=top_hty&fbm=0&ie=utf8&query=#lnb\n",
      "https://search.naver.com/search.naver?where=nexearch&sm=top_hty&fbm=0&ie=utf8&query=#content\n",
      "https://www.naver.com/\n",
      "https://search.naver.com/search.naver?where=nexearch&sm=top_hty&fbm=0&ie=utf8&query=#\n",
      "https://search.naver.com/search.naver?where=nexearch&sm=top_hty&fbm=0&ie=utf8&query=#\n"
     ]
    }
   ],
   "source": [
    "import time\n",
    "driver = webdriver.Chrome(path)\n",
    "driver.get('https://naver.com')\n",
    "driver.maximize_window()\n",
    "driver.find_element_by_class_name('link_login').click()\n",
    "time.sleep(1)\n",
    "driver.back()\n",
    "elem = driver.find_element_by_id('query')\n",
    "elem.send_keys(Keys.ENTER)\n",
    "els = driver.find_elements_by_tag_name('a')\n",
    "for i, e in enumerate(els):\n",
    "    if i < 5:\n",
    "        print(e.get_attribute('href'))\n",
    "    else:\n",
    "        pass\n",
    "driver.refresh()\n",
    "driver.get('http://daum.net')\n",
    "driver.close()"
   ]
  },
  {
   "cell_type": "code",
   "execution_count": 16,
   "id": "96e67807",
   "metadata": {},
   "outputs": [
    {
     "name": "stderr",
     "output_type": "stream",
     "text": [
      "C:\\Users\\chonh\\AppData\\Local\\Temp/ipykernel_10440/2483528645.py:2: DeprecationWarning: executable_path has been deprecated, please pass in a Service object\n",
      "  driver = webdriver.Chrome(path)\n",
      "C:\\Users\\chonh\\AppData\\Local\\Temp/ipykernel_10440/2483528645.py:5: DeprecationWarning: find_element_by_* commands are deprecated. Please use find_element() instead\n",
      "  search_box = driver.find_element_by_xpath('//*[@id=\"q\"]')\n",
      "C:\\Users\\chonh\\AppData\\Local\\Temp/ipykernel_10440/2483528645.py:8: DeprecationWarning: find_element_by_* commands are deprecated. Please use find_element() instead\n",
      "  driver.find_element_by_xpath('//*[@id=\"pediaColl\"]/div[2]/ul/li[1]/div/div/div[1]/a').click()\n",
      "C:\\Users\\chonh\\AppData\\Local\\Temp/ipykernel_10440/2483528645.py:9: DeprecationWarning: find_elements_by_* commands are deprecated. Please use find_elements() instead\n",
      "  els = driver.find_elements_by_xpath('//*[@id=\"pediaColl\"]')\n"
     ]
    },
    {
     "name": "stdout",
     "output_type": "stream",
     "text": [
      "백과사전\n",
      "빅데이터\n",
      "빅데이터(big data)란 복잡하고 다양한 대규모 데이터세트 자체는 물론 이 데이터세트로부터 정보를 추출하고 결과를 분석하여 더 큰 가치를 창출하는 기술을 뜻한다. 수치 데이터 등 기존의 정형화된 정보뿐 아니라 텍스트 ・ 이미지 ・ 오디오 ・ 로그기...\n",
      "경제금융용어 700선\n",
      "빅데이터\n",
      "빅데이터의 등장 오늘날 정보 통신 분야에서의 화두는 단연 빅데이터이다. 빅데이터는 기존 데이터보다 너무 방대하여 기존의 방법이나 도구로 수집/저장/분석 등이 어려운 정형 및 비정형 데이터들을 의미한다. 아래 그림에서 보여주듯 1분 동안 구글에서...\n",
      "국립중앙과학관：빅데이터 과학관\n",
      "왜 한국을 ‘이 세상에서 가장 흥미로운 장소’라고 하는가? , 빅 데이터\n",
      "가장 작은 데이터 단위는 0 혹은 1을 나타낼 수 있는 비트(bit)며, 8개의 비트가 모여 1바이트(byte)가 된다. 이후 1,024를 곱할 때마다 킬로바이트(KB) · 메가바이트(MB) · 기가바이트(GB) · 테라바이트(TB) · 페타바이트(PB) · 엑사바이트(EB) · ...\n",
      "재미있는 영어 인문학 이야기 2\n",
      "백과사전 더보기\n"
     ]
    }
   ],
   "source": [
    "# Q. 다음사이트에서 빅데이터 관련 검색하여 출력한 후 구글페이지로 이동\n",
    "driver = webdriver.Chrome(path)\n",
    "driver.get('http://daum.net')\n",
    "driver.maximize_window()\n",
    "search_box = driver.find_element_by_xpath('//*[@id=\"q\"]')\n",
    "search_box.send_keys('빅데이터')\n",
    "search_box.send_keys(Keys.ENTER)\n",
    "driver.find_element_by_xpath('//*[@id=\"pediaColl\"]/div[2]/ul/li[1]/div/div/div[1]/a').click()\n",
    "els = driver.find_elements_by_xpath('//*[@id=\"pediaColl\"]')\n",
    "for i in els:\n",
    "    print(i.text)\n",
    "driver.refresh()\n",
    "driver.get('http://google.com')\n",
    "time.sleep(1)\n",
    "driver.close()"
   ]
  },
  {
   "cell_type": "code",
   "execution_count": 53,
   "id": "845b91e9",
   "metadata": {},
   "outputs": [
    {
     "name": "stdout",
     "output_type": "stream",
     "text": [
      "\n",
      "\n",
      "\n",
      "\n",
      "[속보]황대헌, 추월 시도하다 실격…쇼트트랙 500m 결승행 무산\n"
     ]
    }
   ],
   "source": [
    "import time\n",
    "driver = webdriver.Chrome(path)\n",
    "driver.get('https://naver.com')\n",
    "driver.maximize_window()\n",
    "driver.find_element_by_css_selector('#NM_FAVORITE > div.group_nav > ul.list_nav.NM_FAVORITE_LIST > li:nth-child(2) > a').click()\n",
    "elements = driver.find_elements_by_css_selector('#ct > div > section.main_content > div.main_brick > div > div> div > div > div > div> a > div> div')\n",
    "for i, e in enumerate(elements):\n",
    "    if i < 5:\n",
    "        print(e.text)\n",
    "    else:\n",
    "        pass\n",
    "driver.close()"
   ]
  },
  {
   "cell_type": "code",
   "execution_count": 3,
   "id": "8337fc32",
   "metadata": {},
   "outputs": [
    {
     "name": "stderr",
     "output_type": "stream",
     "text": [
      "C:\\Users\\chonh\\AppData\\Local\\Temp/ipykernel_16676/4164211028.py:7: DeprecationWarning: executable_path has been deprecated, please pass in a Service object\n",
      "  driver = webdriver.Chrome('./dataset/chromedriver.exe')\n",
      "C:\\Users\\chonh\\AppData\\Local\\Temp/ipykernel_16676/4164211028.py:11: DeprecationWarning: find_element_by_* commands are deprecated. Please use find_element() instead\n",
      "  ele = driver.find_element_by_class_name('login')\n",
      "C:\\Users\\chonh\\AppData\\Local\\Temp/ipykernel_16676/4164211028.py:17: DeprecationWarning: find_element_by_* commands are deprecated. Please use find_element() instead\n",
      "  ele_id = driver.find_element_by_id('m_id')\n",
      "C:\\Users\\chonh\\AppData\\Local\\Temp/ipykernel_16676/4164211028.py:19: DeprecationWarning: find_element_by_* commands are deprecated. Please use find_element() instead\n",
      "  ele_pw = driver.find_element_by_id('m_passwd')\n",
      "C:\\Users\\chonh\\AppData\\Local\\Temp/ipykernel_16676/4164211028.py:21: DeprecationWarning: find_element_by_* commands are deprecated. Please use find_element() instead\n",
      "  ele_in = driver.find_element_by_id('login_btn')\n"
     ]
    },
    {
     "name": "stdout",
     "output_type": "stream",
     "text": [
      "2,000\n"
     ]
    }
   ],
   "source": [
    "# [과제] 한빛미디어 사이트 로그인한 후 마일리지 점수 2000을 출력하세요(셀레니움 이용 브라우저 제어방식으로 진행)\n",
    "import time\n",
    "import selenium\n",
    "from selenium import webdriver\n",
    "from bs4 import BeautifulSoup\n",
    "\n",
    "driver = webdriver.Chrome('./dataset/chromedriver.exe')\n",
    "driver.get('https://www.hanbit.co.kr/')\n",
    "time.sleep(2) # 로딩 기다림\n",
    "\n",
    "driver.find_element_by_class_name('login').click()\n",
    "time.sleep(1)\n",
    "\n",
    "m_id = ''\n",
    "m_passwd = ''\n",
    "driver.find_element_by_id('m_id').send_keys(m_id)\n",
    "driver.find_element_by_id('m_passwd').send_keys(m_passwd)\n",
    "driver.find_element_by_id('login_btn').click()\n",
    "time.sleep(1)\n",
    "\n",
    "driver.get('https://www.hanbit.co.kr/myhanbit/myhanbit.html')\n",
    "time.sleep(1)\n",
    "html = driver.page_source\n",
    "bs = BeautifulSoup(html, 'html.parser')\n",
    "mil = bs.select_one('dl.mileage_section1 > dd > span').text\n",
    "print(mil)\n",
    "\n",
    "driver.close()"
   ]
  },
  {
   "cell_type": "code",
   "execution_count": 3,
   "id": "f8071298",
   "metadata": {},
   "outputs": [
    {
     "name": "stderr",
     "output_type": "stream",
     "text": [
      "C:\\Users\\admin\\AppData\\Local\\Temp/ipykernel_13716/1853952026.py:13: DeprecationWarning: executable_path has been deprecated, please pass in a Service object\n",
      "  driver = webdriver.Chrome('./dataset/chromedriver.exe')\n",
      "C:\\Users\\admin\\AppData\\Local\\Temp/ipykernel_13716/1853952026.py:22: DeprecationWarning: find_element_by_* commands are deprecated. Please use find_element() instead\n",
      "  driver.find_element_by_class_name('link_login').click()\n",
      "C:\\Users\\admin\\AppData\\Local\\Temp/ipykernel_13716/1853952026.py:26: DeprecationWarning: find_element_by_* commands are deprecated. Please use find_element() instead\n",
      "  ele_id = driver.find_element_by_id('id')\n",
      "C:\\Users\\admin\\AppData\\Local\\Temp/ipykernel_13716/1853952026.py:27: DeprecationWarning: find_element_by_* commands are deprecated. Please use find_element() instead\n",
      "  ele_pw = driver.find_element_by_id('pw')\n",
      "C:\\Users\\admin\\AppData\\Local\\Temp/ipykernel_13716/1853952026.py:31: DeprecationWarning: find_element_by_* commands are deprecated. Please use find_element() instead\n",
      "  driver.find_element_by_id('log.login').click()\n"
     ]
    },
    {
     "name": "stdout",
     "output_type": "stream",
     "text": [
      "네이버\n",
      "메일 제목:새로운 환경에서 로그인 되었습니다.\n",
      "\n",
      "창업신문\n",
      "메일 제목:[무료교육] “1인 무점포 성공창업” 이런 아이템이라면 가능할 것 같습니다\n",
      "\n",
      "네이버\n",
      "메일 제목:새로운 환경에서 로그인 되었습니다.\n",
      "\n",
      "한빛출판네트워크\n",
      "메일 제목:[한빛출판네트워크] 가입해주셔서 감사합니다.\n",
      "\n",
      "Netflix\n",
      "메일 제목:기억하시나요?\n",
      "\n",
      "Netflix\n",
      "메일 제목:조남현 님의 취향에 맞는 영화 등록 알림\n",
      "\n",
      "Netflix\n",
      "메일 제목:조남현 님께 추천하는 인기 콘텐츠\n",
      "\n",
      "Steam\n",
      "메일 제목:Steam 찜 목록의 Far Cry® 4 및 다른 한 개의 제품이 지금 할인 중입니다!\n",
      "\n",
      "Twitch\n",
      "메일 제목:믿을조: 지금 바로 Twitch에서 새로운 사람들과 채팅해 보세요!\n",
      "\n",
      "Netflix\n",
      "메일 제목:조남현 님께 추천하는 인기 콘텐츠\n",
      "\n",
      "비씨카드\n",
      "메일 제목:TOP point - 조남현님의 소멸 예정 포인트를 알려드립니다 (70594020)\n",
      "\n",
      "Netflix\n",
      "메일 제목:조남현 님의 취향에 맞는 영화 등록 알림\n",
      "\n",
      "교보문고\n",
      "메일 제목:[교보문고] 조남현님, 주문하신 상품은 모두 잘 받으셨나요?\n",
      "\n",
      "대한상의자격평가사업단\n",
      "메일 제목:2월 뉴스레터\n",
      "\n",
      "Netflix\n",
      "메일 제목:조남현 님의 취향에 맞는 다큐시리즈 등록 알림\n",
      "\n"
     ]
    }
   ],
   "source": [
    "# [도전과제] 네이버 로그인 후 메일 리스트 출력하기\n",
    "# 로그인 과정 - pyperclip 이용 (기존 방식 사용 불가..)\n",
    "\n",
    "import time\n",
    "import selenium\n",
    "from selenium import webdriver\n",
    "from bs4 import BeautifulSoup\n",
    "from selenium.webdriver.common.keys import Keys\n",
    "from selenium.webdriver.common.action_chains import ActionChains\n",
    "\n",
    "# !pip install pyperclip\n",
    "import pyperclip\n",
    "\n",
    "driver = webdriver.Chrome('./dataset/chromedriver.exe')\n",
    "\n",
    "def cp(ele,txt):\n",
    "    pyperclip.copy(txt)\n",
    "    ele.click()\n",
    "    ac = ActionChains(driver).key_down(Keys.CONTROL).send_keys('v').key_up(Keys.CONTROL).perform()\n",
    "    time.sleep(1)\n",
    "\n",
    "driver.get('https://www.naver.com')\n",
    "driver.find_element_by_class_name('link_login').click()\n",
    "\n",
    "id = ''\n",
    "pw = ''\n",
    "ele_id = driver.find_element_by_id('id')\n",
    "ele_pw = driver.find_element_by_id('pw')\n",
    "\n",
    "cp(ele_id,id)\n",
    "cp(ele_pw,pw)\n",
    "driver.find_element_by_id('log.login').click()\n",
    "\n",
    "driver.get('https://mail.naver.com')\n",
    "time.sleep(1)\n",
    "html = driver.page_source\n",
    "bs = BeautifulSoup(html, 'html.parser')\n",
    "\n",
    "def printmail():\n",
    "    sendlist = bs.find_all('div', class_= 'name _ccr(lst.from)') # 보낸 이\n",
    "    titlelist = bs.find_all('div', class_= 'subject') # 메일 \n",
    "    for i in range(len(sendlist)):\n",
    "        print(sendlist[i].find('a').get_text())\n",
    "        print(titlelist[i].find('strong').get_text())\n",
    "        print()\n",
    "\n",
    "# 메일 추출을 사용자 함수로 만들었기 때문에, 다음 페이지로 이동하는 사용자 함수나 for문과 함께 사용하면\n",
    "# 전체 메일을 추출할 수 있다. (page element를 알아보고 그걸 클릭하면 가능하겠습니다.)\n",
    "printmail()\n",
    "# driver.close()"
   ]
  },
  {
   "cell_type": "code",
   "execution_count": null,
   "id": "045a9b32",
   "metadata": {},
   "outputs": [],
   "source": [
    "# java script 사용\n",
    "import time\n",
    "import selenium\n",
    "from selenium import webdriver\n",
    "\n",
    "path = 'C:/tool/chromedriver.exe'\n",
    "driver = webdriver.Chrome(path)\n",
    "driver.get('https://www.naver.com')\n",
    "driver.maximize_window()\n",
    "time.sleep(1)\n",
    "element = driver.find_element_by_class_name('link_login')\n",
    "element.click()\n",
    "id  = ''\n",
    "pw = ''\n",
    "\n",
    "# execute_script 함수를 사용하면 자바스크립트 코드를 실행\n",
    "# js는 getElementById('id').value로 값을 가져올 수 있다.\n",
    "driver.execute_script(\"document.getElementById('id').value=\\'\" + id + \"\\'\") # text\n",
    "time.sleep(1)\n",
    "driver.execute_script(\"document.getElementById('pw').value=\\'\" + pw + \"\\'\")\n",
    "time.sleep(1)\n",
    "\n",
    "element = driver.find_element_by_class_name('btn_login')\n",
    "element.click()\n",
    "print(driver.page_source)"
   ]
  },
  {
   "cell_type": "code",
   "execution_count": 21,
   "id": "2c3fa59a",
   "metadata": {},
   "outputs": [
    {
     "name": "stderr",
     "output_type": "stream",
     "text": [
      "C:\\Users\\chonh\\AppData\\Local\\Temp/ipykernel_10440/95994856.py:8: DeprecationWarning: executable_path has been deprecated, please pass in a Service object\n",
      "  driver = webdriver.Chrome('./dataset/chromedriver.exe')\n",
      "C:\\Users\\chonh\\AppData\\Local\\Temp/ipykernel_10440/95994856.py:12: DeprecationWarning: find_element_by_* commands are deprecated. Please use find_element() instead\n",
      "  ele_id = driver.find_element_by_id('id')\n",
      "C:\\Users\\chonh\\AppData\\Local\\Temp/ipykernel_10440/95994856.py:13: DeprecationWarning: find_element_by_* commands are deprecated. Please use find_element() instead\n",
      "  ele_pw = driver.find_element_by_id('pw')\n"
     ]
    }
   ],
   "source": [
    "# 이거 안됨\n",
    "# import time\n",
    "# import selenium\n",
    "# from selenium import webdriver\n",
    "# from bs4 import BeautifulSoup\n",
    "# from selenium.webdriver.common.keys import Keys\n",
    "# import pyautogui\n",
    "\n",
    "# driver = webdriver.Chrome('./dataset/chromedriver.exe')\n",
    "# driver.get('https://mail.naver.com')\n",
    "# id = 'chonh31'\n",
    "# pw = 'cnh1048016!'\n",
    "# ele_id = driver.find_element_by_id('id')\n",
    "# ele_pw = driver.find_element_by_id('pw')\n",
    "# def idpw(ele,txt):\n",
    "#     ele.click()\n",
    "#     for i in txt:\n",
    "#         pyautogui.press(i)\n",
    "\n",
    "# idpw(ele_id,id)\n",
    "# idpw(ele_pw,pw)\n",
    "# pyautogui.press('enter')\n"
   ]
  }
 ],
 "metadata": {
  "kernelspec": {
   "display_name": "Python 3 (ipykernel)",
   "language": "python",
   "name": "python3"
  },
  "language_info": {
   "codemirror_mode": {
    "name": "ipython",
    "version": 3
   },
   "file_extension": ".py",
   "mimetype": "text/x-python",
   "name": "python",
   "nbconvert_exporter": "python",
   "pygments_lexer": "ipython3",
   "version": "3.8.12"
  }
 },
 "nbformat": 4,
 "nbformat_minor": 5
}
