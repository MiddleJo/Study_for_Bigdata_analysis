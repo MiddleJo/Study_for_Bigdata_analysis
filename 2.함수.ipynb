{
 "cells": [
  {
   "cell_type": "code",
   "execution_count": 1,
   "id": "ee1ffc3f",
   "metadata": {},
   "outputs": [
    {
     "name": "stdout",
     "output_type": "stream",
     "text": [
      "HI\n"
     ]
    }
   ],
   "source": [
    "# 입력값이 없고 결과값만 있는 함수\n",
    "def say():\n",
    "    return 'HI'\n",
    "a = say()\n",
    "print(a)"
   ]
  },
  {
   "cell_type": "code",
   "execution_count": 2,
   "id": "28d2bd49",
   "metadata": {},
   "outputs": [
    {
     "name": "stdout",
     "output_type": "stream",
     "text": [
      "3, 4의 합은 7입니다.\n"
     ]
    }
   ],
   "source": [
    "# 입력값은 있고 결과값이 없는 함수\n",
    "def add(a,b):\n",
    "    print('%d, %d의 합은 %d입니다.' %(a,b,a+b))\n",
    "add(3,4)"
   ]
  },
  {
   "cell_type": "code",
   "execution_count": 3,
   "id": "cbf01755",
   "metadata": {},
   "outputs": [
    {
     "data": {
      "text/plain": [
       "'당신은 601호의 훌륭한 학생이군요'"
      ]
     },
     "execution_count": 3,
     "metadata": {},
     "output_type": "execute_result"
    }
   ],
   "source": [
    "#입력값, 결과값이 모두 있는 함수\n",
    "def safd5(a):\n",
    "    class_601 = ['조남현','홍길동']\n",
    "    \n",
    "    if a in class_601:\n",
    "        return '당신은 601호의 훌륭한 학생이군요'\n",
    "    else:\n",
    "        return '누구시죠?'\n",
    "safd5('조남현')"
   ]
  },
  {
   "cell_type": "code",
   "execution_count": 4,
   "id": "601124be",
   "metadata": {},
   "outputs": [
    {
     "data": {
      "text/plain": [
       "15"
      ]
     },
     "execution_count": 4,
     "metadata": {},
     "output_type": "execute_result"
    }
   ],
   "source": [
    "# 여러개의 입력값을 받는 함수 만들기\n",
    "# *args 처럼 입력 변수명 앞에 *를 붙이면 입력값들을 전부 모아서 튜플로 만들어 줌\n",
    "\n",
    "def add_many(*args):\n",
    "    add = 0\n",
    "    for i in args:\n",
    "        add += i\n",
    "    return add\n",
    "\n",
    "add_many(1,2,3,4,5)"
   ]
  },
  {
   "cell_type": "code",
   "execution_count": 5,
   "id": "98ad3f14",
   "metadata": {},
   "outputs": [
    {
     "data": {
      "text/plain": [
       "(3, 2)"
      ]
     },
     "execution_count": 5,
     "metadata": {},
     "output_type": "execute_result"
    }
   ],
   "source": [
    "#함수의 반환 값은 언제나 하나임 - 결과 값으로 튜플 값 하나를 갖게 됨\n",
    "def add_and_mul(a,b):\n",
    "    return a+b, a*b\n",
    "add_and_mul(1,2)\n"
   ]
  },
  {
   "cell_type": "code",
   "execution_count": 6,
   "id": "6d444fdc",
   "metadata": {},
   "outputs": [
    {
     "data": {
      "text/plain": [
       "120"
      ]
     },
     "execution_count": 6,
     "metadata": {},
     "output_type": "execute_result"
    }
   ],
   "source": [
    "# add_mul() 함수를 정의하여 1,2,3,4,5를 입력 값으로 적용ㅎ여 덧셈, 곱셈 연산을 수행하세요.\n",
    "def add_mul(choice,*args):\n",
    "    if choice == 'add':\n",
    "        add = 0\n",
    "        for i in args:\n",
    "            add += i\n",
    "        return add\n",
    "    elif choice == 'mul':\n",
    "        mul = 1\n",
    "        for i in args:\n",
    "            mul *= i\n",
    "        return mul\n",
    "    else:\n",
    "        return 'none'\n",
    "add_mul('mul',1,2,3,4,5)"
   ]
  },
  {
   "cell_type": "code",
   "execution_count": 7,
   "id": "57860942",
   "metadata": {},
   "outputs": [
    {
     "name": "stdout",
     "output_type": "stream",
     "text": [
      "-26\n",
      "0.0010416666666666667\n"
     ]
    }
   ],
   "source": [
    "# 뺄셈, 나눗셈 멀티 계산 함수를 작성\n",
    "# ('sub', 2,4,6,8,10)\n",
    "# ('div', 2,4,6,8,10)\n",
    "def sub_div(math, *args):\n",
    "    re_sub=args[0]\n",
    "    re_div=args[0]\n",
    "    if math=='sub':\n",
    "        for i in range(len(args)-1):\n",
    "            re_sub-=args[i+1]\n",
    "        return re_sub\n",
    "    elif math=='div':\n",
    "        for i in range(len(args)-1):\n",
    "            re_div/=args[i+1]\n",
    "        return re_div\n",
    "    else:\n",
    "        return f'not defined expression'\n",
    "print(sub_div('sub',2,4,6,8,10))\n",
    "print(sub_div('div',2,4,6,8,10))\n"
   ]
  },
  {
   "cell_type": "code",
   "execution_count": 8,
   "id": "18dbe2ef",
   "metadata": {},
   "outputs": [
    {
     "name": "stdout",
     "output_type": "stream",
     "text": [
      "None\n"
     ]
    }
   ],
   "source": [
    "# 함수 안에서 선언된 변수의 효력 범위\n",
    "a = 1\n",
    "def vartest(a):\n",
    "    a = a + 1\n",
    "    \n",
    "print(vartest(a))"
   ]
  },
  {
   "cell_type": "code",
   "execution_count": 9,
   "id": "69e5a236",
   "metadata": {},
   "outputs": [
    {
     "name": "stdout",
     "output_type": "stream",
     "text": [
      "2\n"
     ]
    }
   ],
   "source": [
    "# 함수 안에서 함수 밖의 변수를 변경하는 방법 - return 이용\n",
    "a = 1\n",
    "def vartest(a):\n",
    "    a = a + 1\n",
    "    return a\n",
    "print(vartest(a))"
   ]
  },
  {
   "cell_type": "code",
   "execution_count": 10,
   "id": "dd7e82d3",
   "metadata": {},
   "outputs": [
    {
     "name": "stdout",
     "output_type": "stream",
     "text": [
      "2\n"
     ]
    }
   ],
   "source": [
    "# global 명령을 이용하는 방법\n",
    "a = 1\n",
    "def vartest():\n",
    "    global a\n",
    "    a = a + 1\n",
    "vartest()\n",
    "print(a)"
   ]
  },
  {
   "cell_type": "code",
   "execution_count": 11,
   "id": "c454fa2e",
   "metadata": {},
   "outputs": [
    {
     "data": {
      "text/plain": [
       "'C:\\\\cakd5\\\\workspace\\\\m1_programming'"
      ]
     },
     "execution_count": 11,
     "metadata": {},
     "output_type": "execute_result"
    }
   ],
   "source": [
    "%pwd\n"
   ]
  },
  {
   "cell_type": "code",
   "execution_count": 1,
   "id": "d230fc4d",
   "metadata": {},
   "outputs": [],
   "source": [
    "# 파일 읽고 쓰기 = w 쓰기 r 읽기 a 추가\n",
    "f = open('test1.txt','w')\n",
    "for i in range(1,11):\n",
    "    data = '%d번째 줄입니다.\\n' % i\n",
    "    f.write(data)\n",
    "f.close()"
   ]
  },
  {
   "cell_type": "code",
   "execution_count": 2,
   "id": "538ccf29",
   "metadata": {},
   "outputs": [
    {
     "name": "stdout",
     "output_type": "stream",
     "text": [
      "1번째 줄입니다.\n",
      "\n"
     ]
    }
   ],
   "source": [
    "f = open('test1.txt', 'r')\n",
    "line = f.readline()\n",
    "print(line)\n",
    "f.close()"
   ]
  },
  {
   "cell_type": "code",
   "execution_count": 3,
   "id": "4024f5c0",
   "metadata": {},
   "outputs": [
    {
     "name": "stdout",
     "output_type": "stream",
     "text": [
      "1번째 줄입니다.\n",
      "\n",
      "2번째 줄입니다.\n",
      "\n",
      "3번째 줄입니다.\n",
      "\n",
      "4번째 줄입니다.\n",
      "\n",
      "5번째 줄입니다.\n",
      "\n",
      "6번째 줄입니다.\n",
      "\n",
      "7번째 줄입니다.\n",
      "\n",
      "8번째 줄입니다.\n",
      "\n",
      "9번째 줄입니다.\n",
      "\n",
      "10번째 줄입니다.\n",
      "\n"
     ]
    }
   ],
   "source": [
    "f = open('test1.txt', 'r')\n",
    "while 1:\n",
    "    line = f.readline()\n",
    "    if not line: break\n",
    "    print(line)\n",
    "f.close()"
   ]
  },
  {
   "cell_type": "code",
   "execution_count": 15,
   "id": "a7118e37",
   "metadata": {},
   "outputs": [],
   "source": [
    "f = open('test1.txt', 'a')\n",
    "for i in range(11,16):\n",
    "    data = '%d번째 줄업니다. \\n' %i\n",
    "    f.write(data)\n",
    "f.close()"
   ]
  },
  {
   "cell_type": "code",
   "execution_count": 16,
   "id": "f78cda0e",
   "metadata": {},
   "outputs": [
    {
     "name": "stdout",
     "output_type": "stream",
     "text": [
      "1번째 줄입니다.\n",
      "2번째 줄입니다.\n",
      "3번째 줄입니다.\n",
      "4번째 줄입니다.\n",
      "5번째 줄입니다.\n",
      "6번째 줄입니다.\n",
      "7번째 줄입니다.\n",
      "8번째 줄입니다.\n",
      "9번째 줄입니다.\n",
      "10번째 줄입니다.\n",
      "11번째 줄업니다. \n",
      "12번째 줄업니다. \n",
      "13번째 줄업니다. \n",
      "14번째 줄업니다. \n",
      "15번째 줄업니다. \n",
      "\n"
     ]
    }
   ],
   "source": [
    "f = open('test1.txt','r')\n",
    "data = f.read()\n",
    "print(data)\n",
    "f.close()"
   ]
  },
  {
   "cell_type": "code",
   "execution_count": 17,
   "id": "e7639133",
   "metadata": {},
   "outputs": [],
   "source": [
    "# with문과 같이 사용\n",
    "with open('foo.txt', 'w') as f:\n",
    "    f.write('파이썬을 배웁시다.')\n",
    "    "
   ]
  },
  {
   "cell_type": "code",
   "execution_count": 18,
   "id": "6e55742f",
   "metadata": {},
   "outputs": [
    {
     "name": "stdout",
     "output_type": "stream",
     "text": [
      "파이썬을 배웁시다.\n"
     ]
    }
   ],
   "source": [
    "with open('foo.txt','r') as f:\n",
    "    data = f.read()\n",
    "    print(data)"
   ]
  },
  {
   "cell_type": "code",
   "execution_count": 19,
   "id": "ea7b52c5",
   "metadata": {},
   "outputs": [],
   "source": [
    "with open('foo.txt', 'w') as f:\n",
    "    for i in range(1,11):\n",
    "        data = '%d번째 줄입니다.\\n' %i\n",
    "        f.write(data)"
   ]
  },
  {
   "cell_type": "code",
   "execution_count": 20,
   "id": "e79d060c",
   "metadata": {},
   "outputs": [
    {
     "name": "stdout",
     "output_type": "stream",
     "text": [
      "1번째 줄입니다.\n",
      "2번째 줄입니다.\n",
      "3번째 줄입니다.\n",
      "4번째 줄입니다.\n",
      "5번째 줄입니다.\n",
      "6번째 줄입니다.\n",
      "7번째 줄입니다.\n",
      "8번째 줄입니다.\n",
      "9번째 줄입니다.\n",
      "10번째 줄입니다.\n",
      "\n"
     ]
    }
   ],
   "source": [
    "with open('foo.txt','r') as f:\n",
    "    data = f.read()\n",
    "    print(data)"
   ]
  },
  {
   "cell_type": "code",
   "execution_count": 21,
   "id": "ba741261",
   "metadata": {},
   "outputs": [],
   "source": [
    "with open('foo.txt', 'a') as f:\n",
    "    for i in range(1,16):\n",
    "        data = '%d번째 줄입니다.\\n' %i\n",
    "        f.write(data)"
   ]
  },
  {
   "cell_type": "code",
   "execution_count": 22,
   "id": "2aec29bc",
   "metadata": {},
   "outputs": [
    {
     "name": "stdout",
     "output_type": "stream",
     "text": [
      "1번째 줄입니다.\n",
      "2번째 줄입니다.\n",
      "3번째 줄입니다.\n",
      "4번째 줄입니다.\n",
      "5번째 줄입니다.\n",
      "6번째 줄입니다.\n",
      "7번째 줄입니다.\n",
      "8번째 줄입니다.\n",
      "9번째 줄입니다.\n",
      "10번째 줄입니다.\n",
      "1번째 줄입니다.\n",
      "2번째 줄입니다.\n",
      "3번째 줄입니다.\n",
      "4번째 줄입니다.\n",
      "5번째 줄입니다.\n",
      "6번째 줄입니다.\n",
      "7번째 줄입니다.\n",
      "8번째 줄입니다.\n",
      "9번째 줄입니다.\n",
      "10번째 줄입니다.\n",
      "11번째 줄입니다.\n",
      "12번째 줄입니다.\n",
      "13번째 줄입니다.\n",
      "14번째 줄입니다.\n",
      "15번째 줄입니다.\n",
      "\n"
     ]
    }
   ],
   "source": [
    "with open('foo.txt','r') as f:\n",
    "    data = f.read()\n",
    "    print(data)"
   ]
  },
  {
   "cell_type": "code",
   "execution_count": 23,
   "id": "dc43d4a1",
   "metadata": {},
   "outputs": [
    {
     "name": "stdout",
     "output_type": "stream",
     "text": [
      "3\n",
      "False\n",
      "True\n",
      "A\n"
     ]
    }
   ],
   "source": [
    "#내장함수\n",
    "print(abs(-3))\n",
    "print(all([1,2,3,0])) #x가 모두 참이면 True, 거짓이 하나라도 있으면 False\n",
    "print(any([1,2,3,0])) #x가 하나라도 참이면 True, 모두 거짓이면 False\n",
    "print(chr(65))"
   ]
  },
  {
   "cell_type": "code",
   "execution_count": 24,
   "id": "6a285fac",
   "metadata": {},
   "outputs": [
    {
     "data": {
      "text/plain": [
       "7"
      ]
     },
     "execution_count": 24,
     "metadata": {},
     "output_type": "execute_result"
    }
   ],
   "source": [
    "sum = lambda a,b: a + b\n",
    "sum(3,4)"
   ]
  },
  {
   "cell_type": "code",
   "execution_count": 25,
   "id": "c6905d35",
   "metadata": {},
   "outputs": [
    {
     "name": "stdout",
     "output_type": "stream",
     "text": [
      "7\n",
      "12\n"
     ]
    }
   ],
   "source": [
    "myList = [lambda a,b: a+b, lambda a,b: a*b]\n",
    "print(myList[0](3,4))\n",
    "print(myList[1](3,4))"
   ]
  },
  {
   "cell_type": "code",
   "execution_count": 26,
   "id": "617828cd",
   "metadata": {},
   "outputs": [
    {
     "name": "stdout",
     "output_type": "stream",
     "text": [
      "6\n",
      "3\n",
      "3\n"
     ]
    }
   ],
   "source": [
    "print(len('python'))\n",
    "print(len([1,2,3]))\n",
    "print(len([1,2,'a']))"
   ]
  },
  {
   "cell_type": "code",
   "execution_count": 27,
   "id": "0c00ed4d",
   "metadata": {},
   "outputs": [
    {
     "data": {
      "text/plain": [
       "[0, -1, -2, -3, -4, -5, -6, -7, -8, -9]"
      ]
     },
     "execution_count": 27,
     "metadata": {},
     "output_type": "execute_result"
    }
   ],
   "source": [
    "list(range(5))\n",
    "list(range(1,6))\n",
    "list(range(1,10,2))\n",
    "list(range(0,-10,-1))"
   ]
  },
  {
   "cell_type": "code",
   "execution_count": 28,
   "id": "b385037d",
   "metadata": {},
   "outputs": [
    {
     "name": "stdout",
     "output_type": "stream",
     "text": [
      "(2, 1)\n"
     ]
    }
   ],
   "source": [
    "print(divmod(7,3))"
   ]
  },
  {
   "cell_type": "code",
   "execution_count": 29,
   "id": "b32396bf",
   "metadata": {},
   "outputs": [
    {
     "name": "stdout",
     "output_type": "stream",
     "text": [
      "0 james\n",
      "1 tom\n",
      "2 susan\n"
     ]
    }
   ],
   "source": [
    "# 순서가 있는 자료형을 입력으로 받아 인덱스 값을 포함한 enumerate 객체를 리턴\n",
    "for i, name in enumerate(['james', 'tom', 'susan']):\n",
    "    print(i, name)"
   ]
  },
  {
   "cell_type": "code",
   "execution_count": 30,
   "id": "3eb13ea0",
   "metadata": {},
   "outputs": [
    {
     "name": "stdout",
     "output_type": "stream",
     "text": [
      "3\n"
     ]
    }
   ],
   "source": [
    "# 실행 가능한 문자열 입력으로 받아 문자열을 실행한 결과값을 리턴\n",
    "print(eval('1+2'))"
   ]
  },
  {
   "cell_type": "code",
   "execution_count": 31,
   "id": "b7a9ba4e",
   "metadata": {},
   "outputs": [
    {
     "data": {
      "text/plain": [
       "[5, 4, 3, 2, 1, 0]"
      ]
     },
     "execution_count": 31,
     "metadata": {},
     "output_type": "execute_result"
    }
   ],
   "source": [
    "li = [0,1,2,3,5,4]\n",
    "li.sort(reverse = True)\n",
    "li"
   ]
  },
  {
   "cell_type": "code",
   "execution_count": 32,
   "id": "1cde00dc",
   "metadata": {},
   "outputs": [
    {
     "name": "stdout",
     "output_type": "stream",
     "text": [
      "[0, 1, 2, 4, 5]\n"
     ]
    },
    {
     "data": {
      "text/plain": [
       "[0, 2, 1, 5, 4]"
      ]
     },
     "execution_count": 32,
     "metadata": {},
     "output_type": "execute_result"
    }
   ],
   "source": [
    "# 정렬된 결과를 반환하는 함수는 본체는 변형되지 않는다\n",
    "li = [0,2,1,5,4]\n",
    "s = sorted(li)\n",
    "print(s)\n",
    "li"
   ]
  },
  {
   "cell_type": "code",
   "execution_count": 33,
   "id": "01f40f80",
   "metadata": {},
   "outputs": [],
   "source": [
    "# 외장함수: 전 세계 파이썬 사용자들이 만든 유용한 프로그램을 모아 놓은 파이썬 라이브러리\n",
    "# pickle은 객체의 형태를 유지하면서 파일에 저장하고 불러올 수 있게 하는 모듈\n",
    "\n",
    "import pickle\n",
    "f = open('test.txt', 'wb')\n",
    "data = {1:'python', 2:'you need'}\n",
    "pickle.dump(data,f)\n",
    "f.close()"
   ]
  },
  {
   "cell_type": "code",
   "execution_count": 34,
   "id": "532f0505",
   "metadata": {},
   "outputs": [
    {
     "name": "stdout",
     "output_type": "stream",
     "text": [
      "{1: 'python', 2: 'you need'}\n"
     ]
    }
   ],
   "source": [
    "import pickle\n",
    "f = open('test.txt', 'rb')\n",
    "data = pickle.load(f)\n",
    "print(data)\n",
    "f.close()"
   ]
  },
  {
   "cell_type": "code",
   "execution_count": 35,
   "id": "4a04acb6",
   "metadata": {},
   "outputs": [
    {
     "data": {
      "text/plain": [
       "'C:\\\\Users\\\\admin\\\\Anaconda3\\\\envs\\\\cakd5;C:\\\\Users\\\\admin\\\\Anaconda3\\\\envs\\\\cakd5\\\\Library\\\\mingw-w64\\\\bin;C:\\\\Users\\\\admin\\\\Anaconda3\\\\envs\\\\cakd5\\\\Library\\\\usr\\\\bin;C:\\\\Users\\\\admin\\\\Anaconda3\\\\envs\\\\cakd5\\\\Library\\\\bin;C:\\\\Users\\\\admin\\\\Anaconda3\\\\envs\\\\cakd5\\\\Scripts;C:\\\\Users\\\\admin\\\\Anaconda3;C:\\\\Users\\\\admin\\\\Anaconda3\\\\Library\\\\bin;C:\\\\Users\\\\admin\\\\Anaconda3\\\\Library\\\\mingw-w64\\\\bin;C:\\\\Users\\\\admin\\\\Anaconda3\\\\Scripts;C:\\\\WINDOWS\\\\system32;C:\\\\WINDOWS;C:\\\\WINDOWS\\\\System32\\\\Wbem;C:\\\\WINDOWS\\\\System32\\\\WindowsPowerShell\\\\v1.0\\\\;C:\\\\WINDOWS\\\\System32\\\\OpenSSH\\\\;C:\\\\Program Files (x86)\\\\Intel\\\\Intel(R) Management Engine Components\\\\DAL;C:\\\\Program Files\\\\Intel\\\\Intel(R) Management Engine Components\\\\DAL;C:\\\\Users\\\\admin\\\\AppData'"
      ]
     },
     "execution_count": 35,
     "metadata": {},
     "output_type": "execute_result"
    }
   ],
   "source": [
    "import os\n",
    "os.environ['PATH']"
   ]
  },
  {
   "cell_type": "code",
   "execution_count": 36,
   "id": "f8ad08dc",
   "metadata": {},
   "outputs": [
    {
     "data": {
      "text/plain": [
       "'C:\\\\cakd5\\\\workspace\\\\m1_programming'"
      ]
     },
     "execution_count": 36,
     "metadata": {},
     "output_type": "execute_result"
    }
   ],
   "source": [
    "%pwd"
   ]
  },
  {
   "cell_type": "code",
   "execution_count": 37,
   "id": "6ba85a51",
   "metadata": {},
   "outputs": [],
   "source": [
    "#폴더변경\n",
    "os.chdir('C:\\cakd5\\workspace')"
   ]
  },
  {
   "cell_type": "code",
   "execution_count": 38,
   "id": "7f61340c",
   "metadata": {},
   "outputs": [
    {
     "data": {
      "text/plain": [
       "'C:\\\\cakd5\\\\workspace'"
      ]
     },
     "execution_count": 38,
     "metadata": {},
     "output_type": "execute_result"
    }
   ],
   "source": [
    "%pwd"
   ]
  },
  {
   "cell_type": "code",
   "execution_count": 39,
   "id": "70e4ab21",
   "metadata": {},
   "outputs": [],
   "source": [
    "os.chdir('C:\\cakd5\\workspace\\m1_programming')"
   ]
  },
  {
   "cell_type": "code",
   "execution_count": 40,
   "id": "d603bd73",
   "metadata": {},
   "outputs": [
    {
     "data": {
      "text/plain": [
       "'C:\\\\cakd5\\\\workspace\\\\m1_programming'"
      ]
     },
     "execution_count": 40,
     "metadata": {},
     "output_type": "execute_result"
    }
   ],
   "source": [
    "%pwd"
   ]
  },
  {
   "cell_type": "code",
   "execution_count": 41,
   "id": "199c24d5",
   "metadata": {},
   "outputs": [
    {
     "name": "stdout",
     "output_type": "stream",
     "text": [
      " C 드라이브의 볼륨에는 이름이 없습니다.\n",
      " 볼륨 일련 번호: 5EA5-0099\n",
      "\n",
      " C:\\cakd5\\workspace\\m1_programming 디렉터리\n",
      "\n",
      "2021-12-31  오후 12:26    <DIR>          .\n",
      "2021-12-31  오후 12:26    <DIR>          ..\n",
      "2021-12-31  오전 09:07    <DIR>          .ipynb_checkpoints\n",
      "2021-12-29  오후 06:25            75,645 coffee.jpg\n",
      "2021-12-29  오후 06:44            12,842 coffee_auto.jpg\n",
      "2021-12-29  오후 06:26           122,952 coin.jpg\n",
      "2021-12-29  오후 06:28            11,286 end.jpg\n",
      "2021-12-31  오후 12:26               432 foo.txt\n",
      "2021-12-29  오후 06:25             2,936 Jupyter Notebook 사용법.ipynb\n",
      "2021-12-29  오후 06:28            14,391 money.jpg\n",
      "2021-12-31  오후 12:26                40 test.txt\n",
      "2021-12-31  오후 12:26               266 test1.txt\n",
      "2021-12-31  오전 11:27               266 test_new.txt\n",
      "2021-12-31  오전 10:34           100,372 기초(211230)_과제수정.ipynb\n",
      "2021-12-30  오후 04:17            74,992 기초(강사님파일).ipynb\n",
      "2021-12-29  오후 03:21            19,072 기초(필기한 자료).ipynb\n",
      "2021-12-28  오후 04:19            94,995 매직명령어.jpg\n",
      "2021-12-31  오후 12:26            22,043 함수.ipynb\n",
      "              15개 파일             552,530 바이트\n",
      "               3개 디렉터리  935,638,601,728 바이트 남음\n"
     ]
    }
   ],
   "source": [
    "!dir"
   ]
  },
  {
   "cell_type": "code",
   "execution_count": 42,
   "id": "cb402097",
   "metadata": {},
   "outputs": [
    {
     "ename": "FileExistsError",
     "evalue": "[WinError 183] 파일이 이미 있으므로 만들 수 없습니다: 'test1.txt' -> 'test_new.txt'",
     "output_type": "error",
     "traceback": [
      "\u001b[1;31m---------------------------------------------------------------------------\u001b[0m",
      "\u001b[1;31mFileExistsError\u001b[0m                           Traceback (most recent call last)",
      "\u001b[1;32m~\\AppData\\Local\\Temp/ipykernel_6448/2375702792.py\u001b[0m in \u001b[0;36m<module>\u001b[1;34m\u001b[0m\n\u001b[1;32m----> 1\u001b[1;33m \u001b[0mos\u001b[0m\u001b[1;33m.\u001b[0m\u001b[0mrename\u001b[0m\u001b[1;33m(\u001b[0m\u001b[1;34m'test1.txt'\u001b[0m\u001b[1;33m,\u001b[0m\u001b[1;34m'test_new.txt'\u001b[0m\u001b[1;33m)\u001b[0m\u001b[1;33m\u001b[0m\u001b[1;33m\u001b[0m\u001b[0m\n\u001b[0m",
      "\u001b[1;31mFileExistsError\u001b[0m: [WinError 183] 파일이 이미 있으므로 만들 수 없습니다: 'test1.txt' -> 'test_new.txt'"
     ]
    }
   ],
   "source": [
    "import os\n",
    "os.rename('test1.txt','test_new.txt')"
   ]
  },
  {
   "cell_type": "code",
   "execution_count": 9,
   "id": "f0ba2d93",
   "metadata": {},
   "outputs": [
    {
     "data": {
      "text/plain": [
       "['C:\\\\cakd5\\\\workspace\\\\m1_programming\\\\foo.txt',\n",
       " 'C:\\\\cakd5\\\\workspace\\\\m1_programming\\\\info.txt',\n",
       " 'C:\\\\cakd5\\\\workspace\\\\m1_programming\\\\test.txt',\n",
       " 'C:\\\\cakd5\\\\workspace\\\\m1_programming\\\\test1.txt',\n",
       " 'C:\\\\cakd5\\\\workspace\\\\m1_programming\\\\test_new.txt']"
      ]
     },
     "execution_count": 9,
     "metadata": {},
     "output_type": "execute_result"
    }
   ],
   "source": [
    "# glob() 함수는 인자로 받은 패턴과 이름이 일치하는 모든 파일과 디렉토리의 리스트를 변환\n",
    "import glob\n",
    "glob.glob('C:\\cakd5\\workspace\\m1_programming\\*.txt')"
   ]
  },
  {
   "cell_type": "code",
   "execution_count": 74,
   "id": "a79787c8",
   "metadata": {},
   "outputs": [
    {
     "data": {
      "text/plain": [
       "1640921460.8322432"
      ]
     },
     "execution_count": 74,
     "metadata": {},
     "output_type": "execute_result"
    }
   ],
   "source": [
    "import time\n",
    "time.time()\n"
   ]
  },
  {
   "cell_type": "code",
   "execution_count": 17,
   "id": "e9376cf0",
   "metadata": {},
   "outputs": [
    {
     "data": {
      "text/plain": [
       "time.struct_time(tm_year=2022, tm_mon=1, tm_mday=6, tm_hour=21, tm_min=27, tm_sec=16, tm_wday=3, tm_yday=6, tm_isdst=0)"
      ]
     },
     "execution_count": 17,
     "metadata": {},
     "output_type": "execute_result"
    }
   ],
   "source": [
    "import time\n",
    "time.localtime(time.time())\n",
    "#a = list(time.localtime(time.time()))\n",
    "#print(a)"
   ]
  },
  {
   "cell_type": "code",
   "execution_count": 77,
   "id": "acf5c032",
   "metadata": {},
   "outputs": [
    {
     "data": {
      "text/plain": [
       "'Fri Dec 31 12:32:42 2021'"
      ]
     },
     "execution_count": 77,
     "metadata": {},
     "output_type": "execute_result"
    }
   ],
   "source": [
    "time.asctime(time.localtime(time.time()))"
   ]
  },
  {
   "cell_type": "code",
   "execution_count": 80,
   "id": "dbb1e58a",
   "metadata": {},
   "outputs": [
    {
     "name": "stdout",
     "output_type": "stream",
     "text": [
      "0\n",
      "1\n",
      "2\n",
      "3\n",
      "4\n"
     ]
    }
   ],
   "source": [
    "# time.sleep() : 일정한 시간 간격을 두고 루프를 실행할 수 있음\n",
    "import time\n",
    "for i in range(5):\n",
    "    print(i)\n",
    "    time.sleep(2)"
   ]
  },
  {
   "cell_type": "code",
   "execution_count": 90,
   "id": "113814fc",
   "metadata": {},
   "outputs": [
    {
     "name": "stdout",
     "output_type": "stream",
     "text": [
      "   December 2021\n",
      "Mo Tu We Th Fr Sa Su\n",
      "       1  2  3  4  5\n",
      " 6  7  8  9 10 11 12\n",
      "13 14 15 16 17 18 19\n",
      "20 21 22 23 24 25 26\n",
      "27 28 29 30 31\n",
      "None\n"
     ]
    }
   ],
   "source": [
    "import calendar\n",
    "print(calendar.prmonth(2021,12))"
   ]
  },
  {
   "cell_type": "code",
   "execution_count": 91,
   "id": "d0a3d29a",
   "metadata": {},
   "outputs": [
    {
     "name": "stdout",
     "output_type": "stream",
     "text": [
      "4\n"
     ]
    }
   ],
   "source": [
    "# 요일 (0 월요일 ~ 6 일요일)\n",
    "print(calendar.weekday(2021,12,31))"
   ]
  },
  {
   "cell_type": "code",
   "execution_count": 92,
   "id": "90ddd983",
   "metadata": {},
   "outputs": [
    {
     "data": {
      "text/plain": [
       "(5, 31)"
      ]
     },
     "execution_count": 92,
     "metadata": {},
     "output_type": "execute_result"
    }
   ],
   "source": [
    "# 1일의 요일, 날수\n",
    "calendar.monthrange(2022,1)\n"
   ]
  },
  {
   "cell_type": "code",
   "execution_count": 18,
   "id": "f0f0484c",
   "metadata": {},
   "outputs": [
    {
     "data": {
      "text/plain": [
       "True"
      ]
     },
     "execution_count": 18,
     "metadata": {},
     "output_type": "execute_result"
    }
   ],
   "source": [
    "import webbrowser\n",
    "webbrowser.open('http://google.com')"
   ]
  },
  {
   "cell_type": "code",
   "execution_count": 86,
   "id": "339ae7a1",
   "metadata": {},
   "outputs": [
    {
     "name": "stdout",
     "output_type": "stream",
     "text": [
      "[0, 1, 3, 4, 5, 6]\n"
     ]
    }
   ],
   "source": [
    "#내장함수를 이용해서 list = [0,1,2,3,4,5,6]에서 2를 삭제 후 출력하세요.\n",
    "list = [0,1,2,3,4,5,6]\n",
    "list.remove(2)\n",
    "print(list)"
   ]
  },
  {
   "cell_type": "code",
   "execution_count": 88,
   "id": "bfc76e55",
   "metadata": {},
   "outputs": [
    {
     "name": "stdout",
     "output_type": "stream",
     "text": [
      "[]\n"
     ]
    }
   ],
   "source": [
    "#내장함수를 이용해서 list = [0,1,2,3,4,5,6]에서 모든 원소를 삭제 후 출력하세요.\n",
    "list = [0,1,2,3,4,5,6]\n",
    "list.clear()\n",
    "print(list)"
   ]
  },
  {
   "cell_type": "code",
   "execution_count": 1,
   "id": "0c6cef66",
   "metadata": {},
   "outputs": [
    {
     "name": "stdout",
     "output_type": "stream",
     "text": [
      "[1, 4, 9, 16, 25]\n",
      "[1, 2]\n"
     ]
    }
   ],
   "source": [
    "#람다함수와 적합한 내장함수를 사용하여 아래와 같이 출력하세요.\n",
    "#[1,2,3,4,5] -> [1,4,9,16,25]\n",
    "#[1,2,3,4,5] -> [1,2]\n",
    "\n",
    "square = lambda a: a*a \n",
    "lst = [square(i) for i in range(1,6)]\n",
    "print(lst)\n",
    "\n",
    "lst_2 = [1,2,3,4,5]\n",
    "filtered_list = filter(lambda a: (a<=2), lst_2)\n",
    "\n",
    "print(list(filtered_list))\n"
   ]
  },
  {
   "cell_type": "code",
   "execution_count": 93,
   "id": "b2cfb948",
   "metadata": {},
   "outputs": [
    {
     "name": "stdout",
     "output_type": "stream",
     "text": [
      "[1, 2, 0, 6]\n"
     ]
    }
   ],
   "source": [
    "#[1,-3,2,0,-5,6] 에서 양수만 필터링해서 출력하세요(내장함수, 사용자함수 각각 이용)\n",
    "list = [1,-3,2,0,-5,6]\n",
    "for i in list:\n",
    "    if i < 0:\n",
    "        list.remove(i)\n",
    "print(list)"
   ]
  },
  {
   "cell_type": "code",
   "execution_count": 94,
   "id": "0a7e721f",
   "metadata": {},
   "outputs": [
    {
     "data": {
      "text/plain": [
       "[1, 2, 0, 6]"
      ]
     },
     "execution_count": 94,
     "metadata": {},
     "output_type": "execute_result"
    }
   ],
   "source": [
    "#[1,-3,2,0,-5,6] 에서 양수만 필터링해서 출력하세요(내장함수, 사용자함수 각각 이용)\n",
    "list = [1,-3,2,0,-5,6]\n",
    "def userfunc(a):\n",
    "    for i in a:\n",
    "        if i < 0:\n",
    "            a.remove(i)\n",
    "    return(a)\n",
    "userfunc(list)"
   ]
  },
  {
   "cell_type": "code",
   "execution_count": 2,
   "id": "80287cc1",
   "metadata": {},
   "outputs": [
    {
     "name": "stdout",
     "output_type": "stream",
     "text": [
      "[1, 2, 0, 6]\n"
     ]
    }
   ],
   "source": [
    "#[1,-3,2,0,-5,6] 에서 양수만 필터링해서 출력하세요(내장함수, 사용자함수 각각 이용)\n",
    "list = [1,-3,2,0,-5,6]\n",
    "def userfunc_1(a):\n",
    "    list_tmp = []\n",
    "    for i in a:\n",
    "        if i < 0:\n",
    "            list_tmp.append(i)\n",
    "    return(list_tmp)\n",
    "for j in userfunc_1(list):\n",
    "    list.remove(j)\n",
    "print(list)"
   ]
  },
  {
   "cell_type": "code",
   "execution_count": 121,
   "id": "fc2f4452",
   "metadata": {},
   "outputs": [
    {
     "name": "stdout",
     "output_type": "stream",
     "text": [
      "[(1, 4), (2, 5), (3, 6)]\n",
      "[(1, 4, 7), (2, 5, 8), (3, 6, 9)]\n"
     ]
    }
   ],
   "source": [
    "#내장함수를 이용하여 동일한 개수로 이루어진 자료형을 화살표 좌측에서 우측으로 변환하세요.\n",
    "# [1,2,3],[4,5,6] -> [(1,4),(2,5),(3,6)]\n",
    "# [1,2,3],[4,5,6],[7,8,9] -> [(1,4,7),(2,5,8),(3,6,9)]\n",
    "# ('abc','del') -> [('a','d'),('b','e'),('c','f')]\n",
    "a = [1,2,3]\n",
    "b = [4,5,6]\n",
    "c = [7,8,9]\n",
    "d = []\n",
    "e = []\n",
    "for i in range(len(a)):\n",
    "    d.insert(i,(a[i],b[i]))\n",
    "print(d)\n",
    "for i in range(len(a)):\n",
    "    e.insert(i,(a[i],b[i],c[i]))\n",
    "print(e)\n"
   ]
  },
  {
   "cell_type": "code",
   "execution_count": 3,
   "id": "bc903401",
   "metadata": {},
   "outputs": [
    {
     "name": "stdout",
     "output_type": "stream",
     "text": [
      "[(1, 4), (2, 5), (3, 6)]\n",
      "[([1, 2, 3],), ([4, 5, 6],), ([7, 8, 9],)]\n",
      "[('a', 'd'), ('b', 'e'), ('c', 'f')]\n"
     ]
    }
   ],
   "source": [
    "a = [1,2,3]\n",
    "b = [4,5,6]\n",
    "c = [7,8,9]\n",
    "\n",
    "ab = list(zip(a,b))\n",
    "print(ab)\n",
    "\n",
    "abc = list(zip([a,b,c]))\n",
    "print(abc)\n",
    "\n",
    "alp_1 = list(zip('abc','def'))\n",
    "print(alp_1)"
   ]
  },
  {
   "cell_type": "code",
   "execution_count": 10,
   "id": "bd7c572b",
   "metadata": {},
   "outputs": [
    {
     "data": {
      "text/plain": [
       "2.0"
      ]
     },
     "execution_count": 10,
     "metadata": {},
     "output_type": "execute_result"
    }
   ],
   "source": [
    "# 입력으로 들어오는 모든 수의 평균값을 계산해 주는 함수를 작성한 후 1,2,3을 입력한 결과를 출력하세요.\n",
    "def avg(*args):\n",
    "    sum = 0\n",
    "    for i in args:\n",
    "        sum = sum + i\n",
    "    num = len(args)\n",
    "    return(sum / num)\n",
    "\n",
    "avg(1,2,3)\n"
   ]
  },
  {
   "cell_type": "code",
   "execution_count": 13,
   "id": "88bd8aa9",
   "metadata": {},
   "outputs": [
    {
     "data": {
      "text/plain": [
       "6"
      ]
     },
     "execution_count": 13,
     "metadata": {},
     "output_type": "execute_result"
    }
   ],
   "source": [
    "n = 1260\n",
    "count = 0\n",
    "\n",
    "# 큰 단위의 화폐부터 차례대로 확인하기\n",
    "coin_types = [500, 100, 50, 10]\n",
    "\n",
    "for coin in coin_types:\n",
    "    count += n // coin # 해당 화폐로 거슬러 줄 수 있는 동전의 개수 세기\n",
    "    n %= coin\n",
    "count"
   ]
  },
  {
   "cell_type": "code",
   "execution_count": 23,
   "id": "d99303e5",
   "metadata": {},
   "outputs": [
    {
     "data": {
      "text/plain": [
       "['bar', 'ababa', 'ca', 'a', 'aaaa']"
      ]
     },
     "execution_count": 23,
     "metadata": {},
     "output_type": "execute_result"
    }
   ],
   "source": [
    "# [과제] strings를 다양한 문자가 포함된 순서로 정렬하시오.\n",
    "strings = ['a', 'ca', 'bar', 'aaaa', 'ababa']\n",
    "strings.sort() # sort는 리스트만 가능, 사전적 정렬\n",
    "strings.sort(key = lambda x: len(set(list(x))),reverse = True) # 주어진 정렬\n",
    "strings #결과는 주어진 정렬로 정렬 하되, 나머지는 사전적 정렬\n"
   ]
  },
  {
   "cell_type": "code",
   "execution_count": 2,
   "id": "868f42fd",
   "metadata": {},
   "outputs": [
    {
     "data": {
      "text/plain": [
       "['bar', 'ababa', 'ca', 'a', 'aaaa']"
      ]
     },
     "execution_count": 2,
     "metadata": {},
     "output_type": "execute_result"
    }
   ],
   "source": [
    "# [과제] 튜플 형태인 strings를 다양한 문자가 포함된 순서로 정렬하시오.\n",
    "strings = ('a', 'ca', 'bar', 'aaaa', 'ababa')\n",
    "strings_1 = sorted(strings) #sorted는 튜플도 가능\n",
    "sorted(strings_1,key = lambda x: len(set(list(x))),reverse = True) "
   ]
  },
  {
   "cell_type": "code",
   "execution_count": 4,
   "id": "a774d332",
   "metadata": {},
   "outputs": [
    {
     "name": "stdout",
     "output_type": "stream",
     "text": [
      "gfedcba\n"
     ]
    }
   ],
   "source": [
    "s = 'abcdefg'\n",
    "s_list = list(s)\n",
    "s_list.reverse()\n",
    "s_list\n",
    "print(''.join(s_list))\n"
   ]
  },
  {
   "cell_type": "code",
   "execution_count": 6,
   "id": "e726ac2b",
   "metadata": {},
   "outputs": [
    {
     "name": "stdout",
     "output_type": "stream",
     "text": [
      "gfedcba\n"
     ]
    }
   ],
   "source": [
    "s = 'abcdefg'\n",
    "r = s[::-1]\n",
    "print(r)\n"
   ]
  },
  {
   "cell_type": "code",
   "execution_count": 9,
   "id": "f1750423",
   "metadata": {},
   "outputs": [
    {
     "name": "stdout",
     "output_type": "stream",
     "text": [
      "dcb\n"
     ]
    }
   ],
   "source": [
    "#dcb만 출력\n",
    "s = 'abcdefg'\n",
    "print(s[3:0:-1])"
   ]
  }
 ],
 "metadata": {
  "kernelspec": {
   "display_name": "Python 3 (ipykernel)",
   "language": "python",
   "name": "python3"
  },
  "language_info": {
   "codemirror_mode": {
    "name": "ipython",
    "version": 3
   },
   "file_extension": ".py",
   "mimetype": "text/x-python",
   "name": "python",
   "nbconvert_exporter": "python",
   "pygments_lexer": "ipython3",
   "version": "3.8.12"
  }
 },
 "nbformat": 4,
 "nbformat_minor": 5
}
