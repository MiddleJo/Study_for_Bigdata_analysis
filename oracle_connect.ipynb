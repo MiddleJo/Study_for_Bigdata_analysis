{
 "cells": [
  {
   "cell_type": "code",
   "execution_count": 1,
   "metadata": {},
   "outputs": [
    {
     "name": "stdout",
     "output_type": "stream",
     "text": [
      "\n",
      "Windows IP ����\n",
      "\n",
      "\n",
      "�̴��� ����� �̴���:\n",
      "\n",
      "   ���Ằ DNS ���̻�. . . . : kornet\n",
      "   ��ũ-���� IPv6 �ּ� . . . . : fe80::c98c:cb43:6da9:26ec%16\n",
      "   IPv4 �ּ� . . . . . . . . . : 14.39.137.237\n",
      "   ����� ����ũ . . . . . . . : 255.255.255.0\n",
      "   �⺻ ����Ʈ���� . . . . . . : 14.39.137.254\n"
     ]
    }
   ],
   "source": [
    "# 여기서 나오는 ip(IPv4)를 밑에 ip란에 입력합니다. \n",
    "!ipconfig"
   ]
  },
  {
   "cell_type": "code",
   "execution_count": 1,
   "metadata": {},
   "outputs": [
    {
     "data": {
      "text/plain": [
       "'(DESCRIPTION=(ADDRESS=(PROTOCOL=TCP)(HOST=14.39.137.237)(PORT=1521))(CONNECT_DATA=(SERVICE_NAME=xepdb1)))'"
      ]
     },
     "execution_count": 1,
     "metadata": {},
     "output_type": "execute_result"
    }
   ],
   "source": [
    "import cx_Oracle\n",
    "# 'localhost'로 가능하셨던 분들은 위 작업 필요 없이 localhost 하시면 됩니다.\n",
    "dsn = cx_Oracle.makedsn('14.39.137.237',1521,sid ='xe')\n",
    "dsn"
   ]
  },
  {
   "cell_type": "code",
   "execution_count": 2,
   "metadata": {},
   "outputs": [
    {
     "data": {
      "text/plain": [
       "<cx_Oracle.Connection to LM_PDB@(DESCRIPTION=(ADDRESS=(PROTOCOL=TCP)(HOST=14.39.137.237)(PORT=1521))(CONNECT_DATA=(SERVICE_NAME=xepdb1)))>"
      ]
     },
     "execution_count": 2,
     "metadata": {},
     "output_type": "execute_result"
    }
   ],
   "source": [
    "db = cx_Oracle.connect('C##CAKD5','cakd5',dsn)\n",
    "db"
   ]
  },
  {
   "cell_type": "code",
   "execution_count": 3,
   "metadata": {},
   "outputs": [
    {
     "data": {
      "text/html": [
       "<div>\n",
       "<style scoped>\n",
       "    .dataframe tbody tr th:only-of-type {\n",
       "        vertical-align: middle;\n",
       "    }\n",
       "\n",
       "    .dataframe tbody tr th {\n",
       "        vertical-align: top;\n",
       "    }\n",
       "\n",
       "    .dataframe thead th {\n",
       "        text-align: right;\n",
       "    }\n",
       "</style>\n",
       "<table border=\"1\" class=\"dataframe\">\n",
       "  <thead>\n",
       "    <tr style=\"text-align: right;\">\n",
       "      <th></th>\n",
       "      <th>0</th>\n",
       "      <th>1</th>\n",
       "      <th>2</th>\n",
       "      <th>3</th>\n",
       "      <th>4</th>\n",
       "    </tr>\n",
       "  </thead>\n",
       "  <tbody>\n",
       "    <tr>\n",
       "      <th>0</th>\n",
       "      <td>00001</td>\n",
       "      <td>594</td>\n",
       "      <td>463</td>\n",
       "      <td>54041667.0</td>\n",
       "      <td>31000883.0</td>\n",
       "    </tr>\n",
       "    <tr>\n",
       "      <th>1</th>\n",
       "      <td>00002</td>\n",
       "      <td>610</td>\n",
       "      <td>506</td>\n",
       "      <td>46245330.0</td>\n",
       "      <td>53635430.0</td>\n",
       "    </tr>\n",
       "    <tr>\n",
       "      <th>2</th>\n",
       "      <td>00003</td>\n",
       "      <td>739</td>\n",
       "      <td>452</td>\n",
       "      <td>1893769.0</td>\n",
       "      <td>1271398.0</td>\n",
       "    </tr>\n",
       "    <tr>\n",
       "      <th>3</th>\n",
       "      <td>00004</td>\n",
       "      <td>442</td>\n",
       "      <td>488</td>\n",
       "      <td>9299616.0</td>\n",
       "      <td>7394194.0</td>\n",
       "    </tr>\n",
       "    <tr>\n",
       "      <th>4</th>\n",
       "      <td>00005</td>\n",
       "      <td>507</td>\n",
       "      <td>212</td>\n",
       "      <td>7685880.0</td>\n",
       "      <td>5551190.0</td>\n",
       "    </tr>\n",
       "  </tbody>\n",
       "</table>\n",
       "</div>"
      ],
      "text/plain": [
       "       0    1    2           3           4\n",
       "0  00001  594  463  54041667.0  31000883.0\n",
       "1  00002  610  506  46245330.0  53635430.0\n",
       "2  00003  739  452   1893769.0   1271398.0\n",
       "3  00004  442  488   9299616.0   7394194.0\n",
       "4  00005  507  212   7685880.0   5551190.0"
      ]
     },
     "execution_count": 3,
     "metadata": {},
     "output_type": "execute_result"
    }
   ],
   "source": [
    "import pandas as pd\n",
    "cursor = db.cursor()\n",
    "cursor.execute('select * from book')\n",
    "x = cursor.fetchall()\n",
    "df = pd.DataFrame(x)\n",
    "df.head()"
   ]
  },
  {
   "cell_type": "code",
   "execution_count": 4,
   "metadata": {},
   "outputs": [],
   "source": [
    "cursor.execute(\"select column_name from user_tab_columns where table_name = 'book'\")\n",
    "col = cursor.fetchall()\n",
    "col_new = [j for i in col for j in i]\n",
    "df.columns = col_new\n",
    "df"
   ]
  },
  {
   "cell_type": "code",
   "execution_count": 14,
   "metadata": {},
   "outputs": [
    {
     "data": {
      "text/html": [
       "<div>\n",
       "<style scoped>\n",
       "    .dataframe tbody tr th:only-of-type {\n",
       "        vertical-align: middle;\n",
       "    }\n",
       "\n",
       "    .dataframe tbody tr th {\n",
       "        vertical-align: top;\n",
       "    }\n",
       "\n",
       "    .dataframe thead th {\n",
       "        text-align: right;\n",
       "    }\n",
       "</style>\n",
       "<table border=\"1\" class=\"dataframe\">\n",
       "  <thead>\n",
       "    <tr style=\"text-align: right;\">\n",
       "      <th></th>\n",
       "      <th>MONTH</th>\n",
       "      <th>PN2014</th>\n",
       "      <th>PN2015</th>\n",
       "      <th>PP2014</th>\n",
       "      <th>PP2015</th>\n",
       "    </tr>\n",
       "  </thead>\n",
       "  <tbody>\n",
       "    <tr>\n",
       "      <th>0</th>\n",
       "      <td>1</td>\n",
       "      <td>1106371</td>\n",
       "      <td>1258299</td>\n",
       "      <td>28249481923</td>\n",
       "      <td>27754411656</td>\n",
       "    </tr>\n",
       "    <tr>\n",
       "      <th>1</th>\n",
       "      <td>2</td>\n",
       "      <td>959404</td>\n",
       "      <td>1103053</td>\n",
       "      <td>22817825296</td>\n",
       "      <td>27685969964</td>\n",
       "    </tr>\n",
       "    <tr>\n",
       "      <th>2</th>\n",
       "      <td>3</td>\n",
       "      <td>1151894</td>\n",
       "      <td>1257871</td>\n",
       "      <td>26627455524</td>\n",
       "      <td>29014094335</td>\n",
       "    </tr>\n",
       "    <tr>\n",
       "      <th>3</th>\n",
       "      <td>4</td>\n",
       "      <td>1125872</td>\n",
       "      <td>1265045</td>\n",
       "      <td>26412673959</td>\n",
       "      <td>29084253034</td>\n",
       "    </tr>\n",
       "    <tr>\n",
       "      <th>4</th>\n",
       "      <td>5</td>\n",
       "      <td>1194879</td>\n",
       "      <td>1313636</td>\n",
       "      <td>28456014251</td>\n",
       "      <td>30894338286</td>\n",
       "    </tr>\n",
       "    <tr>\n",
       "      <th>5</th>\n",
       "      <td>6</td>\n",
       "      <td>1170962</td>\n",
       "      <td>1276194</td>\n",
       "      <td>25677279187</td>\n",
       "      <td>24856082870</td>\n",
       "    </tr>\n",
       "    <tr>\n",
       "      <th>6</th>\n",
       "      <td>7</td>\n",
       "      <td>1229122</td>\n",
       "      <td>1330313</td>\n",
       "      <td>24578376885</td>\n",
       "      <td>26064429334</td>\n",
       "    </tr>\n",
       "    <tr>\n",
       "      <th>7</th>\n",
       "      <td>8</td>\n",
       "      <td>1213974</td>\n",
       "      <td>1292718</td>\n",
       "      <td>24884479432</td>\n",
       "      <td>25333691751</td>\n",
       "    </tr>\n",
       "    <tr>\n",
       "      <th>8</th>\n",
       "      <td>9</td>\n",
       "      <td>1120658</td>\n",
       "      <td>1172602</td>\n",
       "      <td>25486858340</td>\n",
       "      <td>28138429915</td>\n",
       "    </tr>\n",
       "    <tr>\n",
       "      <th>9</th>\n",
       "      <td>10</td>\n",
       "      <td>1200557</td>\n",
       "      <td>1138213</td>\n",
       "      <td>30603047718</td>\n",
       "      <td>31990295501</td>\n",
       "    </tr>\n",
       "    <tr>\n",
       "      <th>10</th>\n",
       "      <td>11</td>\n",
       "      <td>1149300</td>\n",
       "      <td>1138605</td>\n",
       "      <td>33925357584</td>\n",
       "      <td>34021501267</td>\n",
       "    </tr>\n",
       "    <tr>\n",
       "      <th>11</th>\n",
       "      <td>12</td>\n",
       "      <td>1248521</td>\n",
       "      <td>1174967</td>\n",
       "      <td>31882990482</td>\n",
       "      <td>32579818447</td>\n",
       "    </tr>\n",
       "  </tbody>\n",
       "</table>\n",
       "</div>"
      ],
      "text/plain": [
       "    MONTH   PN2014   PN2015       PP2014       PP2015\n",
       "0       1  1106371  1258299  28249481923  27754411656\n",
       "1       2   959404  1103053  22817825296  27685969964\n",
       "2       3  1151894  1257871  26627455524  29014094335\n",
       "3       4  1125872  1265045  26412673959  29084253034\n",
       "4       5  1194879  1313636  28456014251  30894338286\n",
       "5       6  1170962  1276194  25677279187  24856082870\n",
       "6       7  1229122  1330313  24578376885  26064429334\n",
       "7       8  1213974  1292718  24884479432  25333691751\n",
       "8       9  1120658  1172602  25486858340  28138429915\n",
       "9      10  1200557  1138213  30603047718  31990295501\n",
       "10     11  1149300  1138605  33925357584  34021501267\n",
       "11     12  1248521  1174967  31882990482  32579818447"
      ]
     },
     "execution_count": 14,
     "metadata": {},
     "output_type": "execute_result"
    }
   ],
   "source": [
    "import pandas as pd\n",
    "cursor = db.cursor()\n",
    "cursor.execute('select * from PUR_MONTH')\n",
    "x = cursor.fetchall()\n",
    "cursor.execute(\"select column_name from user_tab_columns where table_name = 'PUR_MONTH'\")\n",
    "col = cursor.fetchall()\n",
    "col_new = [j for i in col for j in i]\n",
    "df = pd.DataFrame(x,columns=col_new)\n",
    "df"
   ]
  },
  {
   "cell_type": "code",
   "execution_count": 1,
   "metadata": {},
   "outputs": [],
   "source": [
    "# create\n",
    "import cx_Oracle\n",
    "con = cx_Oracle.connect('C##CAKD5/cakd5@14.39.137.237:1521/xe')\n",
    "cursor = con.cursor()\n",
    "sql = 'create table sample1(id varchar2(10), score number)'\n",
    "cursor.execute(sql)\n",
    "cursor.close()\n",
    "con.commit()\n",
    "con.close()"
   ]
  },
  {
   "cell_type": "code",
   "execution_count": 3,
   "metadata": {},
   "outputs": [],
   "source": [
    "# insert\n",
    "def insert(t):\n",
    "    con = cx_Oracle.connect('C##CAKD5/cakd5@14.39.137.237:1521/xe')\n",
    "    cursor = con.cursor()\n",
    "    sql = 'insert into sample1 (id, score) values(:1,:2)'\n",
    "    cursor.execute(sql,t)\n",
    "    cursor.close()\n",
    "    con.commit()\n",
    "    con.close()\n",
    "insert(('111',80))"
   ]
  },
  {
   "cell_type": "code",
   "execution_count": 4,
   "metadata": {},
   "outputs": [],
   "source": [
    "# insert - executemany\n",
    "rows = [('112',90),('113',70),('114',80),('115',90),('116',85)]\n",
    "def insertmany(t):\n",
    "    con = cx_Oracle.connect('C##CAKD5/cakd5@14.39.137.237:1521/xe')\n",
    "    cursor = con.cursor()\n",
    "    sql = 'insert into sample1 (id, score) values(:1,:2)'\n",
    "    cursor.executemany(sql,t)\n",
    "    cursor.close()\n",
    "    con.commit()\n",
    "    con.close()\n",
    "insertmany(rows)"
   ]
  },
  {
   "cell_type": "code",
   "execution_count": 24,
   "metadata": {},
   "outputs": [
    {
     "ename": "DatabaseError",
     "evalue": "ORA-01036: 잘못된 변수명/번호",
     "output_type": "error",
     "traceback": [
      "\u001b[1;31m---------------------------------------------------------------------------\u001b[0m",
      "\u001b[1;31mDatabaseError\u001b[0m                             Traceback (most recent call last)",
      "\u001b[1;32m~\\AppData\\Local\\Temp/ipykernel_8836/67359612.py\u001b[0m in \u001b[0;36m<module>\u001b[1;34m\u001b[0m\n\u001b[0;32m     17\u001b[0m     \u001b[0mcon\u001b[0m\u001b[1;33m.\u001b[0m\u001b[0mcommit\u001b[0m\u001b[1;33m(\u001b[0m\u001b[1;33m)\u001b[0m\u001b[1;33m\u001b[0m\u001b[1;33m\u001b[0m\u001b[0m\n\u001b[0;32m     18\u001b[0m     \u001b[0mcon\u001b[0m\u001b[1;33m.\u001b[0m\u001b[0mclose\u001b[0m\u001b[1;33m(\u001b[0m\u001b[1;33m)\u001b[0m\u001b[1;33m\u001b[0m\u001b[1;33m\u001b[0m\u001b[0m\n\u001b[1;32m---> 19\u001b[1;33m \u001b[0minsertmany\u001b[0m\u001b[1;33m(\u001b[0m\u001b[0mrows\u001b[0m\u001b[1;33m)\u001b[0m\u001b[1;33m\u001b[0m\u001b[1;33m\u001b[0m\u001b[0m\n\u001b[0m",
      "\u001b[1;32m~\\AppData\\Local\\Temp/ipykernel_8836/67359612.py\u001b[0m in \u001b[0;36minsertmany\u001b[1;34m(t)\u001b[0m\n\u001b[0;32m     13\u001b[0m     \u001b[0mcursor\u001b[0m \u001b[1;33m=\u001b[0m \u001b[0mcon\u001b[0m\u001b[1;33m.\u001b[0m\u001b[0mcursor\u001b[0m\u001b[1;33m(\u001b[0m\u001b[1;33m)\u001b[0m\u001b[1;33m\u001b[0m\u001b[1;33m\u001b[0m\u001b[0m\n\u001b[0;32m     14\u001b[0m     \u001b[0msql\u001b[0m \u001b[1;33m=\u001b[0m \u001b[1;34m'insert into sample (names, foods, area) values(:1,:2,:3)'\u001b[0m\u001b[1;33m\u001b[0m\u001b[1;33m\u001b[0m\u001b[0m\n\u001b[1;32m---> 15\u001b[1;33m     \u001b[0mcursor\u001b[0m\u001b[1;33m.\u001b[0m\u001b[0mexecutemany\u001b[0m\u001b[1;33m(\u001b[0m\u001b[0msql\u001b[0m\u001b[1;33m,\u001b[0m\u001b[0mt\u001b[0m\u001b[1;33m)\u001b[0m\u001b[1;33m\u001b[0m\u001b[1;33m\u001b[0m\u001b[0m\n\u001b[0m\u001b[0;32m     16\u001b[0m     \u001b[0mcursor\u001b[0m\u001b[1;33m.\u001b[0m\u001b[0mclose\u001b[0m\u001b[1;33m(\u001b[0m\u001b[1;33m)\u001b[0m\u001b[1;33m\u001b[0m\u001b[1;33m\u001b[0m\u001b[0m\n\u001b[0;32m     17\u001b[0m     \u001b[0mcon\u001b[0m\u001b[1;33m.\u001b[0m\u001b[0mcommit\u001b[0m\u001b[1;33m(\u001b[0m\u001b[1;33m)\u001b[0m\u001b[1;33m\u001b[0m\u001b[1;33m\u001b[0m\u001b[0m\n",
      "\u001b[1;31mDatabaseError\u001b[0m: ORA-01036: 잘못된 변수명/번호"
     ]
    }
   ],
   "source": [
    "# Q. 세 개의 속성(col01,col02,col03)으로 구성되는 테이블을 생성하고 10개의 데이터를 입력하세요.(사용자 함수 사용)\n",
    "# 단, col01에 대하여 제약조건 primary key 섫정 (제약조건 이름 sample_pk)\n",
    "import numpy as np\n",
    "names = ['문성윤','어정호','조남현','마경수','이재호','김기연','김태형','최종원','이동연','김기현']\n",
    "foods = ['일식','중식','한식','분식']\n",
    "area = ['이대','신촌','망원','홍대']\n",
    "rows = []\n",
    "for i in range (10):\n",
    "    rows.append(tuple(list(names[i])) + tuple(np.random.choice(foods,size=1)) + tuple(np.random.choice(area,size=1)))\n",
    "\n",
    "def insertmany(t):\n",
    "    con = cx_Oracle.connect('C##CAKD5/cakd5@14.39.137.237:1521/xe')\n",
    "    cursor = con.cursor()\n",
    "    sql = 'insert into sample (names, foods, area) values(:1,:2,:3)'\n",
    "    cursor.executemany(sql,t)\n",
    "    cursor.close()\n",
    "    con.commit()\n",
    "    con.close()\n",
    "insertmany(rows)"
   ]
  },
  {
   "cell_type": "code",
   "execution_count": 30,
   "metadata": {},
   "outputs": [
    {
     "data": {
      "text/plain": [
       "'문성윤'"
      ]
     },
     "execution_count": 30,
     "metadata": {},
     "output_type": "execute_result"
    }
   ],
   "source": [
    "names[0]"
   ]
  },
  {
   "cell_type": "code",
   "execution_count": 25,
   "metadata": {},
   "outputs": [
    {
     "data": {
      "text/plain": [
       "[('문', '성', '윤', '일식', '망원'),\n",
       " ('어', '정', '호', '중식', '망원'),\n",
       " ('조', '남', '현', '일식', '신촌'),\n",
       " ('마', '경', '수', '분식', '신촌'),\n",
       " ('이', '재', '호', '중식', '망원'),\n",
       " ('김', '기', '연', '한식', '망원'),\n",
       " ('김', '태', '형', '한식', '신촌'),\n",
       " ('최', '종', '원', '중식', '망원'),\n",
       " ('이', '동', '연', '한식', '신촌'),\n",
       " ('김', '기', '현', '일식', '이대')]"
      ]
     },
     "execution_count": 25,
     "metadata": {},
     "output_type": "execute_result"
    }
   ],
   "source": [
    "rows"
   ]
  },
  {
   "cell_type": "code",
   "execution_count": 31,
   "metadata": {},
   "outputs": [],
   "source": [
    "import cx_Oracle\n",
    "con = cx_Oracle.connect('C##CAKD5/cakd5@14.39.137.237:1521/xe')\n",
    "cursor = con.cursor()\n",
    "sql = \"create table sample2(col01 varchar2(10), col02 varchar2(10),col03 varchar2(10),constraint sample_pk primary key(col01))\"\n",
    "cursor.execute(sql)\n",
    "cursor.close()\n",
    "con.commit()\n",
    "con.close()"
   ]
  },
  {
   "cell_type": "code",
   "execution_count": 32,
   "metadata": {},
   "outputs": [],
   "source": [
    "# insert - executemany\n",
    "def insertcol(t):\n",
    "    con = cx_Oracle.connect('C##CAKD5/cakd5@14.39.137.237:1521/xe')\n",
    "    cursor = con.cursor()\n",
    "    sql =\"insert into sample2 (col01,col02,col03) values(:1,:2,:3)\"\n",
    "    cursor.executemany(sql,t)\n",
    "    cursor.close()\n",
    "    con.commit()\n",
    "    con.close()\n",
    "rows = [('10','1','1'),('1','8','1'),('2','1','1'),('3','1','1'),('4','1','1'),('5','1','1'),('6','1','1'),('7','1','1'),('8','1','1'),('9','1','1')]\n",
    "insertcol(rows)"
   ]
  },
  {
   "cell_type": "code",
   "execution_count": 35,
   "metadata": {},
   "outputs": [],
   "source": [
    "# update\n",
    "def updatecol(t):\n",
    "    con = cx_Oracle.connect('C##CAKD5/cakd5@14.39.137.237:1521/xe')\n",
    "    cursor = con.cursor()\n",
    "    sql =\"update sample2 set col03=:1 where col01=:2\"\n",
    "    cursor.execute(sql,t)\n",
    "    cursor.close()\n",
    "    con.commit()\n",
    "    con.close()\n",
    "updatecol(('3','1'))"
   ]
  },
  {
   "cell_type": "code",
   "execution_count": 37,
   "metadata": {},
   "outputs": [],
   "source": [
    "# delete\n",
    "def deletecol(t):\n",
    "    con = cx_Oracle.connect('C##CAKD5/cakd5@14.39.137.237:1521/xe')\n",
    "    cursor = con.cursor()\n",
    "    sql = 'delete from sample2 where col01 = :1'\n",
    "    cursor.execute(sql,t)\n",
    "    cursor.close()\n",
    "    con.commit()\n",
    "    con.close()\n",
    "deletecol(('10',))"
   ]
  },
  {
   "cell_type": "code",
   "execution_count": 40,
   "metadata": {},
   "outputs": [
    {
     "data": {
      "text/html": [
       "<div>\n",
       "<style scoped>\n",
       "    .dataframe tbody tr th:only-of-type {\n",
       "        vertical-align: middle;\n",
       "    }\n",
       "\n",
       "    .dataframe tbody tr th {\n",
       "        vertical-align: top;\n",
       "    }\n",
       "\n",
       "    .dataframe thead th {\n",
       "        text-align: right;\n",
       "    }\n",
       "</style>\n",
       "<table border=\"1\" class=\"dataframe\">\n",
       "  <thead>\n",
       "    <tr style=\"text-align: right;\">\n",
       "      <th></th>\n",
       "      <th>COL01</th>\n",
       "      <th>COL02</th>\n",
       "      <th>COL03</th>\n",
       "    </tr>\n",
       "  </thead>\n",
       "  <tbody>\n",
       "    <tr>\n",
       "      <th>0</th>\n",
       "      <td>1</td>\n",
       "      <td>8</td>\n",
       "      <td>3</td>\n",
       "    </tr>\n",
       "    <tr>\n",
       "      <th>1</th>\n",
       "      <td>2</td>\n",
       "      <td>1</td>\n",
       "      <td>1</td>\n",
       "    </tr>\n",
       "    <tr>\n",
       "      <th>2</th>\n",
       "      <td>3</td>\n",
       "      <td>1</td>\n",
       "      <td>1</td>\n",
       "    </tr>\n",
       "    <tr>\n",
       "      <th>3</th>\n",
       "      <td>4</td>\n",
       "      <td>1</td>\n",
       "      <td>1</td>\n",
       "    </tr>\n",
       "    <tr>\n",
       "      <th>4</th>\n",
       "      <td>5</td>\n",
       "      <td>1</td>\n",
       "      <td>1</td>\n",
       "    </tr>\n",
       "  </tbody>\n",
       "</table>\n",
       "</div>"
      ],
      "text/plain": [
       "  COL01 COL02 COL03\n",
       "0     1     8     3\n",
       "1     2     1     1\n",
       "2     3     1     1\n",
       "3     4     1     1\n",
       "4     5     1     1"
      ]
     },
     "execution_count": 40,
     "metadata": {},
     "output_type": "execute_result"
    }
   ],
   "source": [
    "import pandas as pd\n",
    "con = cx_Oracle.connect('C##CAKD5/cakd5@14.39.137.237:1521/xe')\n",
    "cursor = con.cursor()\n",
    "cursor.execute('select * from sample2')\n",
    "x = cursor.fetchall()\n",
    "df_col = pd.DataFrame(x)\n",
    "cursor.execute(\"select column_name from user_tab_columns where table_name = 'SAMPLE2'\")\n",
    "col = cursor.fetchall()\n",
    "col_new = [j for i in col for j in i]\n",
    "df_col.columns = col_new\n",
    "df_col.head()"
   ]
  },
  {
   "cell_type": "code",
   "execution_count": 41,
   "metadata": {},
   "outputs": [],
   "source": [
    "df_col.to_csv('./data/col3.csv')"
   ]
  },
  {
   "cell_type": "code",
   "execution_count": 42,
   "metadata": {},
   "outputs": [],
   "source": [
    "import csv\n",
    "with open('./data/col3.csv','r',encoding=\"UTF-8\") as csv_file:\n",
    "    csv_reader = csv.reader(csv_file)\n",
    "    next(csv_reader)\n",
    "    data = []\n",
    "    for line in csv_reader:\n",
    "        data.append((line[1],line[2],line[3]))\n"
   ]
  },
  {
   "cell_type": "code",
   "execution_count": 43,
   "metadata": {},
   "outputs": [],
   "source": [
    "con = cx_Oracle.connect('C##CAKD5/cakd5@14.39.137.237:1521/xe')\n",
    "cursor = con.cursor()\n",
    "sql = 'alter table sample2 drop constraint sample_pk'\n",
    "cursor.execute(sql)\n",
    "cursor.close()\n",
    "con.commit()\n",
    "con.close()"
   ]
  },
  {
   "cell_type": "code",
   "execution_count": 44,
   "metadata": {},
   "outputs": [],
   "source": [
    "with open('./data/col3.csv','r') as csv_file:\n",
    "    csv_reader = csv.reader(csv_file)\n",
    "    next(csv_reader)\n",
    "    con = cx_Oracle.connect('C##CAKD5/cakd5@14.39.137.237:1521/xe')\n",
    "    cursor = con.cursor()\n",
    "    sql = \"insert into sample2 (col01,col02,col03) values(:1,:2,:3)\"\n",
    "    data = []\n",
    "    for line in csv_reader:\n",
    "        data.append((line[1],line[2],line[3]))\n",
    "    cursor.executemany(sql,data)\n",
    "    cursor.close()\n",
    "    con.commit()\n",
    "    con.close()"
   ]
  },
  {
   "cell_type": "code",
   "execution_count": 57,
   "metadata": {},
   "outputs": [],
   "source": [
    "import cx_Oracle\n",
    "con = cx_Oracle.connect('C##CAKD5/cakd5@14.39.137.237:1521/xe')\n",
    "cursor = con.cursor()\n",
    "sql = \"create table sample3(id varchar2(10), sales number)\"\n",
    "cursor.execute(sql)\n",
    "cursor.close()\n",
    "con.commit()\n",
    "con.close()"
   ]
  },
  {
   "cell_type": "code",
   "execution_count": 45,
   "metadata": {},
   "outputs": [
    {
     "data": {
      "text/html": [
       "<div>\n",
       "<style scoped>\n",
       "    .dataframe tbody tr th:only-of-type {\n",
       "        vertical-align: middle;\n",
       "    }\n",
       "\n",
       "    .dataframe tbody tr th {\n",
       "        vertical-align: top;\n",
       "    }\n",
       "\n",
       "    .dataframe thead th {\n",
       "        text-align: right;\n",
       "    }\n",
       "</style>\n",
       "<table border=\"1\" class=\"dataframe\">\n",
       "  <thead>\n",
       "    <tr style=\"text-align: right;\">\n",
       "      <th></th>\n",
       "      <th>id</th>\n",
       "      <th>sales</th>\n",
       "    </tr>\n",
       "  </thead>\n",
       "  <tbody>\n",
       "    <tr>\n",
       "      <th>0</th>\n",
       "      <td>0</td>\n",
       "      <td>27</td>\n",
       "    </tr>\n",
       "    <tr>\n",
       "      <th>1</th>\n",
       "      <td>1</td>\n",
       "      <td>19</td>\n",
       "    </tr>\n",
       "    <tr>\n",
       "      <th>2</th>\n",
       "      <td>2</td>\n",
       "      <td>17</td>\n",
       "    </tr>\n",
       "    <tr>\n",
       "      <th>3</th>\n",
       "      <td>3</td>\n",
       "      <td>71</td>\n",
       "    </tr>\n",
       "    <tr>\n",
       "      <th>4</th>\n",
       "      <td>4</td>\n",
       "      <td>75</td>\n",
       "    </tr>\n",
       "  </tbody>\n",
       "</table>\n",
       "</div>"
      ],
      "text/plain": [
       "   id  sales\n",
       "0   0     27\n",
       "1   1     19\n",
       "2   2     17\n",
       "3   3     71\n",
       "4   4     75"
      ]
     },
     "execution_count": 45,
     "metadata": {},
     "output_type": "execute_result"
    }
   ],
   "source": [
    "# 대량 데이터 입력\n",
    "import numpy as np\n",
    "import pandas as pd\n",
    "df = pd.DataFrame()\n",
    "df['id'] = np.arange(10000)\n",
    "df['sales'] = np.random.randint(1,100,size=10000)\n",
    "df.head()"
   ]
  },
  {
   "cell_type": "code",
   "execution_count": 54,
   "metadata": {},
   "outputs": [],
   "source": [
    "df.id = df.id.astype('str')"
   ]
  },
  {
   "cell_type": "code",
   "execution_count": 58,
   "metadata": {},
   "outputs": [],
   "source": [
    "rows = list(tuple(i) for i in df.values)\n",
    "def insertmany(t):\n",
    "    con = cx_Oracle.connect('C##CAKD5/cakd5@14.39.137.237:1521/xe')\n",
    "    cursor = con.cursor()\n",
    "    sql = 'insert into sample3 (id, sales) values(:1,:2)'\n",
    "    cursor.executemany(sql,t)\n",
    "    cursor.close()\n",
    "    con.commit()\n",
    "    con.close()\n",
    "insertmany(rows)"
   ]
  },
  {
   "cell_type": "code",
   "execution_count": null,
   "metadata": {},
   "outputs": [],
   "source": [
    "# Q. id의 자료타입을 number로 변경하여 id 기준으로 오름차순 정렬하여 출력하시오."
   ]
  },
  {
   "cell_type": "code",
   "execution_count": 61,
   "metadata": {},
   "outputs": [],
   "source": [
    "rows = list(tuple(i) for i in df.values)\n",
    "\n",
    "con = cx_Oracle.connect('C##CAKD5/cakd5@14.39.137.237:1521/xe')\n",
    "cursor = con.cursor()\n",
    "sql = 'truncate table sample3'\n",
    "cursor.execute(sql)\n",
    "sql = 'alter table sample3 modify(id number)'\n",
    "cursor.execute(sql)\n",
    "sql = 'insert into sample3 (id, sales) values(:1,:2)'\n",
    "cursor.executemany(sql,rows)\n",
    "cursor.close()\n",
    "con.commit()\n",
    "con.close()"
   ]
  },
  {
   "cell_type": "markdown",
   "metadata": {},
   "source": [
    "[과제] employees 테이블을 불러와서 다음 사항을 수행하세요.  \n",
    "\n",
    "- 컬럼명을 포함하여 employees 테이블을 데이터프레임으로 출력  \n",
    "- department_id별 평균 연봉을 출력  \n",
    "- 부서별 평균 연봉을 수평 그래프로 시각화  "
   ]
  },
  {
   "cell_type": "code",
   "execution_count": 93,
   "metadata": {},
   "outputs": [
    {
     "data": {
      "text/html": [
       "<div>\n",
       "<style scoped>\n",
       "    .dataframe tbody tr th:only-of-type {\n",
       "        vertical-align: middle;\n",
       "    }\n",
       "\n",
       "    .dataframe tbody tr th {\n",
       "        vertical-align: top;\n",
       "    }\n",
       "\n",
       "    .dataframe thead th {\n",
       "        text-align: right;\n",
       "    }\n",
       "</style>\n",
       "<table border=\"1\" class=\"dataframe\">\n",
       "  <thead>\n",
       "    <tr style=\"text-align: right;\">\n",
       "      <th></th>\n",
       "      <th>EMPLOYEE_ID</th>\n",
       "      <th>FIRST_NAME</th>\n",
       "      <th>LAST_NAME</th>\n",
       "      <th>EMAIL</th>\n",
       "      <th>PHONE_NUMBER</th>\n",
       "      <th>HIRE_DATE</th>\n",
       "      <th>JOB_ID</th>\n",
       "      <th>SALARY</th>\n",
       "      <th>COMMISSION_PCT</th>\n",
       "      <th>MANAGER_ID</th>\n",
       "      <th>DEPARTMENT_ID</th>\n",
       "    </tr>\n",
       "  </thead>\n",
       "  <tbody>\n",
       "    <tr>\n",
       "      <th>0</th>\n",
       "      <td>100</td>\n",
       "      <td>Steven</td>\n",
       "      <td>King</td>\n",
       "      <td>SKING</td>\n",
       "      <td>515.123.4567</td>\n",
       "      <td>2003-06-17</td>\n",
       "      <td>AD_PRES</td>\n",
       "      <td>24000.0</td>\n",
       "      <td>NaN</td>\n",
       "      <td>NaN</td>\n",
       "      <td>90.0</td>\n",
       "    </tr>\n",
       "    <tr>\n",
       "      <th>1</th>\n",
       "      <td>101</td>\n",
       "      <td>Neena</td>\n",
       "      <td>Kochhar</td>\n",
       "      <td>NKOCHHAR</td>\n",
       "      <td>515.123.4568</td>\n",
       "      <td>2005-09-21</td>\n",
       "      <td>AD_VP</td>\n",
       "      <td>17000.0</td>\n",
       "      <td>NaN</td>\n",
       "      <td>100.0</td>\n",
       "      <td>90.0</td>\n",
       "    </tr>\n",
       "    <tr>\n",
       "      <th>2</th>\n",
       "      <td>102</td>\n",
       "      <td>Lex</td>\n",
       "      <td>De Haan</td>\n",
       "      <td>LDEHAAN</td>\n",
       "      <td>515.123.4569</td>\n",
       "      <td>2001-01-13</td>\n",
       "      <td>AD_VP</td>\n",
       "      <td>17000.0</td>\n",
       "      <td>NaN</td>\n",
       "      <td>100.0</td>\n",
       "      <td>90.0</td>\n",
       "    </tr>\n",
       "    <tr>\n",
       "      <th>3</th>\n",
       "      <td>103</td>\n",
       "      <td>Alexander</td>\n",
       "      <td>Hunold</td>\n",
       "      <td>AHUNOLD</td>\n",
       "      <td>590.423.4567</td>\n",
       "      <td>2006-01-03</td>\n",
       "      <td>IT_PROG</td>\n",
       "      <td>9000.0</td>\n",
       "      <td>NaN</td>\n",
       "      <td>102.0</td>\n",
       "      <td>60.0</td>\n",
       "    </tr>\n",
       "    <tr>\n",
       "      <th>4</th>\n",
       "      <td>104</td>\n",
       "      <td>Bruce</td>\n",
       "      <td>Ernst</td>\n",
       "      <td>BERNST</td>\n",
       "      <td>590.423.4568</td>\n",
       "      <td>2007-05-21</td>\n",
       "      <td>IT_PROG</td>\n",
       "      <td>6000.0</td>\n",
       "      <td>NaN</td>\n",
       "      <td>103.0</td>\n",
       "      <td>60.0</td>\n",
       "    </tr>\n",
       "  </tbody>\n",
       "</table>\n",
       "</div>"
      ],
      "text/plain": [
       "   EMPLOYEE_ID FIRST_NAME LAST_NAME     EMAIL  PHONE_NUMBER  HIRE_DATE  \\\n",
       "0          100     Steven      King     SKING  515.123.4567 2003-06-17   \n",
       "1          101      Neena   Kochhar  NKOCHHAR  515.123.4568 2005-09-21   \n",
       "2          102        Lex   De Haan   LDEHAAN  515.123.4569 2001-01-13   \n",
       "3          103  Alexander    Hunold   AHUNOLD  590.423.4567 2006-01-03   \n",
       "4          104      Bruce     Ernst    BERNST  590.423.4568 2007-05-21   \n",
       "\n",
       "    JOB_ID   SALARY  COMMISSION_PCT  MANAGER_ID  DEPARTMENT_ID  \n",
       "0  AD_PRES  24000.0             NaN         NaN           90.0  \n",
       "1    AD_VP  17000.0             NaN       100.0           90.0  \n",
       "2    AD_VP  17000.0             NaN       100.0           90.0  \n",
       "3  IT_PROG   9000.0             NaN       102.0           60.0  \n",
       "4  IT_PROG   6000.0             NaN       103.0           60.0  "
      ]
     },
     "execution_count": 93,
     "metadata": {},
     "output_type": "execute_result"
    }
   ],
   "source": [
    "# 컬럼명을 포함하여 employees 테이블을 데이터프레임으로 출력\n",
    "import pandas as pd\n",
    "con = cx_Oracle.connect('C##CAKD5/cakd5@14.39.137.237:1521/xe')\n",
    "cursor = con.cursor()\n",
    "sql = 'select * from employees'\n",
    "cursor.execute(sql)\n",
    "x = cursor.fetchall()\n",
    "cursor.execute(\"select column_name from user_tab_columns where table_name = 'EMPLOYEES'\")\n",
    "col = cursor.fetchall()\n",
    "col_new = [j for i in col for j in i]\n",
    "df = pd.DataFrame(x,columns=col_new)\n",
    "cursor.close()\n",
    "con.close()\n",
    "df.head()"
   ]
  },
  {
   "cell_type": "code",
   "execution_count": 94,
   "metadata": {},
   "outputs": [
    {
     "data": {
      "text/html": [
       "<div>\n",
       "<style scoped>\n",
       "    .dataframe tbody tr th:only-of-type {\n",
       "        vertical-align: middle;\n",
       "    }\n",
       "\n",
       "    .dataframe tbody tr th {\n",
       "        vertical-align: top;\n",
       "    }\n",
       "\n",
       "    .dataframe thead th {\n",
       "        text-align: right;\n",
       "    }\n",
       "</style>\n",
       "<table border=\"1\" class=\"dataframe\">\n",
       "  <thead>\n",
       "    <tr style=\"text-align: right;\">\n",
       "      <th></th>\n",
       "      <th>SALARY</th>\n",
       "    </tr>\n",
       "    <tr>\n",
       "      <th>DEPARTMENT_ID</th>\n",
       "      <th></th>\n",
       "    </tr>\n",
       "  </thead>\n",
       "  <tbody>\n",
       "    <tr>\n",
       "      <th>10.0</th>\n",
       "      <td>4400.000000</td>\n",
       "    </tr>\n",
       "    <tr>\n",
       "      <th>20.0</th>\n",
       "      <td>9500.000000</td>\n",
       "    </tr>\n",
       "    <tr>\n",
       "      <th>30.0</th>\n",
       "      <td>4150.000000</td>\n",
       "    </tr>\n",
       "    <tr>\n",
       "      <th>40.0</th>\n",
       "      <td>6500.000000</td>\n",
       "    </tr>\n",
       "    <tr>\n",
       "      <th>50.0</th>\n",
       "      <td>3475.555556</td>\n",
       "    </tr>\n",
       "    <tr>\n",
       "      <th>60.0</th>\n",
       "      <td>5760.000000</td>\n",
       "    </tr>\n",
       "    <tr>\n",
       "      <th>70.0</th>\n",
       "      <td>10000.000000</td>\n",
       "    </tr>\n",
       "    <tr>\n",
       "      <th>80.0</th>\n",
       "      <td>8955.882353</td>\n",
       "    </tr>\n",
       "    <tr>\n",
       "      <th>90.0</th>\n",
       "      <td>19333.333333</td>\n",
       "    </tr>\n",
       "    <tr>\n",
       "      <th>100.0</th>\n",
       "      <td>8601.333333</td>\n",
       "    </tr>\n",
       "    <tr>\n",
       "      <th>110.0</th>\n",
       "      <td>10154.000000</td>\n",
       "    </tr>\n",
       "  </tbody>\n",
       "</table>\n",
       "</div>"
      ],
      "text/plain": [
       "                     SALARY\n",
       "DEPARTMENT_ID              \n",
       "10.0            4400.000000\n",
       "20.0            9500.000000\n",
       "30.0            4150.000000\n",
       "40.0            6500.000000\n",
       "50.0            3475.555556\n",
       "60.0            5760.000000\n",
       "70.0           10000.000000\n",
       "80.0            8955.882353\n",
       "90.0           19333.333333\n",
       "100.0           8601.333333\n",
       "110.0          10154.000000"
      ]
     },
     "execution_count": 94,
     "metadata": {},
     "output_type": "execute_result"
    }
   ],
   "source": [
    "# department_id별 평균 연봉을 출력\n",
    "df1 = df.loc[:,['DEPARTMENT_ID','SALARY']]\n",
    "grouped = df1.groupby('DEPARTMENT_ID')\n",
    "df2 = grouped.mean()\n",
    "df2"
   ]
  },
  {
   "cell_type": "code",
   "execution_count": 108,
   "metadata": {},
   "outputs": [
    {
     "data": {
      "text/plain": [
       "Text(0, 0.5, 'DEPARTMENT_ID')"
      ]
     },
     "execution_count": 108,
     "metadata": {},
     "output_type": "execute_result"
    },
    {
     "data": {
      "image/png": "[encoded data removed]",
      "text/plain": [
       "<Figure size 720x432 with 1 Axes>"
      ]
     },
     "metadata": {},
     "output_type": "display_data"
    }
   ],
   "source": [
    "# 부서별 평균 연봉을 수평 그래프로 시각화\n",
    "import matplotlib.pyplot as plt\n",
    "import warnings\n",
    "warnings.filterwarnings('ignore')\n",
    "plt.style.use('seaborn')\n",
    "\n",
    "fig = plt.figure(figsize=(10,6))\n",
    "ax1 = fig.add_subplot(111)\n",
    "plt.title('Salary By Department',size = 30)\n",
    "ax1.barh(np.arange(len(df2.index)),df2['SALARY'])\n",
    "plt.yticks(np.arange(len(df2.index)),list(int(i) for i in df2.index))\n",
    "ax1.set_xlabel('SALARY')\n",
    "ax1.set_ylabel('DEPARTMENT_ID')"
   ]
  },
  {
   "cell_type": "markdown",
   "metadata": {},
   "source": [
    "[과제] PURPROD 테이블을 불러와서 다음사항을 수행하세요.\n",
    "\n",
    "    - 고객별 2014년 2015년 총구매액 및 평균구매액 출력\n",
    "    - 고객별 2014 VS 2015 총구매액 기준 성장율"
   ]
  },
  {
   "cell_type": "code",
   "execution_count": null,
   "metadata": {},
   "outputs": [],
   "source": [
    "import pandas as pd\n",
    "dsn = cx_Oracle.makedsn('14.39.137.237',1521,service_name ='xepdb1') # ip 자리에 'localhost'\n",
    "db = cx_Oracle.connect('LM_PDB','LM',dsn)\n",
    "cursor = db.cursor()\n",
    "cursor.execute('select * from PURBYYEAR2')\n",
    "x = cursor.fetchall()\n",
    "cursor.execute(\"select column_name from user_tab_columns where table_name = 'PURBYYEAR2'\")\n",
    "col = cursor.fetchall()\n",
    "col_new = [j for i in col for j in i]\n",
    "df = pd.DataFrame(x,columns=col_new)\n",
    "df.to_pickle('./df_purbyyear2.pkl')"
   ]
  },
  {
   "cell_type": "code",
   "execution_count": 111,
   "metadata": {},
   "outputs": [
    {
     "data": {
      "text/html": [
       "<div>\n",
       "<style scoped>\n",
       "    .dataframe tbody tr th:only-of-type {\n",
       "        vertical-align: middle;\n",
       "    }\n",
       "\n",
       "    .dataframe tbody tr th {\n",
       "        vertical-align: top;\n",
       "    }\n",
       "\n",
       "    .dataframe thead th {\n",
       "        text-align: right;\n",
       "    }\n",
       "</style>\n",
       "<table border=\"1\" class=\"dataframe\">\n",
       "  <thead>\n",
       "    <tr style=\"text-align: right;\">\n",
       "      <th></th>\n",
       "      <th>14년구매총액</th>\n",
       "      <th>15년구매총액</th>\n",
       "      <th>성장률</th>\n",
       "    </tr>\n",
       "    <tr>\n",
       "      <th>고객번호</th>\n",
       "      <th></th>\n",
       "      <th></th>\n",
       "      <th></th>\n",
       "    </tr>\n",
       "  </thead>\n",
       "  <tbody>\n",
       "    <tr>\n",
       "      <th>00001</th>\n",
       "      <td>54041667.0</td>\n",
       "      <td>31000883.0</td>\n",
       "      <td>0.6</td>\n",
       "    </tr>\n",
       "    <tr>\n",
       "      <th>00002</th>\n",
       "      <td>46245330.0</td>\n",
       "      <td>53635430.0</td>\n",
       "      <td>1.2</td>\n",
       "    </tr>\n",
       "    <tr>\n",
       "      <th>00003</th>\n",
       "      <td>1893769.0</td>\n",
       "      <td>1271398.0</td>\n",
       "      <td>0.7</td>\n",
       "    </tr>\n",
       "    <tr>\n",
       "      <th>00004</th>\n",
       "      <td>9299616.0</td>\n",
       "      <td>7394194.0</td>\n",
       "      <td>0.8</td>\n",
       "    </tr>\n",
       "    <tr>\n",
       "      <th>00005</th>\n",
       "      <td>7685880.0</td>\n",
       "      <td>5551190.0</td>\n",
       "      <td>0.7</td>\n",
       "    </tr>\n",
       "    <tr>\n",
       "      <th>...</th>\n",
       "      <td>...</td>\n",
       "      <td>...</td>\n",
       "      <td>...</td>\n",
       "    </tr>\n",
       "    <tr>\n",
       "      <th>19379</th>\n",
       "      <td>1190620.0</td>\n",
       "      <td>4588660.0</td>\n",
       "      <td>3.9</td>\n",
       "    </tr>\n",
       "    <tr>\n",
       "      <th>19380</th>\n",
       "      <td>522700.0</td>\n",
       "      <td>3390277.0</td>\n",
       "      <td>6.5</td>\n",
       "    </tr>\n",
       "    <tr>\n",
       "      <th>19381</th>\n",
       "      <td>0.0</td>\n",
       "      <td>6040669.0</td>\n",
       "      <td>0.0</td>\n",
       "    </tr>\n",
       "    <tr>\n",
       "      <th>19382</th>\n",
       "      <td>0.0</td>\n",
       "      <td>4401773.0</td>\n",
       "      <td>0.0</td>\n",
       "    </tr>\n",
       "    <tr>\n",
       "      <th>19383</th>\n",
       "      <td>0.0</td>\n",
       "      <td>2384400.0</td>\n",
       "      <td>0.0</td>\n",
       "    </tr>\n",
       "  </tbody>\n",
       "</table>\n",
       "<p>19383 rows × 3 columns</p>\n",
       "</div>"
      ],
      "text/plain": [
       "          14년구매총액     15년구매총액  성장률\n",
       "고객번호                              \n",
       "00001  54041667.0  31000883.0  0.6\n",
       "00002  46245330.0  53635430.0  1.2\n",
       "00003   1893769.0   1271398.0  0.7\n",
       "00004   9299616.0   7394194.0  0.8\n",
       "00005   7685880.0   5551190.0  0.7\n",
       "...           ...         ...  ...\n",
       "19379   1190620.0   4588660.0  3.9\n",
       "19380    522700.0   3390277.0  6.5\n",
       "19381         0.0   6040669.0  0.0\n",
       "19382         0.0   4401773.0  0.0\n",
       "19383         0.0   2384400.0  0.0\n",
       "\n",
       "[19383 rows x 3 columns]"
      ]
     },
     "execution_count": 111,
     "metadata": {},
     "output_type": "execute_result"
    }
   ],
   "source": [
    "df_purbyyear2 = pd.read_pickle('./data/df_purbyyear2.pkl')\n",
    "df = df_purbyyear2.set_index('고객번호')\n",
    "df = df.drop(['14년구매건수','15년구매건수'],axis=1)\n",
    "df = df.fillna(0)\n",
    "df['성장률'] = np.round(df['15년구매총액'] / df['14년구매총액'],1)\n",
    "df['성장률'][df['성장률']==np.inf] = 0\n",
    "df"
   ]
  },
  {
   "cell_type": "code",
   "execution_count": 115,
   "metadata": {},
   "outputs": [
    {
     "data": {
      "text/plain": [
       "고객번호\n",
       "00012     2.2\n",
       "00025     4.2\n",
       "00084     2.7\n",
       "00085     2.1\n",
       "00094     3.1\n",
       "         ... \n",
       "19376    24.9\n",
       "19377    27.9\n",
       "19378    37.9\n",
       "19379     3.9\n",
       "19380     6.5\n",
       "Name: 성장률, Length: 1434, dtype: float64"
      ]
     },
     "execution_count": 115,
     "metadata": {},
     "output_type": "execute_result"
    }
   ],
   "source": [
    "# 고객별 2014 VS 2015 총구매액 기준 성장율이 2배 이상인 고객\n",
    "df['성장률'][df['성장률'] >= 2]"
   ]
  }
 ],
 "metadata": {
  "interpreter": {
   "hash": "0fa0bfc769a09f9ea75b994ad03790573c27759d8fff7362c34846a89e02cecb"
  },
  "kernelspec": {
   "display_name": "Python 3.8.12 ('cakd5')",
   "language": "python",
   "name": "python3"
  },
  "language_info": {
   "codemirror_mode": {
    "name": "ipython",
    "version": 3
   },
   "file_extension": ".py",
   "mimetype": "text/x-python",
   "name": "python",
   "nbconvert_exporter": "python",
   "pygments_lexer": "ipython3",
   "version": "3.8.12"
  },
  "orig_nbformat": 4
 },
 "nbformat": 4,
 "nbformat_minor": 2
}
