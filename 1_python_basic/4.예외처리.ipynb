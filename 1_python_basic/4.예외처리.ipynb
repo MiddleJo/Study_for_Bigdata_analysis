{
 "cells": [
  {
   "cell_type": "code",
   "execution_count": null,
   "id": "adcf7933",
   "metadata": {},
   "outputs": [],
   "source": [
    "# 구문 오류 : 프로그램 실행전에 발생하는 오류\n",
    "# 예외 또는 런타임 오류 : 프로그램 실행중에 발생하는 오류\n",
    "\n",
    "print('구문오류)"
   ]
  },
  {
   "cell_type": "code",
   "execution_count": null,
   "id": "acf7d361",
   "metadata": {},
   "outputs": [],
   "source": [
    "# 정수를 입력하지 않은 경우 예외 발생\n",
    "try:\n",
    "    num_input = int(input('정수 입력: '))\n",
    "    print('원의 반지름: ', num_input)\n",
    "except ValueError as V:\n",
    "    print('정수를 입력하세요.')"
   ]
  },
  {
   "cell_type": "code",
   "execution_count": null,
   "id": "5115dc53",
   "metadata": {},
   "outputs": [],
   "source": [
    "num_input = input('정수 입력: ')\n",
    "if num_input.isdigit() == True:\n",
    "    print('원의 반지름: ', num_input)\n",
    "else:\n",
    "    print('정수를 입력하세요.')"
   ]
  },
  {
   "cell_type": "code",
   "execution_count": null,
   "id": "96eb91c7",
   "metadata": {},
   "outputs": [],
   "source": [
    "try:\n",
    "    print('안녕하세요')\n",
    "    print(param)\n",
    "except NameError:\n",
    "    print('예외가 발생했습니다')\n",
    "finally:\n",
    "    print('무조건 실행')"
   ]
  },
  {
   "cell_type": "code",
   "execution_count": null,
   "id": "ca630dca",
   "metadata": {},
   "outputs": [],
   "source": [
    "param = 'ㅋㅋ'\n",
    "try:\n",
    "    print('안녕하세요')\n",
    "    print(param)\n",
    "    print('ㅇㅇ')\n",
    "except NameError:\n",
    "    print('예외가 발생했습니다')\n",
    "finally:\n",
    "    print('무조건 실행')"
   ]
  },
  {
   "cell_type": "code",
   "execution_count": null,
   "id": "45cd6b18",
   "metadata": {},
   "outputs": [],
   "source": [
    "# 코드에서 예외 발생 내용을 확인하고자 하는 경우 처리 방법\n",
    "try:\n",
    "    print(param2)\n",
    "except Exception as e:\n",
    "    print(e)"
   ]
  },
  {
   "cell_type": "code",
   "execution_count": null,
   "id": "5fee565b",
   "metadata": {},
   "outputs": [],
   "source": [
    "import time\n",
    "count = 1\n",
    "try:\n",
    "    5\n",
    "    while 1:\n",
    "        print(count)\n",
    "        count += 1\n",
    "        time.sleep(0.5)\n",
    "except KeyboardInterrupt:\n",
    "    print('사용자에 의해 프로그램이 중단되었습니다.')"
   ]
  },
  {
   "cell_type": "code",
   "execution_count": null,
   "id": "e53e638b",
   "metadata": {},
   "outputs": [],
   "source": [
    "# Q. 리스트 ['52', '273','32,'문자','103'] 에서 숫자부분만 출력하세요.\n",
    "li = ['52', '273','32','문자','103']\n",
    "list_num = []\n",
    "for i in li:    \n",
    "    try:\n",
    "        int(i)\n",
    "        list_num.append(i)\n",
    "    except:\n",
    "        pass\n",
    "print(list_num)"
   ]
  },
  {
   "cell_type": "code",
   "execution_count": null,
   "id": "cf02b613",
   "metadata": {},
   "outputs": [],
   "source": [
    "# Q. 정수를 입력하면 '정수', 정수가 아니면 '정수 아님'을 출력하세요.\n",
    "try:\n",
    "    a = int(input('정수를 입력하세요: '))\n",
    "    print(a)\n",
    "except:\n",
    "    print('정수가 아닙니다.')"
   ]
  },
  {
   "cell_type": "code",
   "execution_count": null,
   "id": "352406a8",
   "metadata": {},
   "outputs": [],
   "source": [
    "# Q. 정수를 입력하면 '입력 정수' > '예외 발생하지않음' > '프로그램 종료'\n",
    "# 정수가 아니면 '입력 값' > '정수 아님' > '프로그램 종료' 순서대로 출력하세요. (try ~ except ~ else ~ finally)\n",
    "import time\n",
    "\n",
    "try:\n",
    "    a = input('정수를 입력하세요 : ')\n",
    "    int(a)\n",
    "    print(a)\n",
    "    time.sleep(1)\n",
    "except:\n",
    "    print(a)\n",
    "    time.sleep(1)\n",
    "    print('>>> 정수 아님')\n",
    "    time.sleep(1)\n",
    "else:\n",
    "    print('>>> 예외 발생하지 않음')\n",
    "    time.sleep(1)\n",
    "finally:\n",
    "    print('프로그램 종료')\n",
    "    \n",
    "    "
   ]
  },
  {
   "cell_type": "code",
   "execution_count": null,
   "id": "10a0495e",
   "metadata": {},
   "outputs": [],
   "source": [
    "print('프로그램이 시작되었습니다.')\n",
    "\n",
    "while 1:\n",
    "    try:\n",
    "        print('try 구문이 시작되었습니다.')\n",
    "        int('a')\n",
    "    except:\n",
    "        print('except 구문이 실행되었습니다.')\n",
    "        break\n",
    "    finally:\n",
    "        print('finally 구문이 실행되었습니다.')\n",
    "    print('while 반복문의 마지막 줄입니다.')\n",
    "print('프로그램이 종료되었습니다.')"
   ]
  },
  {
   "cell_type": "code",
   "execution_count": null,
   "id": "cc5f5e90",
   "metadata": {},
   "outputs": [],
   "source": [
    "# [과제] 숫자 대신 문자를 입력 시 예외가 발생되는데 \n",
    "# 아래 코드를 수정해서 예외 객체의 자료형과 예외 객체 자체를 출력하세요.\n",
    "num_input = (input('정수 입력> '))\n",
    "try:\n",
    "    num = int(num_input)\n",
    "    print('원의 반지름: ', num)\n",
    "    print('원의 둘레: ', 2*3.14*num)\n",
    "    print('원의 넓이: ', 3.14*num*num)\n",
    "except:\n",
    "    print(f'{num_input}은 {type(num_input)}입니다.')"
   ]
  },
  {
   "cell_type": "code",
   "execution_count": null,
   "id": "85e77fff",
   "metadata": {},
   "outputs": [],
   "source": [
    "a = 'ㅇ'\n",
    "if type(a) == str:\n",
    "    print('ㅇㅇ')\n",
    "else:\n",
    "    print('ㄴㄴ')"
   ]
  },
  {
   "cell_type": "code",
   "execution_count": null,
   "id": "cdd59a5e",
   "metadata": {},
   "outputs": [],
   "source": [
    "# [ 과제] 아래 코드를 보완하여 발생 가능한 모든 예외(정수, 인덱스, 미리 파악하지 못한 예외)를 처리한 후\n",
    "# 마지막에 '모든 예외처리 완료'를 출력하세요.\n",
    "list_num = [52,273,32,72,100]\n",
    "while 1: \n",
    "    try: \n",
    "        num_input = int(input('정수 입력 > '))\n",
    "        print('{}번째 요소: {}'.format(num_input, list_num[num_input -1]))\n",
    "        break\n",
    "    except IndexError:\n",
    "        print(\"인덱스 오류, 범위 안의 값을 입력하세요\")\n",
    "    except ValueError:\n",
    "        print(\"정수 값을 입력하세요\")\n",
    "    except Excetion:\n",
    "        print(\"정수 값을 입력하세요\")\n",
    "    finally:\n",
    "        print(\"모든 예외처리 완료\")\n"
   ]
  },
  {
   "cell_type": "code",
   "execution_count": null,
   "id": "6a6e749e",
   "metadata": {},
   "outputs": [],
   "source": [
    "# [도전과제] 자유주제 프로그래밍. 예외처리 3개 이상\n",
    "# [도전 과제] 자유 주제로 프로그램밍을 수행하세요. 단 예외처리 3건 이상\n",
    "\n",
    "print(\"3가지 수 더하기\")\n",
    "while 1:\n",
    "    try:\n",
    "        a=input(\"첫번째 : \")\n",
    "        a=int(a)\n",
    "    except (ZeroDivisionError, IndexError, ValueError) as e:\n",
    "        print(e)\n",
    "\n",
    "    try:    \n",
    "        b=input(\"두번째 : \")\n",
    "        b=int(b)\n",
    "    except (ZeroDivisionError, IndexError, ValueError) as e:\n",
    "        print(e)    \n",
    "        \n",
    "    try:    \n",
    "        c=input(\"세번째 : \")\n",
    "        c=int(c)\n",
    "    except (ZeroDivisionError, IndexError, ValueError) as e:\n",
    "        print(e)   \n",
    "\n",
    "    print(f\"더한값 : {a+b+c}\\n\")\n"
   ]
  },
  {
   "cell_type": "code",
   "execution_count": 1,
   "id": "97f4e9a0",
   "metadata": {},
   "outputs": [
    {
     "name": "stdout",
     "output_type": "stream",
     "text": [
      "태어난 연도를 입력하세요 ex)1990 >> 1997\n",
      "소띠 입니다.\n",
      "계속 하시겠습니까?(y/n) >> d\n",
      "y 또는 n을 입력하세요.\n",
      "계속 하시겠습니까?(y/n) >> y\n",
      "태어난 연도를 입력하세요 ex)1990 >> 1997\n",
      "소띠 입니다.\n",
      "계속 하시겠습니까?(y/n) >> n\n"
     ]
    }
   ],
   "source": [
    "list_ddy = ['원숭이', '닭', '개', '돼지', '쥐', '소', '범', '토끼', '용', '뱀', '말', '양']\n",
    "pa = 0\n",
    "while pa != 1:\n",
    "    try:\n",
    "        birth_year = int(input(\"태어난 연도를 입력하세요 ex)1990 >> \"))\n",
    "        your_ddy = list_ddy[birth_year%12]\n",
    "        print(f'{your_ddy}띠 입니다.')\n",
    "        while 1:\n",
    "            continue_end = input(\"계속 하시겠습니까?(y/n) >> \")\n",
    "            if continue_end == 'y':\n",
    "                break\n",
    "            elif continue_end == 'n':\n",
    "                pa = 1\n",
    "                break\n",
    "            else:\n",
    "                print(\"y 또는 n을 입력하세요.\")\n",
    "    except:\n",
    "        print(\"태어난 연도를 숫자만 입력하세요.\")"
   ]
  }
 ],
 "metadata": {
  "kernelspec": {
   "display_name": "Python 3 (ipykernel)",
   "language": "python",
   "name": "python3"
  },
  "language_info": {
   "codemirror_mode": {
    "name": "ipython",
    "version": 3
   },
   "file_extension": ".py",
   "mimetype": "text/x-python",
   "name": "python",
   "nbconvert_exporter": "python",
   "pygments_lexer": "ipython3",
   "version": "3.8.12"
  }
 },
 "nbformat": 4,
 "nbformat_minor": 5
}
