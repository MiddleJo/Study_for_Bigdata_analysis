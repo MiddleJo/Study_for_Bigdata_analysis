{
 "cells": [
  {
   "cell_type": "markdown",
   "id": "79d23f1e",
   "metadata": {},
   "source": [
    "## 정규표현식의 기초, 메타 문자\n",
    "- . ^ $ * + ? {} [] \\ | ()\n",
    "- [] 문자 클래스\n",
    "    - \\\\d 모든 숫자와 매치, [0-9]와 동일\n",
    "    - \\\\s whitespace문자(space, tab 등)와 매치, [ \\t\\n\\r\\f\\v]와 동일  #앞에 공백은 space\n",
    "    - \\\\w 문자+숫자와 매치, [a-zA-Z0-9_]와 동일\n",
    "    - 대문자로 쓰면 반대의 것과 매치 ex) \\\\D와 [^0-9]는 동일함\n",
    "- whitespace?\n",
    "    - 스페이스바 (아스키코드 32)\n",
    "    - \\\\b 백스페이스 (아스키코드 8)\n",
    "    - \\\\t 수평탭 간격 띄우기\n",
    "    - \\\\n 줄바꿈\n",
    "    - \\\\v 수직탭 간격 띄우기\n",
    "    - \\\\f 프린트 출력 용지를 한페이지 넘김\n",
    "    - \\\\r 동일한 줄의 맨 앞에서 커서 이동\n",
    "- Dot\n",
    "    - 줄바꿈문자인 \\\\n을 제외한 모든 문자와 매치 ex) a.b\n",
    "    - [.]는 . 자체를 매치시키므로 Dot가 아님\n",
    "- 반복\n",
    "    - \\* : 앞의 문자가 0번 이상 반복되면 매치 ex) ca*t\n",
    "    - \\+ : 앞의 문자가 1번 이상 반복되면 매치 ex) ca+t   >>> ct는 매치X\n",
    "    - {m,n} : 앞의 문자가 m번 이상 n번 이하면 매치\n",
    "    - ? : 앞의 문자가 0~1번 사용되면 매치\n",
    "- ^ , \\$ : 시작과 끝에 매치\n",
    "- | : or와 동일\n",
    "- re 모듈\n",
    "    - match() : 문자열의 처음부터 정규식과 매치되는지 조사    >> b\\boolean\n",
    "    - search() : 문자열 전체를 검색하여 정규식과 매치되는지 조사\n",
    "    - findall() : 정규식과 매치되는 모든 문자열을 리스트로 돌려줌\n",
    "    - finditer() : 정규식과 매치되는 모든 문자열을 반복 가능한 객체로 돌려줌\n",
    "    - 흐름 \n",
    "            p = re,compile(정규표현식)\n",
    "            m = p.match('조사할 문자열')\n",
    "            if m:\n",
    "                print('Match found: ', m.group())\n",
    "            else:\n",
    "                pritn('No match')\n",
    "                \n",
    "    - 위 두줄을 다음과 같이 가능하다\n",
    "            m = re.match('정규표현식', \"조사할 문자열\")\n",
    "- match 객체의 메서드\n",
    "    - group() : 매치된 문자열을 돌려준다\n",
    "    - start() : 매치된 문자열의 시작 위치를 알려준다 > 시작 위치는 시작하는 위치. 6글자면 0\n",
    "    - end() : 매치된 문자열의 끝 위치를 알려준다.    > 끝 위치는 글자 수 대로. 6글자면 6\n",
    "    - span() : 매치된 문자열의 (시작, 끝)에 해당하는 튜플을 돌려준다."
   ]
  },
  {
   "cell_type": "code",
   "execution_count": 3,
   "id": "48e12aca",
   "metadata": {},
   "outputs": [
    {
     "name": "stdout",
     "output_type": "stream",
     "text": [
      "<re.Match object; span=(0, 7), match='python '>\n"
     ]
    }
   ],
   "source": [
    "import re\n",
    "p = re.compile('[a-z]+\\s')\n",
    "m = p.match('python python')\n",
    "print(m)"
   ]
  },
  {
   "cell_type": "code",
   "execution_count": 5,
   "id": "aa28f946",
   "metadata": {},
   "outputs": [
    {
     "data": {
      "text/plain": [
       "['python ', 'python ']"
      ]
     },
     "execution_count": 5,
     "metadata": {},
     "output_type": "execute_result"
    }
   ],
   "source": [
    "p.findall('python python ')"
   ]
  },
  {
   "cell_type": "code",
   "execution_count": 7,
   "id": "0e64f6f3",
   "metadata": {},
   "outputs": [
    {
     "name": "stdout",
     "output_type": "stream",
     "text": [
      "None\n"
     ]
    }
   ],
   "source": [
    "m = p.match('3python')\n",
    "print(m)"
   ]
  },
  {
   "cell_type": "code",
   "execution_count": 10,
   "id": "fea2dc74",
   "metadata": {},
   "outputs": [
    {
     "name": "stdout",
     "output_type": "stream",
     "text": [
      "<re.Match object; span=(1, 8), match='python '>\n"
     ]
    }
   ],
   "source": [
    "m = p.search('3python ')\n",
    "print(m)"
   ]
  },
  {
   "cell_type": "code",
   "execution_count": 12,
   "id": "88498260",
   "metadata": {},
   "outputs": [
    {
     "name": "stdout",
     "output_type": "stream",
     "text": [
      "<re.Match object; span=(1, 6), match='anker'>\n",
      "<re.Match object; span=(0, 6), match='banker'>\n"
     ]
    }
   ],
   "source": [
    "# 문자 클래스 : []\n",
    "pattern = re.compile('[a-z]+')\n",
    "p1 = pattern.search('Banker')\n",
    "p2 = pattern.search('banker')\n",
    "print(p1)\n",
    "print(p2)"
   ]
  },
  {
   "cell_type": "code",
   "execution_count": 14,
   "id": "d6670a28",
   "metadata": {},
   "outputs": [
    {
     "data": {
      "text/plain": [
       "'a'"
      ]
     },
     "execution_count": 14,
     "metadata": {},
     "output_type": "execute_result"
    }
   ],
   "source": [
    "# Q. '12345abc' 에서 'a'만 출력하세요.\n",
    "import re\n",
    "\n",
    "pattern = re.compile('[a]')\n",
    "text = '12345abc'\n",
    "m = pattern.search(text)\n",
    "m.group()"
   ]
  },
  {
   "cell_type": "code",
   "execution_count": 17,
   "id": "5aaf1b03",
   "metadata": {},
   "outputs": [
    {
     "data": {
      "text/plain": [
       "'A'"
      ]
     },
     "execution_count": 17,
     "metadata": {},
     "output_type": "execute_result"
    }
   ],
   "source": [
    "# Q. '12345abc' 에서 'A'만 출력하세요.\n",
    "import re\n",
    "\n",
    "pattern = re.compile('[A]')\n",
    "text = '12345Abc'\n",
    "m = pattern.search(text)\n",
    "m.group()"
   ]
  },
  {
   "cell_type": "code",
   "execution_count": 18,
   "id": "840f35cf",
   "metadata": {},
   "outputs": [
    {
     "data": {
      "text/plain": [
       "'대'"
      ]
     },
     "execution_count": 18,
     "metadata": {},
     "output_type": "execute_result"
    }
   ],
   "source": [
    "# [과제] 'KOREA 대한민국'에서 '대'만 출력하세요.\n",
    "import re\n",
    "pattern = re.compile('[대]')\n",
    "text = 'KOREA 대한민국'\n",
    "m = pattern.search(text)\n",
    "m.group()"
   ]
  },
  {
   "cell_type": "code",
   "execution_count": 28,
   "id": "29129a84",
   "metadata": {},
   "outputs": [
    {
     "name": "stdout",
     "output_type": "stream",
     "text": [
      "122333c\n"
     ]
    }
   ],
   "source": [
    "# Q. '122333c'를 모두 출력하세요.\n",
    "p = re.compile('12{2}3{3}c')\n",
    "text = '122333c'\n",
    "m = p.search(text).group()\n",
    "print(m)"
   ]
  },
  {
   "cell_type": "code",
   "execution_count": 20,
   "id": "39990f97",
   "metadata": {},
   "outputs": [
    {
     "data": {
      "text/plain": [
       "'aaaa000ccc000eee'"
      ]
     },
     "execution_count": 20,
     "metadata": {},
     "output_type": "execute_result"
    }
   ],
   "source": [
    "# [과제] 'aaaa000ccc000eee'를 모두 출력하세요.\n",
    "import re\n",
    "pattern = re.compile('\\w+')\n",
    "text = 'aaaa000ccc000eee'\n",
    "m = pattern.search(text)\n",
    "m.group()"
   ]
  },
  {
   "cell_type": "code",
   "execution_count": 22,
   "id": "b4bbf114",
   "metadata": {},
   "outputs": [
    {
     "name": "stdout",
     "output_type": "stream",
     "text": [
      "C\n",
      "C\n",
      "C\n"
     ]
    }
   ],
   "source": [
    "# [과제] BC, CC, ABC 모두 C가 출력되는 정규표현식을 ()에 작성하세요.\n",
    "pattern = re.compile('[C]')\n",
    "text1 = 'BC'\n",
    "text2 = 'CC'\n",
    "text3 = 'ABC'\n",
    "p1 = pattern.search(text1).group()\n",
    "p2 = pattern.search(text2).group()\n",
    "p3 = pattern.search(text3).group()\n",
    "print(p1)\n",
    "print(p2)\n",
    "print(p3)"
   ]
  },
  {
   "cell_type": "code",
   "execution_count": 32,
   "id": "e5667dee",
   "metadata": {},
   "outputs": [
    {
     "name": "stdout",
     "output_type": "stream",
     "text": [
      "<callable_iterator object at 0x000002552EAF47F0>\n",
      "life\n",
      "is\n",
      "too\n",
      "short\n"
     ]
    }
   ],
   "source": [
    "# finditer는 findall과 동일하지만 그 결과로 반복 가능한 객체를 돌려준다\n",
    "p = re.compile('[a-z]+')\n",
    "r1 = p.finditer('life is too short')\n",
    "print(r1)\n",
    "for r in r1:print(r.group())"
   ]
  },
  {
   "cell_type": "code",
   "execution_count": 25,
   "id": "869520f0",
   "metadata": {},
   "outputs": [
    {
     "name": "stdout",
     "output_type": "stream",
     "text": [
      "032-232-3245\n"
     ]
    }
   ],
   "source": [
    "# [과제] 정규표현식을 사용하여 text에서 전화번호만 출력하세요\n",
    "text = '문의사항이 있으면 032-232-3245로 연락주시기 바랍니다.'\n",
    "pattern = re.compile('\\d{1,3}[-]\\d{1,4}[-]\\d{1,4}')\n",
    "p1 = pattern.search(text).group()\n",
    "print(p1)"
   ]
  },
  {
   "cell_type": "code",
   "execution_count": 54,
   "id": "e58dbe7a",
   "metadata": {},
   "outputs": [
    {
     "name": "stdout",
     "output_type": "stream",
     "text": [
      "['1', '2', '3', '4', '1', '2', '3', '4']\n"
     ]
    }
   ],
   "source": [
    "# Q. '1234a1234' 에서 '1', '2', '3', '4'를 모두 출력하세요.\n",
    "text = '1234a1234'\n",
    "t = re.compile('[0-9]')\n",
    "tx = t.findall(text)\n",
    "print(tx)"
   ]
  },
  {
   "cell_type": "code",
   "execution_count": 66,
   "id": "467c498a",
   "metadata": {},
   "outputs": [
    {
     "name": "stdout",
     "output_type": "stream",
     "text": [
      "['Python', 'is', 'very', 'good', 'programming', 'language']\n"
     ]
    }
   ],
   "source": [
    "# ' Python3 is very good programming language!' 에서 \n",
    "# ['Python','is','very','good','programming','language']를 모두 출력하세요.\n",
    "p=re.compile('[a-zA-Z]+')\n",
    "text='Python is very good programming language!'\n",
    "p1=p.findall(text)\n",
    "print(p1)\n"
   ]
  },
  {
   "cell_type": "code",
   "execution_count": 77,
   "id": "4fa1129c",
   "metadata": {},
   "outputs": [
    {
     "name": "stdout",
     "output_type": "stream",
     "text": [
      "python\n"
     ]
    }
   ],
   "source": [
    "# 모듈 단위로 수행하기\n",
    "m = re.match('[a-z]+',\"python\")\n",
    "print(m.group())"
   ]
  },
  {
   "cell_type": "code",
   "execution_count": 79,
   "id": "098d4430",
   "metadata": {},
   "outputs": [
    {
     "name": "stdout",
     "output_type": "stream",
     "text": [
      "None\n",
      "acb\n",
      "a12?Ab\n"
     ]
    }
   ],
   "source": [
    "# Dot(.) 메타 문자\n",
    "p = re.compile('a.+b')\n",
    "m1 = p.match('a\\nb')\n",
    "m2 = p.match('acb')\n",
    "m3 = p.match('a12?Ab')\n",
    "print(m1)\n",
    "print(m2.group())\n",
    "print(m3.group())"
   ]
  },
  {
   "cell_type": "markdown",
   "id": "c3428e3e",
   "metadata": {},
   "source": [
    "# 컴파일 옵션\n",
    "   - DOTALL : 약어는 S, dot가 줄바꿈 문자도 포함하여 매치하게 함 (여러 줄인 곳에서 검색할 떄)\n",
    "   - IGNORECASE : 약어는 I, 대·소문자에 관계 없이 매치\n",
    "   - MULTILINE : 약어는 M, 여러 줄과 매치 (^, $ 사용과 관계. 여러 줄에서 해당하는 하나만 찾는 등..)\n",
    "            import re\n",
    "            p = re.compile(\"^pyhon\\s\\w+\")\n",
    "            data = \"\"\"python one\n",
    "            Life is too short\n",
    "            python two\n",
    "            you need python\n",
    "            python three\"\"\"\n",
    "            print(p.findall(data))\n",
    "            \n",
    "            >>> ['python one']\n",
    "            \n",
    "            import re\n",
    "            p = re.compile(\"^pyhon\\s\\w+\", re.MULTILINE)\n",
    "            data = \"\"\"python one\n",
    "            Life is too short\n",
    "            python two\n",
    "            you need python\n",
    "            python three\"\"\"\n",
    "            print(p.findall(data))\n",
    "            \n",
    "            >>> ['python one','python two','python three']\n",
    "    \n",
    "   - VERBOSE : 약어는 X, verbose 모드를 사용한다 (정규식을 보기 편하게 혹은 주석 사용가능)\n",
    "           charref = re.compile(r'&[#](0[0-7]+|[0-9]+|x[0-9a-fA-F]+);')\n",
    "           \n",
    "           charref = re.compile(r\"\"\"\n",
    "            &[#]                    # Start of a numeric entity reference\n",
    "            (\n",
    "               0[0-7]+              # OCtal form\n",
    "             | [0-9]+               # Decimal form\n",
    "             | x[0-9a-fA-F]+        # Hexadecimal form\n",
    "            )\n",
    "            ;                       # Trailing semicolon\n",
    "            \"\"\", re.VERBOSE)\n",
    "   \n",
    "   - RawString 규칙 : \n",
    "           p = re.compile('\\\\\\\\section')   >>> \\\\section\n",
    "           p = re.compile(r'\\\\section')    >>> \\\\section\n",
    "           "
   ]
  },
  {
   "cell_type": "code",
   "execution_count": 83,
   "id": "59e33bdd",
   "metadata": {},
   "outputs": [
    {
     "data": {
      "text/plain": [
       "'a\\nb'"
      ]
     },
     "execution_count": 83,
     "metadata": {},
     "output_type": "execute_result"
    }
   ],
   "source": [
    "p = re.compile('a.b',re.DOTALL)\n",
    "m = p.match('a\\nb')\n",
    "m.group()"
   ]
  },
  {
   "cell_type": "code",
   "execution_count": 86,
   "id": "4555c963",
   "metadata": {},
   "outputs": [
    {
     "name": "stdout",
     "output_type": "stream",
     "text": [
      "<re.Match object; span=(2, 8), match='python'>\n",
      "<re.Match object; span=(2, 8), match='Python'>\n",
      "<re.Match object; span=(2, 8), match='PYTHON'>\n"
     ]
    }
   ],
   "source": [
    "# re.IGNORANCE 또는 re.I 옵션은 대소문자 구분 없이 매치를 수행\n",
    "p = re.compile('[a-z]+',re.I)\n",
    "print(p.search('3 python'))\n",
    "print(p.search('3 Python'))\n",
    "print(p.search('3 PYTHON'))"
   ]
  },
  {
   "cell_type": "code",
   "execution_count": 141,
   "id": "758f00ca",
   "metadata": {},
   "outputs": [
    {
     "name": "stdout",
     "output_type": "stream",
     "text": [
      "<re.Match object; span=(0, 8), match='\\\\section'>\n"
     ]
    },
    {
     "data": {
      "text/plain": [
       "['\\\\section', '\\\\section']"
      ]
     },
     "execution_count": 141,
     "metadata": {},
     "output_type": "execute_result"
    }
   ],
   "source": [
    "# Raw String 규칙\n",
    "p = re.compile(r'\\\\section')\n",
    "print(p.match('\\section'))\n",
    "p.findall('\\section\\section')"
   ]
  },
  {
   "cell_type": "code",
   "execution_count": 92,
   "id": "d3572ee7",
   "metadata": {},
   "outputs": [
    {
     "name": "stdout",
     "output_type": "stream",
     "text": [
      "home\n"
     ]
    }
   ],
   "source": [
    "# Q. 'we are going home'에서 home만 출력하세요.\n",
    "p = re.compile('home$')\n",
    "text = 'we are going home'\n",
    "print(p.search(text).group())"
   ]
  },
  {
   "cell_type": "code",
   "execution_count": 121,
   "id": "0d4dbf88",
   "metadata": {},
   "outputs": [
    {
     "name": "stdout",
     "output_type": "stream",
     "text": [
      "home\n"
     ]
    }
   ],
   "source": [
    "# [과제] 'home sweet'에서 home만 출력하세요.\n",
    "p = re.compile('home')\n",
    "text = 'home sweet'\n",
    "print(p.search(text).group())"
   ]
  },
  {
   "cell_type": "code",
   "execution_count": 112,
   "id": "60e196e5",
   "metadata": {},
   "outputs": [
    {
     "name": "stdout",
     "output_type": "stream",
     "text": [
      "<re.Match object; span=(3, 9), match='ABCDEF'>\n",
      "ABCDEF\n",
      "ABCDEF\n",
      "AB\n",
      "CD\n",
      "EF\n"
     ]
    }
   ],
   "source": [
    "# 그루핑 : 매치된 문자열 중에서 특정 부분의 문자열만 뽑아내는 경우 ()\n",
    "# group(0) 매치된 전체 문자열, 1 첫번째 그룹, 2 두번째 그룹...\n",
    "p = re.compile('((AB)(CD)(EF))+')\n",
    "m = p.search('DEFABCDEFDEF OK?')\n",
    "print(m)\n",
    "print(m.group(0))\n",
    "print(m.group(1))\n",
    "print(m.group(2))\n",
    "print(m.group(3))\n",
    "print(m.group(4))"
   ]
  },
  {
   "cell_type": "code",
   "execution_count": 93,
   "id": "563b4fd9",
   "metadata": {},
   "outputs": [
    {
     "name": "stdout",
     "output_type": "stream",
     "text": [
      "199305\n"
     ]
    }
   ],
   "source": [
    "# [과제] '199305, 1923A, a93247'에서 '199305'만 출력하세요\n",
    "p = re.compile('^199305')\n",
    "text = '199305, 1923A, a93247'\n",
    "print(p.search(text).group())\n"
   ]
  },
  {
   "cell_type": "code",
   "execution_count": 120,
   "id": "954d0cbc",
   "metadata": {},
   "outputs": [
    {
     "name": "stdout",
     "output_type": "stream",
     "text": [
      "abcdefghij\n",
      "e\n"
     ]
    }
   ],
   "source": [
    "# [과제] 'abcdefghij' 에 대하여 중첩을 적용한 서브그룹 5개로 컴파일하여 group() 함수를 이용하여 \n",
    "# 'abcdefghi'와 'e'를 출력하세요.\n",
    "p = re.compile('(((abcd)(e)(fghij)))')\n",
    "text = 'abcdefghij'\n",
    "r1 = p.search(text)\n",
    "print(r1.group(0))\n",
    "print(r1.group(4))"
   ]
  },
  {
   "cell_type": "code",
   "execution_count": null,
   "id": "dd8552a8",
   "metadata": {},
   "outputs": [],
   "source": []
  },
  {
   "cell_type": "code",
   "execution_count": 11,
   "id": "de8a75d7",
   "metadata": {},
   "outputs": [],
   "source": []
  },
  {
   "cell_type": "code",
   "execution_count": null,
   "id": "585acb4c",
   "metadata": {},
   "outputs": [],
   "source": []
  },
  {
   "cell_type": "code",
   "execution_count": null,
   "id": "b9f1606f",
   "metadata": {},
   "outputs": [],
   "source": []
  },
  {
   "cell_type": "code",
   "execution_count": null,
   "id": "afcade68",
   "metadata": {},
   "outputs": [],
   "source": []
  },
  {
   "cell_type": "code",
   "execution_count": null,
   "id": "51579fdc",
   "metadata": {},
   "outputs": [],
   "source": []
  },
  {
   "cell_type": "code",
   "execution_count": null,
   "id": "cbf94174",
   "metadata": {},
   "outputs": [],
   "source": []
  }
 ],
 "metadata": {
  "kernelspec": {
   "display_name": "Python 3 (ipykernel)",
   "language": "python",
   "name": "python3"
  },
  "language_info": {
   "codemirror_mode": {
    "name": "ipython",
    "version": 3
   },
   "file_extension": ".py",
   "mimetype": "text/x-python",
   "name": "python",
   "nbconvert_exporter": "python",
   "pygments_lexer": "ipython3",
   "version": "3.8.12"
  }
 },
 "nbformat": 4,
 "nbformat_minor": 5
}
