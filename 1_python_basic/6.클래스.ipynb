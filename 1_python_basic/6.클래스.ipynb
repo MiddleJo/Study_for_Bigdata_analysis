{
 "cells": [
  {
   "cell_type": "markdown",
   "id": "82525e39",
   "metadata": {},
   "source": [
    "# 클래스\n",
    "클래스(class)란 똑같은 무엇인가를 계속해서 만들어 낼 수 있는 설계 도면이고(과자 틀), 객체(object)란 클래스로 만든 피조물(과자 틀을 사용해 만든 과자)을 뜻한다.\n",
    "과자 틀 → 클래스 (class)\n",
    "과자 틀에 의해서 만들어진 과자 → 객체 (object)\n",
    "\n",
    "- class : 함수 + 변수 모아놓은 것\n",
    "- 오브젝트(object) : 클래스를 써서 만든 것\n",
    "- 오브젝트(object) == 인스턴스(instance)\n",
    "-클래스를 정의한 후, 그 클래스를 사용해서 데이터 객체(인스턴스)를 만들 수 있다.\n",
    "- 동일한 클래스에 의해 만들어진 각 객체들은 유사한 특징을 공유한다.\n",
    "- 모든 인스턴스에서 메소드(=코드)는 동일하지만, 속성(데이터)는 다르다.\n",
    "    - 메소드 : 코드\n",
    "    - 속성 : 데이터\n",
    "    - 인스턴스 : 클래스에 의해 만들어진 데이터 객체\n",
    "    - a = 클래스() 이렇게 만든 a는 객체이다. 그리고 a 객체는 클래스의 인스턴스이다. 즉 인스턴스라는 말은 특정 객체(a)가 어떤 클래스의 객체인지를 관계 위주로 설명할 때 사용\n"
   ]
  },
  {
   "cell_type": "code",
   "execution_count": null,
   "id": "4b211104",
   "metadata": {},
   "outputs": [],
   "source": [
    "# [과제] 클래스 정의 및 사용하는 방법을 설명\n"
   ]
  },
  {
   "cell_type": "code",
   "execution_count": 17,
   "id": "bba28ad2",
   "metadata": {},
   "outputs": [
    {
     "name": "stdout",
     "output_type": "stream",
     "text": [
      "<__main__.Cakd object at 0x000002588A49BB20>\n",
      "손창효은 25세이며 컴퓨터를 전공했습니다.\n"
     ]
    }
   ],
   "source": [
    "# 클래스 생성자(인자가 있는 경우)\n",
    "\n",
    "class Cakd:\n",
    "    def __init__(self,name,age,major):\n",
    "        self.name = name\n",
    "        self.age = age\n",
    "        self.major = major\n",
    "\n",
    "    def info(self):\n",
    "        print(f'{self.name}은 {self.age}세이며 {self.major}를 전공했습니다.')\n",
    "\n",
    "        \n",
    "a = Cakd('손창효',25,'컴퓨터')\n",
    "print(a)\n",
    "Cakd.info(a)\n"
   ]
  },
  {
   "cell_type": "code",
   "execution_count": 8,
   "id": "944f96d3",
   "metadata": {},
   "outputs": [
    {
     "name": "stdout",
     "output_type": "stream",
     "text": [
      "Cakd 인스턴스 객체가 메모리에서 제거됩니다.\n"
     ]
    }
   ],
   "source": [
    "# 크래스 소멸자\n",
    "# 클래스 인스턴스 객체가 메모리에서 제거될 때 자동으로 호출되는 클래스 메소드\n",
    "\n",
    "class Cakd:\n",
    "    def __del__(self):\n",
    "        print('Cakd 인스턴스 객체가 메모리에서 제거됩니다.')\n",
    "\n",
    "obj = Cakd()\n",
    "del obj"
   ]
  },
  {
   "cell_type": "markdown",
   "id": "9ff8e66c",
   "metadata": {},
   "source": [
    "## 클래스 멤버, 클래스 메소드\n",
    "- 클래스를 구성하는 주요 요소는 클래스 멤버(변수)와 클래스 메소드(함수)로 클래스 공간 내에서 정의\n",
    "- 클래스 멤버는 클래스 메소드내에서 정의되는 지역변수나 인스턴스 멤버와는 다름\n",
    "- 클래스 메소드는 첫번째 인자가 반드시 self로 시작\n",
    "- self는 이 클래스의 인스턴스 객체를 가리키는 참조자\n",
    "- 인스턴스 객체에서 클래스 메소드를 호출 시 첫 번째 인자인 self 생략"
   ]
  },
  {
   "cell_type": "code",
   "execution_count": 24,
   "id": "d92d6e06",
   "metadata": {},
   "outputs": [
    {
     "name": "stdout",
     "output_type": "stream",
     "text": [
      "안녕하세요\n"
     ]
    }
   ],
   "source": [
    "class MyClass:\n",
    "    var = '안녕하세요'     # 클래스 멤버\n",
    "    def sayHello(self):    # 클래스 메소드\n",
    "        #return self.var\n",
    "        print(self.var)\n",
    "obj = MyClass()\n",
    "#print(obj.var)\n",
    "#print(obj.sayHello())\n",
    "obj.sayHello()"
   ]
  },
  {
   "cell_type": "code",
   "execution_count": 20,
   "id": "29ab2fe2",
   "metadata": {},
   "outputs": [
    {
     "name": "stdout",
     "output_type": "stream",
     "text": [
      "안녕\n",
      "안녕하세요\n"
     ]
    }
   ],
   "source": [
    "# 클래스 멤버와 인스턴스 멤버\n",
    "#클래스 멤버는 클래스 메소드 바깥에서 선언되고 인스턴스 멤버는 클래스 메소드 안에서 self와 함께 선언\n",
    "\n",
    "class MyClass:\n",
    "    var = '안녕하세요'        # 클래스 멤버     \n",
    "    def sayHello(self):       # 클래스 메소드\n",
    "        param1 = '안녕'       # 지역 변수\n",
    "        self.param2 = '하이'  # 인스턴스 멤버\n",
    "        print(param1)\n",
    "        print(self.var)\n",
    "obj = MyClass()\n",
    "#print(obj.var)\n",
    "obj.sayHello()"
   ]
  },
  {
   "cell_type": "code",
   "execution_count": 28,
   "id": "d7e32bc6",
   "metadata": {},
   "outputs": [
    {
     "name": "stdout",
     "output_type": "stream",
     "text": [
      "남현! 다음에 보자!\n"
     ]
    }
   ],
   "source": [
    "# 클래스 메소드\n",
    "# 클래스 내에서 정의되는 클래스 메소드는 첫 번째 인자가 반드시 self여야 한다.\n",
    "\n",
    "class MyClass:\n",
    "    def sayHello(self):\n",
    "        print('안녕하세요')\n",
    "    def \n",
    "    def sayBye(self,name):\n",
    "        print(f'{name}! 다음에 보자!')\n",
    "        \n",
    "obj = MyClass()\n",
    "obj.sayBye('남현')"
   ]
  },
  {
   "cell_type": "markdown",
   "id": "de399f3e",
   "metadata": {},
   "source": [
    "## 객체 지향 프로그래밍(Object-Oriented Programming)\n",
    "- 클래스 인스턴스는 객체(Object)라고도 하며 이렇게 클래스를 정의하고 객체를 만드는 패턴을 객체 지향 프로그래밍(OOP)이라고 함\n",
    "- 인스턴스를 불러온다는 것은 클래스를 가져와 객체를 바꿔준다는 것인데 type() 함수를 사용하는 것은 그 반대\n"
   ]
  },
  {
   "cell_type": "code",
   "execution_count": 30,
   "id": "db2a4596",
   "metadata": {},
   "outputs": [
    {
     "name": "stdout",
     "output_type": "stream",
     "text": [
      "<class '__main__.Test'>\n"
     ]
    }
   ],
   "source": [
    "# 임의의 클래스를 작성한 후 인스턴스를 생성하고 그것의 타입을 확인\n",
    "class Test:\n",
    "    pass\n",
    "\n",
    "test = Test()\n",
    "print(type(test))"
   ]
  },
  {
   "cell_type": "markdown",
   "id": "8c53684e",
   "metadata": {},
   "source": [
    "## 클래스 상속\n",
    "- 어떤 클래스가 가지고 있는 모든 멤버나 메소드를 상속받는 클래스가 모두 사용할 수 있도록 해주는 것\n",
    "- 상속을 해주는 클래스가 부모클래스(슈퍼), 상속을 받는 클래스가 자식클래스(서브)라 함. class 자식클래스명(부모클래스명)\n",
    "- 자식 클래스는 여러 부모클래스로부터 상속받을 수 있으며 다중상속이라 함. class 자식클래스명(부모클래스1, 부모클래스2...)"
   ]
  },
  {
   "cell_type": "code",
   "execution_count": 35,
   "id": "ab7ecc8d",
   "metadata": {},
   "outputs": [
    {
     "name": "stdout",
     "output_type": "stream",
     "text": [
      "3\n",
      "6\n",
      "2\n"
     ]
    }
   ],
   "source": [
    "class Sum:\n",
    "    def sum(self,n1,n2):\n",
    "        return n1 + n2\n",
    "class Mul:\n",
    "    def mul(self,n1,n2):\n",
    "        return n1 * n2\n",
    "class Cal(Sum,Mul):\n",
    "    def sub(self,n1,n2):\n",
    "        return n1 - n2\n",
    "obj = Cal()\n",
    "print(obj.sum(1,2))\n",
    "print(obj.mul(3,2))\n",
    "print(obj.sub(5,3))"
   ]
  },
  {
   "cell_type": "code",
   "execution_count": 53,
   "id": "839a98ec",
   "metadata": {
    "scrolled": true
   },
   "outputs": [
    {
     "name": "stdout",
     "output_type": "stream",
     "text": [
      "남현, 안녕하세요\n",
      "남현! 다음에 보자\n"
     ]
    }
   ],
   "source": [
    "# Q. 클래스 MyClass를 작성하고 객체를 생성하여 아래와 같이 출력하세요(생성자 사용)\n",
    "# 남현, 안녕하세요\n",
    "# 남현! 다음에 보자\n",
    "class MyClass:\n",
    "    def __init__(self,name):\n",
    "        self.name = name\n",
    "    def sayHello(self):\n",
    "        print(f'{self.name}, 안녕하세요')\n",
    "    def sayBye(self):\n",
    "        print(f'{self.name}! 다음에 보자')\n",
    "        \n",
    "obj = MyClass('남현')\n",
    "obj.sayHello()\n",
    "obj.sayBye()"
   ]
  },
  {
   "cell_type": "code",
   "execution_count": 15,
   "id": "2f78d7e6",
   "metadata": {},
   "outputs": [
    {
     "name": "stdout",
     "output_type": "stream",
     "text": [
      "첫 번째 숫자를 입력하세요.3\n",
      "두 번째 숫자를 입력하세요.0\n",
      "3.0\n",
      "3.0\n",
      "0.0\n",
      "정의되지 않는 함수값입니다. (0으로 나눔)\n",
      "None\n"
     ]
    }
   ],
   "source": [
    "# [과제] 4칙연산 가능을 포함한 Cal4 클래스(생성자 이용)을 작성하고 이 클래스를 이용하여\n",
    "# Cal 계산기 객체를 만든 후 적절한 수를 적용하여 사칙연산 수행 결과를 출력하세요.\n",
    "class Cal:\n",
    "    def __init__(self):\n",
    "        while 1:\n",
    "            try:\n",
    "                self.n1 = float(input('첫 번째 숫자를 입력하세요.'))\n",
    "                self.n2 = float(input('두 번째 숫자를 입력하세요.'))\n",
    "                break\n",
    "            except:\n",
    "                print('숫자를 입력하세요')\n",
    "    \n",
    "    def sum(self):\n",
    "        return self.n1 + self.n2\n",
    "    \n",
    "    def mul(self):\n",
    "        return self.n1 * self.n2\n",
    "    \n",
    "    def sub(self):\n",
    "        return self.n1 - self.n2\n",
    "    \n",
    "    def div(self):\n",
    "        try:\n",
    "            self.n1 / self.n2\n",
    "        except ZeroDivisionError:\n",
    "            print('정의되지 않는 함수값입니다. (0으로 나눔)')\n",
    "        else:\n",
    "            return self.n1 / self.n2\n",
    "            \n",
    "계산기 = Cal()\n",
    "print(계산기.sum())\n",
    "print(계산기.sub())\n",
    "print(계산기.mul())\n",
    "print(계산기.div())"
   ]
  },
  {
   "cell_type": "code",
   "execution_count": null,
   "id": "40ea21f9",
   "metadata": {},
   "outputs": [],
   "source": [
    "b = 1000"
   ]
  },
  {
   "cell_type": "code",
   "execution_count": 3,
   "id": "86f58ad5",
   "metadata": {},
   "outputs": [
    {
     "name": "stdout",
     "output_type": "stream",
     "text": [
      "추가할 가격을 입력하세요(지역): 500\n",
      "추가된 가격은 1500원입니다.(지역)\n",
      "추가할 가격을 입력하세요(전역): 500\n",
      "추가된 가격은 1500원입니다.(전역)\n",
      "1000\n"
     ]
    }
   ],
   "source": [
    "# [과제] 사용자 함수를 작성하여 기본가격 1000에 입력 받은 값을 추가한 가격을 산출하세요.\n",
    "# (지역변수, 전역변수 2가지 방법)\n",
    "b = 1000\n",
    "class AP:\n",
    "    def add_price_local(self):\n",
    "        가격 = 1000\n",
    "        try:\n",
    "            self.a = int(input('추가할 가격을 입력하세요(지역): '))\n",
    "            print(f'추가된 가격은 {가격 + self.a}원입니다.(지역)')\n",
    "            #return 가격 + self.a\n",
    "        except:\n",
    "            print('추가할 가격은 숫자로 입력해주세요.')\n",
    "    def add_price_global(self):\n",
    "        try:\n",
    "            global b\n",
    "            self.b = b + int(input('추가할 가격을 입력하세요(전역): '))\n",
    "            print(f'추가된 가격은 {self.b}원입니다.(전역)')\n",
    "            #return self.b\n",
    "        except:\n",
    "            print('추가할 가격은 숫자로 입력해주세요.')\n",
    "result = AP()\n",
    "result.add_price_local()\n",
    "result.add_price_global()\n",
    "print(b)\n"
   ]
  },
  {
   "cell_type": "code",
   "execution_count": 18,
   "id": "7bb5bc05",
   "metadata": {},
   "outputs": [
    {
     "data": {
      "text/plain": [
       "29"
      ]
     },
     "execution_count": 18,
     "metadata": {},
     "output_type": "execute_result"
    }
   ],
   "source": [
    "# [도전과제] 관심 주제에 대하여 100 ~ 200라인 정도의 프로그램을 구조지향적으로 작성한 후\n",
    "# 클래스를 이용한 객체지향 프로그래밍으로 수정하세요. (필요시 상속 이용)\n",
    "class_601 = ['조경윤','김기연','김기현','박광민','박종석','이재우','최지원','손창효',\n",
    "             '김정수','김민성','김영수','김재경','김태형','마경수','문성윤','이정호',\n",
    "             '오주완','용지영','이동연','이용준','이재호','이현정','임재곤','장종호',\n",
    "             '정현우','예지우','최종원','권혁종','조남현']\n",
    "len(class_601)\n",
    "print(\"\"\"\n",
    "=======================================================================================\n",
    "                            \n",
    "                                \n",
    "\n",
    "==========================================================================\n",
    "\"\"\")\n",
    "while 1:\n",
    "    cn = input('시작하시겠습니까? (y: 시작, c: 취소)\\n')\n",
    "    if cn == 'n':\n",
    "        print('\\n게임을 종료합니다.\\n')\n",
    "        break\n",
    "    elif cn == 'y':\n",
    "        \n",
    "        \n",
    "        \n",
    "    else:\n",
    "        print('\\n어허; y나 c만 누르라니까'\\n)\n",
    "\n"
   ]
  },
  {
   "cell_type": "code",
   "execution_count": 18,
   "id": "bb0b3d65",
   "metadata": {},
   "outputs": [
    {
     "name": "stdout",
     "output_type": "stream",
     "text": [
      "2000\n",
      "3000\n",
      "4000\n"
     ]
    }
   ],
   "source": [
    "# Q. 기본가격 1000원인 3개의 상품에 대하여 임의의 추가 가격을 인수로 대입시 더한 가격을 산출하세요.(클래스 이용)\n",
    "class Order:\n",
    "    def __init__(self):\n",
    "        self.price = 1000\n",
    "            \n",
    "    def Price(self,add_price):\n",
    "        self.price += add_price\n",
    "        return self.price\n",
    "    \n",
    "pd1 = Order()\n",
    "pd2 = Order()\n",
    "pd3 = Order()\n",
    "\n",
    "print(pd1.Price(1000))\n",
    "print(pd2.Price(2000))\n",
    "print(pd3.Price(3000))"
   ]
  },
  {
   "cell_type": "code",
   "execution_count": 12,
   "id": "54bcf8ec",
   "metadata": {},
   "outputs": [
    {
     "name": "stdout",
     "output_type": "stream",
     "text": [
      "추가할 가격을 입력하세요 : \n",
      "1000\n",
      "추가금액이 적용된 가격은 2000원입니다.\n",
      "\n",
      "추가할 가격을 입력하세요 : \n",
      "1000\n",
      "추가금액 및 할인이 적용된 가격은 1800원입니다.\n"
     ]
    }
   ],
   "source": [
    "# Q. 기본가격 1000원인 2개의 상품에 대하여 임의의 추가 가격을 입력시 아래 두개의 방식으로 산출(class 이용)\n",
    "# price1 : 기본가격 + 추가가격\n",
    "# price2 : (기본가격 + 추가가격) * 90%\n",
    "class Price:\n",
    "    def __init__(self):\n",
    "        self.price_ori = 1000\n",
    "        self.discount = 0.1\n",
    "        \n",
    "    def Addprice(self):\n",
    "        while 1:\n",
    "            try:\n",
    "                self.price_add = int(input('추가할 가격을 입력하세요 : \\n'))\n",
    "            except:\n",
    "                print('정수만 입력하세요.\\n')\n",
    "            else:\n",
    "                self.price_ori += self.price_add\n",
    "                break\n",
    "        return self.price_ori\n",
    "    \n",
    "    def Discount_10(self):\n",
    "        self.Addprice()\n",
    "        return int(self.price_ori * (1 - self.discount))\n",
    "\n",
    "price1 = Price()\n",
    "price2 = Price()\n",
    "\n",
    "print(f'추가금액이 적용된 가격은 {price1.Addprice()}원입니다.')\n",
    "print()\n",
    "print(f'추가금액 및 할인이 적용된 가격은 {price2.Discount_10()}원입니다.')"
   ]
  },
  {
   "cell_type": "code",
   "execution_count": null,
   "id": "a1f3f366",
   "metadata": {},
   "outputs": [],
   "source": [
    "# [과제] 업무미팅이 2시임을 알려주는 자동 이메일을 클래스 AutoEmail을 작성하여 아래와 같이 출력하세요.\n",
    "# 안녕하세요. 남현님, 업무미팅은 2시입니다."
   ]
  },
  {
   "cell_type": "code",
   "execution_count": 16,
   "id": "c81c96c9",
   "metadata": {},
   "outputs": [
    {
     "name": "stdout",
     "output_type": "stream",
     "text": [
      "1000\n",
      "1000원\n"
     ]
    }
   ],
   "source": [
    "#오버라이딩\n",
    "# Order 클래스를 상속받아 extraOrder 클래스에서 메소드 오버라이딩하려 출력가격에 원이 추가되도록 출력하세요.\n",
    "class Order:\n",
    "    def __init__(self, name):\n",
    "        self.customer = 0\n",
    "        self.name = name\n",
    "    def order(self,price):\n",
    "        self.customer += price\n",
    "        return self.customer\n",
    "\n",
    "class ExtraOrder(Order):\n",
    "    def order(self,price):\n",
    "        self.customer += price\n",
    "        return str(self.customer) + '원'\n",
    "    \n",
    "order = Order('남현')\n",
    "print(order.order(1000))\n",
    "\n",
    "extraCustomer = ExtraOrder('남현')\n",
    "print(extraCustomer.order(1000))"
   ]
  },
  {
   "cell_type": "code",
   "execution_count": 21,
   "id": "8e4ab555",
   "metadata": {},
   "outputs": [
    {
     "data": {
      "text/plain": [
       "2"
      ]
     },
     "execution_count": 21,
     "metadata": {},
     "output_type": "execute_result"
    }
   ],
   "source": [
    "# _는 인터프리터에서 마지막 실행결과 값을 가지는 변수로 사용\n",
    "1+1\n",
    "_"
   ]
  },
  {
   "cell_type": "code",
   "execution_count": 23,
   "id": "932a5e1c",
   "metadata": {},
   "outputs": [
    {
     "name": "stdout",
     "output_type": "stream",
     "text": [
      "hello world!\n",
      "hello world!\n",
      "hello world!\n",
      "hello world!\n",
      "hello world!\n",
      "0\n",
      "1\n",
      "2\n",
      "\n",
      "1 2\n"
     ]
    }
   ],
   "source": [
    "# 변수 값을 굳이 사용할 필요가 없는 경우\n",
    "for _ in range(5):\n",
    "    print('hello world!')\n",
    "    \n",
    "for _ in range(3):\n",
    "    print(_)\n",
    "print()\n",
    "def values():\n",
    "    return (1,2,3,4)  #튜플을 반환\n",
    "\n",
    "a, b, _, _ = values() #반환된 튜플 값중 2개만 필요\n",
    "print(a,b)"
   ]
  },
  {
   "cell_type": "code",
   "execution_count": 26,
   "id": "6dc6b6be",
   "metadata": {},
   "outputs": [
    {
     "name": "stdout",
     "output_type": "stream",
     "text": [
      "<class '__main__.Order'>\n"
     ]
    }
   ],
   "source": [
    "# 예약어를 변수명으로 사용할 수 없는 경우\n",
    "class Order:\n",
    "    def __init__(self):\n",
    "        self.coffee = 'Americano'\n",
    "        self.price = 3000\n",
    "\n",
    "def printClassName(class_):\n",
    "    print(class_)\n",
    "order = Order()\n",
    "printClassName(order.__class__)"
   ]
  },
  {
   "cell_type": "code",
   "execution_count": 29,
   "id": "cc97b7b2",
   "metadata": {},
   "outputs": [
    {
     "name": "stdout",
     "output_type": "stream",
     "text": [
      "abc\n"
     ]
    }
   ],
   "source": [
    "class MyClass:\n",
    "    value = 'abc' # 클래스 변수를 선언\n",
    "if __name__ == \"__main__\":\n",
    "    print(MyClass.value)"
   ]
  },
  {
   "cell_type": "code",
   "execution_count": 30,
   "id": "add987db",
   "metadata": {},
   "outputs": [
    {
     "name": "stdout",
     "output_type": "stream",
     "text": [
      "1\n",
      "2\n",
      "3\n"
     ]
    }
   ],
   "source": [
    "class MyClass:\n",
    "    value = 0\n",
    "    def __init__(self):\n",
    "        MyClass.value += 1\n",
    "\n",
    "if __name__ == \"__main__\":\n",
    "    a = MyClass()   # 인스턴스 a 생성\n",
    "    print(MyClass.value)\n",
    "    b = MyClass()   # 인스턴스 b 생성\n",
    "    print(MyClass.value)\n",
    "    c = MyClass()   # 인스턴스 c 생성\n",
    "    print(MyClass.value)\n",
    "    "
   ]
  },
  {
   "cell_type": "code",
   "execution_count": 47,
   "id": "12a2f749",
   "metadata": {},
   "outputs": [
    {
     "name": "stdout",
     "output_type": "stream",
     "text": [
      "1 honux\n",
      "2 crong\n"
     ]
    }
   ],
   "source": [
    "# 인스턴스 변수\n",
    "class User:\n",
    "    num_users = 0 #클래스 변수\n",
    "    def __init__(self,name):\n",
    "        self.name = name #인스턴스 변수\n",
    "        User.num_users += 1\n",
    "u = User('honux')\n",
    "print(User.num_users, u.name)\n",
    "u2 = User('crong')\n",
    "print(User.num_users, u2.name)"
   ]
  },
  {
   "cell_type": "code",
   "execution_count": 38,
   "id": "7c58a828",
   "metadata": {},
   "outputs": [
    {
     "name": "stdout",
     "output_type": "stream",
     "text": [
      "I am a Rockstar!\n"
     ]
    }
   ],
   "source": [
    "# 메소드 : 메소드는 클래스 안에서 정의된 함수. 첫번째 인수를 항상 self로 지정\n",
    "\n",
    "class Musician:\n",
    "    title = 'Rockstar'\n",
    "    def explanation(self):\n",
    "        print(f'I am a {self.title}!')\n",
    "drummer = Musician()\n",
    "drummer.explanation()"
   ]
  },
  {
   "cell_type": "code",
   "execution_count": 45,
   "id": "94b9bc8c",
   "metadata": {},
   "outputs": [
    {
     "name": "stdout",
     "output_type": "stream",
     "text": [
      "113.04\n",
      "37.68\n",
      "37.68\n"
     ]
    }
   ],
   "source": [
    "# 다른 인수가 있는 메소드\n",
    "class Circle():\n",
    "    pi = 3.14\n",
    "    def area(self,radius):\n",
    "        return self.pi * radius **2\n",
    "    def Round(self,radius):\n",
    "        return self.pi * radius * 2\n",
    "    \n",
    "circle = Circle()\n",
    "pizza_area = circle.area(6)\n",
    "print(pizza_area)\n",
    "circle2 = Circle()\n",
    "rd = circle2.Round(6)\n",
    "print(rd)\n",
    "print(f'{12*3.14}')"
   ]
  },
  {
   "cell_type": "code",
   "execution_count": 55,
   "id": "5e81f461",
   "metadata": {},
   "outputs": [
    {
     "name": "stdout",
     "output_type": "stream",
     "text": [
      "Hello?!\n",
      "Hello!\n",
      "2\n"
     ]
    }
   ],
   "source": [
    "# 생성자(Constructor)\n",
    "# 클래스를 호출할 때 자동으로 어떤 함수를 실험하거나 값을 호출하고 싶은 경우. __init__을 사용\n",
    "# Shouter라는 클래스를 객체로 불러올 때마다 \"HEllo?!\"라는 문자열을 출력\n",
    "\n",
    "class Shouter:\n",
    "    print('Hello?!')\n",
    "    def __init__(self):\n",
    "        print('Hello!')\n",
    "    def a(self):\n",
    "        print(2)\n",
    "shout = Shouter()\n",
    "shout.a()"
   ]
  },
  {
   "cell_type": "code",
   "execution_count": null,
   "id": "0e2144d7",
   "metadata": {},
   "outputs": [],
   "source": []
  },
  {
   "cell_type": "code",
   "execution_count": null,
   "id": "7ea9852d",
   "metadata": {},
   "outputs": [],
   "source": []
  }
 ],
 "metadata": {
  "kernelspec": {
   "display_name": "Python 3 (ipykernel)",
   "language": "python",
   "name": "python3"
  },
  "language_info": {
   "codemirror_mode": {
    "name": "ipython",
    "version": 3
   },
   "file_extension": ".py",
   "mimetype": "text/x-python",
   "name": "python",
   "nbconvert_exporter": "python",
   "pygments_lexer": "ipython3",
   "version": "3.8.12"
  }
 },
 "nbformat": 4,
 "nbformat_minor": 5
}
